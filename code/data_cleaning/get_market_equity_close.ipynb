{
 "cells": [
  {
   "cell_type": "code",
   "execution_count": 6,
   "id": "curious-communication",
   "metadata": {},
   "outputs": [],
   "source": [
    "import os, sys\n",
    "import pandas as pd\n",
    "import numpy as np\n",
    "import glob\n",
    "from tqdm.auto import tqdm\n",
    "import wrds\n",
    "from multiprocessing import Pool\n",
    "import pyarrow as pa\n",
    "import pyarrow.parquet as pq\n",
    "import pyarrow.dataset as ds"
   ]
  },
  {
   "cell_type": "markdown",
   "id": "atlantic-pharmacology",
   "metadata": {},
   "source": [
    "# Identify files"
   ]
  },
  {
   "cell_type": "code",
   "execution_count": 7,
   "id": "proprietary-mobile",
   "metadata": {},
   "outputs": [],
   "source": [
    "# Main directory\n",
    "main_folder = '../../../../GitHub/High-Freq-ML'\n",
    "\n",
    "# Get list of CRSP files\n",
    "crsp_price_folder = f'{main_folder}/data/crsp/daily/'\n",
    "crsp_price_files = glob.glob(crsp_price_folder + '*.parquet')\n",
    "crsp_price_files_dates = [x.split('/')[-1].split('.')[0] for x in crsp_price_files]"
   ]
  },
  {
   "cell_type": "markdown",
   "id": "complicated-information",
   "metadata": {},
   "source": [
    "# Main"
   ]
  },
  {
   "cell_type": "code",
   "execution_count": 8,
   "id": "sporting-jacob",
   "metadata": {},
   "outputs": [],
   "source": [
    "def get_crsp_me(date_header):\n",
    "    # Gets market equity at end of day using CRSP files\n",
    "    \n",
    "    # Load data\n",
    "    filenames = [x for x in crsp_price_files if f'/{date_header}' in x]\n",
    "    crsp_df = pd.concat((pd.read_parquet(x) for x in filenames), ignore_index = True)\n",
    "\n",
    "    # Clean\n",
    "    crsp_df['date'] = pd.to_datetime(crsp_df['date'], format = '%Y%m%d')\n",
    "    crsp_df['me'] = crsp_df['prc'].abs()*crsp_df['shrout']#*crsp_df['cfacshr']/crsp_df['cfacpr']\n",
    "    crsp_df['meq'] = crsp_df.groupby([\"permco\", \"date\"])[\"me\"].transform(\"sum\")\n",
    "    crsp_df[\"me_day_max_permco\"] =  crsp_df.groupby([\"permco\", \"date\"])[\"me\"].transform(\"max\")\n",
    "    crsp_df[\"permno\"] = pd.Categorical(crsp_df['permno'].astype(str))\n",
    "    crsp_df[\"is_primary\"] = np.where(crsp_df['me_day_max_permco'] == crsp_df['me'], 1, 0).astype(bool)\n",
    "\n",
    "    return crsp_df[['date', 'permno', 'me', 'meq', 'is_primary']].set_index('date')"
   ]
  },
  {
   "cell_type": "code",
   "execution_count": 10,
   "id": "contained-islam",
   "metadata": {
    "tags": []
   },
   "outputs": [
    {
     "data": {
      "application/vnd.jupyter.widget-view+json": {
       "model_id": "d854b4822e484bb68de60c8ad8dc2e0b",
       "version_major": 2,
       "version_minor": 0
      },
      "text/plain": [
       "  0%|          | 0/1140 [00:00<?, ?it/s]"
      ]
     },
     "metadata": {},
     "output_type": "display_data"
    },
    {
     "name": "stdout",
     "output_type": "stream",
     "text": [
      "CPU times: user 9.75 s, sys: 10.3 s, total: 20.1 s\n",
      "Wall time: 21.9 s\n"
     ]
    }
   ],
   "source": [
    "%%time\n",
    "crsp_price_files_yyyymm = np.unique([x[:6] for x in crsp_price_files_dates])\n",
    "df_list = []\n",
    "\n",
    "# Parallel process - get ME closing for all days and permnos\n",
    "with Pool(12) as p:\n",
    "    for df in tqdm(p.imap_unordered(get_crsp_me, crsp_price_files_yyyymm), \n",
    "                   total = len(crsp_price_files_yyyymm)):\n",
    "        df_list.append(df)"
   ]
  },
  {
   "cell_type": "code",
   "execution_count": 11,
   "id": "colored-aruba",
   "metadata": {},
   "outputs": [
    {
     "name": "stdout",
     "output_type": "stream",
     "text": [
      "CPU times: user 1.97 s, sys: 2.55 s, total: 4.52 s\n",
      "Wall time: 4.54 s\n"
     ]
    }
   ],
   "source": [
    "%%time\n",
    "# Concatenate all days of files\n",
    "crsp_me_df = pd.concat(df_list)"
   ]
  },
  {
   "cell_type": "code",
   "execution_count": 12,
   "id": "english-knitting",
   "metadata": {},
   "outputs": [
    {
     "name": "stdout",
     "output_type": "stream",
     "text": [
      "CPU times: user 10.1 s, sys: 12.4 s, total: 22.5 s\n",
      "Wall time: 22.6 s\n"
     ]
    }
   ],
   "source": [
    "%%time\n",
    "# Add lagged ME \n",
    "crsp_me_df = crsp_me_df.sort_values(by = 'date', kind = 'mergesort')\n",
    "crsp_me_df[['me_close_lag', 'meq_close_lag']] = crsp_me_df.groupby(['permno'])[['me', 'meq']].shift(1)"
   ]
  },
  {
   "cell_type": "code",
   "execution_count": 18,
   "id": "changed-evening",
   "metadata": {},
   "outputs": [
    {
     "name": "stdout",
     "output_type": "stream",
     "text": [
      "CPU times: user 6.94 s, sys: 4.91 s, total: 11.8 s\n",
      "Wall time: 8.2 s\n"
     ]
    }
   ],
   "source": [
    "%%time\n",
    "# Save\n",
    "crsp_me_df.loc['1995-01-01':].reset_index().to_feather(f'{main_folder}/data/keys/crsp_me.feather')"
   ]
  }
 ],
 "metadata": {
  "kernelspec": {
   "display_name": "Python 3 (ipykernel)",
   "language": "python",
   "name": "python3"
  },
  "language_info": {
   "codemirror_mode": {
    "name": "ipython",
    "version": 3
   },
   "file_extension": ".py",
   "mimetype": "text/x-python",
   "name": "python",
   "nbconvert_exporter": "python",
   "pygments_lexer": "ipython3",
   "version": "3.8.10"
  }
 },
 "nbformat": 4,
 "nbformat_minor": 5
}
