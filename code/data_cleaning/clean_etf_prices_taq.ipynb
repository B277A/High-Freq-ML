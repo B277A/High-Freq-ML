{
 "cells": [
  {
   "cell_type": "code",
   "execution_count": 11,
   "id": "8bdbc12c",
   "metadata": {},
   "outputs": [],
   "source": [
    "import sys, os\n",
    "\n",
    "sys.path.append(os.path.abspath(os.path.join(\"../\")))\n",
    "\n",
    "import pandas as pd\n",
    "import numpy as np\n",
    "import glob\n",
    "import statsmodels.formula.api as smf\n",
    "import datetime as dt\n",
    "from tqdm.auto import tqdm"
   ]
  },
  {
   "cell_type": "markdown",
   "id": "78d78f25",
   "metadata": {},
   "source": [
    "# Main"
   ]
  },
  {
   "cell_type": "code",
   "execution_count": 12,
   "id": "b3bee363",
   "metadata": {},
   "outputs": [],
   "source": [
    "# Params\n",
    "year_range = range(1996,2021)\n",
    "sample_freq = '15min'"
   ]
  },
  {
   "cell_type": "code",
   "execution_count": 15,
   "id": "1c322115",
   "metadata": {},
   "outputs": [
    {
     "data": {
      "application/vnd.jupyter.widget-view+json": {
       "model_id": "144a20a82cb54a4db901049fda69c668",
       "version_major": 2,
       "version_minor": 0
      },
      "text/plain": [
       "  0%|          | 0/25 [00:00<?, ?it/s]"
      ]
     },
     "metadata": {},
     "output_type": "display_data"
    },
    {
     "name": "stderr",
     "output_type": "stream",
     "text": [
      "/tmp/ipykernel_27416/2860629971.py:26: FutureWarning: The default value of regex will change from True to False in a future version. In addition, single character regular expressions will *not* be treated as literal strings when regex=True.\n",
      "  + taq_data_df[\"symbol\"].astype(str).str.replace('.', '')\n"
     ]
    }
   ],
   "source": [
    "for year in tqdm(year_range):\n",
    "\n",
    "    ## Load in TAQ Prices\n",
    "    taq_data_df = pd.read_parquet(\n",
    "        glob.glob(f\"../../../../GitHub/High-Freq-ML/data/taq/prices/{year}*.parquet\")\n",
    "    )\n",
    "\n",
    "    # Add datetime\n",
    "    taq_data_df[\"datetime\"] = pd.to_datetime(\n",
    "        taq_data_df[\"date\"].astype(str) + \" \" + taq_data_df[\"time\"]\n",
    "    )\n",
    "    \n",
    "    # Fix missing permno\n",
    "    taq_data_df['permno'] = taq_data_df['permno'].astype(str)\n",
    "    taq_data_df.loc[taq_data_df['symbol'] == 'QQQ', 'permno'] = 86755\n",
    "    \n",
    "    # Fix mislabelled symbol\n",
    "    taq_data_df['symbol'] = taq_data_df['symbol'].astype(str)\n",
    "    taq_data_df.loc[taq_data_df['symbol'] == 'QQQQ', 'symbol'] = 'QQQ'\n",
    "\n",
    "    # Construct unique identifier\n",
    "    taq_data_df[\"identifier\"] = (\n",
    "        \"permno__\"\n",
    "        + taq_data_df[\"permno\"].astype(str)\n",
    "        + \"__symbol__\"\n",
    "        + taq_data_df[\"symbol\"].astype(str).str.replace('.', '')\n",
    "    )\n",
    "\n",
    "    ## Clean prices\n",
    "    \n",
    "    # Drop duplicated by picking the one with a defined cusip\n",
    "    taq_data_df = taq_data_df.sort_values(by = 'cusip8')\n",
    "    taq_data_df = taq_data_df.drop_duplicates(subset = ['datetime', 'identifier'], keep = 'last')\n",
    "    \n",
    "    # Get pivotted [sample_frequency] prices\n",
    "    pivot_data_df = taq_data_df.pivot(index=\"datetime\", values=\"price\", columns=\"identifier\")\n",
    "    pivot_data_df = pivot_data_df.resample(sample_freq, closed=\"right\", label=\"right\").last().ffill()\n",
    "    \n",
    "    # Filter to days with trading\n",
    "    trading_dates = pd.to_datetime(taq_data_df[\"date\"].unique(), format=\"%Y%m%d\")\n",
    "    pivot_data_df = pivot_data_df.loc[pivot_data_df.index.strftime('%Y-%m-%d').isin(trading_dates.strftime('%Y-%m-%d'))]\n",
    "    \n",
    "    # Get log returns\n",
    "    pivot_data_df = pivot_data_df.apply(np.log) - pivot_data_df.apply(np.log).shift(\n",
    "            1\n",
    "        )\n",
    "\n",
    "    # Set first return in the data to zero\n",
    "    pivot_data_df.iloc[0,:] = 0\n",
    "    \n",
    "    # Adjust column names\n",
    "    pivot_data_df.columns = pivot_data_df.columns.astype(str)\n",
    "    pivot_data_df.columns.name = None\n",
    "    \n",
    "    # This should have no effect, just filters to intradaily observations\n",
    "    pivot_data_df = pivot_data_df.loc[\n",
    "        (pivot_data_df.index.time >= dt.time(9, 30)) & (pivot_data_df.index.time <= dt.time(16, 0))\n",
    "    ].sort_index()\n",
    "    \n",
    "    ## Fix various errors?\n",
    "    if year == '2015':\n",
    "        # Fix VV error\n",
    "        pivot_data_df.loc['2015-08-24 09:45:00', 'permno__90002__symbol__VV'] = np.nan\n",
    "        pivot_data_df.loc['2015-08-24 10:00:00', 'permno__90002__symbol__VV'] = np.nan\n",
    "\n",
    "    ## Save\n",
    "    pivot_data_df.to_parquet(f\"../../data/taq/clean_prices/{year}.parquet\")"
   ]
  },
  {
   "cell_type": "markdown",
   "id": "91e8e161",
   "metadata": {},
   "source": [
    "# Check"
   ]
  },
  {
   "cell_type": "markdown",
   "id": "867e1336",
   "metadata": {
    "jp-MarkdownHeadingCollapsed": true,
    "tags": []
   },
   "source": [
    "## Output"
   ]
  },
  {
   "cell_type": "code",
   "execution_count": 40,
   "id": "5ee73771",
   "metadata": {},
   "outputs": [
    {
     "data": {
      "text/html": [
       "<div>\n",
       "<style scoped>\n",
       "    .dataframe tbody tr th:only-of-type {\n",
       "        vertical-align: middle;\n",
       "    }\n",
       "\n",
       "    .dataframe tbody tr th {\n",
       "        vertical-align: top;\n",
       "    }\n",
       "\n",
       "    .dataframe thead th {\n",
       "        text-align: right;\n",
       "    }\n",
       "</style>\n",
       "<table border=\"1\" class=\"dataframe\">\n",
       "  <thead>\n",
       "    <tr style=\"text-align: right;\">\n",
       "      <th></th>\n",
       "      <th>cusip8</th>\n",
       "      <th>date</th>\n",
       "      <th>permno</th>\n",
       "      <th>price</th>\n",
       "      <th>symbol</th>\n",
       "      <th>time</th>\n",
       "    </tr>\n",
       "    <tr>\n",
       "      <th>ticker_identifier</th>\n",
       "      <th></th>\n",
       "      <th></th>\n",
       "      <th></th>\n",
       "      <th></th>\n",
       "      <th></th>\n",
       "      <th></th>\n",
       "    </tr>\n",
       "  </thead>\n",
       "  <tbody>\n",
       "    <tr>\n",
       "      <th>84398_78462F10_SPY</th>\n",
       "      <td>78462F10</td>\n",
       "      <td>20040102</td>\n",
       "      <td>84398</td>\n",
       "      <td>111.760</td>\n",
       "      <td>SPY</td>\n",
       "      <td>10:00:00</td>\n",
       "    </tr>\n",
       "    <tr>\n",
       "      <th>86755_63110010_QQQ</th>\n",
       "      <td>63110010</td>\n",
       "      <td>20040102</td>\n",
       "      <td>86755</td>\n",
       "      <td>36.660</td>\n",
       "      <td>QQQ</td>\n",
       "      <td>10:00:00</td>\n",
       "    </tr>\n",
       "    <tr>\n",
       "      <th>88215_46428720_IVV</th>\n",
       "      <td>46428720</td>\n",
       "      <td>20040102</td>\n",
       "      <td>88215</td>\n",
       "      <td>111.830</td>\n",
       "      <td>IVV</td>\n",
       "      <td>10:00:00</td>\n",
       "    </tr>\n",
       "    <tr>\n",
       "      <th>88222_46428765_IWM</th>\n",
       "      <td>46428765</td>\n",
       "      <td>20040102</td>\n",
       "      <td>88222</td>\n",
       "      <td>111.940</td>\n",
       "      <td>IWM</td>\n",
       "      <td>10:00:00</td>\n",
       "    </tr>\n",
       "    <tr>\n",
       "      <th>90002_92290863_VV</th>\n",
       "      <td>92290863</td>\n",
       "      <td>20040130</td>\n",
       "      <td>90002</td>\n",
       "      <td>49.400</td>\n",
       "      <td>VV</td>\n",
       "      <td>10:00:00</td>\n",
       "    </tr>\n",
       "    <tr>\n",
       "      <th>90004_92290874_VTV</th>\n",
       "      <td>92290874</td>\n",
       "      <td>20040130</td>\n",
       "      <td>90004</td>\n",
       "      <td>49.310</td>\n",
       "      <td>VTV</td>\n",
       "      <td>10:00:00</td>\n",
       "    </tr>\n",
       "    <tr>\n",
       "      <th>90005_92290875_VB</th>\n",
       "      <td>92290875</td>\n",
       "      <td>20040130</td>\n",
       "      <td>90005</td>\n",
       "      <td>48.800</td>\n",
       "      <td>VB</td>\n",
       "      <td>10:00:00</td>\n",
       "    </tr>\n",
       "    <tr>\n",
       "      <th>._63110010_QQQ</th>\n",
       "      <td>63110010</td>\n",
       "      <td>20041130</td>\n",
       "      <td></td>\n",
       "      <td>39.265</td>\n",
       "      <td>QQQ</td>\n",
       "      <td>10:00:00</td>\n",
       "    </tr>\n",
       "    <tr>\n",
       "      <th>86755_63110010_QQQQ</th>\n",
       "      <td>63110010</td>\n",
       "      <td>20041201</td>\n",
       "      <td>86755</td>\n",
       "      <td>39.470</td>\n",
       "      <td>QQQQ</td>\n",
       "      <td>10:00:00</td>\n",
       "    </tr>\n",
       "  </tbody>\n",
       "</table>\n",
       "</div>"
      ],
      "text/plain": [
       "                       cusip8      date permno    price symbol      time\n",
       "ticker_identifier                                                       \n",
       "84398_78462F10_SPY   78462F10  20040102  84398  111.760    SPY  10:00:00\n",
       "86755_63110010_QQQ   63110010  20040102  86755   36.660    QQQ  10:00:00\n",
       "88215_46428720_IVV   46428720  20040102  88215  111.830    IVV  10:00:00\n",
       "88222_46428765_IWM   46428765  20040102  88222  111.940    IWM  10:00:00\n",
       "90002_92290863_VV    92290863  20040130  90002   49.400     VV  10:00:00\n",
       "90004_92290874_VTV   92290874  20040130  90004   49.310    VTV  10:00:00\n",
       "90005_92290875_VB    92290875  20040130  90005   48.800     VB  10:00:00\n",
       "._63110010_QQQ       63110010  20041130          39.265    QQQ  10:00:00\n",
       "86755_63110010_QQQQ  63110010  20041201  86755   39.470   QQQQ  10:00:00"
      ]
     },
     "execution_count": 40,
     "metadata": {},
     "output_type": "execute_result"
    }
   ],
   "source": [
    "pd.read_parquet(\n",
    "        glob.glob(f\"../../../../GitHub/High-Freq-ML/data/taq/prices/{2004}*.parquet\")\n",
    "    ).groupby(['ticker_identifier']).first()"
   ]
  },
  {
   "cell_type": "code",
   "execution_count": 53,
   "id": "0632a318",
   "metadata": {},
   "outputs": [
    {
     "data": {
      "text/html": [
       "<div>\n",
       "<style scoped>\n",
       "    .dataframe tbody tr th:only-of-type {\n",
       "        vertical-align: middle;\n",
       "    }\n",
       "\n",
       "    .dataframe tbody tr th {\n",
       "        vertical-align: top;\n",
       "    }\n",
       "\n",
       "    .dataframe thead th {\n",
       "        text-align: right;\n",
       "    }\n",
       "</style>\n",
       "<table border=\"1\" class=\"dataframe\">\n",
       "  <thead>\n",
       "    <tr style=\"text-align: right;\">\n",
       "      <th></th>\n",
       "      <th>permno__12305__symbol__VOO</th>\n",
       "      <th>permno__12313__symbol__VONE</th>\n",
       "      <th>permno__84144__symbol__VONE</th>\n",
       "      <th>permno__84398__symbol__SPY</th>\n",
       "      <th>permno__86379__symbol__VOO</th>\n",
       "      <th>permno__86755__symbol__QQQ</th>\n",
       "      <th>permno__88215__symbol__IVV</th>\n",
       "      <th>permno__88222__symbol__IWM</th>\n",
       "      <th>permno__90002__symbol__VV</th>\n",
       "      <th>permno__90004__symbol__VTV</th>\n",
       "      <th>permno__90005__symbol__VB</th>\n",
       "      <th>permno__91010__symbol__ONEK</th>\n",
       "      <th>permno__93269__symbol__TQQQ</th>\n",
       "    </tr>\n",
       "    <tr>\n",
       "      <th>datetime</th>\n",
       "      <th></th>\n",
       "      <th></th>\n",
       "      <th></th>\n",
       "      <th></th>\n",
       "      <th></th>\n",
       "      <th></th>\n",
       "      <th></th>\n",
       "      <th></th>\n",
       "      <th></th>\n",
       "      <th></th>\n",
       "      <th></th>\n",
       "      <th></th>\n",
       "      <th></th>\n",
       "    </tr>\n",
       "  </thead>\n",
       "  <tbody>\n",
       "    <tr>\n",
       "      <th>2014-01-02 09:30:00</th>\n",
       "      <td>0.000000</td>\n",
       "      <td>0.000000</td>\n",
       "      <td>0.000000</td>\n",
       "      <td>0.000000</td>\n",
       "      <td>0.000000</td>\n",
       "      <td>0.000000</td>\n",
       "      <td>0.000000</td>\n",
       "      <td>0.000000</td>\n",
       "      <td>0.000000</td>\n",
       "      <td>0.000000</td>\n",
       "      <td>0.000000</td>\n",
       "      <td>0.0</td>\n",
       "      <td>0.000000</td>\n",
       "    </tr>\n",
       "    <tr>\n",
       "      <th>2014-01-02 09:45:00</th>\n",
       "      <td>-0.002317</td>\n",
       "      <td>-0.000118</td>\n",
       "      <td>-0.000118</td>\n",
       "      <td>-0.001959</td>\n",
       "      <td>-0.002317</td>\n",
       "      <td>-0.003203</td>\n",
       "      <td>-0.002029</td>\n",
       "      <td>-0.006188</td>\n",
       "      <td>-0.002724</td>\n",
       "      <td>-0.002104</td>\n",
       "      <td>-0.005304</td>\n",
       "      <td>0.0</td>\n",
       "      <td>-0.009109</td>\n",
       "    </tr>\n",
       "    <tr>\n",
       "      <th>2014-01-02 10:00:00</th>\n",
       "      <td>0.000416</td>\n",
       "      <td>0.000118</td>\n",
       "      <td>0.000118</td>\n",
       "      <td>0.000000</td>\n",
       "      <td>0.000416</td>\n",
       "      <td>-0.001032</td>\n",
       "      <td>0.000027</td>\n",
       "      <td>0.000350</td>\n",
       "      <td>0.000474</td>\n",
       "      <td>0.000790</td>\n",
       "      <td>0.002015</td>\n",
       "      <td>0.0</td>\n",
       "      <td>-0.003138</td>\n",
       "    </tr>\n",
       "    <tr>\n",
       "      <th>2014-01-02 10:15:00</th>\n",
       "      <td>-0.000535</td>\n",
       "      <td>0.000000</td>\n",
       "      <td>0.000000</td>\n",
       "      <td>-0.000272</td>\n",
       "      <td>-0.000535</td>\n",
       "      <td>0.001032</td>\n",
       "      <td>-0.000271</td>\n",
       "      <td>0.001310</td>\n",
       "      <td>-0.000593</td>\n",
       "      <td>-0.000790</td>\n",
       "      <td>0.001828</td>\n",
       "      <td>0.0</td>\n",
       "      <td>0.003055</td>\n",
       "    </tr>\n",
       "    <tr>\n",
       "      <th>2014-01-02 10:30:00</th>\n",
       "      <td>-0.000119</td>\n",
       "      <td>0.000000</td>\n",
       "      <td>0.000000</td>\n",
       "      <td>-0.000327</td>\n",
       "      <td>-0.000119</td>\n",
       "      <td>-0.001032</td>\n",
       "      <td>-0.000379</td>\n",
       "      <td>-0.000524</td>\n",
       "      <td>-0.000119</td>\n",
       "      <td>-0.000527</td>\n",
       "      <td>-0.000914</td>\n",
       "      <td>0.0</td>\n",
       "      <td>-0.003945</td>\n",
       "    </tr>\n",
       "  </tbody>\n",
       "</table>\n",
       "</div>"
      ],
      "text/plain": [
       "                     permno__12305__symbol__VOO  permno__12313__symbol__VONE  \\\n",
       "datetime                                                                       \n",
       "2014-01-02 09:30:00                    0.000000                     0.000000   \n",
       "2014-01-02 09:45:00                   -0.002317                    -0.000118   \n",
       "2014-01-02 10:00:00                    0.000416                     0.000118   \n",
       "2014-01-02 10:15:00                   -0.000535                     0.000000   \n",
       "2014-01-02 10:30:00                   -0.000119                     0.000000   \n",
       "\n",
       "                     permno__84144__symbol__VONE  permno__84398__symbol__SPY  \\\n",
       "datetime                                                                       \n",
       "2014-01-02 09:30:00                     0.000000                    0.000000   \n",
       "2014-01-02 09:45:00                    -0.000118                   -0.001959   \n",
       "2014-01-02 10:00:00                     0.000118                    0.000000   \n",
       "2014-01-02 10:15:00                     0.000000                   -0.000272   \n",
       "2014-01-02 10:30:00                     0.000000                   -0.000327   \n",
       "\n",
       "                     permno__86379__symbol__VOO  permno__86755__symbol__QQQ  \\\n",
       "datetime                                                                      \n",
       "2014-01-02 09:30:00                    0.000000                    0.000000   \n",
       "2014-01-02 09:45:00                   -0.002317                   -0.003203   \n",
       "2014-01-02 10:00:00                    0.000416                   -0.001032   \n",
       "2014-01-02 10:15:00                   -0.000535                    0.001032   \n",
       "2014-01-02 10:30:00                   -0.000119                   -0.001032   \n",
       "\n",
       "                     permno__88215__symbol__IVV  permno__88222__symbol__IWM  \\\n",
       "datetime                                                                      \n",
       "2014-01-02 09:30:00                    0.000000                    0.000000   \n",
       "2014-01-02 09:45:00                   -0.002029                   -0.006188   \n",
       "2014-01-02 10:00:00                    0.000027                    0.000350   \n",
       "2014-01-02 10:15:00                   -0.000271                    0.001310   \n",
       "2014-01-02 10:30:00                   -0.000379                   -0.000524   \n",
       "\n",
       "                     permno__90002__symbol__VV  permno__90004__symbol__VTV  \\\n",
       "datetime                                                                     \n",
       "2014-01-02 09:30:00                   0.000000                    0.000000   \n",
       "2014-01-02 09:45:00                  -0.002724                   -0.002104   \n",
       "2014-01-02 10:00:00                   0.000474                    0.000790   \n",
       "2014-01-02 10:15:00                  -0.000593                   -0.000790   \n",
       "2014-01-02 10:30:00                  -0.000119                   -0.000527   \n",
       "\n",
       "                     permno__90005__symbol__VB  permno__91010__symbol__ONEK  \\\n",
       "datetime                                                                      \n",
       "2014-01-02 09:30:00                   0.000000                          0.0   \n",
       "2014-01-02 09:45:00                  -0.005304                          0.0   \n",
       "2014-01-02 10:00:00                   0.002015                          0.0   \n",
       "2014-01-02 10:15:00                   0.001828                          0.0   \n",
       "2014-01-02 10:30:00                  -0.000914                          0.0   \n",
       "\n",
       "                     permno__93269__symbol__TQQQ  \n",
       "datetime                                          \n",
       "2014-01-02 09:30:00                     0.000000  \n",
       "2014-01-02 09:45:00                    -0.009109  \n",
       "2014-01-02 10:00:00                    -0.003138  \n",
       "2014-01-02 10:15:00                     0.003055  \n",
       "2014-01-02 10:30:00                    -0.003945  "
      ]
     },
     "execution_count": 53,
     "metadata": {},
     "output_type": "execute_result"
    }
   ],
   "source": [
    "pd.read_parquet('../../data/taq/clean_prices/2014.parquet').head()"
   ]
  },
  {
   "cell_type": "markdown",
   "id": "b0697f01",
   "metadata": {
    "jp-MarkdownHeadingCollapsed": true,
    "tags": []
   },
   "source": [
    "## Aggregated"
   ]
  },
  {
   "cell_type": "code",
   "execution_count": 60,
   "id": "5762dcb6",
   "metadata": {},
   "outputs": [],
   "source": [
    "import matplotlib.pyplot as plt"
   ]
  },
  {
   "cell_type": "code",
   "execution_count": 61,
   "id": "e8e8d4f0",
   "metadata": {},
   "outputs": [],
   "source": [
    "# Load data\n",
    "fret_df = pd.concat(\n",
    "    [\n",
    "        pd.read_parquet(x)\n",
    "        for x in glob.glob(\"../../data/taq/clean_prices/*.parquet\")\n",
    "    ]\n",
    ")"
   ]
  },
  {
   "cell_type": "code",
   "execution_count": 62,
   "id": "00ad298c",
   "metadata": {},
   "outputs": [
    {
     "data": {
      "text/plain": [
       "<matplotlib.legend.Legend at 0x7feb1f1aee80>"
      ]
     },
     "execution_count": 62,
     "metadata": {},
     "output_type": "execute_result"
    },
    {
     "data": {
      "image/png": "[encoded data removed]",
      "text/plain": [
       "<Figure size 432x288 with 1 Axes>"
      ]
     },
     "metadata": {
      "needs_background": "light"
     },
     "output_type": "display_data"
    }
   ],
   "source": [
    "fret_df[[x for x in fret_df.columns if 'QQQ' in x]].cumsum().plot()\n",
    "plt.legend()"
   ]
  },
  {
   "cell_type": "code",
   "execution_count": 63,
   "id": "a95f7133",
   "metadata": {},
   "outputs": [
    {
     "data": {
      "text/plain": [
       "<matplotlib.legend.Legend at 0x7fea83bb4850>"
      ]
     },
     "execution_count": 63,
     "metadata": {},
     "output_type": "execute_result"
    },
    {
     "data": {
      "image/png": "[encoded data removed]",
      "text/plain": [
       "<Figure size 432x288 with 1 Axes>"
      ]
     },
     "metadata": {
      "needs_background": "light"
     },
     "output_type": "display_data"
    }
   ],
   "source": [
    "fret_df[[x for x in fret_df.columns if 'VOO' in x]].cumsum().plot()\n",
    "plt.legend()"
   ]
  },
  {
   "cell_type": "markdown",
   "id": "4efe9991",
   "metadata": {},
   "source": [
    "# Check MKT"
   ]
  },
  {
   "cell_type": "code",
   "execution_count": 2,
   "id": "2f6aa34f",
   "metadata": {},
   "outputs": [],
   "source": [
    "from helper_libraries import results_tools\n",
    "import statsmodels.formula.api as smf"
   ]
  },
  {
   "cell_type": "code",
   "execution_count": 3,
   "id": "10e3103a",
   "metadata": {},
   "outputs": [],
   "source": [
    "# Load SPY returns\n",
    "fret_df, _ = results_tools.load_mkt_rf_returns()"
   ]
  },
  {
   "cell_type": "code",
   "execution_count": 4,
   "id": "506d2da6",
   "metadata": {},
   "outputs": [],
   "source": [
    "# Load FF-MKT returns\n",
    "fret2_df, _ = results_tools.load_mkt_rf_returns(use_spy_etf=False)"
   ]
  },
  {
   "cell_type": "code",
   "execution_count": 5,
   "id": "7f75bdd8",
   "metadata": {},
   "outputs": [],
   "source": [
    "# Load CRSP Mkt Excess returns\n",
    "fret3_df = pd.read_excel('../../data/dlrz/dataMarketRx.xlsx')\n",
    "fret3_df['date'] = pd.to_datetime(fret3_df['date'], format = '%Y%m%d')\n",
    "fret3_df = fret3_df.set_index('date')"
   ]
  },
  {
   "cell_type": "code",
   "execution_count": 6,
   "id": "10c80edc",
   "metadata": {},
   "outputs": [],
   "source": [
    "# Load FF factors\n",
    "fret4_df = pd.read_csv('../../data/ff/F-F_Research_Data_5_Factors_2x3_daily.CSV', skiprows = 3)\n",
    "fret4_df['date'] = pd.to_datetime(fret4_df['Unnamed: 0'], format = \"%Y%m%d\")\n",
    "fret4_df = fret4_df.set_index('date')"
   ]
  },
  {
   "cell_type": "markdown",
   "id": "f33ca36d",
   "metadata": {},
   "source": [
    "### Reg SPY with FF MKT"
   ]
  },
  {
   "cell_type": "code",
   "execution_count": 7,
   "id": "f93439d4",
   "metadata": {},
   "outputs": [],
   "source": [
    "# Combine\n",
    "concat_df = pd.concat([fret2_df, fret_df], axis=1).groupby(pd.Grouper(freq = '15min')).sum()"
   ]
  },
  {
   "cell_type": "code",
   "execution_count": 8,
   "id": "11f1890b",
   "metadata": {},
   "outputs": [
    {
     "data": {
      "text/html": [
       "<table class=\"simpletable\">\n",
       "<caption>OLS Regression Results</caption>\n",
       "<tr>\n",
       "  <th>Dep. Variable:</th>         <td>ff__mkt</td>     <th>  R-squared:         </th>  <td>   0.905</td> \n",
       "</tr>\n",
       "<tr>\n",
       "  <th>Model:</th>                   <td>OLS</td>       <th>  Adj. R-squared:    </th>  <td>   0.905</td> \n",
       "</tr>\n",
       "<tr>\n",
       "  <th>Method:</th>             <td>Least Squares</td>  <th>  F-statistic:       </th>  <td>8.299e+06</td>\n",
       "</tr>\n",
       "<tr>\n",
       "  <th>Date:</th>             <td>Sun, 24 Apr 2022</td> <th>  Prob (F-statistic):</th>   <td>  0.00</td>  \n",
       "</tr>\n",
       "<tr>\n",
       "  <th>Time:</th>                 <td>09:55:10</td>     <th>  Log-Likelihood:    </th> <td>6.0057e+06</td>\n",
       "</tr>\n",
       "<tr>\n",
       "  <th>No. Observations:</th>      <td>867376</td>      <th>  AIC:               </th> <td>-1.201e+07</td>\n",
       "</tr>\n",
       "<tr>\n",
       "  <th>Df Residuals:</th>          <td>867374</td>      <th>  BIC:               </th> <td>-1.201e+07</td>\n",
       "</tr>\n",
       "<tr>\n",
       "  <th>Df Model:</th>              <td>     1</td>      <th>                     </th>      <td> </td>    \n",
       "</tr>\n",
       "<tr>\n",
       "  <th>Covariance Type:</th>      <td>nonrobust</td>    <th>                     </th>      <td> </td>    \n",
       "</tr>\n",
       "</table>\n",
       "<table class=\"simpletable\">\n",
       "<tr>\n",
       "        <td></td>           <th>coef</th>     <th>std err</th>      <th>t</th>      <th>P>|t|</th>  <th>[0.025</th>    <th>0.975]</th>  \n",
       "</tr>\n",
       "<tr>\n",
       "  <th>Intercept</th>     <td> 6.149e-07</td> <td> 2.56e-07</td> <td>    2.405</td> <td> 0.016</td> <td> 1.14e-07</td> <td> 1.12e-06</td>\n",
       "</tr>\n",
       "<tr>\n",
       "  <th>market_return</th> <td>    0.8750</td> <td>    0.000</td> <td> 2880.854</td> <td> 0.000</td> <td>    0.874</td> <td>    0.876</td>\n",
       "</tr>\n",
       "</table>\n",
       "<table class=\"simpletable\">\n",
       "<tr>\n",
       "  <th>Omnibus:</th>       <td>532607.050</td> <th>  Durbin-Watson:     </th>    <td>   2.488</td>   \n",
       "</tr>\n",
       "<tr>\n",
       "  <th>Prob(Omnibus):</th>   <td> 0.000</td>   <th>  Jarque-Bera (JB):  </th> <td>1674301784.071</td>\n",
       "</tr>\n",
       "<tr>\n",
       "  <th>Skew:</th>            <td>-1.284</td>   <th>  Prob(JB):          </th>    <td>    0.00</td>   \n",
       "</tr>\n",
       "<tr>\n",
       "  <th>Kurtosis:</th>        <td>218.223</td>  <th>  Cond. No.          </th>    <td>1.19e+03</td>   \n",
       "</tr>\n",
       "</table><br/><br/>Notes:<br/>[1] Standard Errors assume that the covariance matrix of the errors is correctly specified.<br/>[2] The condition number is large, 1.19e+03. This might indicate that there are<br/>strong multicollinearity or other numerical problems."
      ],
      "text/plain": [
       "<class 'statsmodels.iolib.summary.Summary'>\n",
       "\"\"\"\n",
       "                            OLS Regression Results                            \n",
       "==============================================================================\n",
       "Dep. Variable:                ff__mkt   R-squared:                       0.905\n",
       "Model:                            OLS   Adj. R-squared:                  0.905\n",
       "Method:                 Least Squares   F-statistic:                 8.299e+06\n",
       "Date:                Sun, 24 Apr 2022   Prob (F-statistic):               0.00\n",
       "Time:                        09:55:10   Log-Likelihood:             6.0057e+06\n",
       "No. Observations:              867376   AIC:                        -1.201e+07\n",
       "Df Residuals:                  867374   BIC:                        -1.201e+07\n",
       "Df Model:                           1                                         \n",
       "Covariance Type:            nonrobust                                         \n",
       "=================================================================================\n",
       "                    coef    std err          t      P>|t|      [0.025      0.975]\n",
       "---------------------------------------------------------------------------------\n",
       "Intercept      6.149e-07   2.56e-07      2.405      0.016    1.14e-07    1.12e-06\n",
       "market_return     0.8750      0.000   2880.854      0.000       0.874       0.876\n",
       "==============================================================================\n",
       "Omnibus:                   532607.050   Durbin-Watson:                   2.488\n",
       "Prob(Omnibus):                  0.000   Jarque-Bera (JB):       1674301784.071\n",
       "Skew:                          -1.284   Prob(JB):                         0.00\n",
       "Kurtosis:                     218.223   Cond. No.                     1.19e+03\n",
       "==============================================================================\n",
       "\n",
       "Notes:\n",
       "[1] Standard Errors assume that the covariance matrix of the errors is correctly specified.\n",
       "[2] The condition number is large, 1.19e+03. This might indicate that there are\n",
       "strong multicollinearity or other numerical problems.\n",
       "\"\"\""
      ]
     },
     "execution_count": 8,
     "metadata": {},
     "output_type": "execute_result"
    }
   ],
   "source": [
    "# Regression\n",
    "smf.ols('ff__mkt ~ market_return', concat_df.loc[concat_df.index.time != dt.time(9,30)].dropna()).fit().summary()"
   ]
  },
  {
   "cell_type": "code",
   "execution_count": 9,
   "id": "792d3006",
   "metadata": {},
   "outputs": [
    {
     "data": {
      "text/html": [
       "<table class=\"simpletable\">\n",
       "<caption>OLS Regression Results</caption>\n",
       "<tr>\n",
       "  <th>Dep. Variable:</th>         <td>ff__mkt</td>     <th>  R-squared:         </th>  <td>   0.963</td> \n",
       "</tr>\n",
       "<tr>\n",
       "  <th>Model:</th>                   <td>OLS</td>       <th>  Adj. R-squared:    </th>  <td>   0.963</td> \n",
       "</tr>\n",
       "<tr>\n",
       "  <th>Method:</th>             <td>Least Squares</td>  <th>  F-statistic:       </th>  <td>2.394e+05</td>\n",
       "</tr>\n",
       "<tr>\n",
       "  <th>Date:</th>             <td>Sun, 24 Apr 2022</td> <th>  Prob (F-statistic):</th>   <td>  0.00</td>  \n",
       "</tr>\n",
       "<tr>\n",
       "  <th>Time:</th>                 <td>09:55:18</td>     <th>  Log-Likelihood:    </th>  <td>  45949.</td> \n",
       "</tr>\n",
       "<tr>\n",
       "  <th>No. Observations:</th>      <td>  9131</td>      <th>  AIC:               </th> <td>-9.189e+04</td>\n",
       "</tr>\n",
       "<tr>\n",
       "  <th>Df Residuals:</th>          <td>  9129</td>      <th>  BIC:               </th> <td>-9.188e+04</td>\n",
       "</tr>\n",
       "<tr>\n",
       "  <th>Df Model:</th>              <td>     1</td>      <th>                     </th>      <td> </td>    \n",
       "</tr>\n",
       "<tr>\n",
       "  <th>Covariance Type:</th>      <td>nonrobust</td>    <th>                     </th>      <td> </td>    \n",
       "</tr>\n",
       "</table>\n",
       "<table class=\"simpletable\">\n",
       "<tr>\n",
       "        <td></td>           <th>coef</th>     <th>std err</th>      <th>t</th>      <th>P>|t|</th>  <th>[0.025</th>    <th>0.975]</th>  \n",
       "</tr>\n",
       "<tr>\n",
       "  <th>Intercept</th>     <td> 6.173e-05</td> <td> 1.65e-05</td> <td>    3.736</td> <td> 0.000</td> <td> 2.93e-05</td> <td> 9.41e-05</td>\n",
       "</tr>\n",
       "<tr>\n",
       "  <th>market_return</th> <td>    0.9748</td> <td>    0.002</td> <td>  489.294</td> <td> 0.000</td> <td>    0.971</td> <td>    0.979</td>\n",
       "</tr>\n",
       "</table>\n",
       "<table class=\"simpletable\">\n",
       "<tr>\n",
       "  <th>Omnibus:</th>       <td>6233.828</td> <th>  Durbin-Watson:     </th>  <td>   2.019</td>  \n",
       "</tr>\n",
       "<tr>\n",
       "  <th>Prob(Omnibus):</th>  <td> 0.000</td>  <th>  Jarque-Bera (JB):  </th> <td>1049451.643</td>\n",
       "</tr>\n",
       "<tr>\n",
       "  <th>Skew:</th>           <td>-2.305</td>  <th>  Prob(JB):          </th>  <td>    0.00</td>  \n",
       "</tr>\n",
       "<tr>\n",
       "  <th>Kurtosis:</th>       <td>55.318</td>  <th>  Cond. No.          </th>  <td>    121.</td>  \n",
       "</tr>\n",
       "</table><br/><br/>Notes:<br/>[1] Standard Errors assume that the covariance matrix of the errors is correctly specified."
      ],
      "text/plain": [
       "<class 'statsmodels.iolib.summary.Summary'>\n",
       "\"\"\"\n",
       "                            OLS Regression Results                            \n",
       "==============================================================================\n",
       "Dep. Variable:                ff__mkt   R-squared:                       0.963\n",
       "Model:                            OLS   Adj. R-squared:                  0.963\n",
       "Method:                 Least Squares   F-statistic:                 2.394e+05\n",
       "Date:                Sun, 24 Apr 2022   Prob (F-statistic):               0.00\n",
       "Time:                        09:55:18   Log-Likelihood:                 45949.\n",
       "No. Observations:                9131   AIC:                        -9.189e+04\n",
       "Df Residuals:                    9129   BIC:                        -9.188e+04\n",
       "Df Model:                           1                                         \n",
       "Covariance Type:            nonrobust                                         \n",
       "=================================================================================\n",
       "                    coef    std err          t      P>|t|      [0.025      0.975]\n",
       "---------------------------------------------------------------------------------\n",
       "Intercept      6.173e-05   1.65e-05      3.736      0.000    2.93e-05    9.41e-05\n",
       "market_return     0.9748      0.002    489.294      0.000       0.971       0.979\n",
       "==============================================================================\n",
       "Omnibus:                     6233.828   Durbin-Watson:                   2.019\n",
       "Prob(Omnibus):                  0.000   Jarque-Bera (JB):          1049451.643\n",
       "Skew:                          -2.305   Prob(JB):                         0.00\n",
       "Kurtosis:                      55.318   Cond. No.                         121.\n",
       "==============================================================================\n",
       "\n",
       "Notes:\n",
       "[1] Standard Errors assume that the covariance matrix of the errors is correctly specified.\n",
       "\"\"\""
      ]
     },
     "execution_count": 9,
     "metadata": {},
     "output_type": "execute_result"
    }
   ],
   "source": [
    "# Regression\n",
    "smf.ols('ff__mkt ~ market_return', concat_df.loc[concat_df.index.time != dt.time(9,30)].dropna().groupby(pd.Grouper(freq = '1d')).sum()).fit().summary()"
   ]
  },
  {
   "cell_type": "code",
   "execution_count": 126,
   "id": "f7554107",
   "metadata": {},
   "outputs": [
    {
     "name": "stdout",
     "output_type": "stream",
     "text": [
      "1996 0.6059512042534616\n",
      "1997 0.7399239704514107\n",
      "1998 0.8040727174920101\n",
      "1999 0.8108191667611846\n",
      "2000 0.8307840085337739\n",
      "2001 0.8578922733428545\n",
      "2002 0.9365933262316269\n",
      "2003 0.9418168383183431\n",
      "2004 0.9267498652684675\n",
      "2005 0.9411992036955529\n",
      "2006 0.9504394388966402\n",
      "2007 0.9637107888853194\n",
      "2008 0.9734260778733599\n",
      "2009 0.9762721183662734\n",
      "2010 0.9771940683299243\n",
      "2011 0.9821521729563056\n",
      "2012 0.9709760971005124\n",
      "2013 0.9662888168699152\n",
      "2014 0.9667010425506161\n",
      "2015 0.9723863317368092\n",
      "2016 0.9727434742551135\n",
      "2017 0.9533835600463797\n",
      "2018 0.9819352373477416\n",
      "2019 0.975714307003375\n",
      "2020 0.9825337936271632\n"
     ]
    }
   ],
   "source": [
    "concat_df['ff__mkt_lag'] = concat_df['ff__mkt'].shift(1)\n",
    "for year in range(1996,2021):\n",
    "    fit = smf.ols('market_return ~ ff__mkt', concat_df.loc[concat_df.index.time != dt.time(9,30)].loc[str(year)].dropna()).fit()\n",
    "    print(year, fit.rsquared)"
   ]
  },
  {
   "cell_type": "code",
   "execution_count": 130,
   "id": "67153d05",
   "metadata": {},
   "outputs": [
    {
     "name": "stdout",
     "output_type": "stream",
     "text": [
      "1996 0.8845051130297965\n",
      "1997 0.9437231554457262\n",
      "1998 0.9541847964496669\n",
      "1999 0.9435154394020759\n",
      "2000 0.9172715797277565\n",
      "2001 0.913239388461374\n",
      "2002 0.9849318474542216\n",
      "2003 0.979130969880079\n",
      "2004 0.9720095625844901\n",
      "2005 0.9760322187228767\n",
      "2006 0.9734933772846635\n",
      "2007 0.9789792196942224\n",
      "2008 0.9832133983396829\n",
      "2009 0.9842216372814544\n",
      "2010 0.9855963659173773\n",
      "2011 0.991188170466336\n",
      "2012 0.9840824486890252\n",
      "2013 0.979837228658448\n",
      "2014 0.9790040138843763\n",
      "2015 0.9804950176939431\n",
      "2016 0.9787623419131228\n",
      "2017 0.9606035032079259\n",
      "2018 0.9885845339439707\n",
      "2019 0.9816780831694243\n",
      "2020 0.9801650304771374\n"
     ]
    }
   ],
   "source": [
    "concat_df['ff__mkt_lag'] = concat_df['ff__mkt'].shift(1)\n",
    "for year in range(1996,2021):\n",
    "    fit = smf.ols('market_return ~ ff__mkt', concat_df.loc[concat_df.index.time != dt.time(9,30)].loc[str(year)].groupby(pd.Grouper(freq = '1d')).sum().dropna()).fit()\n",
    "    print(year, fit.rsquared)"
   ]
  },
  {
   "cell_type": "markdown",
   "id": "250a019a",
   "metadata": {},
   "source": [
    "### Reg SPY with CRSP MKT"
   ]
  },
  {
   "cell_type": "code",
   "execution_count": 93,
   "id": "f6fb0b85",
   "metadata": {},
   "outputs": [],
   "source": [
    "# Combine\n",
    "concat_df = pd.concat([fret3_df, fret_df.groupby(pd.Grouper(freq = '1m')).sum()], axis=1).dropna()"
   ]
  },
  {
   "cell_type": "code",
   "execution_count": 94,
   "id": "0b893473",
   "metadata": {},
   "outputs": [
    {
     "data": {
      "text/plain": [
       "<AxesSubplot:>"
      ]
     },
     "execution_count": 94,
     "metadata": {},
     "output_type": "execute_result"
    },
    {
     "data": {
      "image/png": "[encoded data removed]",
      "text/plain": [
       "<Figure size 432x288 with 1 Axes>"
      ]
     },
     "metadata": {
      "needs_background": "light"
     },
     "output_type": "display_data"
    }
   ],
   "source": [
    "concat_df.cumsum().plot()"
   ]
  },
  {
   "cell_type": "code",
   "execution_count": 96,
   "id": "e6287481",
   "metadata": {},
   "outputs": [
    {
     "data": {
      "text/html": [
       "<table class=\"simpletable\">\n",
       "<caption>OLS Regression Results</caption>\n",
       "<tr>\n",
       "  <th>Dep. Variable:</th>        <td>marketRx</td>     <th>  R-squared:         </th> <td>   0.957</td> \n",
       "</tr>\n",
       "<tr>\n",
       "  <th>Model:</th>                   <td>OLS</td>       <th>  Adj. R-squared:    </th> <td>   0.957</td> \n",
       "</tr>\n",
       "<tr>\n",
       "  <th>Method:</th>             <td>Least Squares</td>  <th>  F-statistic:       </th> <td>   4075.</td> \n",
       "</tr>\n",
       "<tr>\n",
       "  <th>Date:</th>             <td>Sun, 17 Apr 2022</td> <th>  Prob (F-statistic):</th> <td>5.26e-127</td>\n",
       "</tr>\n",
       "<tr>\n",
       "  <th>Time:</th>                 <td>13:16:34</td>     <th>  Log-Likelihood:    </th> <td>  603.77</td> \n",
       "</tr>\n",
       "<tr>\n",
       "  <th>No. Observations:</th>      <td>   185</td>      <th>  AIC:               </th> <td>  -1204.</td> \n",
       "</tr>\n",
       "<tr>\n",
       "  <th>Df Residuals:</th>          <td>   183</td>      <th>  BIC:               </th> <td>  -1197.</td> \n",
       "</tr>\n",
       "<tr>\n",
       "  <th>Df Model:</th>              <td>     1</td>      <th>                     </th>     <td> </td>    \n",
       "</tr>\n",
       "<tr>\n",
       "  <th>Covariance Type:</th>      <td>nonrobust</td>    <th>                     </th>     <td> </td>    \n",
       "</tr>\n",
       "</table>\n",
       "<table class=\"simpletable\">\n",
       "<tr>\n",
       "        <td></td>           <th>coef</th>     <th>std err</th>      <th>t</th>      <th>P>|t|</th>  <th>[0.025</th>    <th>0.975]</th>  \n",
       "</tr>\n",
       "<tr>\n",
       "  <th>Intercept</th>     <td>    0.0017</td> <td>    0.001</td> <td>    2.435</td> <td> 0.016</td> <td>    0.000</td> <td>    0.003</td>\n",
       "</tr>\n",
       "<tr>\n",
       "  <th>market_return</th> <td>    1.0332</td> <td>    0.016</td> <td>   63.836</td> <td> 0.000</td> <td>    1.001</td> <td>    1.065</td>\n",
       "</tr>\n",
       "</table>\n",
       "<table class=\"simpletable\">\n",
       "<tr>\n",
       "  <th>Omnibus:</th>       <td>15.694</td> <th>  Durbin-Watson:     </th> <td>   1.838</td>\n",
       "</tr>\n",
       "<tr>\n",
       "  <th>Prob(Omnibus):</th> <td> 0.000</td> <th>  Jarque-Bera (JB):  </th> <td>  39.450</td>\n",
       "</tr>\n",
       "<tr>\n",
       "  <th>Skew:</th>          <td>-0.274</td> <th>  Prob(JB):          </th> <td>2.71e-09</td>\n",
       "</tr>\n",
       "<tr>\n",
       "  <th>Kurtosis:</th>      <td> 5.195</td> <th>  Cond. No.          </th> <td>    23.7</td>\n",
       "</tr>\n",
       "</table><br/><br/>Notes:<br/>[1] Standard Errors assume that the covariance matrix of the errors is correctly specified."
      ],
      "text/plain": [
       "<class 'statsmodels.iolib.summary.Summary'>\n",
       "\"\"\"\n",
       "                            OLS Regression Results                            \n",
       "==============================================================================\n",
       "Dep. Variable:               marketRx   R-squared:                       0.957\n",
       "Model:                            OLS   Adj. R-squared:                  0.957\n",
       "Method:                 Least Squares   F-statistic:                     4075.\n",
       "Date:                Sun, 17 Apr 2022   Prob (F-statistic):          5.26e-127\n",
       "Time:                        13:16:34   Log-Likelihood:                 603.77\n",
       "No. Observations:                 185   AIC:                            -1204.\n",
       "Df Residuals:                     183   BIC:                            -1197.\n",
       "Df Model:                           1                                         \n",
       "Covariance Type:            nonrobust                                         \n",
       "=================================================================================\n",
       "                    coef    std err          t      P>|t|      [0.025      0.975]\n",
       "---------------------------------------------------------------------------------\n",
       "Intercept         0.0017      0.001      2.435      0.016       0.000       0.003\n",
       "market_return     1.0332      0.016     63.836      0.000       1.001       1.065\n",
       "==============================================================================\n",
       "Omnibus:                       15.694   Durbin-Watson:                   1.838\n",
       "Prob(Omnibus):                  0.000   Jarque-Bera (JB):               39.450\n",
       "Skew:                          -0.274   Prob(JB):                     2.71e-09\n",
       "Kurtosis:                       5.195   Cond. No.                         23.7\n",
       "==============================================================================\n",
       "\n",
       "Notes:\n",
       "[1] Standard Errors assume that the covariance matrix of the errors is correctly specified.\n",
       "\"\"\""
      ]
     },
     "execution_count": 96,
     "metadata": {},
     "output_type": "execute_result"
    }
   ],
   "source": [
    "# Regression\n",
    "smf.ols('marketRx ~ market_return', concat_df).fit().summary()"
   ]
  },
  {
   "cell_type": "markdown",
   "id": "7c608980",
   "metadata": {},
   "source": [
    "### Reg FF-MKT with CRSP MKT"
   ]
  },
  {
   "cell_type": "code",
   "execution_count": 89,
   "id": "f79ef815",
   "metadata": {},
   "outputs": [],
   "source": [
    "# Combine\n",
    "concat_df = pd.concat([fret3_df, fret4_df[['Mkt-RF']].groupby(pd.Grouper(freq = '1m')).sum()/100], axis=1).dropna()"
   ]
  },
  {
   "cell_type": "code",
   "execution_count": 91,
   "id": "ec61f637",
   "metadata": {},
   "outputs": [
    {
     "data": {
      "text/plain": [
       "<AxesSubplot:xlabel='date'>"
      ]
     },
     "execution_count": 91,
     "metadata": {},
     "output_type": "execute_result"
    },
    {
     "data": {
      "image/png": "[encoded data removed]",
      "text/plain": [
       "<Figure size 432x288 with 1 Axes>"
      ]
     },
     "metadata": {
      "needs_background": "light"
     },
     "output_type": "display_data"
    }
   ],
   "source": [
    "concat_df.cumsum().plot()"
   ]
  },
  {
   "cell_type": "code",
   "execution_count": 92,
   "id": "a90a967b",
   "metadata": {},
   "outputs": [
    {
     "data": {
      "text/html": [
       "<table class=\"simpletable\">\n",
       "<caption>OLS Regression Results</caption>\n",
       "<tr>\n",
       "  <th>Dep. Variable:</th>        <td>marketRx</td>     <th>  R-squared:         </th> <td>   0.998</td> \n",
       "</tr>\n",
       "<tr>\n",
       "  <th>Model:</th>                   <td>OLS</td>       <th>  Adj. R-squared:    </th> <td>   0.998</td> \n",
       "</tr>\n",
       "<tr>\n",
       "  <th>Method:</th>             <td>Least Squares</td>  <th>  F-statistic:       </th> <td>2.611e+05</td>\n",
       "</tr>\n",
       "<tr>\n",
       "  <th>Date:</th>             <td>Sun, 17 Apr 2022</td> <th>  Prob (F-statistic):</th>  <td>  0.00</td>  \n",
       "</tr>\n",
       "<tr>\n",
       "  <th>Time:</th>                 <td>13:16:23</td>     <th>  Log-Likelihood:    </th> <td>  1983.3</td> \n",
       "</tr>\n",
       "<tr>\n",
       "  <th>No. Observations:</th>      <td>   403</td>      <th>  AIC:               </th> <td>  -3963.</td> \n",
       "</tr>\n",
       "<tr>\n",
       "  <th>Df Residuals:</th>          <td>   401</td>      <th>  BIC:               </th> <td>  -3955.</td> \n",
       "</tr>\n",
       "<tr>\n",
       "  <th>Df Model:</th>              <td>     1</td>      <th>                     </th>     <td> </td>    \n",
       "</tr>\n",
       "<tr>\n",
       "  <th>Covariance Type:</th>      <td>nonrobust</td>    <th>                     </th>     <td> </td>    \n",
       "</tr>\n",
       "</table>\n",
       "<table class=\"simpletable\">\n",
       "<tr>\n",
       "       <td></td>          <th>coef</th>     <th>std err</th>      <th>t</th>      <th>P>|t|</th>  <th>[0.025</th>    <th>0.975]</th>  \n",
       "</tr>\n",
       "<tr>\n",
       "  <th>Intercept</th>   <td>-6.778e-05</td> <td> 8.89e-05</td> <td>   -0.763</td> <td> 0.446</td> <td>   -0.000</td> <td>    0.000</td>\n",
       "</tr>\n",
       "<tr>\n",
       "  <th>Q(\"Mkt-RF\")</th> <td>    1.0052</td> <td>    0.002</td> <td>  511.017</td> <td> 0.000</td> <td>    1.001</td> <td>    1.009</td>\n",
       "</tr>\n",
       "</table>\n",
       "<table class=\"simpletable\">\n",
       "<tr>\n",
       "  <th>Omnibus:</th>       <td>94.946</td> <th>  Durbin-Watson:     </th> <td>   1.843</td>\n",
       "</tr>\n",
       "<tr>\n",
       "  <th>Prob(Omnibus):</th> <td> 0.000</td> <th>  Jarque-Bera (JB):  </th> <td>2760.797</td>\n",
       "</tr>\n",
       "<tr>\n",
       "  <th>Skew:</th>          <td> 0.078</td> <th>  Prob(JB):          </th> <td>    0.00</td>\n",
       "</tr>\n",
       "<tr>\n",
       "  <th>Kurtosis:</th>      <td>15.821</td> <th>  Cond. No.          </th> <td>    22.3</td>\n",
       "</tr>\n",
       "</table><br/><br/>Notes:<br/>[1] Standard Errors assume that the covariance matrix of the errors is correctly specified."
      ],
      "text/plain": [
       "<class 'statsmodels.iolib.summary.Summary'>\n",
       "\"\"\"\n",
       "                            OLS Regression Results                            \n",
       "==============================================================================\n",
       "Dep. Variable:               marketRx   R-squared:                       0.998\n",
       "Model:                            OLS   Adj. R-squared:                  0.998\n",
       "Method:                 Least Squares   F-statistic:                 2.611e+05\n",
       "Date:                Sun, 17 Apr 2022   Prob (F-statistic):               0.00\n",
       "Time:                        13:16:23   Log-Likelihood:                 1983.3\n",
       "No. Observations:                 403   AIC:                            -3963.\n",
       "Df Residuals:                     401   BIC:                            -3955.\n",
       "Df Model:                           1                                         \n",
       "Covariance Type:            nonrobust                                         \n",
       "===============================================================================\n",
       "                  coef    std err          t      P>|t|      [0.025      0.975]\n",
       "-------------------------------------------------------------------------------\n",
       "Intercept   -6.778e-05   8.89e-05     -0.763      0.446      -0.000       0.000\n",
       "Q(\"Mkt-RF\")     1.0052      0.002    511.017      0.000       1.001       1.009\n",
       "==============================================================================\n",
       "Omnibus:                       94.946   Durbin-Watson:                   1.843\n",
       "Prob(Omnibus):                  0.000   Jarque-Bera (JB):             2760.797\n",
       "Skew:                           0.078   Prob(JB):                         0.00\n",
       "Kurtosis:                      15.821   Cond. No.                         22.3\n",
       "==============================================================================\n",
       "\n",
       "Notes:\n",
       "[1] Standard Errors assume that the covariance matrix of the errors is correctly specified.\n",
       "\"\"\""
      ]
     },
     "execution_count": 92,
     "metadata": {},
     "output_type": "execute_result"
    }
   ],
   "source": [
    "# Regression\n",
    "smf.ols('marketRx ~ Q(\"Mkt-RF\")', concat_df).fit().summary()"
   ]
  }
 ],
 "metadata": {
  "kernelspec": {
   "display_name": "Python 3 (ipykernel)",
   "language": "python",
   "name": "python3"
  },
  "language_info": {
   "codemirror_mode": {
    "name": "ipython",
    "version": 3
   },
   "file_extension": ".py",
   "mimetype": "text/x-python",
   "name": "python",
   "nbconvert_exporter": "python",
   "pygments_lexer": "ipython3",
   "version": "3.8.10"
  }
 },
 "nbformat": 4,
 "nbformat_minor": 5
}
