{
 "cells": [
  {
   "cell_type": "code",
   "execution_count": 1,
   "id": "arbitrary-midnight",
   "metadata": {},
   "outputs": [],
   "source": [
    "%load_ext autoreload\n",
    "%autoreload 2\n",
    "%config InlineBackend.close_figures=False \n",
    "\n",
    "import os, sys\n",
    "sys.path.append(os.path.abspath(os.path.join('../')))\n",
    "\n",
    "import pandas as pd\n",
    "import numpy as np\n",
    "import matplotlib.pyplot as plt\n",
    "import matplotlib.ticker as mtick\n",
    "from sklearn import linear_model\n",
    "import warnings\n",
    "import statsmodels.api as sm\n",
    "import statsmodels.formula.api as smf\n",
    "import seaborn as sns \n",
    "from mlmodels.model import *\n",
    "from mlmodels.linear_models import *\n",
    "from mlmodels.treebased_models import *\n",
    "from mlmodels.pca_selection import *\n",
    "from mlmodels.lasso_selection import *\n",
    "from helper_libraries.model_pipeline import *\n",
    "from helper_libraries.forecasting_tools import *\n",
    "from helper_libraries.preprocessing_tools import *\n",
    "from tqdm.auto import tqdm\n",
    "import datetime as dt\n",
    "import sklearn.preprocessing\n",
    "import sklearn.utils\n",
    "import logging\n",
    "import warnings\n",
    "\n",
    "sns.set_context(\"paper\", font_scale=1.7)\n",
    "sns.set_style(\"ticks\", {\"axes.grid\": True, \"grid.color\": \"0.95\", \"grid.linestyle\": \"-\"})"
   ]
  },
  {
   "cell_type": "markdown",
   "id": "wicked-discount",
   "metadata": {},
   "source": [
    "# Outline"
   ]
  },
  {
   "cell_type": "markdown",
   "id": "exotic-flour",
   "metadata": {},
   "source": [
    "* Load some sample data for testing\n",
    "* Run tests on various classes and functions"
   ]
  },
  {
   "cell_type": "markdown",
   "id": "1c3a2b4b-48de-43f0-83e0-146257ab1cfe",
   "metadata": {
    "tags": []
   },
   "source": [
    "# Prepare Logger"
   ]
  },
  {
   "cell_type": "code",
   "execution_count": 2,
   "id": "e6ed7e9e-9809-460f-ab72-eb655fed8da2",
   "metadata": {},
   "outputs": [],
   "source": [
    "# Formatting for log messages\n",
    "log_format = \"[{asctime}] — [{module:15.15} - {funcName:12.12}] — [{levelname:<8s} — Line {lineno:4d}]: {message}\"\n",
    "formatter = logging.Formatter(fmt=log_format, datefmt=\"%Y-%m-%d %H:%M:%S\", style=\"{\")\n",
    "\n",
    "\n",
    "# Add a StreamHandler and FileHandler that outputs nicely formatted messages\n",
    "stream_handler = logging.StreamHandler()\n",
    "stream_handler.setFormatter(formatter)\n",
    "file_handler = logging.FileHandler(\"tests_postselection.log\", mode=\"w\")\n",
    "file_handler.setFormatter(formatter)\n",
    "\n",
    "# Logging level debug will output practically everything\n",
    "logging.basicConfig(\n",
    "    level=logging.DEBUG,\n",
    "    format=log_format,\n",
    "    datefmt=\"%Y-%m-%d %H:%M:%S\",\n",
    "    style=\"{\",\n",
    "    handlers=[stream_handler, file_handler],\n",
    ")\n",
    "\n",
    "# Will capture warnings and format them into the log\n",
    "logging.captureWarnings(True)\n",
    "\n",
    "# Name of logger is name of the script\n",
    "logger = logging.getLogger(__name__)\n",
    "\n",
    "# # This line is actually unnecssary if you only run this cell once\n",
    "# # Otherwise, want to prevent duplicate handlers so clear existing ones\n",
    "# logger.handlers.clear()\n",
    "# logger.addHandler(stream_handler)\n",
    "# logger.addHandler(file_handler)\n",
    "\n",
    "# # Add a StreamHandler that deals with warnings\n",
    "# logging.getLogger(\"py.warnings\").handlers.clear()\n",
    "# stream_handler = logging.StreamHandler()\n",
    "# stream_handler.setFormatter(formatter)\n",
    "# file_handler = logging.FileHandler(\"tests_postselection.log\", mode = 'w')\n",
    "# file_handler.setFormatter(formatter)\n",
    "\n",
    "# logging.getLogger(\"py.warnings\").addHandler(stream_handler)\n",
    "# logging.getLogger(\"py.warnings\").addHandler(file_handler)\n",
    "\n",
    "# # Prevent logger from sending messages to the root ( will give duplicate messages )\n",
    "# logger.propagate = False"
   ]
  },
  {
   "cell_type": "markdown",
   "id": "experimental-practice",
   "metadata": {},
   "source": [
    "# Load Data"
   ]
  },
  {
   "cell_type": "code",
   "execution_count": 3,
   "id": "independent-laundry",
   "metadata": {},
   "outputs": [
    {
     "data": {
      "text/html": [
       "<div>\n",
       "<style scoped>\n",
       "    .dataframe tbody tr th:only-of-type {\n",
       "        vertical-align: middle;\n",
       "    }\n",
       "\n",
       "    .dataframe tbody tr th {\n",
       "        vertical-align: top;\n",
       "    }\n",
       "\n",
       "    .dataframe thead th {\n",
       "        text-align: right;\n",
       "    }\n",
       "</style>\n",
       "<table border=\"1\" class=\"dataframe\">\n",
       "  <thead>\n",
       "    <tr style=\"text-align: right;\">\n",
       "      <th></th>\n",
       "      <th>sepal_length</th>\n",
       "      <th>sepal_width</th>\n",
       "      <th>petal_length</th>\n",
       "      <th>petal_width</th>\n",
       "      <th>species</th>\n",
       "    </tr>\n",
       "  </thead>\n",
       "  <tbody>\n",
       "    <tr>\n",
       "      <th>0</th>\n",
       "      <td>5.1</td>\n",
       "      <td>3.5</td>\n",
       "      <td>1.4</td>\n",
       "      <td>0.2</td>\n",
       "      <td>setosa</td>\n",
       "    </tr>\n",
       "    <tr>\n",
       "      <th>1</th>\n",
       "      <td>4.9</td>\n",
       "      <td>3.0</td>\n",
       "      <td>1.4</td>\n",
       "      <td>0.2</td>\n",
       "      <td>setosa</td>\n",
       "    </tr>\n",
       "    <tr>\n",
       "      <th>2</th>\n",
       "      <td>4.7</td>\n",
       "      <td>3.2</td>\n",
       "      <td>1.3</td>\n",
       "      <td>0.2</td>\n",
       "      <td>setosa</td>\n",
       "    </tr>\n",
       "    <tr>\n",
       "      <th>3</th>\n",
       "      <td>4.6</td>\n",
       "      <td>3.1</td>\n",
       "      <td>1.5</td>\n",
       "      <td>0.2</td>\n",
       "      <td>setosa</td>\n",
       "    </tr>\n",
       "    <tr>\n",
       "      <th>4</th>\n",
       "      <td>5.0</td>\n",
       "      <td>3.6</td>\n",
       "      <td>1.4</td>\n",
       "      <td>0.2</td>\n",
       "      <td>setosa</td>\n",
       "    </tr>\n",
       "  </tbody>\n",
       "</table>\n",
       "</div>"
      ],
      "text/plain": [
       "   sepal_length  sepal_width  petal_length  petal_width species\n",
       "0           5.1          3.5           1.4          0.2  setosa\n",
       "1           4.9          3.0           1.4          0.2  setosa\n",
       "2           4.7          3.2           1.3          0.2  setosa\n",
       "3           4.6          3.1           1.5          0.2  setosa\n",
       "4           5.0          3.6           1.4          0.2  setosa"
      ]
     },
     "execution_count": 3,
     "metadata": {},
     "output_type": "execute_result"
    }
   ],
   "source": [
    "# Set up some sample data for the tests\n",
    "sample_data_df = pd.read_parquet('../../data/proc/_temp/1996_all.parquet')\n",
    "\n",
    "# Load data\n",
    "iris_df = sns.load_dataset('iris')\n",
    "iris_df.head()"
   ]
  },
  {
   "cell_type": "markdown",
   "id": "experienced-encounter",
   "metadata": {},
   "source": [
    "# Tests - Post Selection"
   ]
  },
  {
   "cell_type": "markdown",
   "id": "valued-procedure",
   "metadata": {
    "tags": []
   },
   "source": [
    "## Set up high-dimensional data"
   ]
  },
  {
   "cell_type": "markdown",
   "id": "professional-leadership",
   "metadata": {},
   "source": [
    "The original columns are X = (petal width, sepal length, and sepal width)\n",
    "The new columns are \n",
    "$$ X * H + \\varepsilon$$\n",
    "where $H$ is a rotation matrix (invertible with probabiltiy one actualy) obtained from a $3 \\times 3$ matrix consisting of $U(0,1)$ entires and $\\varepsilon$ consists of entries from $U(-5, 5)$. \n",
    "\n",
    "Also define new dependent variable Y as a rotation of the true X variables. "
   ]
  },
  {
   "cell_type": "code",
   "execution_count": 4,
   "id": "interstate-anniversary",
   "metadata": {},
   "outputs": [],
   "source": [
    "# Copy the iris data set and add a bunch of noisy columns based on\n",
    "# rotations of the original columns plus noise\n",
    "np.random.seed(1)\n",
    "iris_hf_df = iris_df.copy()\n",
    "K = 150\n",
    "X_new_cols = []\n",
    "for k in range(K):\n",
    "    new_col_names = [f\"petal_width_{k}\", f\"sepal_length_{k}\", f\"sepal_width_{k}\"]\n",
    "    iris_hf_df[new_col_names] = (\n",
    "        iris_hf_df[[\"petal_width\", \"sepal_length\", \"sepal_width\"]] @ np.random.rand(3, 3)\n",
    "        + (np.random.rand(len(iris_hf_df), 3) - 0.5) * 30\n",
    "    )\n",
    "    X_new_cols.append(new_col_names)\n",
    "    \n",
    "iris_hf_df['petal_length'] = iris_hf_df[[\"petal_width\", \"sepal_length\", \"sepal_width\"]] @ np.random.rand(3, 1)\n",
    "\n",
    "X_new_cols = sum(X_new_cols, [])"
   ]
  },
  {
   "cell_type": "code",
   "execution_count": 5,
   "id": "integral-magazine",
   "metadata": {},
   "outputs": [],
   "source": [
    "# Set up INS/OOS sample data\n",
    "np.random.seed(1)\n",
    "ins_frac = 0.1\n",
    "iris_ins_df = iris_hf_df.sample(70).reset_index(drop = True)\n",
    "iris_oos_df = iris_hf_df.sample(70).reset_index(drop = True)\n",
    "\n",
    "Y_ins = iris_ins_df[['petal_length']]\n",
    "X_ins = iris_ins_df[X_new_cols]\n",
    "Y_oos = iris_oos_df[['petal_length']]\n",
    "X_oos = iris_oos_df[X_new_cols]"
   ]
  },
  {
   "cell_type": "markdown",
   "id": "equal-taxation",
   "metadata": {},
   "source": [
    "## Estimate\n",
    "Here, I use [standard lasso] and compare with [pca -> lasso]"
   ]
  },
  {
   "cell_type": "code",
   "execution_count": 8,
   "id": "retained-affiliation",
   "metadata": {},
   "outputs": [
    {
     "name": "stderr",
     "output_type": "stream",
     "text": [
      "[2021-11-30 17:03:34] — [model_pipeline  - validation  ] — [INFO     — Line  118]: Validating Lasso\n",
      "[2021-11-30 17:03:34] — [linear_models   - fit         ] — [WARNING  — Line  101]: LASSO Convergence Warning\n",
      "[2021-11-30 17:03:34] — [linear_models   - fit         ] — [WARNING  — Line  101]: LASSO Convergence Warning\n",
      "[2021-11-30 17:03:34] — [linear_models   - fit         ] — [WARNING  — Line  101]: LASSO Convergence Warning\n",
      "[2021-11-30 17:03:34] — [linear_models   - fit         ] — [WARNING  — Line  101]: LASSO Convergence Warning\n",
      "[2021-11-30 17:03:34] — [linear_models   - fit         ] — [WARNING  — Line  101]: LASSO Convergence Warning\n",
      "[2021-11-30 17:03:34] — [model_pipeline  - validation  ] — [INFO     — Line  118]: Validating PostSelectionModel(PCA_selection -> Lasso)\n",
      "[2021-11-30 17:03:35] — [model_pipeline  - validation  ] — [INFO     — Line  118]: Validating PostSelectionModel(Lasso_selection -> LR)\n",
      "[2021-11-30 17:03:35] — [lasso_selection - fit         ] — [WARNING  — Line   58]: LASSO Convergence Warning\n",
      "[2021-11-30 17:03:35] — [linear_models   - fit         ] — [WARNING  — Line   36]: Linear Regression does not have full rank: K>>N!\n",
      "[2021-11-30 17:03:35] — [lasso_selection - fit         ] — [WARNING  — Line   58]: LASSO Convergence Warning\n",
      "[2021-11-30 17:03:35] — [linear_models   - fit         ] — [WARNING  — Line   36]: Linear Regression does not have full rank: K>>N!\n",
      "[2021-11-30 17:03:35] — [lasso_selection - fit         ] — [WARNING  — Line   58]: LASSO Convergence Warning\n",
      "[2021-11-30 17:03:35] — [linear_models   - fit         ] — [WARNING  — Line   36]: Linear Regression does not have full rank: K>>N!\n",
      "[2021-11-30 17:03:35] — [lasso_selection - fit         ] — [WARNING  — Line   58]: LASSO Convergence Warning\n",
      "[2021-11-30 17:03:35] — [linear_models   - fit         ] — [WARNING  — Line   36]: Linear Regression does not have full rank: K>>N!\n",
      "[2021-11-30 17:03:35] — [lasso_selection - fit         ] — [WARNING  — Line   58]: LASSO Convergence Warning\n",
      "[2021-11-30 17:03:35] — [linear_models   - fit         ] — [WARNING  — Line   36]: Linear Regression does not have full rank: K>>N!\n",
      "[2021-11-30 17:03:35] — [lasso_selection - fit         ] — [WARNING  — Line   58]: LASSO Convergence Warning\n",
      "[2021-11-30 17:03:35] — [linear_models   - fit         ] — [WARNING  — Line   36]: Linear Regression does not have full rank: K>>N!\n",
      "[2021-11-30 17:03:35] — [lasso_selection - fit         ] — [WARNING  — Line   58]: LASSO Convergence Warning\n",
      "[2021-11-30 17:03:35] — [linear_models   - fit         ] — [WARNING  — Line   36]: Linear Regression does not have full rank: K>>N!\n",
      "[2021-11-30 17:03:35] — [lasso_selection - fit         ] — [WARNING  — Line   58]: LASSO Convergence Warning\n",
      "[2021-11-30 17:03:35] — [linear_models   - fit         ] — [WARNING  — Line   36]: Linear Regression does not have full rank: K>>N!\n",
      "[2021-11-30 17:03:35] — [lasso_selection - fit         ] — [WARNING  — Line   58]: LASSO Convergence Warning\n",
      "[2021-11-30 17:03:35] — [linear_models   - fit         ] — [WARNING  — Line   36]: Linear Regression does not have full rank: K>>N!\n",
      "[2021-11-30 17:03:35] — [linear_models   - fit         ] — [WARNING  — Line   36]: Linear Regression does not have full rank: K>>N!\n",
      "[2021-11-30 17:03:35] — [lasso_selection - fit         ] — [WARNING  — Line   58]: LASSO Convergence Warning\n",
      "[2021-11-30 17:03:35] — [linear_models   - fit         ] — [WARNING  — Line   36]: Linear Regression does not have full rank: K>>N!\n",
      "[2021-11-30 17:03:35] — [linear_models   - fit         ] — [WARNING  — Line   36]: Linear Regression does not have full rank: K>>N!\n",
      "[2021-11-30 17:03:35] — [linear_models   - fit         ] — [WARNING  — Line   36]: Linear Regression does not have full rank: K>>N!\n",
      "[2021-11-30 17:03:35] — [lasso_selection - fit         ] — [WARNING  — Line   58]: LASSO Convergence Warning\n",
      "[2021-11-30 17:03:35] — [linear_models   - fit         ] — [WARNING  — Line   36]: Linear Regression does not have full rank: K>>N!\n",
      "[2021-11-30 17:03:35] — [lasso_selection - fit         ] — [WARNING  — Line   58]: LASSO Convergence Warning\n",
      "[2021-11-30 17:03:35] — [linear_models   - fit         ] — [WARNING  — Line   36]: Linear Regression does not have full rank: K>>N!\n",
      "[2021-11-30 17:03:36] — [lasso_selection - fit         ] — [WARNING  — Line   58]: LASSO Convergence Warning\n",
      "[2021-11-30 17:03:36] — [linear_models   - fit         ] — [WARNING  — Line   36]: Linear Regression does not have full rank: K>>N!\n",
      "[2021-11-30 17:03:36] — [lasso_selection - fit         ] — [WARNING  — Line   58]: LASSO Convergence Warning\n",
      "[2021-11-30 17:03:36] — [linear_models   - fit         ] — [WARNING  — Line   36]: Linear Regression does not have full rank: K>>N!\n",
      "[2021-11-30 17:03:36] — [lasso_selection - fit         ] — [WARNING  — Line   58]: LASSO Convergence Warning\n",
      "[2021-11-30 17:03:36] — [linear_models   - fit         ] — [WARNING  — Line   36]: Linear Regression does not have full rank: K>>N!\n",
      "[2021-11-30 17:03:36] — [linear_models   - fit         ] — [WARNING  — Line   36]: Linear Regression does not have full rank: K>>N!\n",
      "[2021-11-30 17:03:36] — [lasso_selection - fit         ] — [WARNING  — Line   58]: LASSO Convergence Warning\n",
      "[2021-11-30 17:03:36] — [linear_models   - fit         ] — [WARNING  — Line   36]: Linear Regression does not have full rank: K>>N!\n",
      "[2021-11-30 17:03:36] — [lasso_selection - fit         ] — [WARNING  — Line   58]: LASSO Convergence Warning\n",
      "[2021-11-30 17:03:36] — [linear_models   - fit         ] — [WARNING  — Line   36]: Linear Regression does not have full rank: K>>N!\n",
      "[2021-11-30 17:03:36] — [linear_models   - fit         ] — [WARNING  — Line   36]: Linear Regression does not have full rank: K>>N!\n",
      "[2021-11-30 17:03:36] — [lasso_selection - fit         ] — [WARNING  — Line   58]: LASSO Convergence Warning\n",
      "[2021-11-30 17:03:36] — [linear_models   - fit         ] — [WARNING  — Line   36]: Linear Regression does not have full rank: K>>N!\n",
      "[2021-11-30 17:03:36] — [lasso_selection - fit         ] — [WARNING  — Line   58]: LASSO Convergence Warning\n",
      "[2021-11-30 17:03:36] — [linear_models   - fit         ] — [WARNING  — Line   36]: Linear Regression does not have full rank: K>>N!\n",
      "[2021-11-30 17:03:36] — [lasso_selection - fit         ] — [WARNING  — Line   58]: LASSO Convergence Warning\n",
      "[2021-11-30 17:03:36] — [linear_models   - fit         ] — [WARNING  — Line   36]: Linear Regression does not have full rank: K>>N!\n",
      "[2021-11-30 17:03:36] — [linear_models   - fit         ] — [WARNING  — Line   36]: Linear Regression does not have full rank: K>>N!\n",
      "[2021-11-30 17:03:36] — [lasso_selection - fit         ] — [WARNING  — Line   58]: LASSO Convergence Warning\n",
      "[2021-11-30 17:03:36] — [linear_models   - fit         ] — [WARNING  — Line   36]: Linear Regression does not have full rank: K>>N!\n",
      "[2021-11-30 17:03:36] — [lasso_selection - fit         ] — [WARNING  — Line   58]: LASSO Convergence Warning\n",
      "[2021-11-30 17:03:36] — [linear_models   - fit         ] — [WARNING  — Line   36]: Linear Regression does not have full rank: K>>N!\n",
      "[2021-11-30 17:03:36] — [lasso_selection - fit         ] — [WARNING  — Line   58]: LASSO Convergence Warning\n",
      "[2021-11-30 17:03:36] — [linear_models   - fit         ] — [WARNING  — Line   36]: Linear Regression does not have full rank: K>>N!\n",
      "[2021-11-30 17:03:36] — [lasso_selection - fit         ] — [WARNING  — Line   58]: LASSO Convergence Warning\n",
      "[2021-11-30 17:03:36] — [linear_models   - fit         ] — [WARNING  — Line   36]: Linear Regression does not have full rank: K>>N!\n",
      "[2021-11-30 17:03:36] — [lasso_selection - fit         ] — [WARNING  — Line   58]: LASSO Convergence Warning\n",
      "[2021-11-30 17:03:36] — [linear_models   - fit         ] — [WARNING  — Line   36]: Linear Regression does not have full rank: K>>N!\n",
      "[2021-11-30 17:03:37] — [linear_models   - fit         ] — [WARNING  — Line   36]: Linear Regression does not have full rank: K>>N!\n",
      "[2021-11-30 17:03:37] — [lasso_selection - fit         ] — [WARNING  — Line   58]: LASSO Convergence Warning\n",
      "[2021-11-30 17:03:37] — [linear_models   - fit         ] — [WARNING  — Line   36]: Linear Regression does not have full rank: K>>N!\n",
      "[2021-11-30 17:03:37] — [lasso_selection - fit         ] — [WARNING  — Line   58]: LASSO Convergence Warning\n",
      "[2021-11-30 17:03:37] — [linear_models   - fit         ] — [WARNING  — Line   36]: Linear Regression does not have full rank: K>>N!\n",
      "[2021-11-30 17:03:37] — [lasso_selection - fit         ] — [WARNING  — Line   58]: LASSO Convergence Warning\n",
      "[2021-11-30 17:03:37] — [linear_models   - fit         ] — [WARNING  — Line   36]: Linear Regression does not have full rank: K>>N!\n",
      "[2021-11-30 17:03:37] — [lasso_selection - fit         ] — [WARNING  — Line   58]: LASSO Convergence Warning\n",
      "[2021-11-30 17:03:37] — [linear_models   - fit         ] — [WARNING  — Line   36]: Linear Regression does not have full rank: K>>N!\n",
      "[2021-11-30 17:03:37] — [lasso_selection - fit         ] — [WARNING  — Line   58]: LASSO Convergence Warning\n",
      "[2021-11-30 17:03:37] — [linear_models   - fit         ] — [WARNING  — Line   36]: Linear Regression does not have full rank: K>>N!\n",
      "[2021-11-30 17:03:37] — [lasso_selection - fit         ] — [WARNING  — Line   58]: LASSO Convergence Warning\n",
      "[2021-11-30 17:03:37] — [linear_models   - fit         ] — [WARNING  — Line   36]: Linear Regression does not have full rank: K>>N!\n",
      "[2021-11-30 17:03:37] — [lasso_selection - fit         ] — [WARNING  — Line   58]: LASSO Convergence Warning\n",
      "[2021-11-30 17:03:37] — [linear_models   - fit         ] — [WARNING  — Line   36]: Linear Regression does not have full rank: K>>N!\n",
      "[2021-11-30 17:03:37] — [linear_models   - fit         ] — [WARNING  — Line   36]: Linear Regression does not have full rank: K>>N!\n",
      "[2021-11-30 17:03:37] — [linear_models   - fit         ] — [WARNING  — Line   36]: Linear Regression does not have full rank: K>>N!\n",
      "[2021-11-30 17:03:37] — [lasso_selection - fit         ] — [WARNING  — Line   58]: LASSO Convergence Warning\n",
      "[2021-11-30 17:03:37] — [linear_models   - fit         ] — [WARNING  — Line   36]: Linear Regression does not have full rank: K>>N!\n",
      "[2021-11-30 17:03:37] — [linear_models   - fit         ] — [WARNING  — Line   36]: Linear Regression does not have full rank: K>>N!\n",
      "[2021-11-30 17:03:37] — [lasso_selection - fit         ] — [WARNING  — Line   58]: LASSO Convergence Warning\n",
      "[2021-11-30 17:03:37] — [linear_models   - fit         ] — [WARNING  — Line   36]: Linear Regression does not have full rank: K>>N!\n",
      "[2021-11-30 17:03:37] — [lasso_selection - fit         ] — [WARNING  — Line   58]: LASSO Convergence Warning\n",
      "[2021-11-30 17:03:37] — [linear_models   - fit         ] — [WARNING  — Line   36]: Linear Regression does not have full rank: K>>N!\n",
      "[2021-11-30 17:03:37] — [model_pipeline  - validation  ] — [INFO     — Line  118]: Validating PostSelectionModel(PCA_selection -> Enet)\n",
      "[2021-11-30 17:03:37] — [linear_models   - fit         ] — [WARNING  — Line  101]: LASSO Convergence Warning\n",
      "[2021-11-30 17:03:38] — [linear_models   - fit         ] — [WARNING  — Line   36]: Linear Regression does not have full rank: K>>N!\n"
     ]
    }
   ],
   "source": [
    "# Component algos\n",
    "model_forecast_lasso = LASSO({'lambda': 1e-5, 'use_intercept': False, 'seed': 5}, n_iter = 12)\n",
    "model_forecast_enet = ENet({'lambda': 1e-5,'l1_ratio': 0.5,'use_intercept': True, 'seed': 5}, n_iter = 14)\n",
    "model_forecast_ols = LinearRegression({})\n",
    "model_selection_pca = PCA_selection({})\n",
    "model_selection_lasso = LASSO_selection({})\n",
    " \n",
    "# Post-selection algos\n",
    "model_pca_lasso = PostSelectionModel(model_selection_pca, model_forecast_lasso, n_iter = 58)\n",
    "model_lasso_ols = PostSelectionModel(model_selection_lasso, model_forecast_ols)\n",
    "model_pca_enet  = PostSelectionModel(model_selection_pca, model_forecast_enet)\n",
    "model_list = [model_forecast_lasso, model_pca_lasso, model_lasso_ols, model_pca_enet]\n",
    "\n",
    "# Split into train/validate for optimal hyperparams\n",
    "mtrain = ModelTrainer(model_list, Y_ins, X_ins, seed = 444)\n",
    "mtrain.validation(frac=0.5, n_iter_default = 100)\n",
    "\n",
    "# Testing\n",
    "mtest = ModelTester(mtrain)\n",
    "model_forecasts, model_params = mtest.forecast(Y_oos, X_oos)"
   ]
  },
  {
   "cell_type": "markdown",
   "id": "forty-result",
   "metadata": {},
   "source": [
    "## View results"
   ]
  },
  {
   "cell_type": "code",
   "execution_count": null,
   "id": "dcdad28f-4b69-4481-be35-cf625c9e59c2",
   "metadata": {},
   "outputs": [],
   "source": [
    "def view_results(model_index):\n",
    "    \n",
    "    results_df = pd.concat(\n",
    "        [\n",
    "            model_forecasts[model_index].rename(columns={\"petal_length\": \"forecast\"}),\n",
    "            Y_oos.rename(columns={\"petal_length\": \"true\"})\n",
    "        ],\n",
    "        axis=1,\n",
    "    )\n",
    "\n",
    "    display(smf.ols('true ~ forecast - 1', data = results_df).fit().summary())\n",
    "\n",
    "    fig, ax = plt.subplots(figsize = (5,5))\n",
    "    sns.regplot(x = 'forecast', y = 'true', data = results_df, ax  = ax)"
   ]
  },
  {
   "cell_type": "markdown",
   "id": "deadly-pickup",
   "metadata": {
    "tags": []
   },
   "source": [
    "### Pure Lasso"
   ]
  },
  {
   "cell_type": "code",
   "execution_count": null,
   "id": "defensive-foundation",
   "metadata": {
    "tags": []
   },
   "outputs": [],
   "source": [
    "view_results(0)"
   ]
  },
  {
   "cell_type": "markdown",
   "id": "moving-arrangement",
   "metadata": {
    "tags": []
   },
   "source": [
    "### PCA Lasso"
   ]
  },
  {
   "cell_type": "code",
   "execution_count": null,
   "id": "expressed-notification",
   "metadata": {
    "tags": []
   },
   "outputs": [],
   "source": [
    "view_results(1)"
   ]
  },
  {
   "cell_type": "markdown",
   "id": "polish-pharmacology",
   "metadata": {
    "tags": []
   },
   "source": [
    "### Lasso OLS"
   ]
  },
  {
   "cell_type": "code",
   "execution_count": null,
   "id": "possible-shell",
   "metadata": {
    "tags": []
   },
   "outputs": [],
   "source": [
    "view_results(2)"
   ]
  },
  {
   "cell_type": "markdown",
   "id": "f1d3e0de-0022-4c55-b1c9-aa838813a75e",
   "metadata": {
    "tags": []
   },
   "source": [
    "### PCA Enet"
   ]
  },
  {
   "cell_type": "code",
   "execution_count": null,
   "id": "94d23169-f5c0-47f9-b7e3-239a27369fb8",
   "metadata": {
    "tags": []
   },
   "outputs": [],
   "source": [
    "view_results(3)"
   ]
  },
  {
   "cell_type": "markdown",
   "id": "responsible-planet",
   "metadata": {},
   "source": [
    "### Do the estimates make sense?"
   ]
  },
  {
   "cell_type": "code",
   "execution_count": null,
   "id": "eastern-article",
   "metadata": {},
   "outputs": [],
   "source": [
    "# Params for just Lasso\n",
    "fig, ax = plt.subplots(figsize = (10,5))\n",
    "plt.plot(model_params[0], marker = 'o')\n",
    "ax.set_xlabel('Regressor #')\n",
    "ax.set_ylabel('Lasso-estimated coefficient')\n",
    "ax.set_title(f'Lasso estimates {np.sum(model_params[0] != 0)} non-zero coefficients');"
   ]
  },
  {
   "cell_type": "code",
   "execution_count": null,
   "id": "combined-packet",
   "metadata": {},
   "outputs": [],
   "source": [
    "# Params for PCA then Lasso\n",
    "display(model_params[1])\n",
    "print()\n",
    "print(f'PCA picks {np.sum(model_params[1][\"selection\"] != 0)} components');\n",
    "print(f'... then Lasso estimates {np.sum(model_params[1][\"forecast\"] != 0)} non-zero coefficients');"
   ]
  },
  {
   "cell_type": "code",
   "execution_count": null,
   "id": "satellite-kazakhstan",
   "metadata": {},
   "outputs": [],
   "source": [
    "# Params for Lasso then OLS\n",
    "# display(model_params[2])\n",
    "print()\n",
    "print(f'Lasso picks {np.sum(model_params[2][\"selection\"] != 0)} components');\n",
    "print(f'... then OLS estimates {np.sum(model_params[2][\"forecast\"] != 0)} non-zero coefficients');"
   ]
  },
  {
   "cell_type": "code",
   "execution_count": null,
   "id": "d6806174-590d-4a47-a847-03ef91882c04",
   "metadata": {},
   "outputs": [],
   "source": [
    "# Params for PCA then Enet\n",
    "display(model_params[3])\n",
    "print()\n",
    "print(f'PCA picks {np.sum(model_params[3][\"selection\"] != 0)} components');\n",
    "print(f'... then Enet estimates {np.sum(model_params[3][\"forecast\"] != 0)} non-zero coefficients');"
   ]
  }
 ],
 "metadata": {
  "kernelspec": {
   "display_name": "Python 3",
   "language": "python",
   "name": "python3"
  },
  "language_info": {
   "codemirror_mode": {
    "name": "ipython",
    "version": 3
   },
   "file_extension": ".py",
   "mimetype": "text/x-python",
   "name": "python",
   "nbconvert_exporter": "python",
   "pygments_lexer": "ipython3",
   "version": "3.8.10"
  }
 },
 "nbformat": 4,
 "nbformat_minor": 5
}
