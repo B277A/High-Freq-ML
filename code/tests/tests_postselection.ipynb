{
 "cells": [
  {
   "cell_type": "code",
   "execution_count": 29,
   "id": "f36378f2",
   "metadata": {},
   "outputs": [
    {
     "name": "stdout",
     "output_type": "stream",
     "text": [
      "The autoreload extension is already loaded. To reload it, use:\n",
      "  %reload_ext autoreload\n"
     ]
    }
   ],
   "source": [
    "%load_ext autoreload\n",
    "%autoreload 2\n",
    "%config InlineBackend.close_figures=False \n",
    "\n",
    "import os, sys\n",
    "sys.path.append(os.path.abspath(os.path.join('../')))\n",
    "\n",
    "import pandas as pd\n",
    "import numpy as np\n",
    "import matplotlib.pyplot as plt\n",
    "import matplotlib.ticker as mtick\n",
    "from sklearn import linear_model\n",
    "import warnings\n",
    "import statsmodels.api as sm\n",
    "import statsmodels.formula.api as smf\n",
    "import seaborn as sns \n",
    "from mlmodels.model import *\n",
    "from mlmodels.linear_models import *\n",
    "from mlmodels.treebased_models import *\n",
    "from mlmodels.pca_selection import *\n",
    "from mlmodels.lasso_selection import *\n",
    "from helper_libraries.model_pipeline import *\n",
    "from helper_libraries.forecasting_tools import *\n",
    "from helper_libraries.preprocessing_tools import *\n",
    "from tqdm.auto import tqdm\n",
    "import datetime as dt\n",
    "import sklearn.preprocessing\n",
    "import sklearn.utils\n",
    "import logging\n",
    "import logging.config\n",
    "import warnings\n",
    "\n",
    "sns.set_context(\"paper\", font_scale=1.7)\n",
    "sns.set_style(\"ticks\", {\"axes.grid\": True, \"grid.color\": \"0.95\", \"grid.linestyle\": \"-\"})"
   ]
  },
  {
   "cell_type": "markdown",
   "id": "0791c7bb",
   "metadata": {},
   "source": [
    "# Outline"
   ]
  },
  {
   "cell_type": "markdown",
   "id": "f5c0228f",
   "metadata": {},
   "source": [
    "* Load some sample data for testing\n",
    "* Run tests on various classes and functions"
   ]
  },
  {
   "cell_type": "markdown",
   "id": "40c337bc",
   "metadata": {
    "tags": []
   },
   "source": [
    "# Prepare Logger"
   ]
  },
  {
   "cell_type": "code",
   "execution_count": 36,
   "id": "1b14c651-1fde-4424-b9f6-4d28119fb873",
   "metadata": {},
   "outputs": [
    {
     "name": "stderr",
     "output_type": "stream",
     "text": [
      "100%|██████████████████████████████████████████████████████████████████████████| 9/9 [00:00<00:00, 146882.24it/s]\n"
     ]
    }
   ],
   "source": [
    "import logging\n",
    "from tqdm import trange\n",
    "from tqdm.contrib.logging import logging_redirect_tqdm\n",
    "\n",
    "LOG = logging.getLogger(__name__)\n",
    "\n",
    "if __name__ == '__main__':\n",
    "    logging.basicConfig(level=logging.INFO)\n",
    "    with logging_redirect_tqdm():\n",
    "        for i in trange(9):\n",
    "            if i == 4:\n",
    "                LOG.info(\"console logging redirected to `tqdm.write()`\")\n",
    "    # logging restored\n"
   ]
  },
  {
   "cell_type": "code",
   "execution_count": 33,
   "id": "39b36e5c",
   "metadata": {},
   "outputs": [],
   "source": [
    "# Start logging\n",
    "log_filename = f\"../logs/{dt.datetime.now().strftime('%Y%m%d_%H%M%S')}_test_postselection.log\"\n",
    "logging.config.fileConfig(\"../_config/logging.conf\", defaults={'log_filename': log_filename})"
   ]
  },
  {
   "cell_type": "code",
   "execution_count": 34,
   "id": "f42d9518",
   "metadata": {},
   "outputs": [
    {
     "name": "stdout",
     "output_type": "stream",
     "text": [
      "[2021-12-02 20:10:18,376] — [2084761215      - <module>    ] — [WARNING  — Line    1]: 2ahh\n"
     ]
    }
   ],
   "source": [
    "logging.warning('2ahh')"
   ]
  },
  {
   "cell_type": "code",
   "execution_count": 35,
   "id": "5ea8a075",
   "metadata": {},
   "outputs": [
    {
     "name": "stdout",
     "output_type": "stream",
     "text": [
      "[2021-12-02 20:10:18,785] — [616219492       - <module>    ] — [INFO     — Line    1]: ahh\n"
     ]
    }
   ],
   "source": [
    "logging.info('ahh')"
   ]
  },
  {
   "cell_type": "code",
   "execution_count": 22,
   "id": "32730ae9",
   "metadata": {},
   "outputs": [],
   "source": [
    "logging.debug('ahh')"
   ]
  },
  {
   "cell_type": "code",
   "execution_count": null,
   "id": "04880e1e-3f93-4fee-a4d8-c10b4f1be446",
   "metadata": {},
   "outputs": [],
   "source": [
    "logger."
   ]
  },
  {
   "cell_type": "code",
   "execution_count": 28,
   "id": "45ca17d8-e931-44a2-9f6f-2b098d1c32ae",
   "metadata": {},
   "outputs": [
    {
     "data": {
      "text/plain": [
       "'__main__'"
      ]
     },
     "execution_count": 28,
     "metadata": {},
     "output_type": "execute_result"
    }
   ],
   "source": [
    "logger = logging.getLogger('__main__')\n",
    "logger.name"
   ]
  },
  {
   "cell_type": "code",
   "execution_count": 6,
   "id": "de69799c",
   "metadata": {},
   "outputs": [],
   "source": [
    "# # Formatting for log messages\n",
    "# log_format = \"[{asctime}] — [{module:15.15} - {funcName:12.12}] — [{levelname:<8s} — Line {lineno:4d}]: {message}\"\n",
    "# formatter = logging.Formatter(fmt=log_format, datefmt=\"%Y-%m-%d %H:%M:%S\", style=\"{\")\n",
    "\n",
    "\n",
    "# # Add a StreamHandler and FileHandler that outputs nicely formatted messages\n",
    "# stream_handler = logging.StreamHandler()\n",
    "# stream_handler.setFormatter(formatter)\n",
    "# file_handler = logging.FileHandler(\"tests_postselection.log\", mode=\"w\")\n",
    "# file_handler.setFormatter(formatter)\n",
    "\n",
    "# # Logging level debug will output practically everything\n",
    "# logging.basicConfig(\n",
    "#     level=logging.DEBUG,\n",
    "#     format=log_format,\n",
    "#     datefmt=\"%Y-%m-%d %H:%M:%S\",\n",
    "#     style=\"{\",\n",
    "#     handlers=[stream_handler, file_handler],\n",
    "# )\n",
    "\n",
    "# # Will capture warnings and format them into the log\n",
    "# logging.captureWarnings(True)\n",
    "\n",
    "# # Name of logger is name of the script\n",
    "# logger = logging.getLogger(__name__)\n",
    "\n",
    "# # # This line is actually unnecssary if you only run this cell once\n",
    "# # # Otherwise, want to prevent duplicate handlers so clear existing ones\n",
    "# # logger.handlers.clear()\n",
    "# # logger.addHandler(stream_handler)\n",
    "# # logger.addHandler(file_handler)\n",
    "\n",
    "# # # Add a StreamHandler that deals with warnings\n",
    "# # logging.getLogger(\"py.warnings\").handlers.clear()\n",
    "# # stream_handler = logging.StreamHandler()\n",
    "# # stream_handler.setFormatter(formatter)\n",
    "# # file_handler = logging.FileHandler(\"tests_postselection.log\", mode = 'w')\n",
    "# # file_handler.setFormatter(formatter)\n",
    "\n",
    "# # logging.getLogger(\"py.warnings\").addHandler(stream_handler)\n",
    "# # logging.getLogger(\"py.warnings\").addHandler(file_handler)\n",
    "\n",
    "# # # Prevent logger from sending messages to the root ( will give duplicate messages )\n",
    "# # logger.propagate = False"
   ]
  },
  {
   "cell_type": "markdown",
   "id": "0f63cfd4",
   "metadata": {
    "tags": []
   },
   "source": [
    "# Load Data"
   ]
  },
  {
   "cell_type": "code",
   "execution_count": 7,
   "id": "0de0067e",
   "metadata": {},
   "outputs": [
    {
     "name": "stdout",
     "output_type": "stream",
     "text": [
      "/mnt/c/Users/Saketh/Documents/Dropbox/HFML/code/tests\n"
     ]
    },
    {
     "data": {
      "text/html": [
       "<div>\n",
       "<style scoped>\n",
       "    .dataframe tbody tr th:only-of-type {\n",
       "        vertical-align: middle;\n",
       "    }\n",
       "\n",
       "    .dataframe tbody tr th {\n",
       "        vertical-align: top;\n",
       "    }\n",
       "\n",
       "    .dataframe thead th {\n",
       "        text-align: right;\n",
       "    }\n",
       "</style>\n",
       "<table border=\"1\" class=\"dataframe\">\n",
       "  <thead>\n",
       "    <tr style=\"text-align: right;\">\n",
       "      <th></th>\n",
       "      <th>sepal_length</th>\n",
       "      <th>sepal_width</th>\n",
       "      <th>petal_length</th>\n",
       "      <th>petal_width</th>\n",
       "      <th>species</th>\n",
       "    </tr>\n",
       "  </thead>\n",
       "  <tbody>\n",
       "    <tr>\n",
       "      <th>0</th>\n",
       "      <td>5.1</td>\n",
       "      <td>3.5</td>\n",
       "      <td>1.4</td>\n",
       "      <td>0.2</td>\n",
       "      <td>setosa</td>\n",
       "    </tr>\n",
       "    <tr>\n",
       "      <th>1</th>\n",
       "      <td>4.9</td>\n",
       "      <td>3.0</td>\n",
       "      <td>1.4</td>\n",
       "      <td>0.2</td>\n",
       "      <td>setosa</td>\n",
       "    </tr>\n",
       "    <tr>\n",
       "      <th>2</th>\n",
       "      <td>4.7</td>\n",
       "      <td>3.2</td>\n",
       "      <td>1.3</td>\n",
       "      <td>0.2</td>\n",
       "      <td>setosa</td>\n",
       "    </tr>\n",
       "    <tr>\n",
       "      <th>3</th>\n",
       "      <td>4.6</td>\n",
       "      <td>3.1</td>\n",
       "      <td>1.5</td>\n",
       "      <td>0.2</td>\n",
       "      <td>setosa</td>\n",
       "    </tr>\n",
       "    <tr>\n",
       "      <th>4</th>\n",
       "      <td>5.0</td>\n",
       "      <td>3.6</td>\n",
       "      <td>1.4</td>\n",
       "      <td>0.2</td>\n",
       "      <td>setosa</td>\n",
       "    </tr>\n",
       "  </tbody>\n",
       "</table>\n",
       "</div>"
      ],
      "text/plain": [
       "   sepal_length  sepal_width  petal_length  petal_width species\n",
       "0           5.1          3.5           1.4          0.2  setosa\n",
       "1           4.9          3.0           1.4          0.2  setosa\n",
       "2           4.7          3.2           1.3          0.2  setosa\n",
       "3           4.6          3.1           1.5          0.2  setosa\n",
       "4           5.0          3.6           1.4          0.2  setosa"
      ]
     },
     "execution_count": 7,
     "metadata": {},
     "output_type": "execute_result"
    }
   ],
   "source": [
    "# Set up some sample data for the tests\n",
    "sample_data_df = pd.read_parquet('../../data/proc/_temp/1996_all.parquet')\n",
    "print(os.getcwd())\n",
    "# Load data\n",
    "iris_df = sns.load_dataset('iris')\n",
    "iris_df.head()"
   ]
  },
  {
   "cell_type": "markdown",
   "id": "441ebe4e",
   "metadata": {},
   "source": [
    "# Tests - Post Selection"
   ]
  },
  {
   "cell_type": "markdown",
   "id": "7057124b",
   "metadata": {
    "tags": []
   },
   "source": [
    "## Set up high-dimensional data"
   ]
  },
  {
   "cell_type": "markdown",
   "id": "75d36b20",
   "metadata": {},
   "source": [
    "The original columns are X = (petal width, sepal length, and sepal width)\n",
    "The new columns are \n",
    "$$ X * H + \\varepsilon$$\n",
    "where $H$ is a rotation matrix (invertible with probabiltiy one actualy) obtained from a $3 \\times 3$ matrix consisting of $U(0,1)$ entires and $\\varepsilon$ consists of entries from $U(-5, 5)$. \n",
    "\n",
    "Also define new dependent variable Y as a rotation of the true X variables. "
   ]
  },
  {
   "cell_type": "code",
   "execution_count": 8,
   "id": "0ad1196b",
   "metadata": {},
   "outputs": [],
   "source": [
    "# Copy the iris data set and add a bunch of noisy columns based on\n",
    "# rotations of the original columns plus noise\n",
    "np.random.seed(1)\n",
    "iris_hf_df = iris_df.copy()\n",
    "K = 150\n",
    "X_new_cols = []\n",
    "for k in range(K):\n",
    "    new_col_names = [f\"petal_width_{k}\", f\"sepal_length_{k}\", f\"sepal_width_{k}\"]\n",
    "    iris_hf_df[new_col_names] = (\n",
    "        iris_hf_df[[\"petal_width\", \"sepal_length\", \"sepal_width\"]] @ np.random.rand(3, 3)\n",
    "        + (np.random.rand(len(iris_hf_df), 3) - 0.5) * 30\n",
    "    )\n",
    "    X_new_cols.append(new_col_names)\n",
    "    \n",
    "iris_hf_df['petal_length'] = iris_hf_df[[\"petal_width\", \"sepal_length\", \"sepal_width\"]] @ np.random.rand(3, 1)\n",
    "\n",
    "X_new_cols = sum(X_new_cols, [])"
   ]
  },
  {
   "cell_type": "code",
   "execution_count": 9,
   "id": "70171b1d",
   "metadata": {},
   "outputs": [],
   "source": [
    "# Set up INS/OOS sample data\n",
    "np.random.seed(1)\n",
    "ins_frac = 0.1\n",
    "iris_ins_df = iris_hf_df.sample(70).reset_index(drop = True)\n",
    "iris_oos_df = iris_hf_df.sample(70).reset_index(drop = True)\n",
    "\n",
    "Y_ins = iris_ins_df[['petal_length']]\n",
    "X_ins = iris_ins_df[X_new_cols]\n",
    "Y_oos = iris_oos_df[['petal_length']]\n",
    "X_oos = iris_oos_df[X_new_cols]"
   ]
  },
  {
   "cell_type": "code",
   "execution_count": 17,
   "id": "c54c9431-eaa0-44e9-883d-2f3439088e2c",
   "metadata": {},
   "outputs": [
    {
     "data": {
      "text/plain": [
       "DatetimeIndex(['2021-12-02', '2021-12-03', '2021-12-04', '2021-12-05',\n",
       "               '2021-12-06', '2021-12-07', '2021-12-08', '2021-12-09',\n",
       "               '2021-12-10', '2021-12-11',\n",
       "               ...\n",
       "               '2022-04-21', '2022-04-22', '2022-04-23', '2022-04-24',\n",
       "               '2022-04-25', '2022-04-26', '2022-04-27', '2022-04-28',\n",
       "               '2022-04-29', '2022-04-30'],\n",
       "              dtype='datetime64[ns]', length=150, freq='D')"
      ]
     },
     "execution_count": 17,
     "metadata": {},
     "output_type": "execute_result"
    }
   ],
   "source": []
  },
  {
   "cell_type": "code",
   "execution_count": 12,
   "id": "b0fa7b17",
   "metadata": {},
   "outputs": [
    {
     "name": "stdout",
     "output_type": "stream",
     "text": [
      "[2021-12-02 14:50:40,333] — [model_pipeline  - validation  ] — [INFO     — Line  118]: Validating Lasso\n",
      "[2021-12-02 14:50:40,369] — [linear_models   - fit         ] — [WARNING  — Line  101]: LASSO Convergence Warning\n",
      "[2021-12-02 14:50:40,429] — [linear_models   - fit         ] — [WARNING  — Line  101]: LASSO Convergence Warning\n",
      "[2021-12-02 14:50:40,480] — [linear_models   - fit         ] — [WARNING  — Line  101]: LASSO Convergence Warning\n",
      "[2021-12-02 14:50:40,543] — [linear_models   - fit         ] — [WARNING  — Line  101]: LASSO Convergence Warning\n",
      "[2021-12-02 14:50:40,619] — [linear_models   - fit         ] — [WARNING  — Line  101]: LASSO Convergence Warning\n",
      "[2021-12-02 14:50:40,648] — [model_pipeline  - validation  ] — [INFO     — Line  118]: Validating PostSelectionModel(PCA_selection -> Lasso)\n",
      "[2021-12-02 14:50:41,372] — [model_pipeline  - validation  ] — [INFO     — Line  118]: Validating PostSelectionModel(Lasso_selection -> LR)\n",
      "[2021-12-02 14:50:41,398] — [lasso_selection - fit         ] — [WARNING  — Line   58]: LASSO Convergence Warning\n",
      "[2021-12-02 14:50:41,425] — [linear_models   - fit         ] — [WARNING  — Line   36]: Linear Regression does not have full rank: K>>N!\n",
      "[2021-12-02 14:50:41,501] — [lasso_selection - fit         ] — [WARNING  — Line   58]: LASSO Convergence Warning\n",
      "[2021-12-02 14:50:41,530] — [linear_models   - fit         ] — [WARNING  — Line   36]: Linear Regression does not have full rank: K>>N!\n",
      "[2021-12-02 14:50:41,596] — [lasso_selection - fit         ] — [WARNING  — Line   58]: LASSO Convergence Warning\n",
      "[2021-12-02 14:50:41,626] — [linear_models   - fit         ] — [WARNING  — Line   36]: Linear Regression does not have full rank: K>>N!\n",
      "[2021-12-02 14:50:41,657] — [lasso_selection - fit         ] — [WARNING  — Line   58]: LASSO Convergence Warning\n",
      "[2021-12-02 14:50:41,679] — [linear_models   - fit         ] — [WARNING  — Line   36]: Linear Regression does not have full rank: K>>N!\n",
      "[2021-12-02 14:50:41,707] — [lasso_selection - fit         ] — [WARNING  — Line   58]: LASSO Convergence Warning\n",
      "[2021-12-02 14:50:41,731] — [linear_models   - fit         ] — [WARNING  — Line   36]: Linear Regression does not have full rank: K>>N!\n",
      "[2021-12-02 14:50:41,768] — [lasso_selection - fit         ] — [WARNING  — Line   58]: LASSO Convergence Warning\n",
      "[2021-12-02 14:50:41,793] — [linear_models   - fit         ] — [WARNING  — Line   36]: Linear Regression does not have full rank: K>>N!\n",
      "[2021-12-02 14:50:41,821] — [lasso_selection - fit         ] — [WARNING  — Line   58]: LASSO Convergence Warning\n",
      "[2021-12-02 14:50:41,845] — [linear_models   - fit         ] — [WARNING  — Line   36]: Linear Regression does not have full rank: K>>N!\n",
      "[2021-12-02 14:50:41,877] — [lasso_selection - fit         ] — [WARNING  — Line   58]: LASSO Convergence Warning\n",
      "[2021-12-02 14:50:41,905] — [linear_models   - fit         ] — [WARNING  — Line   36]: Linear Regression does not have full rank: K>>N!\n",
      "[2021-12-02 14:50:41,952] — [lasso_selection - fit         ] — [WARNING  — Line   58]: LASSO Convergence Warning\n",
      "[2021-12-02 14:50:41,976] — [linear_models   - fit         ] — [WARNING  — Line   36]: Linear Regression does not have full rank: K>>N!\n",
      "[2021-12-02 14:50:41,985] — [linear_models   - fit         ] — [WARNING  — Line   36]: Linear Regression does not have full rank: K>>N!\n",
      "[2021-12-02 14:50:42,028] — [lasso_selection - fit         ] — [WARNING  — Line   58]: LASSO Convergence Warning\n",
      "[2021-12-02 14:50:42,054] — [linear_models   - fit         ] — [WARNING  — Line   36]: Linear Regression does not have full rank: K>>N!\n",
      "[2021-12-02 14:50:42,070] — [linear_models   - fit         ] — [WARNING  — Line   36]: Linear Regression does not have full rank: K>>N!\n",
      "[2021-12-02 14:50:42,101] — [linear_models   - fit         ] — [WARNING  — Line   36]: Linear Regression does not have full rank: K>>N!\n",
      "[2021-12-02 14:50:42,156] — [lasso_selection - fit         ] — [WARNING  — Line   58]: LASSO Convergence Warning\n",
      "[2021-12-02 14:50:42,184] — [linear_models   - fit         ] — [WARNING  — Line   36]: Linear Regression does not have full rank: K>>N!\n",
      "[2021-12-02 14:50:42,217] — [lasso_selection - fit         ] — [WARNING  — Line   58]: LASSO Convergence Warning\n",
      "[2021-12-02 14:50:42,240] — [linear_models   - fit         ] — [WARNING  — Line   36]: Linear Regression does not have full rank: K>>N!\n",
      "[2021-12-02 14:50:42,295] — [lasso_selection - fit         ] — [WARNING  — Line   58]: LASSO Convergence Warning\n",
      "[2021-12-02 14:50:42,324] — [linear_models   - fit         ] — [WARNING  — Line   36]: Linear Regression does not have full rank: K>>N!\n",
      "[2021-12-02 14:50:42,389] — [lasso_selection - fit         ] — [WARNING  — Line   58]: LASSO Convergence Warning\n",
      "[2021-12-02 14:50:42,417] — [linear_models   - fit         ] — [WARNING  — Line   36]: Linear Regression does not have full rank: K>>N!\n",
      "[2021-12-02 14:50:42,500] — [lasso_selection - fit         ] — [WARNING  — Line   58]: LASSO Convergence Warning\n",
      "[2021-12-02 14:50:42,526] — [linear_models   - fit         ] — [WARNING  — Line   36]: Linear Regression does not have full rank: K>>N!\n",
      "[2021-12-02 14:50:42,554] — [linear_models   - fit         ] — [WARNING  — Line   36]: Linear Regression does not have full rank: K>>N!\n",
      "[2021-12-02 14:50:42,583] — [lasso_selection - fit         ] — [WARNING  — Line   58]: LASSO Convergence Warning\n",
      "[2021-12-02 14:50:42,607] — [linear_models   - fit         ] — [WARNING  — Line   36]: Linear Regression does not have full rank: K>>N!\n",
      "[2021-12-02 14:50:42,636] — [lasso_selection - fit         ] — [WARNING  — Line   58]: LASSO Convergence Warning\n",
      "[2021-12-02 14:50:42,664] — [linear_models   - fit         ] — [WARNING  — Line   36]: Linear Regression does not have full rank: K>>N!\n",
      "[2021-12-02 14:50:42,691] — [linear_models   - fit         ] — [WARNING  — Line   36]: Linear Regression does not have full rank: K>>N!\n",
      "[2021-12-02 14:50:42,720] — [lasso_selection - fit         ] — [WARNING  — Line   58]: LASSO Convergence Warning\n",
      "[2021-12-02 14:50:42,745] — [linear_models   - fit         ] — [WARNING  — Line   36]: Linear Regression does not have full rank: K>>N!\n",
      "[2021-12-02 14:50:42,796] — [lasso_selection - fit         ] — [WARNING  — Line   58]: LASSO Convergence Warning\n",
      "[2021-12-02 14:50:42,827] — [linear_models   - fit         ] — [WARNING  — Line   36]: Linear Regression does not have full rank: K>>N!\n",
      "[2021-12-02 14:50:42,865] — [lasso_selection - fit         ] — [WARNING  — Line   58]: LASSO Convergence Warning\n",
      "[2021-12-02 14:50:42,891] — [linear_models   - fit         ] — [WARNING  — Line   36]: Linear Regression does not have full rank: K>>N!\n",
      "[2021-12-02 14:50:42,946] — [linear_models   - fit         ] — [WARNING  — Line   36]: Linear Regression does not have full rank: K>>N!\n",
      "[2021-12-02 14:50:43,039] — [lasso_selection - fit         ] — [WARNING  — Line   58]: LASSO Convergence Warning\n",
      "[2021-12-02 14:50:43,068] — [linear_models   - fit         ] — [WARNING  — Line   36]: Linear Regression does not have full rank: K>>N!\n",
      "[2021-12-02 14:50:43,100] — [lasso_selection - fit         ] — [WARNING  — Line   58]: LASSO Convergence Warning\n",
      "[2021-12-02 14:50:43,126] — [linear_models   - fit         ] — [WARNING  — Line   36]: Linear Regression does not have full rank: K>>N!\n",
      "[2021-12-02 14:50:43,194] — [lasso_selection - fit         ] — [WARNING  — Line   58]: LASSO Convergence Warning\n",
      "[2021-12-02 14:50:43,227] — [linear_models   - fit         ] — [WARNING  — Line   36]: Linear Regression does not have full rank: K>>N!\n",
      "[2021-12-02 14:50:43,300] — [lasso_selection - fit         ] — [WARNING  — Line   58]: LASSO Convergence Warning\n",
      "[2021-12-02 14:50:43,324] — [linear_models   - fit         ] — [WARNING  — Line   36]: Linear Regression does not have full rank: K>>N!\n",
      "[2021-12-02 14:50:43,363] — [lasso_selection - fit         ] — [WARNING  — Line   58]: LASSO Convergence Warning\n",
      "[2021-12-02 14:50:43,391] — [linear_models   - fit         ] — [WARNING  — Line   36]: Linear Regression does not have full rank: K>>N!\n",
      "[2021-12-02 14:50:43,432] — [linear_models   - fit         ] — [WARNING  — Line   36]: Linear Regression does not have full rank: K>>N!\n",
      "[2021-12-02 14:50:43,467] — [lasso_selection - fit         ] — [WARNING  — Line   58]: LASSO Convergence Warning\n",
      "[2021-12-02 14:50:43,496] — [linear_models   - fit         ] — [WARNING  — Line   36]: Linear Regression does not have full rank: K>>N!\n",
      "[2021-12-02 14:50:43,533] — [lasso_selection - fit         ] — [WARNING  — Line   58]: LASSO Convergence Warning\n",
      "[2021-12-02 14:50:43,557] — [linear_models   - fit         ] — [WARNING  — Line   36]: Linear Regression does not have full rank: K>>N!\n",
      "[2021-12-02 14:50:43,605] — [lasso_selection - fit         ] — [WARNING  — Line   58]: LASSO Convergence Warning\n",
      "[2021-12-02 14:50:43,633] — [linear_models   - fit         ] — [WARNING  — Line   36]: Linear Regression does not have full rank: K>>N!\n",
      "[2021-12-02 14:50:43,666] — [lasso_selection - fit         ] — [WARNING  — Line   58]: LASSO Convergence Warning\n",
      "[2021-12-02 14:50:43,695] — [linear_models   - fit         ] — [WARNING  — Line   36]: Linear Regression does not have full rank: K>>N!\n",
      "[2021-12-02 14:50:43,724] — [lasso_selection - fit         ] — [WARNING  — Line   58]: LASSO Convergence Warning\n",
      "[2021-12-02 14:50:43,748] — [linear_models   - fit         ] — [WARNING  — Line   36]: Linear Regression does not have full rank: K>>N!\n",
      "[2021-12-02 14:50:43,777] — [lasso_selection - fit         ] — [WARNING  — Line   58]: LASSO Convergence Warning\n",
      "[2021-12-02 14:50:43,801] — [linear_models   - fit         ] — [WARNING  — Line   36]: Linear Regression does not have full rank: K>>N!\n",
      "[2021-12-02 14:50:43,837] — [lasso_selection - fit         ] — [WARNING  — Line   58]: LASSO Convergence Warning\n",
      "[2021-12-02 14:50:43,860] — [linear_models   - fit         ] — [WARNING  — Line   36]: Linear Regression does not have full rank: K>>N!\n",
      "[2021-12-02 14:50:43,886] — [linear_models   - fit         ] — [WARNING  — Line   36]: Linear Regression does not have full rank: K>>N!\n",
      "[2021-12-02 14:50:43,912] — [linear_models   - fit         ] — [WARNING  — Line   36]: Linear Regression does not have full rank: K>>N!\n",
      "[2021-12-02 14:50:43,946] — [lasso_selection - fit         ] — [WARNING  — Line   58]: LASSO Convergence Warning\n",
      "[2021-12-02 14:50:43,969] — [linear_models   - fit         ] — [WARNING  — Line   36]: Linear Regression does not have full rank: K>>N!\n",
      "[2021-12-02 14:50:43,997] — [linear_models   - fit         ] — [WARNING  — Line   36]: Linear Regression does not have full rank: K>>N!\n",
      "[2021-12-02 14:50:44,130] — [lasso_selection - fit         ] — [WARNING  — Line   58]: LASSO Convergence Warning\n",
      "[2021-12-02 14:50:44,157] — [linear_models   - fit         ] — [WARNING  — Line   36]: Linear Regression does not have full rank: K>>N!\n",
      "[2021-12-02 14:50:44,203] — [lasso_selection - fit         ] — [WARNING  — Line   58]: LASSO Convergence Warning\n",
      "[2021-12-02 14:50:44,234] — [linear_models   - fit         ] — [WARNING  — Line   36]: Linear Regression does not have full rank: K>>N!\n",
      "[2021-12-02 14:50:44,254] — [model_pipeline  - validation  ] — [INFO     — Line  118]: Validating PostSelectionModel(PCA_selection -> Enet)\n",
      "[2021-12-02 14:50:44,446] — [model_pipeline  - forecast    ] — [INFO     — Line  249]: Forecasting for Lasso\n",
      "[2021-12-02 14:50:44,470] — [linear_models   - fit         ] — [WARNING  — Line  101]: LASSO Convergence Warning\n",
      "[2021-12-02 14:50:44,499] — [model_pipeline  - forecast    ] — [INFO     — Line  249]: Forecasting for PostSelectionModel(PCA_selection -> Lasso)\n",
      "[2021-12-02 14:50:44,513] — [model_pipeline  - forecast    ] — [INFO     — Line  249]: Forecasting for PostSelectionModel(Lasso_selection -> LR)\n",
      "[2021-12-02 14:50:44,525] — [linear_models   - fit         ] — [WARNING  — Line   36]: Linear Regression does not have full rank: K>>N!\n",
      "[2021-12-02 14:50:44,534] — [model_pipeline  - forecast    ] — [INFO     — Line  249]: Forecasting for PostSelectionModel(PCA_selection -> Enet)\n"
     ]
    }
   ],
   "source": [
    "## Estimate\n",
    "# Here, I use [standard lasso] and compare with [pca -> lasso]\n",
    "\n",
    "# Component algos\n",
    "model_forecast_lasso = LASSO({\"lambda\": 1e-5, \"use_intercept\": False, \"seed\": 5}, n_iter=12)\n",
    "model_forecast_enet = ENet(\n",
    "    {\"lambda\": 1e-5, \"l1_ratio\": 0.5, \"use_intercept\": True, \"seed\": 5}, n_iter=14\n",
    ")\n",
    "model_forecast_ols = LinearRegression({})\n",
    "model_selection_pca = PCA_selection({})\n",
    "model_selection_lasso = LASSO_selection({})\n",
    "\n",
    "# Post-selection algos\n",
    "model_pca_lasso = PostSelectionModel(model_selection_pca, model_forecast_lasso, n_iter=58)\n",
    "model_lasso_ols = PostSelectionModel(model_selection_lasso, model_forecast_ols)\n",
    "model_pca_enet = PostSelectionModel(model_selection_pca, model_forecast_enet)\n",
    "model_list = [model_forecast_lasso, model_pca_lasso, model_lasso_ols, model_pca_enet]\n",
    "\n",
    "# Split into train/validate for optimal hyperparams\n",
    "mtrain = ModelTrainer(model_list, Y_ins, X_ins, seed=444)\n",
    "mtrain.validation(frac=0.5, n_iter_default=100)\n",
    "\n",
    "# Testing\n",
    "mtest = ModelTester(mtrain)\n",
    "model_forecasts, model_params = mtest.forecast(Y_oos, X_oos)"
   ]
  },
  {
   "cell_type": "markdown",
   "id": "fa46ab63",
   "metadata": {},
   "source": [
    "## View results"
   ]
  },
  {
   "cell_type": "code",
   "execution_count": 31,
   "id": "cdaeb050",
   "metadata": {},
   "outputs": [],
   "source": [
    "def view_results(model_index):\n",
    "    \n",
    "    results_df = pd.concat(\n",
    "        [\n",
    "            model_forecasts[model_index].rename(columns={\"petal_length\": \"forecast\"}),\n",
    "            Y_oos.rename(columns={\"petal_length\": \"true\"})\n",
    "        ],\n",
    "        axis=1,\n",
    "    )\n",
    "\n",
    "    display(smf.ols('true ~ forecast - 1', data = results_df).fit().summary())\n",
    "\n",
    "    fig, ax = plt.subplots(figsize = (5,5))\n",
    "    sns.regplot(x = 'forecast', y = 'true', data = results_df, ax  = ax)"
   ]
  },
  {
   "cell_type": "markdown",
   "id": "3568d425",
   "metadata": {
    "tags": []
   },
   "source": [
    "### Pure Lasso"
   ]
  },
  {
   "cell_type": "code",
   "execution_count": 12,
   "id": "2a55611d",
   "metadata": {
    "tags": []
   },
   "outputs": [
    {
     "data": {
      "text/html": [
       "<table class=\"simpletable\">\n",
       "<caption>OLS Regression Results</caption>\n",
       "<tr>\n",
       "  <th>Dep. Variable:</th>          <td>true</td>       <th>  R-squared (uncentered):</th>      <td>   0.987</td>\n",
       "</tr>\n",
       "<tr>\n",
       "  <th>Model:</th>                   <td>OLS</td>       <th>  Adj. R-squared (uncentered):</th> <td>   0.986</td>\n",
       "</tr>\n",
       "<tr>\n",
       "  <th>Method:</th>             <td>Least Squares</td>  <th>  F-statistic:       </th>          <td>   5072.</td>\n",
       "</tr>\n",
       "<tr>\n",
       "  <th>Date:</th>             <td>Tue, 30 Nov 2021</td> <th>  Prob (F-statistic):</th>          <td>2.48e-66</td>\n",
       "</tr>\n",
       "<tr>\n",
       "  <th>Time:</th>                 <td>22:31:00</td>     <th>  Log-Likelihood:    </th>          <td> -12.539</td>\n",
       "</tr>\n",
       "<tr>\n",
       "  <th>No. Observations:</th>      <td>    70</td>      <th>  AIC:               </th>          <td>   27.08</td>\n",
       "</tr>\n",
       "<tr>\n",
       "  <th>Df Residuals:</th>          <td>    69</td>      <th>  BIC:               </th>          <td>   29.33</td>\n",
       "</tr>\n",
       "<tr>\n",
       "  <th>Df Model:</th>              <td>     1</td>      <th>                     </th>              <td> </td>   \n",
       "</tr>\n",
       "<tr>\n",
       "  <th>Covariance Type:</th>      <td>nonrobust</td>    <th>                     </th>              <td> </td>   \n",
       "</tr>\n",
       "</table>\n",
       "<table class=\"simpletable\">\n",
       "<tr>\n",
       "      <td></td>        <th>coef</th>     <th>std err</th>      <th>t</th>      <th>P>|t|</th>  <th>[0.025</th>    <th>0.975]</th>  \n",
       "</tr>\n",
       "<tr>\n",
       "  <th>forecast</th> <td>    1.0150</td> <td>    0.014</td> <td>   71.216</td> <td> 0.000</td> <td>    0.987</td> <td>    1.043</td>\n",
       "</tr>\n",
       "</table>\n",
       "<table class=\"simpletable\">\n",
       "<tr>\n",
       "  <th>Omnibus:</th>       <td> 3.685</td> <th>  Durbin-Watson:     </th> <td>   1.913</td>\n",
       "</tr>\n",
       "<tr>\n",
       "  <th>Prob(Omnibus):</th> <td> 0.158</td> <th>  Jarque-Bera (JB):  </th> <td>   3.021</td>\n",
       "</tr>\n",
       "<tr>\n",
       "  <th>Skew:</th>          <td> 0.498</td> <th>  Prob(JB):          </th> <td>   0.221</td>\n",
       "</tr>\n",
       "<tr>\n",
       "  <th>Kurtosis:</th>      <td> 3.207</td> <th>  Cond. No.          </th> <td>    1.00</td>\n",
       "</tr>\n",
       "</table><br/><br/>Notes:<br/>[1] R² is computed without centering (uncentered) since the model does not contain a constant.<br/>[2] Standard Errors assume that the covariance matrix of the errors is correctly specified."
      ],
      "text/plain": [
       "<class 'statsmodels.iolib.summary.Summary'>\n",
       "\"\"\"\n",
       "                                 OLS Regression Results                                \n",
       "=======================================================================================\n",
       "Dep. Variable:                   true   R-squared (uncentered):                   0.987\n",
       "Model:                            OLS   Adj. R-squared (uncentered):              0.986\n",
       "Method:                 Least Squares   F-statistic:                              5072.\n",
       "Date:                Tue, 30 Nov 2021   Prob (F-statistic):                    2.48e-66\n",
       "Time:                        22:31:00   Log-Likelihood:                         -12.539\n",
       "No. Observations:                  70   AIC:                                      27.08\n",
       "Df Residuals:                      69   BIC:                                      29.33\n",
       "Df Model:                           1                                                  \n",
       "Covariance Type:            nonrobust                                                  \n",
       "==============================================================================\n",
       "                 coef    std err          t      P>|t|      [0.025      0.975]\n",
       "------------------------------------------------------------------------------\n",
       "forecast       1.0150      0.014     71.216      0.000       0.987       1.043\n",
       "==============================================================================\n",
       "Omnibus:                        3.685   Durbin-Watson:                   1.913\n",
       "Prob(Omnibus):                  0.158   Jarque-Bera (JB):                3.021\n",
       "Skew:                           0.498   Prob(JB):                        0.221\n",
       "Kurtosis:                       3.207   Cond. No.                         1.00\n",
       "==============================================================================\n",
       "\n",
       "Notes:\n",
       "[1] R² is computed without centering (uncentered) since the model does not contain a constant.\n",
       "[2] Standard Errors assume that the covariance matrix of the errors is correctly specified.\n",
       "\"\"\""
      ]
     },
     "metadata": {},
     "output_type": "display_data"
    },
    {
     "data": {
      "image/png": "[encoded data removed]",
      "text/plain": [
       "<Figure size 360x360 with 1 Axes>"
      ]
     },
     "metadata": {},
     "output_type": "display_data"
    }
   ],
   "source": [
    "view_results(0)"
   ]
  },
  {
   "cell_type": "markdown",
   "id": "56e9ebba",
   "metadata": {
    "tags": []
   },
   "source": [
    "### PCA Lasso"
   ]
  },
  {
   "cell_type": "code",
   "execution_count": 13,
   "id": "3d063509",
   "metadata": {
    "tags": []
   },
   "outputs": [
    {
     "data": {
      "text/html": [
       "<table class=\"simpletable\">\n",
       "<caption>OLS Regression Results</caption>\n",
       "<tr>\n",
       "  <th>Dep. Variable:</th>          <td>true</td>       <th>  R-squared (uncentered):</th>      <td>   0.987</td>\n",
       "</tr>\n",
       "<tr>\n",
       "  <th>Model:</th>                   <td>OLS</td>       <th>  Adj. R-squared (uncentered):</th> <td>   0.987</td>\n",
       "</tr>\n",
       "<tr>\n",
       "  <th>Method:</th>             <td>Least Squares</td>  <th>  F-statistic:       </th>          <td>   5210.</td>\n",
       "</tr>\n",
       "<tr>\n",
       "  <th>Date:</th>             <td>Tue, 30 Nov 2021</td> <th>  Prob (F-statistic):</th>          <td>9.89e-67</td>\n",
       "</tr>\n",
       "<tr>\n",
       "  <th>Time:</th>                 <td>22:31:00</td>     <th>  Log-Likelihood:    </th>          <td> -11.608</td>\n",
       "</tr>\n",
       "<tr>\n",
       "  <th>No. Observations:</th>      <td>    70</td>      <th>  AIC:               </th>          <td>   25.22</td>\n",
       "</tr>\n",
       "<tr>\n",
       "  <th>Df Residuals:</th>          <td>    69</td>      <th>  BIC:               </th>          <td>   27.46</td>\n",
       "</tr>\n",
       "<tr>\n",
       "  <th>Df Model:</th>              <td>     1</td>      <th>                     </th>              <td> </td>   \n",
       "</tr>\n",
       "<tr>\n",
       "  <th>Covariance Type:</th>      <td>nonrobust</td>    <th>                     </th>              <td> </td>   \n",
       "</tr>\n",
       "</table>\n",
       "<table class=\"simpletable\">\n",
       "<tr>\n",
       "      <td></td>        <th>coef</th>     <th>std err</th>      <th>t</th>      <th>P>|t|</th>  <th>[0.025</th>    <th>0.975]</th>  \n",
       "</tr>\n",
       "<tr>\n",
       "  <th>forecast</th> <td>    0.9860</td> <td>    0.014</td> <td>   72.182</td> <td> 0.000</td> <td>    0.959</td> <td>    1.013</td>\n",
       "</tr>\n",
       "</table>\n",
       "<table class=\"simpletable\">\n",
       "<tr>\n",
       "  <th>Omnibus:</th>       <td> 4.532</td> <th>  Durbin-Watson:     </th> <td>   2.025</td>\n",
       "</tr>\n",
       "<tr>\n",
       "  <th>Prob(Omnibus):</th> <td> 0.104</td> <th>  Jarque-Bera (JB):  </th> <td>   3.690</td>\n",
       "</tr>\n",
       "<tr>\n",
       "  <th>Skew:</th>          <td> 0.524</td> <th>  Prob(JB):          </th> <td>   0.158</td>\n",
       "</tr>\n",
       "<tr>\n",
       "  <th>Kurtosis:</th>      <td> 3.407</td> <th>  Cond. No.          </th> <td>    1.00</td>\n",
       "</tr>\n",
       "</table><br/><br/>Notes:<br/>[1] R² is computed without centering (uncentered) since the model does not contain a constant.<br/>[2] Standard Errors assume that the covariance matrix of the errors is correctly specified."
      ],
      "text/plain": [
       "<class 'statsmodels.iolib.summary.Summary'>\n",
       "\"\"\"\n",
       "                                 OLS Regression Results                                \n",
       "=======================================================================================\n",
       "Dep. Variable:                   true   R-squared (uncentered):                   0.987\n",
       "Model:                            OLS   Adj. R-squared (uncentered):              0.987\n",
       "Method:                 Least Squares   F-statistic:                              5210.\n",
       "Date:                Tue, 30 Nov 2021   Prob (F-statistic):                    9.89e-67\n",
       "Time:                        22:31:00   Log-Likelihood:                         -11.608\n",
       "No. Observations:                  70   AIC:                                      25.22\n",
       "Df Residuals:                      69   BIC:                                      27.46\n",
       "Df Model:                           1                                                  \n",
       "Covariance Type:            nonrobust                                                  \n",
       "==============================================================================\n",
       "                 coef    std err          t      P>|t|      [0.025      0.975]\n",
       "------------------------------------------------------------------------------\n",
       "forecast       0.9860      0.014     72.182      0.000       0.959       1.013\n",
       "==============================================================================\n",
       "Omnibus:                        4.532   Durbin-Watson:                   2.025\n",
       "Prob(Omnibus):                  0.104   Jarque-Bera (JB):                3.690\n",
       "Skew:                           0.524   Prob(JB):                        0.158\n",
       "Kurtosis:                       3.407   Cond. No.                         1.00\n",
       "==============================================================================\n",
       "\n",
       "Notes:\n",
       "[1] R² is computed without centering (uncentered) since the model does not contain a constant.\n",
       "[2] Standard Errors assume that the covariance matrix of the errors is correctly specified.\n",
       "\"\"\""
      ]
     },
     "metadata": {},
     "output_type": "display_data"
    },
    {
     "data": {
      "image/png": "[encoded data removed]",
      "text/plain": [
       "<Figure size 360x360 with 1 Axes>"
      ]
     },
     "metadata": {},
     "output_type": "display_data"
    }
   ],
   "source": [
    "view_results(1)"
   ]
  },
  {
   "cell_type": "markdown",
   "id": "0b221811",
   "metadata": {
    "tags": []
   },
   "source": [
    "### Lasso OLS"
   ]
  },
  {
   "cell_type": "code",
   "execution_count": 14,
   "id": "c073d924",
   "metadata": {
    "tags": []
   },
   "outputs": [
    {
     "data": {
      "text/html": [
       "<table class=\"simpletable\">\n",
       "<caption>OLS Regression Results</caption>\n",
       "<tr>\n",
       "  <th>Dep. Variable:</th>          <td>true</td>       <th>  R-squared (uncentered):</th>      <td>   0.989</td>\n",
       "</tr>\n",
       "<tr>\n",
       "  <th>Model:</th>                   <td>OLS</td>       <th>  Adj. R-squared (uncentered):</th> <td>   0.988</td>\n",
       "</tr>\n",
       "<tr>\n",
       "  <th>Method:</th>             <td>Least Squares</td>  <th>  F-statistic:       </th>          <td>   5949.</td>\n",
       "</tr>\n",
       "<tr>\n",
       "  <th>Date:</th>             <td>Tue, 30 Nov 2021</td> <th>  Prob (F-statistic):</th>          <td>1.08e-68</td>\n",
       "</tr>\n",
       "<tr>\n",
       "  <th>Time:</th>                 <td>22:31:00</td>     <th>  Log-Likelihood:    </th>          <td> -7.0265</td>\n",
       "</tr>\n",
       "<tr>\n",
       "  <th>No. Observations:</th>      <td>    70</td>      <th>  AIC:               </th>          <td>   16.05</td>\n",
       "</tr>\n",
       "<tr>\n",
       "  <th>Df Residuals:</th>          <td>    69</td>      <th>  BIC:               </th>          <td>   18.30</td>\n",
       "</tr>\n",
       "<tr>\n",
       "  <th>Df Model:</th>              <td>     1</td>      <th>                     </th>              <td> </td>   \n",
       "</tr>\n",
       "<tr>\n",
       "  <th>Covariance Type:</th>      <td>nonrobust</td>    <th>                     </th>              <td> </td>   \n",
       "</tr>\n",
       "</table>\n",
       "<table class=\"simpletable\">\n",
       "<tr>\n",
       "      <td></td>        <th>coef</th>     <th>std err</th>      <th>t</th>      <th>P>|t|</th>  <th>[0.025</th>    <th>0.975]</th>  \n",
       "</tr>\n",
       "<tr>\n",
       "  <th>forecast</th> <td>    0.9900</td> <td>    0.013</td> <td>   77.127</td> <td> 0.000</td> <td>    0.964</td> <td>    1.016</td>\n",
       "</tr>\n",
       "</table>\n",
       "<table class=\"simpletable\">\n",
       "<tr>\n",
       "  <th>Omnibus:</th>       <td> 3.722</td> <th>  Durbin-Watson:     </th> <td>   1.892</td>\n",
       "</tr>\n",
       "<tr>\n",
       "  <th>Prob(Omnibus):</th> <td> 0.156</td> <th>  Jarque-Bera (JB):  </th> <td>   2.921</td>\n",
       "</tr>\n",
       "<tr>\n",
       "  <th>Skew:</th>          <td> 0.366</td> <th>  Prob(JB):          </th> <td>   0.232</td>\n",
       "</tr>\n",
       "<tr>\n",
       "  <th>Kurtosis:</th>      <td> 3.682</td> <th>  Cond. No.          </th> <td>    1.00</td>\n",
       "</tr>\n",
       "</table><br/><br/>Notes:<br/>[1] R² is computed without centering (uncentered) since the model does not contain a constant.<br/>[2] Standard Errors assume that the covariance matrix of the errors is correctly specified."
      ],
      "text/plain": [
       "<class 'statsmodels.iolib.summary.Summary'>\n",
       "\"\"\"\n",
       "                                 OLS Regression Results                                \n",
       "=======================================================================================\n",
       "Dep. Variable:                   true   R-squared (uncentered):                   0.989\n",
       "Model:                            OLS   Adj. R-squared (uncentered):              0.988\n",
       "Method:                 Least Squares   F-statistic:                              5949.\n",
       "Date:                Tue, 30 Nov 2021   Prob (F-statistic):                    1.08e-68\n",
       "Time:                        22:31:00   Log-Likelihood:                         -7.0265\n",
       "No. Observations:                  70   AIC:                                      16.05\n",
       "Df Residuals:                      69   BIC:                                      18.30\n",
       "Df Model:                           1                                                  \n",
       "Covariance Type:            nonrobust                                                  \n",
       "==============================================================================\n",
       "                 coef    std err          t      P>|t|      [0.025      0.975]\n",
       "------------------------------------------------------------------------------\n",
       "forecast       0.9900      0.013     77.127      0.000       0.964       1.016\n",
       "==============================================================================\n",
       "Omnibus:                        3.722   Durbin-Watson:                   1.892\n",
       "Prob(Omnibus):                  0.156   Jarque-Bera (JB):                2.921\n",
       "Skew:                           0.366   Prob(JB):                        0.232\n",
       "Kurtosis:                       3.682   Cond. No.                         1.00\n",
       "==============================================================================\n",
       "\n",
       "Notes:\n",
       "[1] R² is computed without centering (uncentered) since the model does not contain a constant.\n",
       "[2] Standard Errors assume that the covariance matrix of the errors is correctly specified.\n",
       "\"\"\""
      ]
     },
     "metadata": {},
     "output_type": "display_data"
    },
    {
     "data": {
      "image/png": "[encoded data removed]",
      "text/plain": [
       "<Figure size 360x360 with 1 Axes>"
      ]
     },
     "metadata": {},
     "output_type": "display_data"
    }
   ],
   "source": [
    "view_results(2)"
   ]
  },
  {
   "cell_type": "markdown",
   "id": "cca5b475",
   "metadata": {
    "tags": []
   },
   "source": [
    "### PCA Enet"
   ]
  },
  {
   "cell_type": "code",
   "execution_count": 15,
   "id": "bd53fc79",
   "metadata": {
    "tags": []
   },
   "outputs": [
    {
     "data": {
      "text/html": [
       "<table class=\"simpletable\">\n",
       "<caption>OLS Regression Results</caption>\n",
       "<tr>\n",
       "  <th>Dep. Variable:</th>          <td>true</td>       <th>  R-squared (uncentered):</th>      <td>   0.987</td>\n",
       "</tr>\n",
       "<tr>\n",
       "  <th>Model:</th>                   <td>OLS</td>       <th>  Adj. R-squared (uncentered):</th> <td>   0.987</td>\n",
       "</tr>\n",
       "<tr>\n",
       "  <th>Method:</th>             <td>Least Squares</td>  <th>  F-statistic:       </th>          <td>   5212.</td>\n",
       "</tr>\n",
       "<tr>\n",
       "  <th>Date:</th>             <td>Tue, 30 Nov 2021</td> <th>  Prob (F-statistic):</th>          <td>9.79e-67</td>\n",
       "</tr>\n",
       "<tr>\n",
       "  <th>Time:</th>                 <td>22:31:00</td>     <th>  Log-Likelihood:    </th>          <td> -11.597</td>\n",
       "</tr>\n",
       "<tr>\n",
       "  <th>No. Observations:</th>      <td>    70</td>      <th>  AIC:               </th>          <td>   25.19</td>\n",
       "</tr>\n",
       "<tr>\n",
       "  <th>Df Residuals:</th>          <td>    69</td>      <th>  BIC:               </th>          <td>   27.44</td>\n",
       "</tr>\n",
       "<tr>\n",
       "  <th>Df Model:</th>              <td>     1</td>      <th>                     </th>              <td> </td>   \n",
       "</tr>\n",
       "<tr>\n",
       "  <th>Covariance Type:</th>      <td>nonrobust</td>    <th>                     </th>              <td> </td>   \n",
       "</tr>\n",
       "</table>\n",
       "<table class=\"simpletable\">\n",
       "<tr>\n",
       "      <td></td>        <th>coef</th>     <th>std err</th>      <th>t</th>      <th>P>|t|</th>  <th>[0.025</th>    <th>0.975]</th>  \n",
       "</tr>\n",
       "<tr>\n",
       "  <th>forecast</th> <td>    0.9860</td> <td>    0.014</td> <td>   72.193</td> <td> 0.000</td> <td>    0.959</td> <td>    1.013</td>\n",
       "</tr>\n",
       "</table>\n",
       "<table class=\"simpletable\">\n",
       "<tr>\n",
       "  <th>Omnibus:</th>       <td> 4.541</td> <th>  Durbin-Watson:     </th> <td>   2.024</td>\n",
       "</tr>\n",
       "<tr>\n",
       "  <th>Prob(Omnibus):</th> <td> 0.103</td> <th>  Jarque-Bera (JB):  </th> <td>   3.697</td>\n",
       "</tr>\n",
       "<tr>\n",
       "  <th>Skew:</th>          <td> 0.525</td> <th>  Prob(JB):          </th> <td>   0.157</td>\n",
       "</tr>\n",
       "<tr>\n",
       "  <th>Kurtosis:</th>      <td> 3.408</td> <th>  Cond. No.          </th> <td>    1.00</td>\n",
       "</tr>\n",
       "</table><br/><br/>Notes:<br/>[1] R² is computed without centering (uncentered) since the model does not contain a constant.<br/>[2] Standard Errors assume that the covariance matrix of the errors is correctly specified."
      ],
      "text/plain": [
       "<class 'statsmodels.iolib.summary.Summary'>\n",
       "\"\"\"\n",
       "                                 OLS Regression Results                                \n",
       "=======================================================================================\n",
       "Dep. Variable:                   true   R-squared (uncentered):                   0.987\n",
       "Model:                            OLS   Adj. R-squared (uncentered):              0.987\n",
       "Method:                 Least Squares   F-statistic:                              5212.\n",
       "Date:                Tue, 30 Nov 2021   Prob (F-statistic):                    9.79e-67\n",
       "Time:                        22:31:00   Log-Likelihood:                         -11.597\n",
       "No. Observations:                  70   AIC:                                      25.19\n",
       "Df Residuals:                      69   BIC:                                      27.44\n",
       "Df Model:                           1                                                  \n",
       "Covariance Type:            nonrobust                                                  \n",
       "==============================================================================\n",
       "                 coef    std err          t      P>|t|      [0.025      0.975]\n",
       "------------------------------------------------------------------------------\n",
       "forecast       0.9860      0.014     72.193      0.000       0.959       1.013\n",
       "==============================================================================\n",
       "Omnibus:                        4.541   Durbin-Watson:                   2.024\n",
       "Prob(Omnibus):                  0.103   Jarque-Bera (JB):                3.697\n",
       "Skew:                           0.525   Prob(JB):                        0.157\n",
       "Kurtosis:                       3.408   Cond. No.                         1.00\n",
       "==============================================================================\n",
       "\n",
       "Notes:\n",
       "[1] R² is computed without centering (uncentered) since the model does not contain a constant.\n",
       "[2] Standard Errors assume that the covariance matrix of the errors is correctly specified.\n",
       "\"\"\""
      ]
     },
     "metadata": {},
     "output_type": "display_data"
    },
    {
     "data": {
      "image/png": "[encoded data removed]",
      "text/plain": [
       "<Figure size 360x360 with 1 Axes>"
      ]
     },
     "metadata": {},
     "output_type": "display_data"
    }
   ],
   "source": [
    "view_results(3)"
   ]
  },
  {
   "cell_type": "markdown",
   "id": "21ef4910",
   "metadata": {},
   "source": [
    "### Do the estimates make sense?"
   ]
  },
  {
   "cell_type": "code",
   "execution_count": 16,
   "id": "87b55736",
   "metadata": {},
   "outputs": [
    {
     "data": {
      "image/png": "[encoded data removed]",
      "text/plain": [
       "<Figure size 720x360 with 1 Axes>"
      ]
     },
     "metadata": {},
     "output_type": "display_data"
    }
   ],
   "source": [
    "# Params for just Lasso\n",
    "fig, ax = plt.subplots(figsize = (10,5))\n",
    "plt.plot(model_params[0], marker = 'o')\n",
    "ax.set_xlabel('Regressor #')\n",
    "ax.set_ylabel('Lasso-estimated coefficient')\n",
    "ax.set_title(f'Lasso estimates {np.sum(model_params[0] != 0)} non-zero coefficients');"
   ]
  },
  {
   "cell_type": "code",
   "execution_count": 17,
   "id": "d976d3d8",
   "metadata": {},
   "outputs": [
    {
     "data": {
      "text/plain": [
       "{'selection': array([26.91518839, 26.38009029, 26.03910239, 25.0195231 , 24.92304903,\n",
       "        24.58767222, 24.54416499, 23.95940977, 23.7190268 ]),\n",
       " 'forecast': array([-0.05405032,  0.00115788,  0.12039388, -0.04603717, -0.00483789,\n",
       "         0.0354423 , -0.02827933, -0.06893729, -0.10070204])}"
      ]
     },
     "metadata": {},
     "output_type": "display_data"
    },
    {
     "name": "stdout",
     "output_type": "stream",
     "text": [
      "\n",
      "PCA picks 9 components\n",
      "... then Lasso estimates 9 non-zero coefficients\n"
     ]
    }
   ],
   "source": [
    "# Params for PCA then Lasso\n",
    "display(model_params[1])\n",
    "print()\n",
    "print(f'PCA picks {np.sum(model_params[1][\"selection\"] != 0)} components');\n",
    "print(f'... then Lasso estimates {np.sum(model_params[1][\"forecast\"] != 0)} non-zero coefficients');"
   ]
  },
  {
   "cell_type": "code",
   "execution_count": 18,
   "id": "d5370d85",
   "metadata": {},
   "outputs": [
    {
     "name": "stdout",
     "output_type": "stream",
     "text": [
      "\n",
      "Lasso picks 300 components\n",
      "... then OLS estimates 301 non-zero coefficients\n"
     ]
    }
   ],
   "source": [
    "# Params for Lasso then OLS\n",
    "# display(model_params[2])\n",
    "print()\n",
    "print(f'Lasso picks {np.sum(model_params[2][\"selection\"] != 0)} components');\n",
    "print(f'... then OLS estimates {np.sum(model_params[2][\"forecast\"] != 0)} non-zero coefficients');"
   ]
  },
  {
   "cell_type": "code",
   "execution_count": 19,
   "id": "6ca607c5",
   "metadata": {},
   "outputs": [
    {
     "data": {
      "text/plain": [
       "{'selection': array([26.91518839, 26.38009029, 26.03910239, 25.0195231 , 24.92304903,\n",
       "        24.58767222, 24.54416499, 23.95940977, 23.7190268 ]),\n",
       " 'forecast': array([-0.05414261,  0.0012544 ,  0.12049191, -0.04614406, -0.00494599,\n",
       "         0.03555307, -0.02839056, -0.06905361, -0.1008204 ])}"
      ]
     },
     "metadata": {},
     "output_type": "display_data"
    },
    {
     "name": "stdout",
     "output_type": "stream",
     "text": [
      "\n",
      "PCA picks 9 components\n",
      "... then Enet estimates 9 non-zero coefficients\n"
     ]
    }
   ],
   "source": [
    "# Params for PCA then Enet\n",
    "display(model_params[3])\n",
    "print()\n",
    "print(f'PCA picks {np.sum(model_params[3][\"selection\"] != 0)} components');\n",
    "print(f'... then Enet estimates {np.sum(model_params[3][\"forecast\"] != 0)} non-zero coefficients');"
   ]
  }
 ],
 "metadata": {
  "kernelspec": {
   "display_name": "Python 3 (ipykernel)",
   "language": "python",
   "name": "python3"
  },
  "language_info": {
   "codemirror_mode": {
    "name": "ipython",
    "version": 3
   },
   "file_extension": ".py",
   "mimetype": "text/x-python",
   "name": "python",
   "nbconvert_exporter": "python",
   "pygments_lexer": "ipython3",
   "version": "3.8.10"
  }
 },
 "nbformat": 4,
 "nbformat_minor": 5
}
