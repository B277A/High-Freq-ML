{
 "cells": [
  {
   "cell_type": "code",
   "execution_count": 1,
   "id": "12423eb9-7922-4b4d-8866-d4551ae6b107",
   "metadata": {},
   "outputs": [],
   "source": [
    "%load_ext autoreload\n",
    "%autoreload 2\n",
    "\n",
    "import os, sys\n",
    "sys.path.append(os.path.abspath(os.path.join('../')))\n",
    "\n",
    "import pandas as pd\n",
    "import numpy as np\n",
    "import matplotlib.pyplot as plt\n",
    "from sklearn import linear_model\n",
    "import warnings\n",
    "import statsmodels.api as sm\n",
    "import statsmodels.formula.api as smf\n",
    "import seaborn as sns\n",
    "from mlmodels.linear_models import LASSO\n",
    "from helper_libraries.model_pipeline import *\n",
    "from helper_libraries.forecasting_tools import *\n",
    "from tqdm.auto import tqdm\n",
    "import datetime as dt\n",
    "import sklearn.preprocessing\n",
    "import sklearn.utils\n",
    "import unittest"
   ]
  },
  {
   "cell_type": "markdown",
   "id": "639b7d21-8544-48f7-8917-1d604be646e3",
   "metadata": {},
   "source": [
    "# Outline"
   ]
  },
  {
   "cell_type": "markdown",
   "id": "3ad472b1-235e-49ed-92f4-a796eaa9f3a7",
   "metadata": {},
   "source": [
    "* Load some sample data for testing\n",
    "* Run tests on different sets of functions"
   ]
  },
  {
   "cell_type": "markdown",
   "id": "7edf102d-ebc0-4c2f-887c-9f76cbf114da",
   "metadata": {},
   "source": [
    "# Load Data"
   ]
  },
  {
   "cell_type": "code",
   "execution_count": 2,
   "id": "1fc27a00-d094-4126-b4b2-f2abf050d5cf",
   "metadata": {},
   "outputs": [
    {
     "data": {
      "text/html": [
       "<div>\n",
       "<style scoped>\n",
       "    .dataframe tbody tr th:only-of-type {\n",
       "        vertical-align: middle;\n",
       "    }\n",
       "\n",
       "    .dataframe tbody tr th {\n",
       "        vertical-align: top;\n",
       "    }\n",
       "\n",
       "    .dataframe thead th {\n",
       "        text-align: right;\n",
       "    }\n",
       "</style>\n",
       "<table border=\"1\" class=\"dataframe\">\n",
       "  <thead>\n",
       "    <tr style=\"text-align: right;\">\n",
       "      <th></th>\n",
       "      <th>sepal_length</th>\n",
       "      <th>sepal_width</th>\n",
       "      <th>petal_length</th>\n",
       "      <th>petal_width</th>\n",
       "      <th>species</th>\n",
       "    </tr>\n",
       "  </thead>\n",
       "  <tbody>\n",
       "    <tr>\n",
       "      <th>0</th>\n",
       "      <td>5.1</td>\n",
       "      <td>3.5</td>\n",
       "      <td>1.4</td>\n",
       "      <td>0.2</td>\n",
       "      <td>setosa</td>\n",
       "    </tr>\n",
       "    <tr>\n",
       "      <th>1</th>\n",
       "      <td>4.9</td>\n",
       "      <td>3.0</td>\n",
       "      <td>1.4</td>\n",
       "      <td>0.2</td>\n",
       "      <td>setosa</td>\n",
       "    </tr>\n",
       "    <tr>\n",
       "      <th>2</th>\n",
       "      <td>4.7</td>\n",
       "      <td>3.2</td>\n",
       "      <td>1.3</td>\n",
       "      <td>0.2</td>\n",
       "      <td>setosa</td>\n",
       "    </tr>\n",
       "    <tr>\n",
       "      <th>3</th>\n",
       "      <td>4.6</td>\n",
       "      <td>3.1</td>\n",
       "      <td>1.5</td>\n",
       "      <td>0.2</td>\n",
       "      <td>setosa</td>\n",
       "    </tr>\n",
       "    <tr>\n",
       "      <th>4</th>\n",
       "      <td>5.0</td>\n",
       "      <td>3.6</td>\n",
       "      <td>1.4</td>\n",
       "      <td>0.2</td>\n",
       "      <td>setosa</td>\n",
       "    </tr>\n",
       "  </tbody>\n",
       "</table>\n",
       "</div>"
      ],
      "text/plain": [
       "   sepal_length  sepal_width  petal_length  petal_width species\n",
       "0           5.1          3.5           1.4          0.2  setosa\n",
       "1           4.9          3.0           1.4          0.2  setosa\n",
       "2           4.7          3.2           1.3          0.2  setosa\n",
       "3           4.6          3.1           1.5          0.2  setosa\n",
       "4           5.0          3.6           1.4          0.2  setosa"
      ]
     },
     "execution_count": 2,
     "metadata": {},
     "output_type": "execute_result"
    }
   ],
   "source": [
    "# Set up some sample data for the tests\n",
    "sample_data_df = pd.read_parquet('../../data/proc/_temp/1996_all.parquet')\n",
    "\n",
    "# Load data\n",
    "iris_df = sns.load_dataset('iris')\n",
    "iris_df.head()"
   ]
  },
  {
   "cell_type": "markdown",
   "id": "ee702db9-8d7f-49d1-9bf4-7c298b254a18",
   "metadata": {},
   "source": [
    "# Tests - Pipeline"
   ]
  },
  {
   "cell_type": "markdown",
   "id": "9009cdd7-075a-4608-a53e-f9678081ceb9",
   "metadata": {
    "tags": []
   },
   "source": [
    "## Full Example"
   ]
  },
  {
   "cell_type": "code",
   "execution_count": 4,
   "id": "fcbeae45-aad8-49f7-b395-e8eb7321aa55",
   "metadata": {},
   "outputs": [],
   "source": [
    "# Set up in sample data\n",
    "np.random.seed(1)\n",
    "ins_frac = 0.1\n",
    "iris_ins_df = iris_df.sample(70).reset_index(drop = True)\n",
    "iris_oos_df = iris_df.sample(70).reset_index(drop = True)\n",
    "\n",
    "Y_ins = iris_ins_df[['petal_length']]\n",
    "X_ins = iris_ins_df[['petal_width', 'sepal_length', 'sepal_width']]\n",
    "Y_oos = iris_oos_df[['petal_length']]\n",
    "X_oos = iris_oos_df[['petal_width', 'sepal_length', 'sepal_width']]\n",
    "\n",
    "# Run models\n",
    "model_lasso = LASSO({'lambda': 1e-5, 'use_intercept': False, 'seed': 5})\n",
    "model_list = [model_lasso]\n",
    "\n",
    "# Split into train/validate for optimal hyperparams\n",
    "mtrain = ModelTrainer([model_lasso], Y_ins, X_ins, seed = 444)\n",
    "mtrain.validation(frac=0.5, n_iter = 200)\n",
    "\n",
    "# Testing\n",
    "mtest = ModelTester(mtrain)\n",
    "model_forecasts = mtest.forecast(Y_oos, X_oos)"
   ]
  },
  {
   "cell_type": "markdown",
   "id": "651b9a61-6673-44db-840e-8bf9a69059b2",
   "metadata": {},
   "source": [
    "### View results"
   ]
  },
  {
   "cell_type": "code",
   "execution_count": 5,
   "id": "5b9fecff-8904-4f4a-8e8e-3b3d42e913a6",
   "metadata": {
    "tags": []
   },
   "outputs": [
    {
     "data": {
      "text/html": [
       "<table class=\"simpletable\">\n",
       "<caption>OLS Regression Results</caption>\n",
       "<tr>\n",
       "  <th>Dep. Variable:</th>          <td>true</td>       <th>  R-squared (uncentered):</th>      <td>   0.996</td> \n",
       "</tr>\n",
       "<tr>\n",
       "  <th>Model:</th>                   <td>OLS</td>       <th>  Adj. R-squared (uncentered):</th> <td>   0.996</td> \n",
       "</tr>\n",
       "<tr>\n",
       "  <th>Method:</th>             <td>Least Squares</td>  <th>  F-statistic:       </th>          <td>1.664e+04</td>\n",
       "</tr>\n",
       "<tr>\n",
       "  <th>Date:</th>             <td>Fri, 26 Nov 2021</td> <th>  Prob (F-statistic):</th>          <td>5.36e-84</td> \n",
       "</tr>\n",
       "<tr>\n",
       "  <th>Time:</th>                 <td>17:01:40</td>     <th>  Log-Likelihood:    </th>          <td> -9.4818</td> \n",
       "</tr>\n",
       "<tr>\n",
       "  <th>No. Observations:</th>      <td>    70</td>      <th>  AIC:               </th>          <td>   20.96</td> \n",
       "</tr>\n",
       "<tr>\n",
       "  <th>Df Residuals:</th>          <td>    69</td>      <th>  BIC:               </th>          <td>   23.21</td> \n",
       "</tr>\n",
       "<tr>\n",
       "  <th>Df Model:</th>              <td>     1</td>      <th>                     </th>              <td> </td>    \n",
       "</tr>\n",
       "<tr>\n",
       "  <th>Covariance Type:</th>      <td>nonrobust</td>    <th>                     </th>              <td> </td>    \n",
       "</tr>\n",
       "</table>\n",
       "<table class=\"simpletable\">\n",
       "<tr>\n",
       "      <td></td>        <th>coef</th>     <th>std err</th>      <th>t</th>      <th>P>|t|</th>  <th>[0.025</th>    <th>0.975]</th>  \n",
       "</tr>\n",
       "<tr>\n",
       "  <th>forecast</th> <td>    0.9961</td> <td>    0.008</td> <td>  129.003</td> <td> 0.000</td> <td>    0.981</td> <td>    1.011</td>\n",
       "</tr>\n",
       "</table>\n",
       "<table class=\"simpletable\">\n",
       "<tr>\n",
       "  <th>Omnibus:</th>       <td> 2.280</td> <th>  Durbin-Watson:     </th> <td>   2.107</td>\n",
       "</tr>\n",
       "<tr>\n",
       "  <th>Prob(Omnibus):</th> <td> 0.320</td> <th>  Jarque-Bera (JB):  </th> <td>   1.547</td>\n",
       "</tr>\n",
       "<tr>\n",
       "  <th>Skew:</th>          <td> 0.226</td> <th>  Prob(JB):          </th> <td>   0.461</td>\n",
       "</tr>\n",
       "<tr>\n",
       "  <th>Kurtosis:</th>      <td> 3.571</td> <th>  Cond. No.          </th> <td>    1.00</td>\n",
       "</tr>\n",
       "</table><br/><br/>Notes:<br/>[1] R² is computed without centering (uncentered) since the model does not contain a constant.<br/>[2] Standard Errors assume that the covariance matrix of the errors is correctly specified."
      ],
      "text/plain": [
       "<class 'statsmodels.iolib.summary.Summary'>\n",
       "\"\"\"\n",
       "                                 OLS Regression Results                                \n",
       "=======================================================================================\n",
       "Dep. Variable:                   true   R-squared (uncentered):                   0.996\n",
       "Model:                            OLS   Adj. R-squared (uncentered):              0.996\n",
       "Method:                 Least Squares   F-statistic:                          1.664e+04\n",
       "Date:                Fri, 26 Nov 2021   Prob (F-statistic):                    5.36e-84\n",
       "Time:                        17:01:40   Log-Likelihood:                         -9.4818\n",
       "No. Observations:                  70   AIC:                                      20.96\n",
       "Df Residuals:                      69   BIC:                                      23.21\n",
       "Df Model:                           1                                                  \n",
       "Covariance Type:            nonrobust                                                  \n",
       "==============================================================================\n",
       "                 coef    std err          t      P>|t|      [0.025      0.975]\n",
       "------------------------------------------------------------------------------\n",
       "forecast       0.9961      0.008    129.003      0.000       0.981       1.011\n",
       "==============================================================================\n",
       "Omnibus:                        2.280   Durbin-Watson:                   2.107\n",
       "Prob(Omnibus):                  0.320   Jarque-Bera (JB):                1.547\n",
       "Skew:                           0.226   Prob(JB):                        0.461\n",
       "Kurtosis:                       3.571   Cond. No.                         1.00\n",
       "==============================================================================\n",
       "\n",
       "Notes:\n",
       "[1] R² is computed without centering (uncentered) since the model does not contain a constant.\n",
       "[2] Standard Errors assume that the covariance matrix of the errors is correctly specified.\n",
       "\"\"\""
      ]
     },
     "metadata": {},
     "output_type": "display_data"
    },
    {
     "data": {
      "text/plain": [
       "<AxesSubplot:xlabel='forecast', ylabel='true'>"
      ]
     },
     "execution_count": 5,
     "metadata": {},
     "output_type": "execute_result"
    },
    {
     "data": {
      "image/png": "[encoded data removed]",
      "text/plain": [
       "<Figure size 432x288 with 1 Axes>"
      ]
     },
     "metadata": {
      "needs_background": "light"
     },
     "output_type": "display_data"
    }
   ],
   "source": [
    "results_df = pd.concat(\n",
    "    [\n",
    "        model_forecasts[0].rename(columns={\"petal_length\": \"forecast\"}),\n",
    "        Y_oos.rename(columns={\"petal_length\": \"true\"}),\n",
    "    ],\n",
    "    axis=1,\n",
    ")\n",
    "\n",
    "display(smf.ols('true ~ forecast - 1', data = results_df).fit().summary())\n",
    "\n",
    "sns.regplot(x = 'forecast', y = 'true', data = results_df)"
   ]
  },
  {
   "cell_type": "markdown",
   "id": "d8931e3e-2ba1-4503-adf3-d7d6b329cec2",
   "metadata": {},
   "source": [
    "## Unit Tests\n",
    "Use this only after running full pipeline"
   ]
  },
  {
   "cell_type": "code",
   "execution_count": 6,
   "id": "138950cf-59ba-4118-a119-5e7a380b7f04",
   "metadata": {},
   "outputs": [],
   "source": [
    "class TestPipelineFunctions(unittest.TestCase):\n",
    "    \n",
    "    def test_scaling(self):\n",
    "\n",
    "        mtrain = ModelTrainer([model_lasso], Y_ins, X_ins, seed = 444)\n",
    "        mtrain.validation(frac=0.5, n_iter=2)\n",
    "        self.assertEqual(np.all(np.std(mtrain.X_train_scl, axis = 0)==1), 1)"
   ]
  },
  {
   "cell_type": "code",
   "execution_count": 7,
   "id": "e67b0491-0f56-4b74-96a4-a33d8f9b9adc",
   "metadata": {},
   "outputs": [
    {
     "name": "stderr",
     "output_type": "stream",
     "text": [
      "test_scaling (__main__.TestPipelineFunctions) ... ok\n",
      "\n",
      "----------------------------------------------------------------------\n",
      "Ran 1 test in 0.011s\n",
      "\n",
      "OK\n"
     ]
    }
   ],
   "source": [
    "unittest.main(argv=[''], verbosity=2, exit=False);"
   ]
  },
  {
   "cell_type": "markdown",
   "id": "0eccba9e-48dd-4e02-a441-5a87a188cde3",
   "metadata": {},
   "source": [
    "# Tests - Rollers"
   ]
  },
  {
   "cell_type": "markdown",
   "id": "46210cb7-d52d-4a31-9802-bdad3df8692b",
   "metadata": {},
   "source": [
    "## Full Example"
   ]
  },
  {
   "cell_type": "code",
   "execution_count": 20,
   "id": "d26a29d7-68e4-4328-9364-090cb27126ab",
   "metadata": {},
   "outputs": [],
   "source": [
    "## Example params\n",
    "\n",
    "# Create some models\n",
    "model_lasso = LASSO({'lambda': 1e-5, 'use_intercept': False, 'seed': 5})\n",
    "model_lasso2 = LASSO({'lambda': 1e-5, 'use_intercept': False, 'seed': 5})\n",
    "model_list = [model_lasso, model_lasso2]\n",
    "\n",
    "# Define your data\n",
    "Y = sample_data_df[['ff__mkt']]\n",
    "X = sample_data_df[['ff__hml']].shift(1).bfill()"
   ]
  },
  {
   "cell_type": "code",
   "execution_count": 21,
   "id": "5536e234-bf40-42f1-9ee4-897613d4ceaa",
   "metadata": {},
   "outputs": [],
   "source": [
    "# This function is passed into the produce_forecasts_*** function\n",
    "# and applied on whatever basis\n",
    "def forecasting_pipeline(model_list, Y_ins, X_ins, Y_oos, X_oos):\n",
    "    \n",
    "    # Output variables\n",
    "    forecast_log = {}\n",
    "    \n",
    "    # Train the algos\n",
    "    mtrain = ModelTrainer(model_list, Y_ins, X_ins, seed=444)\n",
    "    mtrain.validation()\n",
    "    forecast_log['hyperparameters'] = mtrain.model_hyperparameters_opt\n",
    "\n",
    "    # Produce OOS forecasts\n",
    "    mtest = ModelTester(mtrain)\n",
    "    oos_forecasts = mtest.forecast(Y_oos, X_oos)\n",
    "    forecast_output = oos_forecasts\n",
    "    \n",
    "    return forecast_output, forecast_log"
   ]
  },
  {
   "cell_type": "code",
   "execution_count": 22,
   "id": "b379fc29-46fe-479c-bf7d-b831e275a9f3",
   "metadata": {},
   "outputs": [],
   "source": [
    "## Rolling implementation of models to get rolling forecasts\n",
    "forecast_output, forecast_log = produce_forecasts_rolling(Y, X, model_list, forecasting_pipeline, ins_window=\"30d\", oos_window=\"5d\")"
   ]
  },
  {
   "cell_type": "markdown",
   "id": "54798d0c-b9d9-446b-9efd-878fc05b5539",
   "metadata": {},
   "source": [
    "### View results"
   ]
  },
  {
   "cell_type": "code",
   "execution_count": 23,
   "id": "8292d705-087a-4941-92e0-31b401ff518f",
   "metadata": {},
   "outputs": [
    {
     "data": {
      "text/html": [
       "<table class=\"simpletable\">\n",
       "<caption>OLS Regression Results</caption>\n",
       "<tr>\n",
       "  <th>Dep. Variable:</th>      <td>ff__mkt_truth</td>  <th>  R-squared (uncentered):</th>       <td>   0.005</td> \n",
       "</tr>\n",
       "<tr>\n",
       "  <th>Model:</th>                   <td>OLS</td>       <th>  Adj. R-squared (uncentered):</th>  <td>   0.004</td> \n",
       "</tr>\n",
       "<tr>\n",
       "  <th>Method:</th>             <td>Least Squares</td>  <th>  F-statistic:       </th>           <td>   28.70</td> \n",
       "</tr>\n",
       "<tr>\n",
       "  <th>Date:</th>             <td>Fri, 26 Nov 2021</td> <th>  Prob (F-statistic):</th>           <td>8.77e-08</td> \n",
       "</tr>\n",
       "<tr>\n",
       "  <th>Time:</th>                 <td>17:04:45</td>     <th>  Log-Likelihood:    </th>           <td>  32716.</td> \n",
       "</tr>\n",
       "<tr>\n",
       "  <th>No. Observations:</th>      <td>  6264</td>      <th>  AIC:               </th>          <td>-6.543e+04</td>\n",
       "</tr>\n",
       "<tr>\n",
       "  <th>Df Residuals:</th>          <td>  6263</td>      <th>  BIC:               </th>          <td>-6.542e+04</td>\n",
       "</tr>\n",
       "<tr>\n",
       "  <th>Df Model:</th>              <td>     1</td>      <th>                     </th>               <td> </td>    \n",
       "</tr>\n",
       "<tr>\n",
       "  <th>Covariance Type:</th>      <td>nonrobust</td>    <th>                     </th>               <td> </td>    \n",
       "</tr>\n",
       "</table>\n",
       "<table class=\"simpletable\">\n",
       "<tr>\n",
       "          <td></td>            <th>coef</th>     <th>std err</th>      <th>t</th>      <th>P>|t|</th>  <th>[0.025</th>    <th>0.975]</th>  \n",
       "</tr>\n",
       "<tr>\n",
       "  <th>ff__mkt_forecast</th> <td>    0.7272</td> <td>    0.136</td> <td>    5.357</td> <td> 0.000</td> <td>    0.461</td> <td>    0.993</td>\n",
       "</tr>\n",
       "</table>\n",
       "<table class=\"simpletable\">\n",
       "<tr>\n",
       "  <th>Omnibus:</th>       <td>3580.589</td> <th>  Durbin-Watson:     </th>  <td>   1.887</td> \n",
       "</tr>\n",
       "<tr>\n",
       "  <th>Prob(Omnibus):</th>  <td> 0.000</td>  <th>  Jarque-Bera (JB):  </th> <td>469620.798</td>\n",
       "</tr>\n",
       "<tr>\n",
       "  <th>Skew:</th>           <td>-1.749</td>  <th>  Prob(JB):          </th>  <td>    0.00</td> \n",
       "</tr>\n",
       "<tr>\n",
       "  <th>Kurtosis:</th>       <td>45.274</td>  <th>  Cond. No.          </th>  <td>    1.00</td> \n",
       "</tr>\n",
       "</table><br/><br/>Notes:<br/>[1] R² is computed without centering (uncentered) since the model does not contain a constant.<br/>[2] Standard Errors assume that the covariance matrix of the errors is correctly specified."
      ],
      "text/plain": [
       "<class 'statsmodels.iolib.summary.Summary'>\n",
       "\"\"\"\n",
       "                                 OLS Regression Results                                \n",
       "=======================================================================================\n",
       "Dep. Variable:          ff__mkt_truth   R-squared (uncentered):                   0.005\n",
       "Model:                            OLS   Adj. R-squared (uncentered):              0.004\n",
       "Method:                 Least Squares   F-statistic:                              28.70\n",
       "Date:                Fri, 26 Nov 2021   Prob (F-statistic):                    8.77e-08\n",
       "Time:                        17:04:45   Log-Likelihood:                          32716.\n",
       "No. Observations:                6264   AIC:                                 -6.543e+04\n",
       "Df Residuals:                    6263   BIC:                                 -6.542e+04\n",
       "Df Model:                           1                                                  \n",
       "Covariance Type:            nonrobust                                                  \n",
       "====================================================================================\n",
       "                       coef    std err          t      P>|t|      [0.025      0.975]\n",
       "------------------------------------------------------------------------------------\n",
       "ff__mkt_forecast     0.7272      0.136      5.357      0.000       0.461       0.993\n",
       "==============================================================================\n",
       "Omnibus:                     3580.589   Durbin-Watson:                   1.887\n",
       "Prob(Omnibus):                  0.000   Jarque-Bera (JB):           469620.798\n",
       "Skew:                          -1.749   Prob(JB):                         0.00\n",
       "Kurtosis:                      45.274   Cond. No.                         1.00\n",
       "==============================================================================\n",
       "\n",
       "Notes:\n",
       "[1] R² is computed without centering (uncentered) since the model does not contain a constant.\n",
       "[2] Standard Errors assume that the covariance matrix of the errors is correctly specified.\n",
       "\"\"\""
      ]
     },
     "metadata": {},
     "output_type": "display_data"
    },
    {
     "data": {
      "image/png": "[encoded data removed]",
      "text/plain": [
       "<Figure size 432x288 with 1 Axes>"
      ]
     },
     "metadata": {
      "needs_background": "light"
     },
     "output_type": "display_data"
    }
   ],
   "source": [
    "# Each element of this list contains a dataframe of forecasts\n",
    "# for a particular model in model_list\n",
    "forecast_output_list = [pd.concat(pd.DataFrame(forecast_output).T[col].values) for col in range(len(model_list))]\n",
    "\n",
    "# Get forecasts for the first model\n",
    "model_forecasts_example_df = forecast_output_list[0]\n",
    "model_forecasts_example_df = (\n",
    "    model_forecasts_example_df.reset_index()\n",
    "    .merge(Y.reset_index(), on=\"datetime\", suffixes=(\"_forecast\", \"_truth\"), how=\"left\")\n",
    "    .set_index(\"datetime\")\n",
    ")\n",
    "display(\n",
    "    sm.OLS(model_forecasts_example_df.iloc[:, 1], model_forecasts_example_df.iloc[:, 0]).fit().summary()\n",
    ")\n",
    "model_forecasts_example_df.plot();"
   ]
  },
  {
   "cell_type": "markdown",
   "id": "9156c6f0-4500-4d4e-be20-8668b49fdf68",
   "metadata": {},
   "source": [
    "## Check rolling windows\n",
    "Visualize the windows used by the produce_forecasts_*** functions\n",
    "Can specify expanding kwarg as true or false"
   ]
  },
  {
   "cell_type": "code",
   "execution_count": 47,
   "id": "163fdfbc-cd73-4689-9249-da889c597034",
   "metadata": {},
   "outputs": [
    {
     "data": {
      "image/png": "[encoded data removed]",
      "text/plain": [
       "<Figure size 1296x360 with 1 Axes>"
      ]
     },
     "metadata": {},
     "output_type": "display_data"
    }
   ],
   "source": [
    "# Set up figure\n",
    "fig = plt.figure(figsize=(18, 5))\n",
    "ax = fig.add_subplot(111)\n",
    "plt.close()\n",
    "hfig = display(fig, display_id=True)\n",
    "\n",
    "# Params\n",
    "date_zero = Y.index[0]\n",
    "date_stop = Y.index[-1]\n",
    "\n",
    "# Initial draw\n",
    "ax.plot([date_zero, date_stop], [0, 0], color=\"k\", alpha=0.5, lw=1)\n",
    "ax.set_xlim(date_zero, date_stop)\n",
    "ax.set_yticks([])\n",
    "fig.canvas.draw()\n",
    "hfig.update(fig)\n",
    "\n",
    "# This function plots the windows using the indices of the\n",
    "# in-sample and out-of-sample data\n",
    "def plot_windows(_, Y_ins, X_ins, Y_oos, X_oos):\n",
    "    \n",
    "    # Get windows\n",
    "    date_ins_start = Y_ins.index[0]\n",
    "    date_ins_end = Y_ins.index[-1]\n",
    "    date_oos_start = Y_oos.index[0]\n",
    "    date_oos_end = Y_oos.index[-1]\n",
    "\n",
    "    # Plot new windows\n",
    "    ax.cla()\n",
    "    ax.axvspan(date_ins_start, date_ins_end, color=\"r\", alpha=0.5, label=\"Training Data\", lw=0)\n",
    "    ax.axvspan(date_oos_start, date_oos_end, color=\"b\", alpha=0.5, label=\"Testing Data\", lw=0)\n",
    "    ax.axvspan(date_ins_end, date_oos_start, color=\"silver\", alpha=0.5, label=\"No Data\", lw=0)\n",
    "    ax.plot([date_zero, date_stop], [0, 0], color=\"k\", alpha=0.5, lw=1)\n",
    "    ax.set_xlim(date_zero, date_stop)\n",
    "    ax.set_yticks([])\n",
    "    ax.legend(loc=\"upper left\")\n",
    "\n",
    "    # Update figure\n",
    "    fig.canvas.draw()\n",
    "    hfig.update(fig)\n",
    "\n",
    "    return None, {}"
   ]
  },
  {
   "cell_type": "code",
   "execution_count": 48,
   "id": "33946276-da8f-410c-9751-5f3a9de78140",
   "metadata": {},
   "outputs": [],
   "source": [
    "# Rolling implementation of models to get rolling forecasts\n",
    "forecast_output, forecast_log = produce_forecasts_rolling(\n",
    "    Y, X, model_list, plot_windows, ins_window=\"30d\", oos_window=\"5d\", expanding = False\n",
    ")"
   ]
  }
 ],
 "metadata": {
  "kernelspec": {
   "display_name": "Python 3",
   "language": "python",
   "name": "python3"
  },
  "language_info": {
   "codemirror_mode": {
    "name": "ipython",
    "version": 3
   },
   "file_extension": ".py",
   "mimetype": "text/x-python",
   "name": "python",
   "nbconvert_exporter": "python",
   "pygments_lexer": "ipython3",
   "version": "3.8.10"
  },
  "toc-autonumbering": true,
  "toc-showcode": false,
  "toc-showmarkdowntxt": false
 },
 "nbformat": 4,
 "nbformat_minor": 5
}
