{
 "cells": [
  {
   "cell_type": "code",
   "execution_count": 2,
   "id": "9d758099-5145-4b2b-93ad-b029f68ee7c6",
   "metadata": {},
   "outputs": [],
   "source": [
    "import pandas as pd\n",
    "import numpy as np\n",
    "import pickle"
   ]
  },
  {
   "cell_type": "code",
   "execution_count": 4,
   "id": "2f741ff4-c015-41eb-9b10-eee440b02f03",
   "metadata": {},
   "outputs": [
    {
     "ename": "SyntaxError",
     "evalue": "(unicode error) 'unicodeescape' codec can't decode bytes in position 6-7: truncated \\UXXXXXXXX escape (3662068307.py, line 1)",
     "output_type": "error",
     "traceback": [
      "\u001b[0;36m  File \u001b[0;32m\"/tmp/ipykernel_8030/3662068307.py\"\u001b[0;36m, line \u001b[0;32m1\u001b[0m\n\u001b[0;31m    with open(\"\\mnt\\c\\Users\\Saketh\\Box\\Home Folder sa400\\Sharing\\HFZoo\\data\\L1vsL2\\Results\\Enet_results\", \"rb\") as fp:\u001b[0m\n\u001b[0m              ^\u001b[0m\n\u001b[0;31mSyntaxError\u001b[0m\u001b[0;31m:\u001b[0m (unicode error) 'unicodeescape' codec can't decode bytes in position 6-7: truncated \\UXXXXXXXX escape\n"
     ]
    }
   ],
   "source": [
    "with open(\"\\mnt\\c\\Users\\Saketh\\Box\\Home Folder sa400\\Sharing\\HFZoo\\data\\L1vsL2\\Results\\Enet_results\", \"rb\") as fp:\n",
    "    enet_results = pickle.load(fp)"
   ]
  },
  {
   "cell_type": "code",
   "execution_count": 6,
   "id": "b4ecaf07-8468-49dd-96b7-09c9bf2f045f",
   "metadata": {},
   "outputs": [
    {
     "ename": "OSError",
     "evalue": "[Errno 5] Input/output error: '/mnt/c/Users/Saketh/Box/Home Folder sa400/Sharing/HFZoo/data/L1vsL2/Results/Enet_results'",
     "output_type": "error",
     "traceback": [
      "\u001b[0;31m---------------------------------------------------------------------------\u001b[0m",
      "\u001b[0;31mOSError\u001b[0m                                   Traceback (most recent call last)",
      "\u001b[0;32m/tmp/ipykernel_8030/150422660.py\u001b[0m in \u001b[0;36m<module>\u001b[0;34m\u001b[0m\n\u001b[0;32m----> 1\u001b[0;31m \u001b[0;32mwith\u001b[0m \u001b[0mopen\u001b[0m\u001b[0;34m(\u001b[0m\u001b[0;34m\"/mnt/c/Users/Saketh/Box/Home Folder sa400/Sharing/HFZoo/data/L1vsL2/Results/Enet_results\"\u001b[0m\u001b[0;34m,\u001b[0m \u001b[0;34m\"rb\"\u001b[0m\u001b[0;34m)\u001b[0m \u001b[0;32mas\u001b[0m \u001b[0mfp\u001b[0m\u001b[0;34m:\u001b[0m\u001b[0;34m\u001b[0m\u001b[0;34m\u001b[0m\u001b[0m\n\u001b[0m\u001b[1;32m      2\u001b[0m     \u001b[0menet_results\u001b[0m \u001b[0;34m=\u001b[0m \u001b[0mpickle\u001b[0m\u001b[0;34m.\u001b[0m\u001b[0mload\u001b[0m\u001b[0;34m(\u001b[0m\u001b[0mfp\u001b[0m\u001b[0;34m)\u001b[0m\u001b[0;34m\u001b[0m\u001b[0;34m\u001b[0m\u001b[0m\n",
      "\u001b[0;31mOSError\u001b[0m: [Errno 5] Input/output error: '/mnt/c/Users/Saketh/Box/Home Folder sa400/Sharing/HFZoo/data/L1vsL2/Results/Enet_results'"
     ]
    }
   ],
   "source": [
    "with open(\"/mnt/c/Users/Saketh/Box/Home Folder sa400/Sharing/HFZoo/data/L1vsL2/Results/Enet_results\", \"rb\") as fp:\n",
    "    enet_results = pickle.load(fp)"
   ]
  },
  {
   "cell_type": "code",
   "execution_count": null,
   "id": "89bffd71-6288-4408-804f-dec4d578ad88",
   "metadata": {},
   "outputs": [],
   "source": []
  }
 ],
 "metadata": {
  "kernelspec": {
   "display_name": "Python 3 (ipykernel)",
   "language": "python",
   "name": "python3"
  },
  "language_info": {
   "codemirror_mode": {
    "name": "ipython",
    "version": 3
   },
   "file_extension": ".py",
   "mimetype": "text/x-python",
   "name": "python",
   "nbconvert_exporter": "python",
   "pygments_lexer": "ipython3",
   "version": "3.8.10"
  }
 },
 "nbformat": 4,
 "nbformat_minor": 5
}
