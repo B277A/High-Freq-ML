{
 "cells": [
  {
   "cell_type": "code",
   "execution_count": 8,
   "id": "d281cd40-3245-4471-95f3-83edc8724e6f",
   "metadata": {},
   "outputs": [
    {
     "name": "stdout",
     "output_type": "stream",
     "text": [
      "The autoreload extension is already loaded. To reload it, use:\n",
      "  %reload_ext autoreload\n"
     ]
    }
   ],
   "source": [
    "%load_ext autoreload\n",
    "%autoreload 2\n",
    "\n",
    "# Add other paths\n",
    "import os, sys\n",
    "sys.path.append(os.path.abspath(os.path.join(\"../\")))\n",
    "import os\n",
    "import pandas as pd\n",
    "import numpy as np\n",
    "import statsmodels.formula.api as smf\n",
    "import seaborn as sns\n",
    "import matplotlib.pyplot as plt\n",
    "import sklearn.metrics\n",
    "import glob\n",
    "import datetime as dt\n",
    "from sklearn.metrics import r2_score\n",
    "from tqdm.auto import tqdm\n",
    "\n",
    "import helper_libraries.results_tools as results_tools"
   ]
  },
  {
   "cell_type": "markdown",
   "id": "412caf04-174f-49fa-81b4-f91b419a05c2",
   "metadata": {
    "tags": []
   },
   "source": [
    "# Import Data"
   ]
  },
  {
   "cell_type": "code",
   "execution_count": 9,
   "id": "1da0d2be-fd22-4726-bd81-d99e593ffdc3",
   "metadata": {},
   "outputs": [],
   "source": [
    "# Load returns and spreads\n",
    "fret_df, hrf_df = results_tools.load_mkt_rf_returns()\n",
    "spread_df = results_tools.load_spreads()"
   ]
  },
  {
   "cell_type": "markdown",
   "id": "450a6189-de9b-4eac-b9c2-069d7456783a",
   "metadata": {},
   "source": [
    "# Main"
   ]
  },
  {
   "cell_type": "markdown",
   "id": "aa8813e0-bf45-40c5-ba1c-47a27c0f3bb4",
   "metadata": {},
   "source": [
    "## Params"
   ]
  },
  {
   "cell_type": "code",
   "execution_count": 10,
   "id": "7c34ab54-8ad4-4c16-b414-86bb7d3d26fc",
   "metadata": {},
   "outputs": [],
   "source": [
    "## Params\n",
    "# List of all results folders\n",
    "results_folders = (\n",
    "    pd.read_excel(\"../../results/key.xlsx\").query('\"Done\" in Notes')[\"Folder\"].to_list()\n",
    ")  ##### <------------------ Finish models!\n",
    "# Year to start trading\n",
    "start_year = \"2004\"\n",
    "\n",
    "# Define strategies and models\n",
    "strategies_list = [\n",
    "    \"Market\",\n",
    "    \"Sign\",\n",
    "    \"Positive\",\n",
    "    \"Tanh\",\n",
    "    \"MS Strategy 2\",\n",
    "    \"MS Strategy 1\",\n",
    "]\n",
    "model_list = [\"Benchmark\", \"LR\", \"LR_PCA_select\", \"LR_Lasso_select\", \"Lasso\", \"Enet\"]\n",
    "\n",
    "# Latex table params\n",
    "table_loc = \"!h\"  # Should be something like htbp\n",
    "table_fontsize = \"footnotesize\"\n",
    "table_output_folder = \"../../docs/exhibits/tables\"\n",
    "\n",
    "# Metrics and their names\n",
    "metrics_list = [\"Return\", \"ReturnAdj\", \"Sharpe\", \"SharpeAdj\", \"Trades\", \"rvol\"]\n",
    "metrics_names_list = [\n",
    "    \"Return\",\n",
    "    \"Adjusted Return\",\n",
    "    \"Sharpe\",\n",
    "    \"Adjusted Sharpe\",\n",
    "    \"Trades\",\n",
    "    \"Realized Volatility\",\n",
    "]"
   ]
  },
  {
   "cell_type": "markdown",
   "id": "9e331fdc-1245-420a-bf71-274321626b92",
   "metadata": {},
   "source": [
    "## Functions"
   ]
  },
  {
   "cell_type": "code",
   "execution_count": 11,
   "id": "104cd3f4-37b7-4d23-85a8-ec95c9654cdd",
   "metadata": {},
   "outputs": [],
   "source": [
    "def plot_returns(oss_returns_all_df):\n",
    "    \n",
    "    fig, axs = plt.subplots(figsize=(11, 7), nrows=int(len(model_list) / 2), ncols=2, sharey=True)\n",
    "\n",
    "    for i, model_select in enumerate(model_list):\n",
    "\n",
    "        ax = axs.reshape(-1)[i]\n",
    "        oss_returns_strategy_df = oss_returns_all_df[model_select]\n",
    "        \n",
    "        # Plot cumulative returns\n",
    "        sns.lineplot(\n",
    "            x=\"datetime\",\n",
    "            y=\"value\",\n",
    "            hue=\"variable\",\n",
    "            data=oss_returns_strategy_df[[\"Market\", \"Sign\", \"Positive\", \"MS Strategy 1\"]]\n",
    "            .groupby(pd.Grouper(freq=\"1d\"))\n",
    "            .sum()\n",
    "            .cumsum()\n",
    "            .melt(ignore_index=False)\n",
    "            .reset_index(),\n",
    "            palette=\"Set2\",\n",
    "            lw=2,\n",
    "            ax=ax,\n",
    "        )\n",
    "        \n",
    "        # Highlight recessions\n",
    "        ax.axvspan(pd.to_datetime('2007-12-01'), pd.to_datetime('2009-06-01'), color = 'k', alpha = 0.05) \n",
    "        ax.axvspan(pd.to_datetime('2020-02-01'), pd.to_datetime('2020-04-01'), color = 'k', alpha = 0.05) \n",
    "        \n",
    "        # Other settings\n",
    "        ax.set_title(model_select)\n",
    "        ax.set_xlabel(None)\n",
    "        ax.set_ylabel('Cumulative Return')\n",
    "        ax.legend(loc=\"upper left\")\n",
    "\n",
    "    # Fix legend\n",
    "    handles, labels = axs.reshape(-1)[0].get_legend_handles_labels()\n",
    "    fig.legend(handles, labels, fontsize = 12, loc='lower center', ncol = 9, bbox_to_anchor=(0.5, 0))\n",
    "    for ax in axs.reshape(-1):\n",
    "        ax.get_legend().remove()\n",
    "    \n",
    "    # Make room for legend\n",
    "    plt.tight_layout()\n",
    "    plt.subplots_adjust(bottom = 0.125)\n",
    "    \n",
    "    return fig, axs"
   ]
  },
  {
   "cell_type": "markdown",
   "id": "0caf88e3-f759-4a41-a12a-9d694300bf92",
   "metadata": {
    "tags": []
   },
   "source": [
    "## Process each set of results"
   ]
  },
  {
   "cell_type": "code",
   "execution_count": 12,
   "id": "19a99a4e-de25-45c3-8bb9-f66ccbac7802",
   "metadata": {},
   "outputs": [
    {
     "data": {
      "application/vnd.jupyter.widget-view+json": {
       "model_id": "65e76e6339e447948e6865e54d4f96bc",
       "version_major": 2,
       "version_minor": 0
      },
      "text/plain": [
       "  0%|          | 0/9 [00:00<?, ?it/s]"
      ]
     },
     "metadata": {},
     "output_type": "display_data"
    }
   ],
   "source": [
    "for folder_name in tqdm(results_folders):\n",
    "\n",
    "    ### Prep\n",
    "    ## Get forecast data\n",
    "    forecast_oss_df, forecast_ins_df, results_folder_name = results_tools.load_model_results(\n",
    "        folder_name=folder_name,\n",
    "        debug=True,\n",
    "    )\n",
    "\n",
    "    # Model list?\n",
    "    model_list = [\n",
    "        x.replace(\"oss_\", \"\") for x in forecast_oss_df.columns if \"NN\" not in x\n",
    "    ]  ###################### <----- Remove this !!\n",
    "\n",
    "    ## Get trading results\n",
    "    # Filter data\n",
    "    forecast_oss_filter_df = forecast_oss_df.loc[start_year:].copy()\n",
    "    forecast_ins_filter_df = forecast_ins_df.loc[:start_year].copy()\n",
    "    fret_filter_df = fret_df.loc[start_year:].copy()\n",
    "    hrf_filter_df = hrf_df.loc[start_year:].copy()\n",
    "\n",
    "    # Trading strategies\n",
    "    (\n",
    "        oss_results_all_df,\n",
    "        oss_returns_all_df,\n",
    "        oss_weights_all_df,\n",
    "        oss_retpred_all_df,\n",
    "    ) = results_tools.get_trading_results(\n",
    "        forecast_oss_filter_df,\n",
    "        forecast_ins_filter_df,\n",
    "        spread_df,\n",
    "        fret_filter_df[\"ff__mkt\"],\n",
    "        hrf_filter_df[\"rf\"],\n",
    "        strategies_list,\n",
    "        model_list,\n",
    "        hold_cash=True,\n",
    "    )\n",
    "    \n",
    "    fig, _ = plot_returns(oss_returns_all_df)\n",
    "    fig.savefig(\n",
    "        f\"../../docs/exhibits/figures/return_timing_{results_folder_name}.pdf\"\n",
    "    )\n",
    "    plt.close()"
   ]
  },
  {
   "cell_type": "code",
   "execution_count": 17,
   "id": "ab7a33c6-6ccb-4785-a211-75dd1d3419e7",
   "metadata": {},
   "outputs": [],
   "source": [
    "### Prep\n",
    "## Get forecast data\n",
    "forecast_oss_df, forecast_ins_df, results_folder_name = results_tools.load_model_results(\n",
    "    folder_name='main',\n",
    "    debug=True,\n",
    ")\n",
    "\n",
    "# Model list?\n",
    "model_list = [\n",
    "    x.replace(\"oss_\", \"\") for x in forecast_oss_df.columns if \"NN\" not in x\n",
    "]  ###################### <----- Remove this !!\n",
    "\n",
    "## Get trading results\n",
    "# Filter data\n",
    "forecast_oss_filter_df = forecast_oss_df.loc[start_year:].copy()\n",
    "forecast_ins_filter_df = forecast_ins_df.loc[:start_year].copy()\n",
    "fret_filter_df = fret_df.loc[start_year:].copy()\n",
    "hrf_filter_df = hrf_df.loc[start_year:].copy()\n",
    "\n",
    "# Trading strategies\n",
    "(\n",
    "    oss_results_all_df,\n",
    "    oss_returns_all_df,\n",
    "    oss_weights_all_df,\n",
    "    oss_retpred_all_df,\n",
    ") = results_tools.get_trading_results(\n",
    "    forecast_oss_filter_df,\n",
    "    forecast_ins_filter_df,\n",
    "    spread_df,\n",
    "    fret_filter_df[\"ff__mkt\"],\n",
    "    hrf_filter_df[\"rf\"],\n",
    "    strategies_list,\n",
    "    model_list,\n",
    "    hold_cash=True,\n",
    ")"
   ]
  },
  {
   "cell_type": "markdown",
   "id": "21f5204a-ae02-4aef-b9e0-27972a45c8c2",
   "metadata": {},
   "source": [
    "## Latex"
   ]
  },
  {
   "cell_type": "code",
   "execution_count": 6,
   "id": "9f2e0526-cb07-4353-97d0-f3f9250a47ea",
   "metadata": {},
   "outputs": [
    {
     "name": "stdout",
     "output_type": "stream",
     "text": [
      "\\section{Return Timing}\n"
     ]
    },
    {
     "data": {
      "application/vnd.jupyter.widget-view+json": {
       "model_id": "b7335250d81e45e3a3a8e4e63fb02950",
       "version_major": 2,
       "version_minor": 0
      },
      "text/plain": [
       "  0%|          | 0/9 [00:00<?, ?it/s]"
      ]
     },
     "metadata": {},
     "output_type": "display_data"
    },
    {
     "name": "stdout",
     "output_type": "stream",
     "text": [
      "\n",
      "\\begin{figure}[!h]\n",
      "\\caption{Cumulative Return -- Main}  \n",
      "\\label{fig:return_timing_main}\n",
      "\\footnotesize\n",
      "\\vspace{-1em}\n",
      "\\begin{tabular}{@{\\extracolsep{0em}}cc}\n",
      "\\includegraphics[width=0.99\\linewidth]{../../docs/exhibits/figures/return_timing_main.pdf} \\\\\n",
      "\\multicolumn{2}{@{\\hspace{0.2in}}p{0.95\\linewidth}@{}}{ \\textit{Note:} We compute and plot cumulative daily returns for each model and strategy pair. }     \\\\  \n",
      "\\end{tabular}\n",
      "\\end{figure}\n",
      "\n",
      "\n",
      "\\clearpage\n",
      "\n",
      "\n",
      "\\begin{figure}[!h]\n",
      "\\caption{Cumulative Return -- Main Combined}  \n",
      "\\label{fig:return_timing_main_combined}\n",
      "\\footnotesize\n",
      "\\vspace{-1em}\n",
      "\\begin{tabular}{@{\\extracolsep{0em}}cc}\n",
      "\\includegraphics[width=0.99\\linewidth]{../../docs/exhibits/figures/return_timing_main_combined.pdf} \\\\\n",
      "\\multicolumn{2}{@{\\hspace{0.2in}}p{0.95\\linewidth}@{}}{ \\textit{Note:} We compute and plot cumulative daily returns for each model and strategy pair. }     \\\\  \n",
      "\\end{tabular}\n",
      "\\end{figure}\n",
      "\n",
      "\n",
      "\\clearpage\n",
      "\n",
      "\n",
      "\\begin{figure}[!h]\n",
      "\\caption{Cumulative Return -- Main Cts}  \n",
      "\\label{fig:return_timing_main_cts}\n",
      "\\footnotesize\n",
      "\\vspace{-1em}\n",
      "\\begin{tabular}{@{\\extracolsep{0em}}cc}\n",
      "\\includegraphics[width=0.99\\linewidth]{../../docs/exhibits/figures/return_timing_main_cts.pdf} \\\\\n",
      "\\multicolumn{2}{@{\\hspace{0.2in}}p{0.95\\linewidth}@{}}{ \\textit{Note:} We compute and plot cumulative daily returns for each model and strategy pair. }     \\\\  \n",
      "\\end{tabular}\n",
      "\\end{figure}\n",
      "\n",
      "\n",
      "\\clearpage\n",
      "\n",
      "\n",
      "\\begin{figure}[!h]\n",
      "\\caption{Cumulative Return -- Main Jmp}  \n",
      "\\label{fig:return_timing_main_jmp}\n",
      "\\footnotesize\n",
      "\\vspace{-1em}\n",
      "\\begin{tabular}{@{\\extracolsep{0em}}cc}\n",
      "\\includegraphics[width=0.99\\linewidth]{../../docs/exhibits/figures/return_timing_main_jmp.pdf} \\\\\n",
      "\\multicolumn{2}{@{\\hspace{0.2in}}p{0.95\\linewidth}@{}}{ \\textit{Note:} We compute and plot cumulative daily returns for each model and strategy pair. }     \\\\  \n",
      "\\end{tabular}\n",
      "\\end{figure}\n",
      "\n",
      "\n",
      "\\clearpage\n",
      "\n",
      "\n",
      "\\begin{figure}[!h]\n",
      "\\caption{Cumulative Return -- Main Withovernight}  \n",
      "\\label{fig:return_timing_main_withovernight}\n",
      "\\footnotesize\n",
      "\\vspace{-1em}\n",
      "\\begin{tabular}{@{\\extracolsep{0em}}cc}\n",
      "\\includegraphics[width=0.99\\linewidth]{../../docs/exhibits/figures/return_timing_main_withovernight.pdf} \\\\\n",
      "\\multicolumn{2}{@{\\hspace{0.2in}}p{0.95\\linewidth}@{}}{ \\textit{Note:} We compute and plot cumulative daily returns for each model and strategy pair. }     \\\\  \n",
      "\\end{tabular}\n",
      "\\end{figure}\n",
      "\n",
      "\n",
      "\\clearpage\n",
      "\n",
      "\n",
      "\\begin{figure}[!h]\n",
      "\\caption{Cumulative Return -- Main Withovernight Combined}  \n",
      "\\label{fig:return_timing_main_withovernight_combined}\n",
      "\\footnotesize\n",
      "\\vspace{-1em}\n",
      "\\begin{tabular}{@{\\extracolsep{0em}}cc}\n",
      "\\includegraphics[width=0.99\\linewidth]{../../docs/exhibits/figures/return_timing_main_withovernight_combined.pdf} \\\\\n",
      "\\multicolumn{2}{@{\\hspace{0.2in}}p{0.95\\linewidth}@{}}{ \\textit{Note:} We compute and plot cumulative daily returns for each model and strategy pair. }     \\\\  \n",
      "\\end{tabular}\n",
      "\\end{figure}\n",
      "\n",
      "\n",
      "\\clearpage\n",
      "\n",
      "\n",
      "\\begin{figure}[!h]\n",
      "\\caption{Cumulative Return -- Main Withovernight Cts}  \n",
      "\\label{fig:return_timing_main_withovernight_cts}\n",
      "\\footnotesize\n",
      "\\vspace{-1em}\n",
      "\\begin{tabular}{@{\\extracolsep{0em}}cc}\n",
      "\\includegraphics[width=0.99\\linewidth]{../../docs/exhibits/figures/return_timing_main_withovernight_cts.pdf} \\\\\n",
      "\\multicolumn{2}{@{\\hspace{0.2in}}p{0.95\\linewidth}@{}}{ \\textit{Note:} We compute and plot cumulative daily returns for each model and strategy pair. }     \\\\  \n",
      "\\end{tabular}\n",
      "\\end{figure}\n",
      "\n",
      "\n",
      "\\clearpage\n",
      "\n",
      "\n",
      "\\begin{figure}[!h]\n",
      "\\caption{Cumulative Return -- Main Withovernight Jmp}  \n",
      "\\label{fig:return_timing_main_withovernight_jmp}\n",
      "\\footnotesize\n",
      "\\vspace{-1em}\n",
      "\\begin{tabular}{@{\\extracolsep{0em}}cc}\n",
      "\\includegraphics[width=0.99\\linewidth]{../../docs/exhibits/figures/return_timing_main_withovernight_jmp.pdf} \\\\\n",
      "\\multicolumn{2}{@{\\hspace{0.2in}}p{0.95\\linewidth}@{}}{ \\textit{Note:} We compute and plot cumulative daily returns for each model and strategy pair. }     \\\\  \n",
      "\\end{tabular}\n",
      "\\end{figure}\n",
      "\n",
      "\n",
      "\\clearpage\n",
      "\n",
      "\n",
      "\\begin{figure}[!h]\n",
      "\\caption{Cumulative Return -- Main Smb}  \n",
      "\\label{fig:return_timing_main_smb}\n",
      "\\footnotesize\n",
      "\\vspace{-1em}\n",
      "\\begin{tabular}{@{\\extracolsep{0em}}cc}\n",
      "\\includegraphics[width=0.99\\linewidth]{../../docs/exhibits/figures/return_timing_main_smb.pdf} \\\\\n",
      "\\multicolumn{2}{@{\\hspace{0.2in}}p{0.95\\linewidth}@{}}{ \\textit{Note:} We compute and plot cumulative daily returns for each model and strategy pair. }     \\\\  \n",
      "\\end{tabular}\n",
      "\\end{figure}\n",
      "\n",
      "\n",
      "\\clearpage\n",
      "\n"
     ]
    }
   ],
   "source": [
    "print(r\"\\section{Return Timing}\")\n",
    "\n",
    "for folder_name in tqdm(results_folders):\n",
    "\n",
    "    results_folder_name = folder_name\n",
    "    filename = f\"../../docs/exhibits/figures/return_timing_{results_folder_name}.pdf\"\n",
    "    fig_label = 'return_timing_' + results_folder_name\n",
    "                \n",
    "\n",
    "    latex_str = (\n",
    "r\"\"\"\n",
    "\\begin{figure}[\"\"\" + table_loc + r\"\"\"]\n",
    "\\caption{Cumulative Return -- \"\"\" + folder_name.replace(\"_\", \" \").title() + r\"\"\"}  \n",
    "\\label{fig:\"\"\" + fig_label + r\"\"\"}\n",
    "\\footnotesize\n",
    "\\vspace{-1em}\n",
    "\\begin{tabular}{@{\\extracolsep{0em}}cc}\n",
    "\\includegraphics[width=0.99\\linewidth]{\"\"\"\n",
    "+ filename\n",
    "+ r\"\"\"} \\\\\n",
    "\\multicolumn{2}{@{\\hspace{0.2in}}p{0.95\\linewidth}@{}}{ \\textit{Note:} We compute and plot cumulative daily returns for each model and strategy pair. }     \\\\  \n",
    "\\end{tabular}\n",
    "\\end{figure}\n",
    "\"\"\"\n",
    "    )\n",
    "    print(latex_str)\n",
    "\n",
    "    print(\"\\n\\\\clearpage\\n\")"
   ]
  },
  {
   "cell_type": "markdown",
   "id": "f14e349e-bbad-4956-99a9-de404ba753c4",
   "metadata": {},
   "source": [
    "# Scratch"
   ]
  },
  {
   "cell_type": "markdown",
   "id": "85e4321b-04c3-483a-9b44-544753e77783",
   "metadata": {},
   "source": [
    "## Difference between model returns and market"
   ]
  },
  {
   "cell_type": "code",
   "execution_count": 22,
   "id": "9b222f83-8609-43d9-bb68-5764b594235a",
   "metadata": {},
   "outputs": [],
   "source": [
    "folder_name = 'main'\n",
    "\n",
    "### Prep\n",
    "## Get forecast data\n",
    "forecast_oss_df, forecast_ins_df, results_folder_name = results_tools.load_model_results(\n",
    "    folder_name=folder_name,\n",
    "    debug=True,\n",
    ")\n",
    "\n",
    "# Model list?\n",
    "model_list = [\n",
    "    x.replace(\"oss_\", \"\") for x in forecast_oss_df.columns if \"NN\" not in x\n",
    "]  ###################### <----- Remove this !!\n",
    "\n",
    "## Get trading results\n",
    "# Filter data\n",
    "forecast_oss_filter_df = forecast_oss_df.loc[start_year:].copy()\n",
    "forecast_ins_filter_df = forecast_ins_df.loc[:str(int(start_year)-1)].copy()\n",
    "fret_filter_df = fret_df.loc[start_year:].copy()\n",
    "hrf_filter_df = hrf_df.loc[start_year:].copy()\n",
    "\n",
    "# Trading strategies\n",
    "(\n",
    "    oss_results_all_df,\n",
    "    oss_returns_all_df,\n",
    "    oss_weights_all_df,\n",
    "    oss_retpred_all_df,\n",
    ") = results_tools.get_trading_results(\n",
    "    forecast_oss_filter_df,\n",
    "    forecast_ins_filter_df,\n",
    "    spread_df,\n",
    "    fret_filter_df[\"ff__mkt\"],\n",
    "    hrf_filter_df[\"rf\"],\n",
    "    strategies_list,\n",
    "    model_list,\n",
    "    hold_cash=False,\n",
    ")"
   ]
  },
  {
   "cell_type": "code",
   "execution_count": 23,
   "id": "98d7a05d-417c-439f-af13-62ed59a79367",
   "metadata": {},
   "outputs": [
    {
     "data": {
      "image/png": "[encoded data removed]",
      "text/plain": [
       "<Figure size 792x504 with 6 Axes>"
      ]
     },
     "metadata": {
      "needs_background": "light"
     },
     "output_type": "display_data"
    }
   ],
   "source": [
    "fig, _ = plot_returns(oss_returns_all_df.subtract(oss_returns_all_df['Benchmark']['Market'].values, axis=0))\n",
    "fig.savefig(\n",
    "    f\"../../docs/exhibits/figures/return_timing_main_diff.pdf\"\n",
    ")"
   ]
  },
  {
   "cell_type": "code",
   "execution_count": null,
   "id": "199dc1b0-07a2-4a3e-b8ce-f6702fa5f82f",
   "metadata": {},
   "outputs": [],
   "source": []
  }
 ],
 "metadata": {
  "kernelspec": {
   "display_name": "Python 3 (ipykernel)",
   "language": "python",
   "name": "python3"
  },
  "language_info": {
   "codemirror_mode": {
    "name": "ipython",
    "version": 3
   },
   "file_extension": ".py",
   "mimetype": "text/x-python",
   "name": "python",
   "nbconvert_exporter": "python",
   "pygments_lexer": "ipython3",
   "version": "3.8.10"
  }
 },
 "nbformat": 4,
 "nbformat_minor": 5
}
