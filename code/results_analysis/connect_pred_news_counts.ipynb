{
 "cells": [
  {
   "cell_type": "code",
   "execution_count": 57,
   "id": "2e22d58b-758a-4259-b35e-825d0a43e6cf",
   "metadata": {},
   "outputs": [
    {
     "name": "stdout",
     "output_type": "stream",
     "text": [
      "The autoreload extension is already loaded. To reload it, use:\n",
      "  %reload_ext autoreload\n"
     ]
    }
   ],
   "source": [
    "%load_ext autoreload\n",
    "%autoreload 2\n",
    "\n",
    "# Add other paths\n",
    "import os, sys\n",
    "sys.path.append(os.path.abspath(os.path.join(\"../\")))\n",
    "import pandas as pd\n",
    "import numpy as np\n",
    "import datetime as dt\n",
    "import matplotlib\n",
    "import matplotlib.pyplot as plt\n",
    "import matplotlib.ticker as mtick\n",
    "import matplotlib.dates as mdates\n",
    "import seaborn as sns\n",
    "import statsmodels.formula.api as smf\n",
    "import statsmodels.api as sm\n",
    "import helper_libraries.results_tools as results_tools\n",
    "import multiprocessing\n",
    "import functools\n",
    "import sklearn.linear_model\n",
    "import warnings\n",
    "from tqdm.auto import tqdm\n",
    "from sklearn.exceptions import ConvergenceWarning\n",
    "\n",
    "warnings.filterwarnings('ignore', category=ConvergenceWarning)"
   ]
  },
  {
   "cell_type": "markdown",
   "id": "c464686c-80a9-44a1-82f8-52e2f1e73670",
   "metadata": {},
   "source": [
    "# Import data"
   ]
  },
  {
   "cell_type": "markdown",
   "id": "0ca8d16b-823b-4325-80b8-c4bf0e41daa0",
   "metadata": {},
   "source": [
    "## News"
   ]
  },
  {
   "cell_type": "code",
   "execution_count": 28,
   "id": "1097800d-8ae4-430d-8883-a67c2cfa53e8",
   "metadata": {},
   "outputs": [],
   "source": [
    "# Params\n",
    "news_counts_directory = '../../../../GitHub/SDF-HF/data/proc/news_counts'"
   ]
  },
  {
   "cell_type": "code",
   "execution_count": 29,
   "id": "a769aad2-6129-4ef5-9d92-694ed6508d83",
   "metadata": {},
   "outputs": [],
   "source": [
    "news_counts_df = pd.read_parquet(f'{news_counts_directory}')\n",
    "news_counts_df.columns = [x.replace('&', 'and') for x in news_counts_df.columns]\n",
    "\n",
    "# Remove certain topics\n",
    "news_counts_df = news_counts_df.drop(['nasd', 'pensions', 'earnings_losses'], axis=1)\n",
    "\n",
    "# Get list of all topics\n",
    "news_key_terms = list(news_counts_df.columns)[:-1]"
   ]
  },
  {
   "cell_type": "markdown",
   "id": "088d3b98-951b-4920-b9c4-6f11d8d3677e",
   "metadata": {},
   "source": [
    "## Returns and Spreads"
   ]
  },
  {
   "cell_type": "code",
   "execution_count": 27,
   "id": "1aad9adf-8ad9-4753-80a0-0dc7a2a097e1",
   "metadata": {},
   "outputs": [],
   "source": [
    "# Load returns and spreads\n",
    "fret_df, hrf_df = results_tools.load_mkt_rf_returns()\n",
    "spread_df = results_tools.load_spreads()"
   ]
  },
  {
   "cell_type": "markdown",
   "id": "f186d26c-75e3-4f46-85d1-051849087c6d",
   "metadata": {},
   "source": [
    "## Trading"
   ]
  },
  {
   "cell_type": "code",
   "execution_count": 92,
   "id": "bce0e6c5-7b9e-4e4e-87d7-07ba1b4f6c3d",
   "metadata": {},
   "outputs": [],
   "source": [
    "# Year to start trading\n",
    "start_year = '2004'\n",
    "\n",
    "# Define strategies and models\n",
    "strategies_list = [\n",
    "    \"Market\",\n",
    "    \"Sign\",\n",
    "    \"Positive\",\n",
    "    \"Tanh\",\n",
    "    \"MS Strategy 0.9\",\n",
    "    \"MS Strategy 0.5\",\n",
    "]\n",
    "model_list = [\n",
    "    \"Benchmark\",\n",
    "    \"LR\",\n",
    "    \"LR_PCA_select\",\n",
    "    \"LR_Lasso_select\",\n",
    "    \"Lasso\",\n",
    "    \"Enet\"\n",
    "]"
   ]
  },
  {
   "cell_type": "code",
   "execution_count": 93,
   "id": "11fc502a-10ad-40d6-aad1-017ba61f80cb",
   "metadata": {},
   "outputs": [
    {
     "name": "stdout",
     "output_type": "stream",
     "text": [
      "Loading the following model results...\n",
      "--------------------------------------------------\n",
      "Folder         main\n",
      "Overnight     False\n",
      "OOSPeriods        2\n",
      "Predictors      All\n",
      "Notes          Done\n",
      "--------------------------------------------------\n"
     ]
    }
   ],
   "source": [
    "# Load model results\n",
    "forecast_oss_df, forecast_ins_df, results_folder_name = results_tools.load_model_results(\n",
    "    overnight=False,\n",
    "    oos_periods=2,\n",
    "    predictors=\"All\",\n",
    "    debug=True,\n",
    ")\n",
    "\n",
    "# Filter data\n",
    "forecast_oss_filter_df = forecast_oss_df.loc[start_year:].copy()\n",
    "forecast_ins_filter_df = forecast_ins_df.loc[start_year:].copy()\n",
    "fret_filter_df = fret_df.loc[start_year:].copy()\n",
    "hrf_filter_df = hrf_df.loc[start_year:].copy()\n",
    "\n",
    "# Trading strategies\n",
    "(\n",
    "    oss_results_all_df,\n",
    "    oss_returns_all_df,\n",
    "    oss_weights_all_df,\n",
    "    oss_retpred_all_df,\n",
    ") = results_tools.get_trading_results(\n",
    "    forecast_oss_filter_df,\n",
    "    spread_df,\n",
    "    fret_filter_df[\"ff__mkt\"],\n",
    "    hrf_filter_df[\"rf\"],\n",
    "    strategies_list,\n",
    "    model_list,\n",
    "    hold_cash=False,\n",
    ")"
   ]
  },
  {
   "cell_type": "markdown",
   "id": "a1d6a814-127c-4984-926d-1f1580fa9f76",
   "metadata": {},
   "source": [
    "# Analysis"
   ]
  },
  {
   "cell_type": "markdown",
   "id": "cab2f4d6-67bd-4a83-bd8d-d28e4f49fd66",
   "metadata": {},
   "source": [
    "## Prep additional data"
   ]
  },
  {
   "cell_type": "code",
   "execution_count": 94,
   "id": "cf13e101-39af-4335-961a-971b44366846",
   "metadata": {},
   "outputs": [],
   "source": [
    "oss_returns_all_daily_df = oss_returns_all_df.groupby(pd.Grouper(freq = '1d')).mean()\n",
    "oss_weights_all_daily_df = oss_weights_all_df.groupby(pd.Grouper(freq = '1d')).mean() \n",
    "oss_retpred_all_daily_df = oss_retpred_all_df.groupby(pd.Grouper(freq = '1d')).mean()\n",
    "news_counts_daily_df = news_counts_df.groupby(pd.Grouper(freq = '1d')).mean()"
   ]
  },
  {
   "cell_type": "markdown",
   "id": "993ccdea-b6ee-4cc8-88a3-4393a3f59fe3",
   "metadata": {},
   "source": [
    "## Get topics associated with weights"
   ]
  },
  {
   "cell_type": "code",
   "execution_count": 95,
   "id": "a2ebd4a3-aad9-43d9-bbeb-d1ea0ca3dcf1",
   "metadata": {},
   "outputs": [],
   "source": [
    "def reformat_results(results_list):\n",
    "    \n",
    "    # Format results as dataframe\n",
    "    results_df = pd.DataFrame(results_list, columns = ['year', 'model', 'strategy', 'nonzero_params', 'topics'])\n",
    "\n",
    "    # Count number of topics in each period\n",
    "    results_df['n_topics'] = results_df['topics'].apply(lambda x: len(x))\n",
    "\n",
    "    # Add param estimates\n",
    "    results_df = results_df.join(results_df['nonzero_params'].apply(pd.Series).fillna(0))\n",
    "    \n",
    "    return results_df"
   ]
  },
  {
   "cell_type": "code",
   "execution_count": 96,
   "id": "a3c3acdf-59ee-4088-a883-e615b200f95b",
   "metadata": {},
   "outputs": [],
   "source": [
    "def plot_results(results_df, model_strat_list, sort_func, value_func, top_k = 15):\n",
    "    \n",
    "    ## Heatmap of topics for particular model+strat\n",
    "    fig, axs_grid = plt.subplots(figsize=(18, 18), ncols=3, nrows = 4)\n",
    "    axs = axs_grid.reshape(-1)\n",
    "\n",
    "    # Colormap\n",
    "    norm = matplotlib.colors.Normalize(-1, 1)\n",
    "    colors = [[norm(-1.0), \"lightcoral\"], [norm(0.0), \"white\"], [norm(1.0), \"dodgerblue\"]]\n",
    "\n",
    "    cmap = matplotlib.colors.LinearSegmentedColormap.from_list(\"\", colors)\n",
    "\n",
    "    for idx, model_strat in enumerate(model_strat_list):\n",
    "\n",
    "        model, strat = model_strat\n",
    "\n",
    "        # Pivot\n",
    "        model_strat_filter_df = (\n",
    "            results_df.query(\"model == @model & strategy == @strat\")\n",
    "            .sort_values(by=\"year\")\n",
    "            .set_index(\"year\")\n",
    "        )        \n",
    "        model_strat_topic_params = model_strat_filter_df[\n",
    "            [x for x in news_key_terms if x in model_strat_filter_df.columns]\n",
    "        ]\n",
    "        model_strat_topics_sorted = (\n",
    "            model_strat_topic_params.pipe(sort_func).sum().sort_values(ascending=False)[:top_k]\n",
    "        )\n",
    "\n",
    "        # Plot\n",
    "        ax = axs[idx]\n",
    "        sns.heatmap(\n",
    "            (model_strat_topic_params[model_strat_topics_sorted.index].T).pipe(value_func),\n",
    "            cmap=cmap,\n",
    "            # vmax=1,\n",
    "            # vmin=0,\n",
    "            center = 0,\n",
    "            linewidths=0.5,\n",
    "            linecolor=(0, 0, 0, 0.1),\n",
    "            cbar=False,\n",
    "            ax=ax,\n",
    "        )\n",
    "        \n",
    "        # Plot settings\n",
    "        ax.set_title(model + \" - \" + strat)\n",
    "        plt.tight_layout()\n",
    "        \n",
    "    return model_strat_topic_params, fig, ax"
   ]
  },
  {
   "cell_type": "code",
   "execution_count": 97,
   "id": "1d680c3c-a581-4db6-a304-d3f1be80b6d2",
   "metadata": {},
   "outputs": [],
   "source": [
    "def fit_news(dependent_df, independent_df, alpha_param, year):\n",
    "\n",
    "    # Store results for each model and strategy\n",
    "    results_year = []\n",
    "\n",
    "    ## Regression data\n",
    "    # Reformat columns to single index\n",
    "    dependent_rfmt_df = dependent_df.copy()\n",
    "    dependent_rfmt_df.columns = [\"::\".join(col).strip() for col in dependent_df.columns.values]\n",
    "    data_df = dependent_rfmt_df.join(independent_df.copy()).loc[str(year)].dropna()\n",
    "\n",
    "    # Normalize\n",
    "    data_df = (data_df - np.mean(data_df, axis=0)) / data_df.std(axis=0)\n",
    "\n",
    "    # Deal with dependent variable that is just constant (market weights)\n",
    "    data_df = data_df.fillna(1)\n",
    "\n",
    "    for model, strat in model_strat_list:\n",
    "        \n",
    "        # Skip model+strat if we removed it earlier from the dependent dataframe\n",
    "        if (model + \"::\" + strat) not in data_df.columns:\n",
    "            results_year.append([year, model, strat, pd.Series([], dtype = float), []])\n",
    "            continue\n",
    "\n",
    "        # Estimate LASSO\n",
    "        clf = sklearn.linear_model.Lasso(alpha=alpha_param)\n",
    "        fit = clf.fit(data_df[news_key_terms], data_df[model + \"::\" + strat])\n",
    "        fit_params = pd.Series(fit.coef_, index=news_key_terms)\n",
    "\n",
    "        # Get selected topics\n",
    "        nonzero_params = fit_params.loc[fit_params != 0]\n",
    "        selected_topics = list(fit_params.loc[fit_params != 0].index)\n",
    "\n",
    "        # Store to results\n",
    "        results_year.append([year, model, strat, nonzero_params, selected_topics])\n",
    "\n",
    "    return results_year"
   ]
  },
  {
   "cell_type": "code",
   "execution_count": 98,
   "id": "4b547eb3-a282-48b0-be39-db0c3d667184",
   "metadata": {},
   "outputs": [],
   "source": [
    "## Params\n",
    "# Dependent variables\n",
    "dependent_var_dict = {\n",
    "    \"returns\": oss_returns_all_df,\n",
    "    \"weights\": oss_weights_all_df,\n",
    "    # \"predictions\": oss_retpred_all_df, # Cannot handle this!\n",
    "    \"returns_daily\": oss_returns_all_daily_df,\n",
    "    \"weights_daily\": oss_weights_all_daily_df,\n",
    "    # \"predictions_daily\": oss_retpred_all_daily_df,\n",
    "}\n",
    "\n",
    "# Lasso penalty for each dependent var\n",
    "alpha_params = {\n",
    "    \"returns\": 0.015,\n",
    "    \"weights\": 0.02,\n",
    "    \"returns_daily\": 0.075,\n",
    "    \"weights_daily\": 0.05,\n",
    "}\n",
    "\n",
    "# List of models+strategies to test\n",
    "model_strat_list = [\n",
    "    (model, strat)\n",
    "    for strat in [\"Market\", \"Sign\", \"Positive\", \"MS Strategy 0.5\"]\n",
    "    for model in [\"Benchmark\", \"Enet\", \"Lasso\"]\n",
    "]\n",
    "\n",
    "\n",
    "# List of years to process\n",
    "year_list = pd.unique(oss_returns_all_df.index.year)\n",
    "\n",
    "# Dictionary of functions to use when determing the top (k) topics\n",
    "sort_func_dict = {\"sortedbynonzero\": lambda x: x != 0}\n",
    "\n",
    "# Dictionary of functions to use when plotting\n",
    "value_func_dict = {\"nonzero\": lambda x: x != 0, \"coef\": lambda x: x}"
   ]
  },
  {
   "cell_type": "code",
   "execution_count": 108,
   "id": "0ff7d4e4-9769-4b76-b535-2a67a8090ea0",
   "metadata": {},
   "outputs": [
    {
     "name": "stdout",
     "output_type": "stream",
     "text": [
      "Processing Dependent Variable: returns\n"
     ]
    },
    {
     "data": {
      "application/vnd.jupyter.widget-view+json": {
       "model_id": "5c35a8f2b6da4a0daea26edf0eea219e",
       "version_major": 2,
       "version_minor": 0
      },
      "text/plain": [
       "  0%|          | 0/17 [00:00<?, ?it/s]"
      ]
     },
     "metadata": {},
     "output_type": "display_data"
    },
    {
     "name": "stdout",
     "output_type": "stream",
     "text": [
      "Processing Dependent Variable: weights\n"
     ]
    },
    {
     "data": {
      "application/vnd.jupyter.widget-view+json": {
       "model_id": "884f6f75e7f341399efcf7c2107504f7",
       "version_major": 2,
       "version_minor": 0
      },
      "text/plain": [
       "  0%|          | 0/17 [00:00<?, ?it/s]"
      ]
     },
     "metadata": {},
     "output_type": "display_data"
    },
    {
     "name": "stdout",
     "output_type": "stream",
     "text": [
      "Processing Dependent Variable: returns_daily\n"
     ]
    },
    {
     "data": {
      "application/vnd.jupyter.widget-view+json": {
       "model_id": "1795c60cef8f4c7e840863de540e8373",
       "version_major": 2,
       "version_minor": 0
      },
      "text/plain": [
       "  0%|          | 0/17 [00:00<?, ?it/s]"
      ]
     },
     "metadata": {},
     "output_type": "display_data"
    },
    {
     "name": "stdout",
     "output_type": "stream",
     "text": [
      "Processing Dependent Variable: weights_daily\n"
     ]
    },
    {
     "data": {
      "application/vnd.jupyter.widget-view+json": {
       "model_id": "b581ac98779d4e0db09f0914c3311e65",
       "version_major": 2,
       "version_minor": 0
      },
      "text/plain": [
       "  0%|          | 0/17 [00:00<?, ?it/s]"
      ]
     },
     "metadata": {},
     "output_type": "display_data"
    }
   ],
   "source": [
    "# with multiprocessing.Pool(11) as p:\n",
    "\n",
    "for dep_var_name, dependent_df in dependent_var_dict.items():\n",
    "\n",
    "    print(f\"Processing Dependent Variable: {dep_var_name}\")\n",
    "\n",
    "    # Drop \"Market\" trading strategy if meaningless\n",
    "    if \"weights\" in dep_var_name or \"predictions\" in dep_var_name:\n",
    "        dependent_df = (\n",
    "            dependent_df.swaplevel(0, 1, axis=1)\n",
    "            .sort_index(axis=1)\n",
    "            .drop([\"Market\"], axis=1)\n",
    "            .swaplevel(0, 1, axis=1)\n",
    "            .copy()\n",
    "        )\n",
    "\n",
    "    # Get appropriate independent variable\n",
    "    if \"_daily\" in dep_var_name:\n",
    "        independent_df = news_counts_daily_df\n",
    "    else:\n",
    "        independent_df = news_counts_df\n",
    "\n",
    "    # Define function to process each year\n",
    "    def helper_func(year):\n",
    "        return fit_news(dependent_df, independent_df, alpha_params.get(dep_var_name), year)\n",
    "\n",
    "    # Go through each year and estimate key topics for each model\n",
    "    results_list = []\n",
    "\n",
    "    for results_year in tqdm(map(helper_func, year_list), total=len(year_list)):\n",
    "        results_list += results_year\n",
    "\n",
    "    results_df = reformat_results(results_list)\n",
    "\n",
    "    # Make plots\n",
    "    for sort_func_name, sort_func in sort_func_dict.items():\n",
    "        for value_func_name, value_func in value_func_dict.items():\n",
    "            _, fig, ax = plot_results(\n",
    "                results_df, model_strat_list, sort_func, value_func, top_k=15\n",
    "            )\n",
    "            fig.savefig(\n",
    "                f\"../../docs/exhibits/figures/news_counts_grid_{dep_var_name}_{sort_func_name}_{value_func_name}.pdf\"\n",
    "            )\n",
    "            plt.close()"
   ]
  },
  {
   "cell_type": "markdown",
   "id": "86f70955-94c5-484a-bcaf-a3692113065a",
   "metadata": {},
   "source": [
    "## Latex"
   ]
  },
  {
   "cell_type": "code",
   "execution_count": 128,
   "id": "176fd42b-d636-4b84-8c54-3f6135bd8ac0",
   "metadata": {},
   "outputs": [
    {
     "name": "stdout",
     "output_type": "stream",
     "text": [
      "\\section{News Topic Associations}\n",
      "\\subsection{Returns}\n",
      "\n",
      "\\begin{figure}[t]\n",
      "\\caption{Associated News Topics Sorted by Selection Frequency }  \n",
      "\\label{fig:news_counts_grid_returns_sortedbynonzero_nonzero}\n",
      "\\footnotesize\n",
      "\\vspace{-1em}\n",
      "\\begin{tabular}{@{\\extracolsep{0em}}cc}\n",
      "    \\includegraphics[width=0.99\\linewidth]{../../docs/exhibits/figures/news_counts_grid_returns_sortedbynonzero_nonzero.pdf} \\\\\n",
      "    \\multicolumn{2}{@{\\hspace{0.2in}}p{0.95\\linewidth}@{}}{ \\textit{Note:} We compute returns for each model and strategy pair. Then, we run yearly LASSO regressions using news topic counts as the regressors. Finally, we sort the topics by how often they are selected and report the top 15 in each grid. The shaded blocks mark years where the news topic was selected as a regressor. [[[[This footnote needs to be reworded!]]]]}     \\\\  \n",
      "\\end{tabular}\n",
      "\\end{figure}\n",
      "\n",
      "\n",
      "\\begin{figure}[t]\n",
      "\\caption{Associated News Topics Sorted by Selection Frequency (Coefficients)}  \n",
      "\\label{fig:news_counts_grid_returns_sortedbynonzero_coef}\n",
      "\\footnotesize\n",
      "\\vspace{-1em}\n",
      "\\begin{tabular}{@{\\extracolsep{0em}}cc}\n",
      "    \\includegraphics[width=0.99\\linewidth]{../../docs/exhibits/figures/news_counts_grid_returns_sortedbynonzero_coef.pdf} \\\\\n",
      "    \\multicolumn{2}{@{\\hspace{0.2in}}p{0.95\\linewidth}@{}}{ \\textit{Note:} We compute returns for each model and strategy pair. Then, we run yearly LASSO regressions using news topic counts as the regressors. Finally, we sort the topics by how often they are selected and report the top 15 in each grid. The shaded blocks mark years where the news topic was selected as a regressor. [[[[This footnote needs to be reworded!]]]]}     \\\\  \n",
      "\\end{tabular}\n",
      "\\end{figure}\n",
      "\n",
      "\n",
      "\\clearpage\n",
      "\n",
      "\\subsection{Weights}\n",
      "\n",
      "\\begin{figure}[t]\n",
      "\\caption{Associated News Topics Sorted by Selection Frequency }  \n",
      "\\label{fig:news_counts_grid_weights_sortedbynonzero_nonzero}\n",
      "\\footnotesize\n",
      "\\vspace{-1em}\n",
      "\\begin{tabular}{@{\\extracolsep{0em}}cc}\n",
      "    \\includegraphics[width=0.99\\linewidth]{../../docs/exhibits/figures/news_counts_grid_weights_sortedbynonzero_nonzero.pdf} \\\\\n",
      "    \\multicolumn{2}{@{\\hspace{0.2in}}p{0.95\\linewidth}@{}}{ \\textit{Note:} We compute weights for each model and strategy pair. Then, we run yearly LASSO regressions using news topic counts as the regressors. Finally, we sort the topics by how often they are selected and report the top 15 in each grid. The shaded blocks mark years where the news topic was selected as a regressor. [[[[This footnote needs to be reworded!]]]]}     \\\\  \n",
      "\\end{tabular}\n",
      "\\end{figure}\n",
      "\n",
      "\n",
      "\\begin{figure}[t]\n",
      "\\caption{Associated News Topics Sorted by Selection Frequency (Coefficients)}  \n",
      "\\label{fig:news_counts_grid_weights_sortedbynonzero_coef}\n",
      "\\footnotesize\n",
      "\\vspace{-1em}\n",
      "\\begin{tabular}{@{\\extracolsep{0em}}cc}\n",
      "    \\includegraphics[width=0.99\\linewidth]{../../docs/exhibits/figures/news_counts_grid_weights_sortedbynonzero_coef.pdf} \\\\\n",
      "    \\multicolumn{2}{@{\\hspace{0.2in}}p{0.95\\linewidth}@{}}{ \\textit{Note:} We compute weights for each model and strategy pair. Then, we run yearly LASSO regressions using news topic counts as the regressors. Finally, we sort the topics by how often they are selected and report the top 15 in each grid. The shaded blocks mark years where the news topic was selected as a regressor. [[[[This footnote needs to be reworded!]]]]}     \\\\  \n",
      "\\end{tabular}\n",
      "\\end{figure}\n",
      "\n",
      "\n",
      "\\clearpage\n",
      "\n",
      "\\subsection{Returns Daily}\n",
      "\n",
      "\\begin{figure}[t]\n",
      "\\caption{Associated News Topics Sorted by Selection Frequency }  \n",
      "\\label{fig:news_counts_grid_returns_daily_sortedbynonzero_nonzero}\n",
      "\\footnotesize\n",
      "\\vspace{-1em}\n",
      "\\begin{tabular}{@{\\extracolsep{0em}}cc}\n",
      "    \\includegraphics[width=0.99\\linewidth]{../../docs/exhibits/figures/news_counts_grid_returns_daily_sortedbynonzero_nonzero.pdf} \\\\\n",
      "    \\multicolumn{2}{@{\\hspace{0.2in}}p{0.95\\linewidth}@{}}{ \\textit{Note:} We compute returns daily for each model and strategy pair. Then, we run yearly LASSO regressions using news topic counts as the regressors. Finally, we sort the topics by how often they are selected and report the top 15 in each grid. The shaded blocks mark years where the news topic was selected as a regressor. [[[[This footnote needs to be reworded!]]]]}     \\\\  \n",
      "\\end{tabular}\n",
      "\\end{figure}\n",
      "\n",
      "\n",
      "\\begin{figure}[t]\n",
      "\\caption{Associated News Topics Sorted by Selection Frequency (Coefficients)}  \n",
      "\\label{fig:news_counts_grid_returns_daily_sortedbynonzero_coef}\n",
      "\\footnotesize\n",
      "\\vspace{-1em}\n",
      "\\begin{tabular}{@{\\extracolsep{0em}}cc}\n",
      "    \\includegraphics[width=0.99\\linewidth]{../../docs/exhibits/figures/news_counts_grid_returns_daily_sortedbynonzero_coef.pdf} \\\\\n",
      "    \\multicolumn{2}{@{\\hspace{0.2in}}p{0.95\\linewidth}@{}}{ \\textit{Note:} We compute returns daily for each model and strategy pair. Then, we run yearly LASSO regressions using news topic counts as the regressors. Finally, we sort the topics by how often they are selected and report the top 15 in each grid. The shaded blocks mark years where the news topic was selected as a regressor. [[[[This footnote needs to be reworded!]]]]}     \\\\  \n",
      "\\end{tabular}\n",
      "\\end{figure}\n",
      "\n",
      "\n",
      "\\clearpage\n",
      "\n",
      "\\subsection{Weights Daily}\n",
      "\n",
      "\\begin{figure}[t]\n",
      "\\caption{Associated News Topics Sorted by Selection Frequency }  \n",
      "\\label{fig:news_counts_grid_weights_daily_sortedbynonzero_nonzero}\n",
      "\\footnotesize\n",
      "\\vspace{-1em}\n",
      "\\begin{tabular}{@{\\extracolsep{0em}}cc}\n",
      "    \\includegraphics[width=0.99\\linewidth]{../../docs/exhibits/figures/news_counts_grid_weights_daily_sortedbynonzero_nonzero.pdf} \\\\\n",
      "    \\multicolumn{2}{@{\\hspace{0.2in}}p{0.95\\linewidth}@{}}{ \\textit{Note:} We compute weights daily for each model and strategy pair. Then, we run yearly LASSO regressions using news topic counts as the regressors. Finally, we sort the topics by how often they are selected and report the top 15 in each grid. The shaded blocks mark years where the news topic was selected as a regressor. [[[[This footnote needs to be reworded!]]]]}     \\\\  \n",
      "\\end{tabular}\n",
      "\\end{figure}\n",
      "\n",
      "\n",
      "\\begin{figure}[t]\n",
      "\\caption{Associated News Topics Sorted by Selection Frequency (Coefficients)}  \n",
      "\\label{fig:news_counts_grid_weights_daily_sortedbynonzero_coef}\n",
      "\\footnotesize\n",
      "\\vspace{-1em}\n",
      "\\begin{tabular}{@{\\extracolsep{0em}}cc}\n",
      "    \\includegraphics[width=0.99\\linewidth]{../../docs/exhibits/figures/news_counts_grid_weights_daily_sortedbynonzero_coef.pdf} \\\\\n",
      "    \\multicolumn{2}{@{\\hspace{0.2in}}p{0.95\\linewidth}@{}}{ \\textit{Note:} We compute weights daily for each model and strategy pair. Then, we run yearly LASSO regressions using news topic counts as the regressors. Finally, we sort the topics by how often they are selected and report the top 15 in each grid. The shaded blocks mark years where the news topic was selected as a regressor. [[[[This footnote needs to be reworded!]]]]}     \\\\  \n",
      "\\end{tabular}\n",
      "\\end{figure}\n",
      "\n",
      "\n",
      "\\clearpage\n",
      "\n"
     ]
    }
   ],
   "source": [
    "print(r\"\\section{News Topic Associations}\")\n",
    "\n",
    "for dep_var_name, dependent_df in dependent_var_dict.items():\n",
    "    \n",
    "    dep_var_label = dep_var_name.replace('_', ' ').title()\n",
    "    print(\"\\subsection{\" + dep_var_label + \"}\")\n",
    "    \n",
    "    for sort_func_name, sort_func in sort_func_dict.items():\n",
    "        for value_func_name, value_func in value_func_dict.items():\n",
    "\n",
    "            filename = f\"../../docs/exhibits/figures/news_counts_grid_{dep_var_name}_{sort_func_name}_{value_func_name}.pdf\"\n",
    "            fig_label = filename.split('/')[-1].split('.')[0]\n",
    "            \n",
    "            if sort_func_name == 'sortedbynonzero':\n",
    "                sort_func_label = 'Sorted by Selection Frequency'\n",
    "            \n",
    "            if value_func_name == 'coef':\n",
    "                value_func_label = '(Coefficients)'\n",
    "            else:\n",
    "                value_func_label = ''\n",
    "                \n",
    "            \n",
    "\n",
    "            latex_str = (\n",
    "r\"\"\"\n",
    "\\begin{figure}[t]\n",
    "\\caption{Associated News Topics \"\"\" + sort_func_label + ' ' + value_func_label + r\"\"\"}  \n",
    "\\label{fig:\"\"\" + fig_label + r\"\"\"}\n",
    "\\footnotesize\n",
    "\\vspace{-1em}\n",
    "\\begin{tabular}{@{\\extracolsep{0em}}cc}\n",
    "    \\includegraphics[width=0.99\\linewidth]{\"\"\"\n",
    "+ filename\n",
    "+ r\"\"\"} \\\\\n",
    "    \\multicolumn{2}{@{\\hspace{0.2in}}p{0.95\\linewidth}@{}}{ \\textit{Note:} We compute \"\"\"\n",
    "+ dep_var_label.lower()\n",
    "+ r\"\"\" for each model and strategy pair. Then, we run yearly LASSO regressions using news topic counts as the regressors. Finally, we sort the topics by how often they are selected and report the top 15 in each grid. The shaded blocks mark years where the news topic was selected as a regressor. [[[[This footnote needs to be reworded!]]]]}     \\\\  \n",
    "\\end{tabular}\n",
    "\\end{figure}\n",
    "\"\"\"\n",
    "            )\n",
    "            print(latex_str)\n",
    "\n",
    "    print(\"\\n\\\\clearpage\\n\")"
   ]
  },
  {
   "cell_type": "code",
   "execution_count": null,
   "id": "ef52f672-565d-445f-b91b-7eb55aae8232",
   "metadata": {},
   "outputs": [],
   "source": []
  },
  {
   "cell_type": "code",
   "execution_count": null,
   "id": "d436e66c-9c18-4456-869c-0db783225db0",
   "metadata": {},
   "outputs": [],
   "source": []
  }
 ],
 "metadata": {
  "kernelspec": {
   "display_name": "Python 3 (ipykernel)",
   "language": "python",
   "name": "python3"
  },
  "language_info": {
   "codemirror_mode": {
    "name": "ipython",
    "version": 3
   },
   "file_extension": ".py",
   "mimetype": "text/x-python",
   "name": "python",
   "nbconvert_exporter": "python",
   "pygments_lexer": "ipython3",
   "version": "3.8.10"
  }
 },
 "nbformat": 4,
 "nbformat_minor": 5
}
