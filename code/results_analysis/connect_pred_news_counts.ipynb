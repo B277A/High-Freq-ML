{
 "cells": [
  {
   "cell_type": "code",
   "execution_count": 1,
   "id": "5337089c",
   "metadata": {},
   "outputs": [],
   "source": [
    "%load_ext autoreload\n",
    "%autoreload 2\n",
    "\n",
    "# Add other paths\n",
    "import os, sys\n",
    "sys.path.append(os.path.abspath(os.path.join(\"../\")))\n",
    "import pandas as pd\n",
    "import numpy as np\n",
    "import datetime as dt\n",
    "import matplotlib\n",
    "import matplotlib.pyplot as plt\n",
    "import matplotlib.ticker as mtick\n",
    "import matplotlib.dates as mdates\n",
    "import seaborn as sns\n",
    "import statsmodels.formula.api as smf\n",
    "import statsmodels.api as sm\n",
    "import helper_libraries.results_tools as results_tools\n",
    "import multiprocessing\n",
    "import functools\n",
    "import sklearn.linear_model\n",
    "import warnings\n",
    "from tqdm.auto import tqdm\n",
    "from sklearn.exceptions import ConvergenceWarning\n",
    "\n",
    "warnings.filterwarnings('ignore', category=ConvergenceWarning)"
   ]
  },
  {
   "cell_type": "markdown",
   "id": "6fb6c86b",
   "metadata": {},
   "source": [
    "# Import data"
   ]
  },
  {
   "cell_type": "markdown",
   "id": "0a2d79fc",
   "metadata": {},
   "source": [
    "## News"
   ]
  },
  {
   "cell_type": "code",
   "execution_count": 2,
   "id": "66ddbb63",
   "metadata": {},
   "outputs": [],
   "source": [
    "# Params\n",
    "news_counts_directory = '../../../../GitHub/SDF-HF/data/proc/news_counts'"
   ]
  },
  {
   "cell_type": "code",
   "execution_count": 53,
   "id": "860e5ec4",
   "metadata": {},
   "outputs": [],
   "source": [
    "news_counts_df = pd.read_parquet(f'{news_counts_directory}')\n",
    "news_counts_df.columns = [x.replace('&', 'and') for x in news_counts_df.columns]\n",
    "\n",
    "# # Remove certain topics\n",
    "# news_counts_df = news_counts_df.drop(['nasd', 'pensions', 'earnings_losses'], axis=1)\n",
    "\n",
    "# Fix missing\n",
    "news_counts_df = news_counts_df.fillna(0)\n",
    "\n",
    "# Get list of all topics\n",
    "news_key_terms = list(news_counts_df.columns)[:-1]"
   ]
  },
  {
   "cell_type": "markdown",
   "id": "885468af",
   "metadata": {},
   "source": [
    "## Returns and Spreads"
   ]
  },
  {
   "cell_type": "code",
   "execution_count": 54,
   "id": "712ea8f9",
   "metadata": {},
   "outputs": [],
   "source": [
    "# Load returns and spreads\n",
    "fret_df, hrf_df = results_tools.load_mkt_rf_returns()\n",
    "spread_df = results_tools.load_spreads()"
   ]
  },
  {
   "cell_type": "markdown",
   "id": "0dcf3f7a",
   "metadata": {},
   "source": [
    "## Trading"
   ]
  },
  {
   "cell_type": "code",
   "execution_count": 55,
   "id": "b3fcc774",
   "metadata": {},
   "outputs": [],
   "source": [
    "# Year to start trading\n",
    "start_year = '2004'\n",
    "\n",
    "# Define strategies and models\n",
    "strategies_list = [\n",
    "    \"Market\",\n",
    "    \"Sign\",\n",
    "    \"Positive\",\n",
    "    \"Tanh\",\n",
    "    \"MS Strategy 2\",\n",
    "    \"MS Strategy 1\",\n",
    "]\n",
    "model_list = [\n",
    "    \"Benchmark\",\n",
    "    \"LR\",\n",
    "    \"LR_PCA_select\",\n",
    "    \"LR_Lasso_select\",\n",
    "    \"Lasso\",\n",
    "    \"Enet\"\n",
    "]"
   ]
  },
  {
   "cell_type": "code",
   "execution_count": 56,
   "id": "268fb802",
   "metadata": {},
   "outputs": [],
   "source": [
    "# Load model results\n",
    "forecast_oss_df, forecast_ins_df, results_folder_name = results_tools.load_model_results(\n",
    "    folder_name = 'main'\n",
    ")\n",
    "\n",
    "# Filter data\n",
    "forecast_oss_filter_df = forecast_oss_df.loc[start_year:].copy()\n",
    "forecast_ins_filter_df = forecast_ins_df.loc[: str(int(start_year) - 1)].copy()\n",
    "fret_filter_df = fret_df.loc[start_year:].copy()\n",
    "hrf_filter_df = hrf_df.loc[start_year:].copy()\n",
    "\n",
    "# Trading strategies\n",
    "(\n",
    "    oss_results_all_df,\n",
    "    oss_returns_all_df,\n",
    "    oss_weights_all_df,\n",
    "    oss_retpred_all_df,\n",
    ") = results_tools.get_trading_results(\n",
    "    forecast_oss_filter_df,\n",
    "    forecast_ins_filter_df,\n",
    "    spread_df,\n",
    "    fret_filter_df[\"ff__mkt\"],\n",
    "    hrf_filter_df[\"rf\"],\n",
    "    strategies_list,\n",
    "    model_list,\n",
    "    hold_cash=False,\n",
    ")"
   ]
  },
  {
   "cell_type": "markdown",
   "id": "0a2cc5b6",
   "metadata": {},
   "source": [
    "# Analysis - Topic Importance"
   ]
  },
  {
   "cell_type": "markdown",
   "id": "169e8538",
   "metadata": {},
   "source": [
    "## Prep additional data"
   ]
  },
  {
   "cell_type": "code",
   "execution_count": 126,
   "id": "581a9164",
   "metadata": {},
   "outputs": [],
   "source": [
    "oss_returns_all_daily_df = oss_returns_all_df.groupby(pd.Grouper(freq = '1d')).mean().dropna()\n",
    "oss_weights_all_daily_df = oss_weights_all_df.groupby(pd.Grouper(freq = '1d')).mean().dropna() \n",
    "oss_retpred_all_daily_df = oss_retpred_all_df.groupby(pd.Grouper(freq = '1d')).mean().dropna()\n",
    "news_counts_daily_df = news_counts_df.groupby(pd.Grouper(freq = '1d')).mean().dropna()"
   ]
  },
  {
   "cell_type": "markdown",
   "id": "fb175a6a",
   "metadata": {},
   "source": [
    "## Get topics associated with weights"
   ]
  },
  {
   "cell_type": "code",
   "execution_count": 58,
   "id": "f049c877",
   "metadata": {},
   "outputs": [],
   "source": [
    "def reformat_results(results_list):\n",
    "    \n",
    "    # Format results as dataframe\n",
    "    results_df = pd.DataFrame(results_list, columns = ['year', 'model', 'strategy', 'nonzero_params', 'topics'])\n",
    "\n",
    "    # Count number of topics in each period\n",
    "    results_df['n_topics'] = results_df['topics'].apply(lambda x: len(x))\n",
    "\n",
    "    # Add param estimates\n",
    "    results_df = results_df.join(results_df['nonzero_params'].apply(pd.Series).fillna(0))\n",
    "    \n",
    "    return results_df"
   ]
  },
  {
   "cell_type": "code",
   "execution_count": 59,
   "id": "51e57803",
   "metadata": {},
   "outputs": [],
   "source": [
    "def plot_results(results_df, model_strat_list, sort_func, value_func, top_k = 15):\n",
    "    \n",
    "    ## Heatmap of topics for particular model+strat\n",
    "    fig, axs_grid = plt.subplots(figsize=(18, 18), ncols=3, nrows = 4)\n",
    "    axs = axs_grid.reshape(-1)\n",
    "\n",
    "    # Colormap\n",
    "    norm = matplotlib.colors.Normalize(-1, 1)\n",
    "    colors = [[norm(-1.0), \"lightcoral\"], [norm(0.0), \"white\"], [norm(1.0), \"dodgerblue\"]]\n",
    "\n",
    "    cmap = matplotlib.colors.LinearSegmentedColormap.from_list(\"\", colors)\n",
    "\n",
    "    for idx, model_strat in enumerate(model_strat_list):\n",
    "\n",
    "        model, strat = model_strat\n",
    "\n",
    "        # Pivot\n",
    "        model_strat_filter_df = (\n",
    "            results_df.query(\"model == @model & strategy == @strat\")\n",
    "            .sort_values(by=\"year\")\n",
    "            .set_index(\"year\")\n",
    "        )        \n",
    "        model_strat_topic_params = model_strat_filter_df[\n",
    "            [x for x in news_key_terms if x in model_strat_filter_df.columns]\n",
    "        ]\n",
    "        model_strat_topics_sorted = (\n",
    "            model_strat_topic_params.pipe(sort_func).sum().sort_values(ascending=False)[:top_k]\n",
    "        )\n",
    "\n",
    "        # Plot\n",
    "        ax = axs[idx]\n",
    "        sns.heatmap(\n",
    "            (model_strat_topic_params[model_strat_topics_sorted.index].T).pipe(value_func),\n",
    "            cmap=cmap,\n",
    "            # vmax=1,\n",
    "            # vmin=0,\n",
    "            center = 0,\n",
    "            linewidths=0.5,\n",
    "            linecolor=(0, 0, 0, 0.1),\n",
    "            cbar=False,\n",
    "            ax=ax,\n",
    "        )\n",
    "        \n",
    "        # Plot settings\n",
    "        ax.set_title(model + \" - \" + strat.replace('MS Strategy', 'Std Strategy'))\n",
    "        plt.tight_layout()\n",
    "        \n",
    "    return model_strat_topic_params, fig, ax"
   ]
  },
  {
   "cell_type": "code",
   "execution_count": 60,
   "id": "bd79f58e",
   "metadata": {},
   "outputs": [],
   "source": [
    "def fit_news(dependent_df, independent_df, alpha_param, year):\n",
    "\n",
    "    # Store results for each model and strategy\n",
    "    results_year = []\n",
    "\n",
    "    ## Regression data\n",
    "    # Reformat columns to single index\n",
    "    dependent_rfmt_df = dependent_df.copy()\n",
    "    dependent_rfmt_df.columns = [\"::\".join(col).strip() for col in dependent_df.columns.values]\n",
    "    data_df = dependent_rfmt_df.join(independent_df.copy()).loc[str(year)].dropna()\n",
    "\n",
    "    # Normalize\n",
    "    data_df = (data_df - np.mean(data_df, axis=0)) / data_df.std(axis=0)\n",
    "\n",
    "    # Deal with dependent variable that is just constant (market weights)\n",
    "    data_df = data_df.fillna(1)\n",
    "\n",
    "    for model, strat in model_strat_list:\n",
    "        \n",
    "        # Skip model+strat if we removed it earlier from the dependent dataframe\n",
    "        if (model + \"::\" + strat) not in data_df.columns:\n",
    "            results_year.append([year, model, strat, pd.Series([], dtype = float), []])\n",
    "            continue\n",
    "\n",
    "        # Estimate LASSO\n",
    "        clf = sklearn.linear_model.Lasso(alpha=alpha_param)\n",
    "        fit = clf.fit(data_df[news_key_terms], data_df[model + \"::\" + strat])\n",
    "        fit_params = pd.Series(fit.coef_, index=news_key_terms)\n",
    "\n",
    "        # Get selected topics\n",
    "        nonzero_params = fit_params.loc[fit_params != 0]\n",
    "        selected_topics = list(fit_params.loc[fit_params != 0].index)\n",
    "\n",
    "        # Store to results\n",
    "        results_year.append([year, model, strat, nonzero_params, selected_topics])\n",
    "\n",
    "    return results_year"
   ]
  },
  {
   "cell_type": "code",
   "execution_count": 61,
   "id": "e68231a9",
   "metadata": {},
   "outputs": [],
   "source": [
    "## Params\n",
    "# Dependent variables\n",
    "dependent_var_dict = {\n",
    "    \"returns\": oss_returns_all_df,\n",
    "    \"weights\": oss_weights_all_df,\n",
    "    # \"predictions\": oss_retpred_all_df, # Cannot handle this!\n",
    "    \"returns_daily\": oss_returns_all_daily_df,\n",
    "    \"weights_daily\": oss_weights_all_daily_df,\n",
    "    # \"predictions_daily\": oss_retpred_all_daily_df,\n",
    "}\n",
    "\n",
    "# Lasso penalty for each dependent var\n",
    "alpha_params = {\n",
    "    \"returns\": 0.015,\n",
    "    \"weights\": 0.02,\n",
    "    \"returns_daily\": 0.075,\n",
    "    \"weights_daily\": 0.05,\n",
    "}\n",
    "\n",
    "# List of models+strategies to test\n",
    "model_strat_list = [\n",
    "    (model, strat)\n",
    "    for strat in [\"Market\", \"Sign\", \"Positive\", \"MS Strategy 1\"]\n",
    "    for model in [\"Benchmark\", \"Enet\", \"Lasso\"]\n",
    "]\n",
    "\n",
    "\n",
    "# List of years to process\n",
    "year_list = pd.unique(oss_returns_all_df.index.year)\n",
    "\n",
    "# Dictionary of functions to use when determing the top (k) topics\n",
    "sort_func_dict = {\"sortedbynonzero\": lambda x: x != 0}\n",
    "\n",
    "# Dictionary of functions to use when plotting\n",
    "value_func_dict = {\"nonzero\": lambda x: x != 0, \"coef\": lambda x: x}"
   ]
  },
  {
   "cell_type": "code",
   "execution_count": 62,
   "id": "3a6ae274",
   "metadata": {},
   "outputs": [
    {
     "name": "stdout",
     "output_type": "stream",
     "text": [
      "Processing Dependent Variable: returns\n"
     ]
    },
    {
     "data": {
      "application/vnd.jupyter.widget-view+json": {
       "model_id": "e6b81486b67c49ad919f8a076fb722fa",
       "version_major": 2,
       "version_minor": 0
      },
      "text/plain": [
       "  0%|          | 0/17 [00:00<?, ?it/s]"
      ]
     },
     "metadata": {},
     "output_type": "display_data"
    },
    {
     "name": "stdout",
     "output_type": "stream",
     "text": [
      "Processing Dependent Variable: weights\n"
     ]
    },
    {
     "data": {
      "application/vnd.jupyter.widget-view+json": {
       "model_id": "20b360bdf9c04f91b306f9e62332bad1",
       "version_major": 2,
       "version_minor": 0
      },
      "text/plain": [
       "  0%|          | 0/17 [00:00<?, ?it/s]"
      ]
     },
     "metadata": {},
     "output_type": "display_data"
    },
    {
     "name": "stdout",
     "output_type": "stream",
     "text": [
      "Processing Dependent Variable: returns_daily\n"
     ]
    },
    {
     "data": {
      "application/vnd.jupyter.widget-view+json": {
       "model_id": "1defeca53cf0404ab2aa322504b1a067",
       "version_major": 2,
       "version_minor": 0
      },
      "text/plain": [
       "  0%|          | 0/17 [00:00<?, ?it/s]"
      ]
     },
     "metadata": {},
     "output_type": "display_data"
    },
    {
     "name": "stdout",
     "output_type": "stream",
     "text": [
      "Processing Dependent Variable: weights_daily\n"
     ]
    },
    {
     "data": {
      "application/vnd.jupyter.widget-view+json": {
       "model_id": "9301fa468cf446dd84f41360ec3ca8ca",
       "version_major": 2,
       "version_minor": 0
      },
      "text/plain": [
       "  0%|          | 0/17 [00:00<?, ?it/s]"
      ]
     },
     "metadata": {},
     "output_type": "display_data"
    }
   ],
   "source": [
    "# with multiprocessing.Pool(11) as p:\n",
    "\n",
    "for dep_var_name, dependent_df in dependent_var_dict.items():\n",
    "\n",
    "    print(f\"Processing Dependent Variable: {dep_var_name}\")\n",
    "\n",
    "    # Drop \"Market\" trading strategy if meaningless\n",
    "    if \"weights\" in dep_var_name or \"predictions\" in dep_var_name:\n",
    "        dependent_df = (\n",
    "            dependent_df.swaplevel(0, 1, axis=1)\n",
    "            .sort_index(axis=1)\n",
    "            .drop([\"Market\"], axis=1)\n",
    "            .swaplevel(0, 1, axis=1)\n",
    "            .copy()\n",
    "        )\n",
    "\n",
    "    # Get appropriate independent variable\n",
    "    if \"_daily\" in dep_var_name:\n",
    "        independent_df = news_counts_daily_df\n",
    "    else:\n",
    "        independent_df = news_counts_df\n",
    "\n",
    "    # Define function to process each year\n",
    "    def helper_func(year):\n",
    "        return fit_news(dependent_df, independent_df, alpha_params.get(dep_var_name), year)\n",
    "\n",
    "    # Go through each year and estimate key topics for each model\n",
    "    results_list = []\n",
    "\n",
    "    for results_year in tqdm(map(helper_func, year_list), total=len(year_list)):\n",
    "        results_list += results_year\n",
    "\n",
    "    results_df = reformat_results(results_list)\n",
    "\n",
    "    # Make plots\n",
    "    for sort_func_name, sort_func in sort_func_dict.items():\n",
    "        for value_func_name, value_func in value_func_dict.items():\n",
    "            _, fig, ax = plot_results(\n",
    "                results_df, model_strat_list, sort_func, value_func, top_k=15\n",
    "            )\n",
    "            fig.savefig(\n",
    "                f\"../../docs/exhibits/figures/news_counts_grid_{dep_var_name}_{sort_func_name}_{value_func_name}.pdf\"\n",
    "            )\n",
    "            plt.close()"
   ]
  },
  {
   "cell_type": "markdown",
   "id": "270325c6",
   "metadata": {},
   "source": [
    "## Latex"
   ]
  },
  {
   "cell_type": "code",
   "execution_count": null,
   "id": "066dd9e4",
   "metadata": {},
   "outputs": [],
   "source": [
    "print(r\"\\section{News Topic Associations}\")\n",
    "\n",
    "for dep_var_name, dependent_df in dependent_var_dict.items():\n",
    "    \n",
    "    dep_var_label = dep_var_name.replace('_', ' ').title()\n",
    "    print(\"\\subsection{\" + dep_var_label + \"}\")\n",
    "    \n",
    "    for sort_func_name, sort_func in sort_func_dict.items():\n",
    "        for value_func_name, value_func in value_func_dict.items():\n",
    "\n",
    "            filename = f\"../../docs/exhibits/figures/news_counts_grid_{dep_var_name}_{sort_func_name}_{value_func_name}.pdf\"\n",
    "            fig_label = filename.split('/')[-1].split('.')[0]\n",
    "            \n",
    "            if sort_func_name == 'sortedbynonzero':\n",
    "                sort_func_label = 'Sorted by Selection Frequency'\n",
    "            \n",
    "            if value_func_name == 'coef':\n",
    "                value_func_label = '(Coefficients)'\n",
    "            else:\n",
    "                value_func_label = ''\n",
    "                \n",
    "            \n",
    "\n",
    "            latex_str = (\n",
    "r\"\"\"\n",
    "\\begin{figure}[t]\n",
    "\\caption{Associated News Topics \"\"\" + sort_func_label + ' ' + value_func_label + r\"\"\"}  \n",
    "\\label{fig:\"\"\" + fig_label + r\"\"\"}\n",
    "\\footnotesize\n",
    "\\vspace{-1em}\n",
    "\\begin{tabular}{@{\\extracolsep{0em}}cc}\n",
    "    \\includegraphics[width=0.99\\linewidth]{\"\"\"\n",
    "+ filename\n",
    "+ r\"\"\"} \\\\\n",
    "    \\multicolumn{2}{@{\\hspace{0.2in}}p{0.95\\linewidth}@{}}{ \\textit{Note:} We compute \"\"\"\n",
    "+ dep_var_label.lower()\n",
    "+ r\"\"\" for each model and strategy pair. Then, we run yearly LASSO regressions using news topic counts as the regressors. Finally, we sort the topics by how often they are selected and report the top 15 in each grid. The shaded blocks mark years where the news topic was selected as a regressor. [[[[This footnote needs to be reworded!]]]]}     \\\\  \n",
    "\\end{tabular}\n",
    "\\end{figure}\n",
    "\"\"\"\n",
    "            )\n",
    "            print(latex_str)\n",
    "\n",
    "    print(\"\\n\\\\clearpage\\n\")"
   ]
  },
  {
   "cell_type": "markdown",
   "id": "8f3c95cf-c378-4e39-b276-014a69b2d68d",
   "metadata": {},
   "source": [
    "# Analysis - Simple Regressions"
   ]
  },
  {
   "cell_type": "code",
   "execution_count": 79,
   "id": "7e030804-5aee-40ce-ab00-cf420b3bf6b0",
   "metadata": {},
   "outputs": [],
   "source": [
    "import statsmodels.tsa as tsa\n",
    "import statsmodels.formula.api as smf\n",
    "from statsmodels.tsa.api import VAR"
   ]
  },
  {
   "cell_type": "code",
   "execution_count": 80,
   "id": "80df00d4-4fb9-4e85-a246-d5c90a078ea5",
   "metadata": {},
   "outputs": [],
   "source": [
    "oss_returns_news_merge_df = oss_returns_all_df['Enet'].join(news_counts_df, how = 'left')"
   ]
  },
  {
   "cell_type": "code",
   "execution_count": 141,
   "id": "241d1f17-388a-4b0f-a609-00d57d314b5c",
   "metadata": {},
   "outputs": [],
   "source": [
    "oss_returns_news_merge_df = oss_weights_all_daily_df['Enet'].join(news_counts_daily_df, how = 'left')"
   ]
  },
  {
   "cell_type": "code",
   "execution_count": 151,
   "id": "15e9aae7-b729-4929-8f03-aafbf796f685",
   "metadata": {},
   "outputs": [],
   "source": [
    "oss_returns_news_merge_df = oss_returns_all_daily_df['Enet'].join(news_counts_daily_df, how = 'left')"
   ]
  },
  {
   "cell_type": "code",
   "execution_count": 157,
   "id": "c8cb0c06-8eb2-4bde-bff8-663d19c15af5",
   "metadata": {},
   "outputs": [],
   "source": [
    "# Define your data\n",
    "news_select = 'Monetary Policy'\n",
    "X = oss_returns_news_merge_df.loc[oss_weights_all_daily_df.index, [news_select, 'MS Strategy 1']].dropna()\n",
    "X[news_select] = (X[news_select] - np.mean(X[news_select])) / X[news_select].std()"
   ]
  },
  {
   "cell_type": "code",
   "execution_count": 159,
   "id": "2b05be4a-a47d-46c4-b681-0287247cb986",
   "metadata": {},
   "outputs": [
    {
     "name": "stderr",
     "output_type": "stream",
     "text": [
      "/home/saketh/.local/lib/python3.8/site-packages/statsmodels/tsa/base/tsa_model.py:593: ValueWarning: A date index has been provided, but it has no associated frequency information and so will be ignored when e.g. forecasting.\n",
      "  warnings.warn('A date index has been provided, but it has no'\n"
     ]
    }
   ],
   "source": [
    "model = VAR(X)\n",
    "results = model.fit(maxlags = 5, ic = 'bic')"
   ]
  },
  {
   "cell_type": "code",
   "execution_count": null,
   "id": "d717f938-abd0-40e8-a7f2-8bb821637ee1",
   "metadata": {},
   "outputs": [],
   "source": [
    "y = fret_df.loc['2004':]"
   ]
  },
  {
   "cell_type": "code",
   "execution_count": null,
   "id": "dcebea1b-2578-4334-9392-198654650d5c",
   "metadata": {},
   "outputs": [
    {
     "data": {
      "text/plain": [
       "17.008219178082193"
      ]
     },
     "execution_count": 178,
     "metadata": {},
     "output_type": "execute_result"
    }
   ],
   "source": [
    "(y.index.max() - y.index.min()).days/365"
   ]
  },
  {
   "cell_type": "code",
   "execution_count": null,
   "id": "a9e5f117-6f2e-4390-850f-a60df6f590b8",
   "metadata": {},
   "outputs": [
    {
     "data": {
      "text/plain": [
       "(ff__mkt    0.096947\n",
       " dtype: float64,\n",
       " ff__mkt    0.182641\n",
       " dtype: float64)"
      ]
     },
     "execution_count": 181,
     "metadata": {},
     "output_type": "execute_result"
    }
   ],
   "source": [
    "y.sum()/17, np.sqrt(y.pipe(np.square).sum()/17)"
   ]
  },
  {
   "cell_type": "code",
   "execution_count": null,
   "id": "b24ce7f2-ff5c-422a-a366-0b668f14c268",
   "metadata": {},
   "outputs": [
    {
     "data": {
      "text/plain": [
       "(ff__mkt    0.081667\n",
       " dtype: float64,\n",
       " ff__mkt    0.11434\n",
       " dtype: float64)"
      ]
     },
     "execution_count": 180,
     "metadata": {},
     "output_type": "execute_result"
    }
   ],
   "source": [
    "y.loc[y.index.time == dt.time(9,30)].sum()/17, np.sqrt(y.loc[y.index.time == dt.time(9,30)].pipe(np.square).sum()/17)"
   ]
  },
  {
   "cell_type": "code",
   "execution_count": 182,
   "id": "2511d556-7914-4628-863e-fcf91f83eaed",
   "metadata": {},
   "outputs": [
    {
     "data": {
      "text/plain": [
       "(ff__mkt    0.01528\n",
       " dtype: float64,\n",
       " ff__mkt    0.142423\n",
       " dtype: float64)"
      ]
     },
     "execution_count": 182,
     "metadata": {},
     "output_type": "execute_result"
    }
   ],
   "source": [
    "y.loc[y.index.time != dt.time(9,30)].sum()/17, np.sqrt(y.loc[y.index.time != dt.time(9,30)].pipe(np.square).sum()/17)"
   ]
  },
  {
   "cell_type": "code",
   "execution_count": 183,
   "id": "8e93f4c1-f463-402d-ae97-52cb2114aa79",
   "metadata": {},
   "outputs": [
    {
     "data": {
      "text/plain": [
       "ff__mkt    0.107287\n",
       "dtype: float64"
      ]
     },
     "execution_count": 183,
     "metadata": {},
     "output_type": "execute_result"
    }
   ],
   "source": [
    "y.loc[y.index.time != dt.time(9,30)].sum()/17 /  np.sqrt(y.loc[y.index.time != dt.time(9,30)].pipe(np.square).sum()/17)"
   ]
  },
  {
   "cell_type": "code",
   "execution_count": 162,
   "id": "3cf16289",
   "metadata": {},
   "outputs": [
    {
     "data": {
      "image/png": "[encoded data removed]",
      "text/plain": [
       "<Figure size 720x720 with 4 Axes>"
      ]
     },
     "metadata": {
      "needs_background": "light"
     },
     "output_type": "display_data"
    }
   ],
   "source": [
    "irf = results.irf(30)\n",
    "irf.plot_cum_effects(orth=False)\n",
    "plt.tight_layout()"
   ]
  },
  {
   "cell_type": "code",
   "execution_count": 154,
   "id": "4f5cdc72-8c36-47f7-85c3-49a9fa28c954",
   "metadata": {},
   "outputs": [
    {
     "data": {
      "text/plain": [
       "[<matplotlib.lines.Line2D at 0x7f93f1f850d0>]"
      ]
     },
     "execution_count": 154,
     "metadata": {},
     "output_type": "execute_result"
    },
    {
     "data": {
      "image/png": "[encoded data removed]",
      "text/plain": [
       "<Figure size 432x288 with 1 Axes>"
      ]
     },
     "metadata": {
      "needs_background": "light"
     },
     "output_type": "display_data"
    }
   ],
   "source": [
    "plt.plot(irf.cum_effects[:,1,0])"
   ]
  },
  {
   "cell_type": "code",
   "execution_count": null,
   "id": "1c908c81-3a73-4085-a5a3-ed9e4dff895d",
   "metadata": {},
   "outputs": [],
   "source": []
  }
 ],
 "metadata": {
  "kernelspec": {
   "display_name": "Python 3 (ipykernel)",
   "language": "python",
   "name": "python3"
  },
  "language_info": {
   "codemirror_mode": {
    "name": "ipython",
    "version": 3
   },
   "file_extension": ".py",
   "mimetype": "text/x-python",
   "name": "python",
   "nbconvert_exporter": "python",
   "pygments_lexer": "ipython3",
   "version": "3.8.10"
  }
 },
 "nbformat": 4,
 "nbformat_minor": 5
}
