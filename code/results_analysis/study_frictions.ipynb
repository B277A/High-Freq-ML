{
 "cells": [
  {
   "cell_type": "code",
   "execution_count": 1,
   "id": "fbb6c8de",
   "metadata": {},
   "outputs": [],
   "source": [
    "%load_ext autoreload\n",
    "%autoreload 2\n",
    "\n",
    "# Add other paths\n",
    "import os, sys\n",
    "sys.path.append(os.path.abspath(os.path.join(\"../\")))\n",
    "import pandas as pd\n",
    "import numpy as np\n",
    "import datetime as dt\n",
    "import matplotlib\n",
    "import matplotlib.pyplot as plt\n",
    "import matplotlib.ticker as mtick\n",
    "import matplotlib.dates as mdates\n",
    "import seaborn as sns\n",
    "import statsmodels.formula.api as smf\n",
    "import statsmodels.api as sm\n",
    "import helper_libraries.results_tools as results_tools\n",
    "import multiprocessing\n",
    "import functools\n",
    "import warnings\n",
    "import scipy.stats\n",
    "from stargazer import stargazer\n",
    "from tqdm.auto import tqdm\n",
    "from numba import jit\n",
    "\n",
    "warnings.simplefilter(\"ignore\")"
   ]
  },
  {
   "cell_type": "markdown",
   "id": "3ac50f08",
   "metadata": {},
   "source": [
    "# Import data"
   ]
  },
  {
   "cell_type": "markdown",
   "id": "21c0c562",
   "metadata": {},
   "source": [
    "## Returns and Spreads"
   ]
  },
  {
   "cell_type": "code",
   "execution_count": 2,
   "id": "1f45626c",
   "metadata": {},
   "outputs": [],
   "source": [
    "# Load returns and spreads\n",
    "fret_df, hrf_df = results_tools.load_mkt_rf_returns()\n",
    "spread_df = results_tools.load_spreads()"
   ]
  },
  {
   "cell_type": "markdown",
   "id": "30d20ecf",
   "metadata": {},
   "source": [
    "## Trading"
   ]
  },
  {
   "cell_type": "code",
   "execution_count": 3,
   "id": "27b6fc57",
   "metadata": {},
   "outputs": [],
   "source": [
    "# Year to start trading\n",
    "start_year = '2004'\n",
    "\n",
    "# Define strategies and models\n",
    "strategies_list = [\n",
    "    \"Market\",\n",
    "    \"Sign\",\n",
    "    \"Positive\",\n",
    "    \"Tanh\",\n",
    "    \"MS Strategy 2\",\n",
    "    \"MS Strategy 1\",\n",
    "]\n",
    "model_list = [\n",
    "    \"Benchmark\",\n",
    "    \"LR\",\n",
    "    \"LR_PCA_select\",\n",
    "    \"LR_Lasso_select\",\n",
    "    \"Lasso\",\n",
    "    \"Enet\"\n",
    "]"
   ]
  },
  {
   "cell_type": "code",
   "execution_count": 5,
   "id": "7ca87caf",
   "metadata": {},
   "outputs": [],
   "source": [
    "# Load model results\n",
    "forecast_oss_df, forecast_ins_df, results_folder_name = results_tools.load_model_results(\n",
    "    folder_name = 'main'\n",
    ")\n",
    "\n",
    "# Filter data\n",
    "forecast_oss_filter_df = forecast_oss_df.loc[start_year:].copy()\n",
    "forecast_ins_filter_df = forecast_ins_df.loc[:str(int(start_year)-1)].copy()\n",
    "fret_filter_df = fret_df.loc[start_year:].copy()\n",
    "hrf_filter_df = hrf_df.loc[start_year:].copy()\n",
    "\n",
    "# Trading strategies\n",
    "(\n",
    "    oss_results_all_df,\n",
    "    oss_returns_all_df,\n",
    "    oss_weights_all_df,\n",
    "    oss_retpred_all_df,\n",
    ") = results_tools.get_trading_results(\n",
    "    forecast_oss_filter_df,\n",
    "    forecast_ins_filter_df,\n",
    "    spread_df,\n",
    "    fret_filter_df[\"ff__mkt\"],\n",
    "    hrf_filter_df[\"rf\"],\n",
    "    strategies_list,\n",
    "    model_list,\n",
    "    hold_cash=True,\n",
    ")"
   ]
  },
  {
   "cell_type": "markdown",
   "id": "4e8bf7d1",
   "metadata": {},
   "source": [
    "## JLN Uncertainty"
   ]
  },
  {
   "cell_type": "code",
   "execution_count": 6,
   "id": "48ec78e8",
   "metadata": {},
   "outputs": [],
   "source": [
    "# Load uncertainty measurse from Jurado, Ludvigson, Ng\n",
    "uncertainty_financial_df = pd.read_excel('../../data/jln/FinancialUncertaintyToCirculate.xlsx')\n",
    "uncertainty_macro_df = pd.read_excel('../../data/jln/MacroUncertaintyToCirculate.xlsx')\n",
    "uncertainty_real_df = pd.read_excel('../../data/jln/RealUncertaintyToCirculate.xlsx')"
   ]
  },
  {
   "cell_type": "code",
   "execution_count": 7,
   "id": "d096d5ff",
   "metadata": {},
   "outputs": [],
   "source": [
    "## Clean up\n",
    "# Fix date index\n",
    "uncertainty_financial_df.index = pd.to_datetime(uncertainty_financial_df['Date']) + pd.tseries.offsets.MonthEnd(0)\n",
    "uncertainty_macro_df.index = pd.to_datetime(uncertainty_macro_df['Date']) + pd.tseries.offsets.MonthEnd(0)\n",
    "uncertainty_real_df.index = pd.to_datetime(uncertainty_real_df['Date']) + pd.tseries.offsets.MonthEnd(0)\n",
    "\n",
    "# Setup variables\n",
    "uncertainty_financial_df['financial_uncertainty'] = uncertainty_financial_df['h=1'] / np.std(uncertainty_financial_df['h=1'])\n",
    "uncertainty_macro_df['macro_uncertainty'] = uncertainty_macro_df['h=1'] / np.std(uncertainty_macro_df['h=1'])\n",
    "uncertainty_real_df['real_uncertainty'] = uncertainty_real_df['h=1'] / np.std(uncertainty_real_df['h=1'])"
   ]
  },
  {
   "cell_type": "markdown",
   "id": "0a0d0f43",
   "metadata": {},
   "source": [
    "## BEX Uncertainty"
   ]
  },
  {
   "cell_type": "code",
   "execution_count": 8,
   "id": "f5314ce7",
   "metadata": {},
   "outputs": [],
   "source": [
    "# Load uncertainty measurse from Bekaert, Engstrom, Xu\n",
    "uncertainty_econ_df = pd.read_excel(\n",
    "    \"../../data/bex/BEX_Indices_20220301.xlsx\", sheet_name=\"DATA_PLOT_monthly\"\n",
    ")[[\"yyyymm\", \"unc_bex_PAPER\"]]\n",
    "index_ra_df = pd.read_excel(\n",
    "    \"../../data/bex/BEX_Indices_20220301.xlsx\", sheet_name=\"DATA_PLOT_monthly\"\n",
    ")[[\"yyyymm\", \"ra_bex_PAPER\"]]"
   ]
  },
  {
   "cell_type": "code",
   "execution_count": 9,
   "id": "0bce396a",
   "metadata": {},
   "outputs": [],
   "source": [
    "## Clean up\n",
    "# Fix date index\n",
    "uncertainty_econ_df.index = pd.to_datetime(\n",
    "    uncertainty_econ_df[\"yyyymm\"], format=\"%Y%m\"\n",
    ") + pd.tseries.offsets.MonthEnd(0)\n",
    "index_ra_df.index = pd.to_datetime(\n",
    "    index_ra_df[\"yyyymm\"], format=\"%Y%m\"\n",
    ") + pd.tseries.offsets.MonthEnd(0)\n",
    "\n",
    "# Setup variables\n",
    "uncertainty_econ_df[\"bex_uncertainty\"] = uncertainty_econ_df[\"unc_bex_PAPER\"] / np.std(\n",
    "    uncertainty_econ_df[\"unc_bex_PAPER\"]\n",
    ")\n",
    "index_ra_df[\"bex_risk_aversion\"] = index_ra_df[\"ra_bex_PAPER\"] / np.std(\n",
    "    index_ra_df[\"ra_bex_PAPER\"]\n",
    ")"
   ]
  },
  {
   "cell_type": "markdown",
   "id": "2168a540",
   "metadata": {},
   "source": [
    "## FRED"
   ]
  },
  {
   "cell_type": "code",
   "execution_count": 10,
   "id": "7b17c709",
   "metadata": {},
   "outputs": [],
   "source": [
    "# Load uncertainty measurse from FRED\n",
    "fred_gdp_df = pd.read_excel(\n",
    "    \"../../data/fred/GDP.xls\", skiprows = 10)\n",
    "fred_unemp_df = pd.read_excel(\n",
    "    \"../../data/fred/UNRATE.xls\", skiprows = 10)"
   ]
  },
  {
   "cell_type": "code",
   "execution_count": 11,
   "id": "c92bf386",
   "metadata": {},
   "outputs": [],
   "source": [
    "## Clean up\n",
    "# Fix date index\n",
    "fred_gdp_df.index = pd.to_datetime(\n",
    "    (pd.to_datetime(fred_gdp_df[\"observation_date\"]) + pd.tseries.offsets.MonthEnd(0)).dt.date\n",
    ")\n",
    "fred_gdp_df = fred_gdp_df.drop(['observation_date'], axis=1)\n",
    "\n",
    "fred_unemp_df.index = pd.to_datetime(\n",
    "    (pd.to_datetime(fred_unemp_df[\"observation_date\"]) + pd.tseries.offsets.MonthEnd(0)).dt.date\n",
    ")\n",
    "fred_unemp_df = fred_unemp_df.drop(['observation_date'], axis=1)\n",
    "\n",
    "# Setup variables\n",
    "fred_gdp_df[\"gdp_growth\"] = fred_gdp_df[\"GDP_PCH\"] / np.std(fred_gdp_df[\"GDP_PCH\"])\n",
    "fred_unemp_df[\"unemp_change\"] = fred_unemp_df[\"UNRATE_PCH\"] / np.std(fred_unemp_df[\"UNRATE_PCH\"])"
   ]
  },
  {
   "cell_type": "markdown",
   "id": "6852b5ee",
   "metadata": {},
   "source": [
    "# Analysis - Return Regressions"
   ]
  },
  {
   "cell_type": "markdown",
   "id": "345c3165",
   "metadata": {
    "tags": []
   },
   "source": [
    "## Main strategy"
   ]
  },
  {
   "cell_type": "markdown",
   "id": "f8cebd14",
   "metadata": {},
   "source": [
    "### Prep data"
   ]
  },
  {
   "cell_type": "code",
   "execution_count": 12,
   "id": "6adbd6a7",
   "metadata": {},
   "outputs": [],
   "source": [
    "# Select model strat\n",
    "model = 'Enet'\n",
    "strategy = 'MS Strategy 1'"
   ]
  },
  {
   "cell_type": "code",
   "execution_count": 13,
   "id": "6d501a76",
   "metadata": {},
   "outputs": [
    {
     "data": {
      "text/plain": [
       "<AxesSubplot:xlabel='datetime'>"
      ]
     },
     "execution_count": 13,
     "metadata": {},
     "output_type": "execute_result"
    },
    {
     "data": {
      "image/png": "[encoded data removed]",
      "text/plain": [
       "<Figure size 432x288 with 1 Axes>"
      ]
     },
     "metadata": {
      "needs_background": "light"
     },
     "output_type": "display_data"
    }
   ],
   "source": [
    "returns_monthly_series = oss_returns_all_df[model][strategy].groupby(pd.Grouper(freq = '1m')).sum()\n",
    "returns_monthly_diff_series = returns_monthly_series - oss_returns_all_df[model]['Market'].groupby(pd.Grouper(freq = '1m')).sum()\n",
    "returns_monthly_mkt_series = oss_returns_all_df[model]['Market'].groupby(pd.Grouper(freq = '1m')).sum()\n",
    "returns_monthly_series.plot()"
   ]
  },
  {
   "cell_type": "code",
   "execution_count": 14,
   "id": "3a825555",
   "metadata": {},
   "outputs": [],
   "source": [
    "# Returns\n",
    "returns_df = (\n",
    "    returns_monthly_diff_series.to_frame(\"diff\")\n",
    "    .join(returns_monthly_series.to_frame(\"returns\"))\n",
    "    .join(returns_monthly_mkt_series.to_frame(\"mkt\"))\n",
    ")\n",
    "\n",
    "# Returns with covariates for regressions\n",
    "reg_df = returns_df.join(uncertainty_financial_df[\"financial_uncertainty\"].shift(-1))\n",
    "reg_df = reg_df.join(uncertainty_macro_df[\"macro_uncertainty\"].shift(-1))\n",
    "reg_df = reg_df.join(uncertainty_real_df[\"real_uncertainty\"].shift(-1))\n",
    "reg_df = reg_df.join(uncertainty_econ_df[\"bex_uncertainty\"].shift(-1))\n",
    "reg_df = reg_df.join(index_ra_df[\"bex_risk_aversion\"].shift(-1))"
   ]
  },
  {
   "cell_type": "markdown",
   "id": "0ab3878b",
   "metadata": {},
   "source": [
    "### Regressions"
   ]
  },
  {
   "cell_type": "code",
   "execution_count": 15,
   "id": "ba35d261",
   "metadata": {},
   "outputs": [],
   "source": [
    "fit_fin_mkt = smf.ols(\"mkt ~ financial_uncertainty\", reg_df).fit(\n",
    "    cov_type=\"HAC\", cov_kwds={\"maxlags\": 12}\n",
    ")\n",
    "fit_fin_diff = smf.ols(\"diff ~ financial_uncertainty\", reg_df).fit(\n",
    "    cov_type=\"HAC\", cov_kwds={\"maxlags\": 12}\n",
    ")\n",
    "fit_fin_returns = smf.ols(\"returns ~ financial_uncertainty\", reg_df).fit(\n",
    "    cov_type=\"HAC\", cov_kwds={\"maxlags\": 12}\n",
    ")\n",
    "\n",
    "fit_macro_mkt = smf.ols(\"mkt ~ macro_uncertainty\", reg_df).fit(\n",
    "    cov_type=\"HAC\", cov_kwds={\"maxlags\": 12}\n",
    ")\n",
    "fit_macro_diff = smf.ols(\"diff ~ macro_uncertainty\", reg_df).fit(\n",
    "    cov_type=\"HAC\", cov_kwds={\"maxlags\": 12}\n",
    ")\n",
    "fit_macro_returns = smf.ols(\"returns ~ macro_uncertainty\", reg_df).fit(\n",
    "    cov_type=\"HAC\", cov_kwds={\"maxlags\": 12}\n",
    ")\n",
    "\n",
    "fit_real_mkt = smf.ols(\"mkt ~ real_uncertainty\", reg_df).fit(\n",
    "    cov_type=\"HAC\", cov_kwds={\"maxlags\": 12}\n",
    ")\n",
    "fit_real_diff = smf.ols(\"diff ~ real_uncertainty\", reg_df).fit(\n",
    "    cov_type=\"HAC\", cov_kwds={\"maxlags\": 12}\n",
    ")\n",
    "fit_real_returns = smf.ols(\"returns ~ real_uncertainty\", reg_df).fit(\n",
    "    cov_type=\"HAC\", cov_kwds={\"maxlags\": 12}\n",
    ")\n",
    "\n",
    "fit_all_mkt = smf.ols(\n",
    "    \"mkt ~ financial_uncertainty + macro_uncertainty + real_uncertainty\", reg_df\n",
    ").fit(cov_type=\"HAC\", cov_kwds={\"maxlags\": 12})\n",
    "fit_all_diff = smf.ols(\n",
    "    \"diff ~ financial_uncertainty + macro_uncertainty + real_uncertainty\", reg_df\n",
    ").fit(cov_type=\"HAC\", cov_kwds={\"maxlags\": 12})\n",
    "fit_all_returns = smf.ols(\n",
    "    \"returns ~ financial_uncertainty + macro_uncertainty + real_uncertainty\", reg_df\n",
    ").fit(cov_type=\"HAC\", cov_kwds={\"maxlags\": 12})"
   ]
  },
  {
   "cell_type": "code",
   "execution_count": 16,
   "id": "902f6904",
   "metadata": {},
   "outputs": [],
   "source": [
    "sg = stargazer.Stargazer([fit_fin_mkt, fit_fin_returns, fit_fin_diff,\n",
    "                    fit_macro_mkt, fit_macro_returns, fit_macro_diff,\n",
    "                    fit_real_mkt, fit_real_returns, fit_real_diff,\n",
    "                    # fit_all_mkt, fit_all_returns, fit_all_diff,\n",
    "                    ])\n",
    "sg.column_labels = ['Market', 'ENet-MS1', 'Diff']*3\n",
    "sg.column_separators = [1]*9\n",
    "sg.cov_map = {'financial_uncertainty': 'Financial Uncertainty',\n",
    "              'macro_uncertainty':    'Macro Uncertainty',\n",
    "              'real_uncertainty':  'Real Uncertainty',}"
   ]
  },
  {
   "cell_type": "code",
   "execution_count": 17,
   "id": "9fa66bec",
   "metadata": {},
   "outputs": [
    {
     "name": "stdout",
     "output_type": "stream",
     "text": [
      "\\begin{table}[!htbp] \\centering\n",
      "\\begin{tabular}{@{\\extracolsep{5pt}}lccccccccc}\n",
      "\\\\[-1.8ex]\\hline\n",
      "\\hline \\\\[-1.8ex]\n",
      "\\\\[-1.8ex] & \\multicolumn{1}{c}{Market} & \\multicolumn{1}{c}{ENet-MS1} & \\multicolumn{1}{c}{Diff} & \\multicolumn{1}{c}{Market} & \\multicolumn{1}{c}{ENet-MS1} & \\multicolumn{1}{c}{Diff} & \\multicolumn{1}{c}{Market} & \\multicolumn{1}{c}{ENet-MS1} & \\multicolumn{1}{c}{Diff}  \\\\\n",
      "\\\\[-1.8ex] & (1) & (2) & (3) & (4) & (5) & (6) & (7) & (8) & (9) \\\\\n",
      "\\hline \\\\[-1.8ex]\n",
      " Intercept & 0.023$^{*}$ & -0.029$^{**}$ & -0.053$^{**}$ & 0.016$^{}$ & -0.043$^{***}$ & -0.059$^{**}$ & 0.006$^{}$ & -0.025$^{*}$ & -0.032$^{}$ \\\\\n",
      "  & (0.013) & (0.014) & (0.021) & (0.017) & (0.012) & (0.026) & (0.011) & (0.014) & (0.022) \\\\\n",
      " Financial Uncertainty & -0.004$^{}$ & 0.007$^{***}$ & 0.011$^{***}$ & & & & & & \\\\\n",
      "  & (0.003) & (0.003) & (0.004) & & & & & & \\\\\n",
      " Macro Uncertainty & & & & -0.002$^{}$ & 0.008$^{***}$ & 0.011$^{**}$ & & & \\\\\n",
      "  & & & & (0.003) & (0.002) & (0.004) & & & \\\\\n",
      " Real Uncertainty & & & & & & & -0.001$^{}$ & 0.006$^{**}$ & 0.007$^{*}$ \\\\\n",
      "  & & & & & & & (0.002) & (0.002) & (0.004) \\\\\n",
      "\\hline \\\\[-1.8ex]\n",
      " Observations & 204 & 204 & 204 & 204 & 204 & 204 & 204 & 204 & 204 \\\\\n",
      " $R^2$ & 0.021 & 0.110 & 0.151 & 0.009 & 0.184 & 0.168 & 0.001 & 0.096 & 0.070 \\\\\n",
      " Adjusted $R^2$ & 0.017 & 0.106 & 0.147 & 0.004 & 0.180 & 0.164 & -0.004 & 0.091 & 0.065 \\\\\n",
      " Residual Std. Error & 0.034(df = 202) & 0.025(df = 202) & 0.033(df = 202) & 0.034(df = 202) & 0.024(df = 202) & 0.032(df = 202) & 0.034(df = 202) & 0.025(df = 202) & 0.034(df = 202)  \\\\\n",
      " F Statistic & 2.409$^{}$ (df = 1.0; 202.0) & 7.100$^{***}$ (df = 1.0; 202.0) & 7.833$^{***}$ (df = 1.0; 202.0) & 0.651$^{}$ (df = 1.0; 202.0) & 15.341$^{***}$ (df = 1.0; 202.0) & 6.004$^{**}$ (df = 1.0; 202.0) & 0.180$^{}$ (df = 1.0; 202.0) & 5.442$^{**}$ (df = 1.0; 202.0) & 2.800$^{*}$ (df = 1.0; 202.0) \\\\\n",
      "\\hline\n",
      "\\hline \\\\[-1.8ex]\n",
      "\\textit{Note:} & \\multicolumn{9}{r}{$^{*}$p$<$0.1; $^{**}$p$<$0.05; $^{***}$p$<$0.01} \\\\\n",
      "\\end{tabular}\n",
      "\\end{table}\n"
     ]
    }
   ],
   "source": [
    "print(sg.render_latex())"
   ]
  },
  {
   "cell_type": "markdown",
   "id": "f0367209",
   "metadata": {},
   "source": [
    "## All pairs"
   ]
  },
  {
   "cell_type": "code",
   "execution_count": 18,
   "id": "4b9cff25",
   "metadata": {},
   "outputs": [],
   "source": [
    "def run_reg(reg_df, lhs_var, rhs_var):\n",
    "    \n",
    "    fit = smf.ols(f\"{lhs_var} ~ {rhs_var}\", reg_df).fit(\n",
    "        cov_type=\"HAC\", cov_kwds={\"maxlags\": 12}\n",
    "    )\n",
    "    \n",
    "    # Deal with gdp being lower freq\n",
    "    if 'gdp_growth' in rhs_var:\n",
    "        reg_alt_df = reg_df.fillna(0)[[lhs_var, rhs_var]].groupby(pd.Grouper(freq = '3m')).sum()\n",
    "        fit = smf.ols(f\"{lhs_var} ~ {rhs_var}\", reg_alt_df).fit(\n",
    "            cov_type=\"HAC\", cov_kwds={\"maxlags\": 4}\n",
    "        )\n",
    "    \n",
    "    \n",
    "    return fit"
   ]
  },
  {
   "cell_type": "code",
   "execution_count": 69,
   "id": "4a5b267e",
   "metadata": {},
   "outputs": [
    {
     "data": {
      "application/vnd.jupyter.widget-view+json": {
       "model_id": "111cf16fd27048cd846fb65df85b8894",
       "version_major": 2,
       "version_minor": 0
      },
      "text/plain": [
       "  0%|          | 0/6 [00:00<?, ?it/s]"
      ]
     },
     "metadata": {},
     "output_type": "display_data"
    }
   ],
   "source": [
    "# Params\n",
    "strategy = \"MS Strategy 1\"\n",
    "\n",
    "# Results storage\n",
    "regressor_name_list = [\n",
    "    \"Financial Uncertainty\",\n",
    "    \"Macro Uncertainty\",\n",
    "    \"Real Uncertainty\",\n",
    "    \"Econ Uncertainty\",\n",
    "    \"Risk Aversion\",\n",
    "    \"GDP Growth\",\n",
    "    \"Unemployment Change\",\n",
    "]\n",
    "regressor_list = [\n",
    "    \"financial_uncertainty\",\n",
    "    \"macro_uncertainty\",\n",
    "    \"real_uncertainty\",\n",
    "    \"bex_uncertainty\",\n",
    "    \"bex_risk_aversion\",\n",
    "    \"gdp_growth\",\n",
    "    \"unemp_change\",\n",
    "]\n",
    "results_params_df = pd.DataFrame([], columns=model_list, index=regressor_name_list)\n",
    "results_tstats_df = pd.DataFrame([], columns=model_list, index=regressor_name_list)\n",
    "results_r2_df = pd.DataFrame([], columns=model_list, index=regressor_name_list)\n",
    "\n",
    "for model in tqdm(model_list):\n",
    "\n",
    "    returns_monthly_series = (\n",
    "        oss_returns_all_df[model][strategy].groupby(pd.Grouper(freq=\"1m\")).sum()\n",
    "    )\n",
    "    returns_monthly_diff_series = (\n",
    "        returns_monthly_series\n",
    "        - oss_returns_all_df[model][\"Market\"].groupby(pd.Grouper(freq=\"1m\")).sum()\n",
    "    )\n",
    "    returns_monthly_mkt_series = (\n",
    "        oss_returns_all_df[model][\"Market\"].groupby(pd.Grouper(freq=\"1m\")).sum()\n",
    "    )\n",
    "\n",
    "    # Returns\n",
    "    returns_df = (\n",
    "        returns_monthly_diff_series.to_frame(\"diff\")\n",
    "        .join(returns_monthly_series.to_frame(\"returns\"))\n",
    "        .join(returns_monthly_mkt_series.to_frame(\"mkt\"))\n",
    "    )\n",
    "\n",
    "    # Returns with covariates for regressions\n",
    "    reg_df = returns_df.join(uncertainty_financial_df[\"financial_uncertainty\"].shift(-1))\n",
    "    reg_df = reg_df.join(uncertainty_macro_df[\"macro_uncertainty\"].shift(-1))\n",
    "    reg_df = reg_df.join(uncertainty_real_df[\"real_uncertainty\"].shift(-1))\n",
    "    reg_df = reg_df.join(uncertainty_econ_df[\"bex_uncertainty\"].shift(-1))\n",
    "    reg_df = reg_df.join(index_ra_df[\"bex_risk_aversion\"].shift(-1))\n",
    "    reg_df = reg_df.join(fred_gdp_df[\"gdp_growth\"].shift(3))\n",
    "    reg_df = reg_df.join(fred_unemp_df[\"unemp_change\"].shift(1))\n",
    "\n",
    "    # Regressions\n",
    "    for i in range(len(regressor_list)):\n",
    "        \n",
    "        fit = run_reg(reg_df, 'returns', regressor_list[i])\n",
    "        results_params_df.loc[regressor_name_list[i], model] = fit.params[-1]\n",
    "        results_tstats_df.loc[regressor_name_list[i], model] = fit.tvalues[-1]\n",
    "        results_r2_df.loc[regressor_name_list[i], model] = fit.rsquared\n",
    "        \n",
    "        # Regression for the market\n",
    "        fit = run_reg(reg_df, 'mkt', regressor_list[i])\n",
    "        results_params_df.loc[regressor_name_list[i], 'Market'] = fit.params[-1]\n",
    "        results_tstats_df.loc[regressor_name_list[i], 'Market'] = fit.tvalues[-1]\n",
    "        results_r2_df.loc[regressor_name_list[i], 'Market'] = fit.rsquared\n",
    "        \n",
    "# Fix types\n",
    "results_params_df = results_params_df.astype(float) \n",
    "results_tstats_df = results_tstats_df.astype(float) \n",
    "results_r2_df = results_r2_df.astype(float) "
   ]
  },
  {
   "cell_type": "code",
   "execution_count": 108,
   "id": "0b8fa05a-ea52-4596-9b5a-6e2ed951097e",
   "metadata": {},
   "outputs": [
    {
     "name": "stdout",
     "output_type": "stream",
     "text": [
      "\\begin{tabular}{lrrr}\n",
      "\\toprule\n",
      "{} &  Market &  Lasso &  Enet \\\\\n",
      "\\midrule\n",
      "Financial Uncertainty &  -0.42\\% &  0.82\\% & 0.73\\% \\\\\n",
      "Macro Uncertainty     &  -0.24\\% &  0.86\\% & 0.84\\% \\\\\n",
      "Real Uncertainty      &  -0.08\\% &  0.62\\% & 0.57\\% \\\\\n",
      "Econ Uncertainty      &  -0.64\\% &  0.86\\% & 0.78\\% \\\\\n",
      "Risk Aversion         &  -0.69\\% &  0.74\\% & 0.62\\% \\\\\n",
      "\\bottomrule\n",
      "\\end{tabular}\n",
      "\n"
     ]
    }
   ],
   "source": [
    "results_params_out_df = results_params_df.drop(['GDP Growth', 'Unemployment Change'])[['Market', 'Lasso', 'Enet']]\n",
    "print(results_params_out_df.round(4).to_latex(float_format = \"{:.2%}\".format))"
   ]
  },
  {
   "cell_type": "code",
   "execution_count": 109,
   "id": "d2159812-3375-4736-9ad3-3bc9af3e40d6",
   "metadata": {},
   "outputs": [
    {
     "name": "stdout",
     "output_type": "stream",
     "text": [
      "\\begin{tabular}{lrrr}\n",
      "\\toprule\n",
      "{} &  Market &  Lasso &  Enet \\\\\n",
      "\\midrule\n",
      "Financial Uncertainty &   -1.55 &   3.48 &  2.66 \\\\\n",
      "Macro Uncertainty     &   -0.81 &   4.36 &  3.92 \\\\\n",
      "Real Uncertainty      &   -0.42 &   2.69 &  2.33 \\\\\n",
      "Econ Uncertainty      &   -2.52 &   4.62 &  3.55 \\\\\n",
      "Risk Aversion         &   -3.62 &   3.62 &  2.53 \\\\\n",
      "\\bottomrule\n",
      "\\end{tabular}\n",
      "\n"
     ]
    }
   ],
   "source": [
    "results_tstats_out_df = results_tstats_df.drop(['GDP Growth', 'Unemployment Change'])[['Market', 'Lasso', 'Enet']]\n",
    "print(results_tstats_out_df.round(2).to_latex())"
   ]
  },
  {
   "cell_type": "code",
   "execution_count": 110,
   "id": "d2f62b07",
   "metadata": {},
   "outputs": [
    {
     "name": "stdout",
     "output_type": "stream",
     "text": [
      "\\begin{tabular}{lrrr}\n",
      "\\toprule\n",
      "{} &  Market &  Lasso &   Enet \\\\\n",
      "\\midrule\n",
      "Financial Uncertainty &   2.15\\% & 14.55\\% & 11.04\\% \\\\\n",
      "Macro Uncertainty     &   0.88\\% & 20.13\\% & 18.39\\% \\\\\n",
      "Real Uncertainty      &   0.12\\% & 12.06\\% &  9.59\\% \\\\\n",
      "Econ Uncertainty      &   4.20\\% & 13.22\\% & 10.68\\% \\\\\n",
      "Risk Aversion         &   6.26\\% & 12.63\\% &  8.56\\% \\\\\n",
      "\\bottomrule\n",
      "\\end{tabular}\n",
      "\n"
     ]
    }
   ],
   "source": [
    "results_r2_out_df = results_r2_df.drop(['GDP Growth', 'Unemployment Change'])[['Market', 'Lasso', 'Enet']]\n",
    "print(results_r2_out_df.round(4).to_latex(float_format = \"{:.2%}\".format))"
   ]
  },
  {
   "cell_type": "code",
   "execution_count": 112,
   "id": "f7fcfb53-9f57-47a7-97d9-6e00ccf2d9a9",
   "metadata": {},
   "outputs": [
    {
     "name": "stdout",
     "output_type": "stream",
     "text": [
      "\\begin{tabular}{llllllllll}\n",
      "\\toprule\n",
      "{} & \\multicolumn{3}{l}{beta} & \\multicolumn{3}{l}{t} & \\multicolumn{3}{l}{R2} \\\\\n",
      "{} &  Market &  Lasso &   Enet & Market & Lasso &  Enet & Market &  Lasso &   Enet \\\\\n",
      "\\midrule\n",
      "Financial Uncertainty &  -0.42\\% &  0.82\\% &  0.73\\% &  -1.55 &  3.48 &  2.66 &   2.1\\% &  14.5\\% &  11.0\\% \\\\\n",
      "Macro Uncertainty     &  -0.24\\% &  0.86\\% &  0.84\\% &  -0.81 &  4.36 &  3.92 &   0.9\\% &  20.1\\% &  18.4\\% \\\\\n",
      "Real Uncertainty      &  -0.08\\% &  0.62\\% &  0.57\\% &  -0.42 &  2.69 &  2.33 &   0.1\\% &  12.1\\% &   9.6\\% \\\\\n",
      "Econ Uncertainty      &  -0.64\\% &  0.86\\% &  0.78\\% &  -2.52 &  4.62 &  3.55 &   4.2\\% &  13.2\\% &  10.7\\% \\\\\n",
      "Risk Aversion         &  -0.69\\% &  0.74\\% &  0.62\\% &  -3.62 &  3.62 &  2.53 &   6.3\\% &  12.6\\% &   8.6\\% \\\\\n",
      "\\bottomrule\n",
      "\\end{tabular}\n",
      "\n"
     ]
    }
   ],
   "source": [
    "results_all_out_df = pd.concat(\n",
    "    [\n",
    "        results_params_out_df.applymap(lambda x: f\"{x:.2%}\"),\n",
    "        results_tstats_out_df.applymap(lambda x: f\"{x:.2f}\"),\n",
    "        results_r2_out_df.applymap(lambda x: f\"{x:.1%}\"),\n",
    "    ],\n",
    "    axis=1,\n",
    ")\n",
    "results_all_out_df.columns = pd.MultiIndex.from_arrays(\n",
    "    [[\"beta\"] * 3 + [\"t\"] * 3 + [\"R2\"] * 3, results_all_out_df.columns]\n",
    ")\n",
    "print(results_all_out_df.to_latex())"
   ]
  },
  {
   "cell_type": "markdown",
   "id": "debd2c45",
   "metadata": {},
   "source": [
    "# Analysis - Predictabiltiy"
   ]
  },
  {
   "cell_type": "markdown",
   "id": "5d079cef",
   "metadata": {
    "tags": []
   },
   "source": [
    "## Main strategy"
   ]
  },
  {
   "cell_type": "markdown",
   "id": "515df091",
   "metadata": {},
   "source": [
    "### Prep data"
   ]
  },
  {
   "cell_type": "code",
   "execution_count": 30,
   "id": "9a30e2cf",
   "metadata": {},
   "outputs": [],
   "source": [
    "# Select model strat\n",
    "model = 'Enet'\n",
    "strategy = 'MS Strategy 1'"
   ]
  },
  {
   "cell_type": "code",
   "execution_count": 170,
   "id": "ebb35909",
   "metadata": {},
   "outputs": [],
   "source": [
    "# Intersection of indices for ff market returns and predictions\n",
    "index_intersect = np.sort(list(set(oss_retpred_all_df.index).intersection(fret_df.index)))\n",
    "\n",
    "# Dataframe with prediction residual\n",
    "resid_df = (\n",
    "    oss_retpred_all_df.loc[index_intersect][model] - fret_df.loc[index_intersect][\"ff__mkt\"]\n",
    ").to_frame(\"resid\")\n",
    "resid_df[\"ff__mkt\"] = fret_df[\"ff__mkt\"]\n",
    "resid_df[\"Date\"] = pd.to_datetime(\n",
    "    (pd.Series(resid_df.index) + pd.tseries.offsets.MonthEnd(0)).dt.date\n",
    ").values"
   ]
  },
  {
   "cell_type": "code",
   "execution_count": 172,
   "id": "097d7f47",
   "metadata": {},
   "outputs": [],
   "source": [
    "# Add covariates\n",
    "resid_df = (\n",
    "    resid_df.merge(\n",
    "        uncertainty_financial_df[\"financial_uncertainty\"].shift(-1).reset_index(), how=\"left\", on=\"Date\"\n",
    "    )\n",
    "    .merge(uncertainty_macro_df[\"macro_uncertainty\"].shift(-1).reset_index(), how=\"left\", on=\"Date\")\n",
    "    .merge(uncertainty_real_df[\"real_uncertainty\"].shift(-1).reset_index(), how=\"left\", on=\"Date\")\n",
    "    .merge(\n",
    "        uncertainty_econ_df[\"bex_uncertainty\"].shift(-1).reset_index(),\n",
    "        how=\"left\",\n",
    "        left_on=\"Date\",\n",
    "        right_on=\"yyyymm\",\n",
    "    )\n",
    "    .drop([\"yyyymm\"], axis=1)\n",
    "    .merge(\n",
    "        index_ra_df[\"bex_risk_aversion\"].shift(-1).reset_index(),\n",
    "        how=\"left\",\n",
    "        left_on=\"Date\",\n",
    "        right_on=\"yyyymm\",\n",
    "    )\n",
    "    .drop([\"yyyymm\"], axis=1)\n",
    "    .merge(\n",
    "        fred_gdp_df[\"gdp_growth\"].shift(3).reset_index(),\n",
    "        how=\"left\",\n",
    "        left_on=\"Date\",\n",
    "        right_on=\"observation_date\",\n",
    "    )\n",
    "    .drop([\"observation_date\"], axis=1)\n",
    "    .merge(\n",
    "        fred_unemp_df[\"unemp_change\"].shift(1).reset_index(),\n",
    "        how=\"left\",\n",
    "        left_on=\"Date\",\n",
    "        right_on=\"observation_date\",\n",
    "    )\n",
    "    .drop([\"observation_date\"], axis=1)\n",
    ")"
   ]
  },
  {
   "cell_type": "markdown",
   "id": "6c27024b",
   "metadata": {},
   "source": [
    "### Get Results"
   ]
  },
  {
   "cell_type": "code",
   "execution_count": 308,
   "id": "b3481064",
   "metadata": {},
   "outputs": [],
   "source": [
    "# Regressors\n",
    "regressor_name_list = [\n",
    "    \"Financial Uncertainty\",\n",
    "    \"Macro Uncertainty\",\n",
    "    \"Real Uncertainty\",\n",
    "    \"Econ Uncertainty\",\n",
    "    \"Risk Aversion\",\n",
    "    \"GDP Growth\",\n",
    "    \"Unemployment Change\",\n",
    "]\n",
    "regressor_list = [\n",
    "    \"financial_uncertainty\",\n",
    "    \"macro_uncertainty\",\n",
    "    \"real_uncertainty\",\n",
    "    \"bex_uncertainty\",\n",
    "    \"bex_risk_aversion\",\n",
    "    \"gdp_growth\",\n",
    "    \"unemp_change\",\n",
    "]"
   ]
  },
  {
   "cell_type": "code",
   "execution_count": 309,
   "id": "a0bd0022",
   "metadata": {},
   "outputs": [],
   "source": [
    "@jit(nopython=True)\n",
    "def compute_r2_diff(resid_data):\n",
    "    \n",
    "    ss_below = np.sum(np.square(resid_data[resid_data[:, -1] == 0, :2]), axis=0)\n",
    "    ss_above = np.sum(np.square(resid_data[resid_data[:, -1] == 1, :2]), axis=0)\n",
    "    r2_above = 1 - ss_above[0] / ss_above[1]\n",
    "    r2_below = 1 - ss_below[0] / ss_below[1]\n",
    "    r2_diff = r2_above - r2_below\n",
    "    \n",
    "    return r2_above, r2_below, r2_diff"
   ]
  },
  {
   "cell_type": "code",
   "execution_count": 313,
   "id": "d1a32729",
   "metadata": {},
   "outputs": [
    {
     "data": {
      "application/vnd.jupyter.widget-view+json": {
       "model_id": "affca7a699af451b98a7e93d632f8799",
       "version_major": 2,
       "version_minor": 0
      },
      "text/plain": [
       "  0%|          | 0/500 [00:00<?, ?it/s]"
      ]
     },
     "metadata": {},
     "output_type": "display_data"
    },
    {
     "data": {
      "application/vnd.jupyter.widget-view+json": {
       "model_id": "4c36cd56c24648b689a188debfa8aed1",
       "version_major": 2,
       "version_minor": 0
      },
      "text/plain": [
       "  0%|          | 0/500 [00:00<?, ?it/s]"
      ]
     },
     "metadata": {},
     "output_type": "display_data"
    },
    {
     "data": {
      "application/vnd.jupyter.widget-view+json": {
       "model_id": "31634c9c35714b2a9792a56c9c1f744e",
       "version_major": 2,
       "version_minor": 0
      },
      "text/plain": [
       "  0%|          | 0/500 [00:00<?, ?it/s]"
      ]
     },
     "metadata": {},
     "output_type": "display_data"
    },
    {
     "data": {
      "application/vnd.jupyter.widget-view+json": {
       "model_id": "c835ee890e604711b397e28cdc8c0bc9",
       "version_major": 2,
       "version_minor": 0
      },
      "text/plain": [
       "  0%|          | 0/500 [00:00<?, ?it/s]"
      ]
     },
     "metadata": {},
     "output_type": "display_data"
    },
    {
     "data": {
      "application/vnd.jupyter.widget-view+json": {
       "model_id": "44e23428ec8f4f1f997b425cc535222f",
       "version_major": 2,
       "version_minor": 0
      },
      "text/plain": [
       "  0%|          | 0/500 [00:00<?, ?it/s]"
      ]
     },
     "metadata": {},
     "output_type": "display_data"
    },
    {
     "data": {
      "application/vnd.jupyter.widget-view+json": {
       "model_id": "46a7a9987b2346798b9c0886ddfaff56",
       "version_major": 2,
       "version_minor": 0
      },
      "text/plain": [
       "  0%|          | 0/500 [00:00<?, ?it/s]"
      ]
     },
     "metadata": {},
     "output_type": "display_data"
    },
    {
     "data": {
      "application/vnd.jupyter.widget-view+json": {
       "model_id": "be1b3a36e3ea45f79db960ba27622350",
       "version_major": 2,
       "version_minor": 0
      },
      "text/plain": [
       "  0%|          | 0/500 [00:00<?, ?it/s]"
      ]
     },
     "metadata": {},
     "output_type": "display_data"
    }
   ],
   "source": [
    "# Results storage\n",
    "results_list = []\n",
    "\n",
    "for i in range(len(regressor_name_list)):\n",
    "\n",
    "    # Set up indicator variable for median\n",
    "    resid_df[regressor_list[i] + \"_above_median\"] = (\n",
    "        resid_df[regressor_list[i]] > resid_df[regressor_list[i]].median()\n",
    "    ).astype(int)\n",
    "\n",
    "    # Compare R2\n",
    "    resid_regressor_agg_df = resid_df.groupby(regressor_list[i] + \"_above_median\")[\n",
    "        [\"resid\", \"ff__mkt\"]\n",
    "    ].apply(lambda x: np.sum(np.square(x)))\n",
    "    result = 1 - resid_regressor_agg_df[\"resid\"] / resid_regressor_agg_df[\"ff__mkt\"]\n",
    "    result.index = result.index.astype(str)\n",
    "    \n",
    "    # Significance\n",
    "    results_mc_list = []\n",
    "    resid_df_values = resid_df[['resid', 'ff__mkt', regressor_list[i] + \"_above_median\"]].values\n",
    "    for t in tqdm(range(500)):\n",
    "        resid_data = resid_df_values[np.random.choice(len(resid_df), int(len(resid_df)*0.999)),:]\n",
    "        r2_above, r2_below, r2_diff = compute_r2_diff(resid_data)\n",
    "        results_mc_list.append(r2_diff)\n",
    "\n",
    "    result['p'] = np.mean(np.array(results_mc_list) > 0)\n",
    "        \n",
    "    results_list.append(result)"
   ]
  },
  {
   "cell_type": "code",
   "execution_count": 314,
   "id": "87483f1a",
   "metadata": {},
   "outputs": [
    {
     "data": {
      "text/html": [
       "<div>\n",
       "<style scoped>\n",
       "    .dataframe tbody tr th:only-of-type {\n",
       "        vertical-align: middle;\n",
       "    }\n",
       "\n",
       "    .dataframe tbody tr th {\n",
       "        vertical-align: top;\n",
       "    }\n",
       "\n",
       "    .dataframe thead th {\n",
       "        text-align: right;\n",
       "    }\n",
       "</style>\n",
       "<table border=\"1\" class=\"dataframe\">\n",
       "  <thead>\n",
       "    <tr style=\"text-align: right;\">\n",
       "      <th></th>\n",
       "      <th>0</th>\n",
       "      <th>1</th>\n",
       "      <th>p</th>\n",
       "      <th>Difference</th>\n",
       "    </tr>\n",
       "  </thead>\n",
       "  <tbody>\n",
       "    <tr>\n",
       "      <th>Financial Uncertainty</th>\n",
       "      <td>0.000313</td>\n",
       "      <td>0.000772</td>\n",
       "      <td>0.878</td>\n",
       "      <td>0.000459</td>\n",
       "    </tr>\n",
       "    <tr>\n",
       "      <th>Macro Uncertainty</th>\n",
       "      <td>0.000238</td>\n",
       "      <td>0.000850</td>\n",
       "      <td>0.968</td>\n",
       "      <td>0.000612</td>\n",
       "    </tr>\n",
       "    <tr>\n",
       "      <th>Real Uncertainty</th>\n",
       "      <td>0.000459</td>\n",
       "      <td>0.000767</td>\n",
       "      <td>0.808</td>\n",
       "      <td>0.000309</td>\n",
       "    </tr>\n",
       "    <tr>\n",
       "      <th>Econ Uncertainty</th>\n",
       "      <td>0.000639</td>\n",
       "      <td>0.000692</td>\n",
       "      <td>0.590</td>\n",
       "      <td>0.000053</td>\n",
       "    </tr>\n",
       "    <tr>\n",
       "      <th>Risk Aversion</th>\n",
       "      <td>0.000308</td>\n",
       "      <td>0.000783</td>\n",
       "      <td>0.904</td>\n",
       "      <td>0.000475</td>\n",
       "    </tr>\n",
       "    <tr>\n",
       "      <th>GDP Growth</th>\n",
       "      <td>0.000698</td>\n",
       "      <td>0.000534</td>\n",
       "      <td>0.332</td>\n",
       "      <td>-0.000165</td>\n",
       "    </tr>\n",
       "    <tr>\n",
       "      <th>Unemployment Change</th>\n",
       "      <td>0.000497</td>\n",
       "      <td>0.000996</td>\n",
       "      <td>0.922</td>\n",
       "      <td>0.000499</td>\n",
       "    </tr>\n",
       "  </tbody>\n",
       "</table>\n",
       "</div>"
      ],
      "text/plain": [
       "                              0         1      p  Difference\n",
       "Financial Uncertainty  0.000313  0.000772  0.878    0.000459\n",
       "Macro Uncertainty      0.000238  0.000850  0.968    0.000612\n",
       "Real Uncertainty       0.000459  0.000767  0.808    0.000309\n",
       "Econ Uncertainty       0.000639  0.000692  0.590    0.000053\n",
       "Risk Aversion          0.000308  0.000783  0.904    0.000475\n",
       "GDP Growth             0.000698  0.000534  0.332   -0.000165\n",
       "Unemployment Change    0.000497  0.000996  0.922    0.000499"
      ]
     },
     "execution_count": 314,
     "metadata": {},
     "output_type": "execute_result"
    }
   ],
   "source": [
    "results_df = pd.DataFrame(results_list, index = regressor_name_list)\n",
    "results_df['Difference'] = results_df['1'] - results_df['0']\n",
    "results_df"
   ]
  },
  {
   "cell_type": "code",
   "execution_count": null,
   "id": "27887e5a",
   "metadata": {},
   "outputs": [],
   "source": []
  }
 ],
 "metadata": {
  "kernelspec": {
   "display_name": "Python 3 (ipykernel)",
   "language": "python",
   "name": "python3"
  },
  "language_info": {
   "codemirror_mode": {
    "name": "ipython",
    "version": 3
   },
   "file_extension": ".py",
   "mimetype": "text/x-python",
   "name": "python",
   "nbconvert_exporter": "python",
   "pygments_lexer": "ipython3",
   "version": "3.8.10"
  }
 },
 "nbformat": 4,
 "nbformat_minor": 5
}
