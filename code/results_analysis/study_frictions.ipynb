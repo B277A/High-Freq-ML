{
 "cells": [
  {
   "cell_type": "code",
   "execution_count": 65,
   "id": "65855a5d-4141-4490-b3d1-1d84c3a94294",
   "metadata": {},
   "outputs": [
    {
     "name": "stdout",
     "output_type": "stream",
     "text": [
      "The autoreload extension is already loaded. To reload it, use:\n",
      "  %reload_ext autoreload\n"
     ]
    }
   ],
   "source": [
    "%load_ext autoreload\n",
    "%autoreload 2\n",
    "\n",
    "# Add other paths\n",
    "import os, sys\n",
    "sys.path.append(os.path.abspath(os.path.join(\"../\")))\n",
    "import pandas as pd\n",
    "import numpy as np\n",
    "import datetime as dt\n",
    "import matplotlib\n",
    "import matplotlib.pyplot as plt\n",
    "import matplotlib.ticker as mtick\n",
    "import matplotlib.dates as mdates\n",
    "import seaborn as sns\n",
    "import statsmodels.formula.api as smf\n",
    "import statsmodels.api as sm\n",
    "import helper_libraries.results_tools as results_tools\n",
    "import multiprocessing\n",
    "import functools\n",
    "import warnings\n",
    "from stargazer import stargazer\n",
    "from tqdm.auto import tqdm\n",
    "\n",
    "warnings.simplefilter(\"ignore\")"
   ]
  },
  {
   "cell_type": "markdown",
   "id": "7f94034e-92c9-4d78-8fb8-dc0c9a7b183c",
   "metadata": {},
   "source": [
    "# Import data"
   ]
  },
  {
   "cell_type": "markdown",
   "id": "a8db636b-9669-414a-a62a-219208e29bcb",
   "metadata": {},
   "source": [
    "## Returns and Spreads"
   ]
  },
  {
   "cell_type": "code",
   "execution_count": 2,
   "id": "fe2e9d28-7897-4275-b4d7-ee56d96595a6",
   "metadata": {},
   "outputs": [],
   "source": [
    "# Load returns and spreads\n",
    "fret_df, hrf_df = results_tools.load_mkt_rf_returns()\n",
    "spread_df = results_tools.load_spreads()"
   ]
  },
  {
   "cell_type": "markdown",
   "id": "5530cb31-efa6-45ba-a4b0-11dcb48c6304",
   "metadata": {},
   "source": [
    "## Trading"
   ]
  },
  {
   "cell_type": "code",
   "execution_count": 3,
   "id": "3c860775-74f2-4e75-a761-c6749b96273c",
   "metadata": {},
   "outputs": [],
   "source": [
    "# Year to start trading\n",
    "start_year = '2004'\n",
    "\n",
    "# Define strategies and models\n",
    "strategies_list = [\n",
    "    \"Market\",\n",
    "    \"Sign\",\n",
    "    \"Positive\",\n",
    "    \"Tanh\",\n",
    "    \"MS Strategy 2\",\n",
    "    \"MS Strategy 1\",\n",
    "]\n",
    "model_list = [\n",
    "    \"Benchmark\",\n",
    "    \"LR\",\n",
    "    \"LR_PCA_select\",\n",
    "    \"LR_Lasso_select\",\n",
    "    \"Lasso\",\n",
    "    \"Enet\"\n",
    "]"
   ]
  },
  {
   "cell_type": "code",
   "execution_count": 336,
   "id": "f3f92a5d-0130-4a7b-a54f-a5cf65f6dab2",
   "metadata": {},
   "outputs": [
    {
     "name": "stdout",
     "output_type": "stream",
     "text": [
      "Loading the following model results...\n",
      "--------------------------------------------------\n",
      "Folder           main\n",
      "Overnight       False\n",
      "OOSPeriods          2\n",
      "Predictors        All\n",
      "Notes            Done\n",
      "Asset         ff__mkt\n",
      "--------------------------------------------------\n"
     ]
    }
   ],
   "source": [
    "# Load model results\n",
    "forecast_oss_df, forecast_ins_df, results_folder_name = results_tools.load_model_results(\n",
    "    overnight=False,\n",
    "    oos_periods=2,\n",
    "    predictors=\"All\",\n",
    "    debug=True,\n",
    ")\n",
    "\n",
    "# Filter data\n",
    "forecast_oss_filter_df = forecast_oss_df.loc[start_year:].copy()\n",
    "forecast_ins_filter_df = forecast_ins_df.loc[:str(int(start_year)-1)].copy()\n",
    "fret_filter_df = fret_df.loc[start_year:].copy()\n",
    "hrf_filter_df = hrf_df.loc[start_year:].copy()\n",
    "\n",
    "# Trading strategies\n",
    "(\n",
    "    oss_results_all_df,\n",
    "    oss_returns_all_df,\n",
    "    oss_weights_all_df,\n",
    "    oss_retpred_all_df,\n",
    ") = results_tools.get_trading_results(\n",
    "    forecast_oss_filter_df,\n",
    "    forecast_ins_filter_df,\n",
    "    spread_df,\n",
    "    fret_filter_df[\"ff__mkt\"],\n",
    "    hrf_filter_df[\"rf\"],\n",
    "    strategies_list,\n",
    "    model_list,\n",
    "    hold_cash=True,\n",
    ")"
   ]
  },
  {
   "cell_type": "markdown",
   "id": "83e9f6d7-9f27-44cc-aa6c-8c0efec1ba5f",
   "metadata": {},
   "source": [
    "## JLN Uncertainty"
   ]
  },
  {
   "cell_type": "code",
   "execution_count": 337,
   "id": "ab2bbbd8-8ac2-4692-b1f3-acc2cd0272c7",
   "metadata": {},
   "outputs": [],
   "source": [
    "# Load uncertainty measurse from Jurado, Ludvigson, Ng\n",
    "uncertainty_financial_df = pd.read_excel('../../data/jln/FinancialUncertaintyToCirculate.xlsx')\n",
    "uncertainty_macro_df = pd.read_excel('../../data/jln/MacroUncertaintyToCirculate.xlsx')\n",
    "uncertainty_real_df = pd.read_excel('../../data/jln/RealUncertaintyToCirculate.xlsx')"
   ]
  },
  {
   "cell_type": "code",
   "execution_count": 338,
   "id": "a3df5ed7-3ae6-4af5-bae4-6979d0722cb5",
   "metadata": {},
   "outputs": [],
   "source": [
    "## Clean up\n",
    "# Fix date index\n",
    "uncertainty_financial_df.index = pd.to_datetime(uncertainty_financial_df['Date']) + pd.tseries.offsets.MonthEnd(0)\n",
    "uncertainty_macro_df.index = pd.to_datetime(uncertainty_macro_df['Date']) + pd.tseries.offsets.MonthEnd(0)\n",
    "uncertainty_real_df.index = pd.to_datetime(uncertainty_real_df['Date']) + pd.tseries.offsets.MonthEnd(0)\n",
    "\n",
    "# Setup variables\n",
    "uncertainty_financial_df['financial_uncertainty'] = uncertainty_financial_df['h=1'] / np.std(uncertainty_financial_df['h=1'])\n",
    "uncertainty_macro_df['macro_uncertainty'] = uncertainty_macro_df['h=1'] / np.std(uncertainty_macro_df['h=1'])\n",
    "uncertainty_real_df['real_uncertainty'] = uncertainty_real_df['h=1'] / np.std(uncertainty_real_df['h=1'])"
   ]
  },
  {
   "cell_type": "markdown",
   "id": "05965616-e56e-4f53-a4b3-cb1a9be463f8",
   "metadata": {},
   "source": [
    "## BEX Uncertainty"
   ]
  },
  {
   "cell_type": "code",
   "execution_count": 339,
   "id": "8a3895ee-a151-429c-9b49-e54ad1b00ccd",
   "metadata": {},
   "outputs": [],
   "source": [
    "# Load uncertainty measurse from Bekaert, Engstrom, Xu\n",
    "uncertainty_econ_df = pd.read_excel(\n",
    "    \"../../data/bex/BEX_Indices_20220301.xlsx\", sheet_name=\"DATA_PLOT_monthly\"\n",
    ")[[\"yyyymm\", \"unc_bex_PAPER\"]]\n",
    "index_ra_df = pd.read_excel(\n",
    "    \"../../data/bex/BEX_Indices_20220301.xlsx\", sheet_name=\"DATA_PLOT_monthly\"\n",
    ")[[\"yyyymm\", \"ra_bex_PAPER\"]]"
   ]
  },
  {
   "cell_type": "code",
   "execution_count": 340,
   "id": "bc2be6b8-f7fd-48fa-8e3e-1178c11fa2e5",
   "metadata": {},
   "outputs": [],
   "source": [
    "## Clean up\n",
    "# Fix date index\n",
    "uncertainty_econ_df.index = pd.to_datetime(\n",
    "    uncertainty_econ_df[\"yyyymm\"], format=\"%Y%m\"\n",
    ") + pd.tseries.offsets.MonthEnd(0)\n",
    "index_ra_df.index = pd.to_datetime(\n",
    "    index_ra_df[\"yyyymm\"], format=\"%Y%m\"\n",
    ") + pd.tseries.offsets.MonthEnd(0)\n",
    "\n",
    "# Setup variables\n",
    "uncertainty_econ_df[\"bex_uncertainty\"] = uncertainty_econ_df[\"unc_bex_PAPER\"] / np.std(\n",
    "    uncertainty_econ_df[\"unc_bex_PAPER\"]\n",
    ")\n",
    "index_ra_df[\"bex_risk_aversion\"] = index_ra_df[\"ra_bex_PAPER\"] / np.std(\n",
    "    index_ra_df[\"ra_bex_PAPER\"]\n",
    ")"
   ]
  },
  {
   "cell_type": "markdown",
   "id": "3ab971f1-1c5e-4492-abf7-ae06bc2f1ec8",
   "metadata": {},
   "source": [
    "## FRED"
   ]
  },
  {
   "cell_type": "code",
   "execution_count": 341,
   "id": "9269da7a-cfa6-450a-92d1-0e0441ef2c6d",
   "metadata": {},
   "outputs": [],
   "source": [
    "# Load uncertainty measurse from FRED\n",
    "fred_gdp_df = pd.read_excel(\n",
    "    \"../../data/fred/GDP.xls\", skiprows = 10)\n",
    "fred_unemp_df = pd.read_excel(\n",
    "    \"../../data/fred/UNRATE.xls\", skiprows = 10)"
   ]
  },
  {
   "cell_type": "code",
   "execution_count": 342,
   "id": "e4364812-4f0b-4f62-9a6b-b5d537ac17f1",
   "metadata": {},
   "outputs": [],
   "source": [
    "## Clean up\n",
    "# Fix date index\n",
    "fred_gdp_df.index = pd.to_datetime(\n",
    "    fred_gdp_df[\"observation_date\"]\n",
    ") + pd.tseries.offsets.MonthEnd(0)\n",
    "fred_unemp_df.index = pd.to_datetime(\n",
    "    fred_unemp_df[\"observation_date\"]\n",
    ") + pd.tseries.offsets.MonthEnd(0)\n",
    "\n",
    "# Setup variables\n",
    "fred_gdp_df[\"gdp_growth\"] = fred_gdp_df[\"GDP_PCH\"] / np.std(\n",
    "    fred_gdp_df[\"GDP_PCH\"]\n",
    ")\n",
    "fred_unemp_df[\"unemp_change\"] = fred_unemp_df[\"UNRATE_PCH\"] / np.std(\n",
    "    fred_unemp_df[\"UNRATE_PCH\"]\n",
    ")"
   ]
  },
  {
   "cell_type": "markdown",
   "id": "2e9351c3-66bb-4e3d-bee8-7f3b540d1c4b",
   "metadata": {},
   "source": [
    "# Analysis"
   ]
  },
  {
   "cell_type": "markdown",
   "id": "31066c1c-29cf-400f-a91c-fc727cf28ffc",
   "metadata": {
    "tags": []
   },
   "source": [
    "## Main strategy"
   ]
  },
  {
   "cell_type": "markdown",
   "id": "bfafc0ce-27c5-4cee-8572-9824b9cc5b2a",
   "metadata": {},
   "source": [
    "### Prep data"
   ]
  },
  {
   "cell_type": "code",
   "execution_count": 231,
   "id": "1ee19d5b-ed94-4568-bf43-1aceb000dd9e",
   "metadata": {},
   "outputs": [],
   "source": [
    "# Select model strat\n",
    "model = 'Enet'\n",
    "strategy = 'MS Strategy 1'"
   ]
  },
  {
   "cell_type": "code",
   "execution_count": 232,
   "id": "7b699234-1738-461f-8fbd-7b61e007c428",
   "metadata": {},
   "outputs": [
    {
     "data": {
      "text/plain": [
       "<AxesSubplot:xlabel='datetime'>"
      ]
     },
     "execution_count": 232,
     "metadata": {},
     "output_type": "execute_result"
    },
    {
     "data": {
      "image/png": "[encoded data removed]",
      "text/plain": [
       "<Figure size 432x288 with 1 Axes>"
      ]
     },
     "metadata": {
      "needs_background": "light"
     },
     "output_type": "display_data"
    }
   ],
   "source": [
    "returns_monthly_series = oss_returns_all_df[model][strategy].groupby(pd.Grouper(freq = '1m')).sum()\n",
    "returns_monthly_diff_series = returns_monthly_series - oss_returns_all_df[model]['Market'].groupby(pd.Grouper(freq = '1m')).sum()\n",
    "returns_monthly_mkt_series = oss_returns_all_df[model]['Market'].groupby(pd.Grouper(freq = '1m')).sum()\n",
    "returns_monthly_series.plot()"
   ]
  },
  {
   "cell_type": "code",
   "execution_count": 233,
   "id": "798bdd46-0b2a-40db-b8ed-052c03211145",
   "metadata": {},
   "outputs": [],
   "source": [
    "# Returns\n",
    "returns_df = (\n",
    "    returns_monthly_diff_series.to_frame(\"diff\")\n",
    "    .join(returns_monthly_series.to_frame(\"returns\"))\n",
    "    .join(returns_monthly_mkt_series.to_frame(\"mkt\"))\n",
    ")\n",
    "\n",
    "# Returns with covariates for regressions\n",
    "reg_df = returns_df.join(uncertainty_financial_df[\"financial_uncertainty\"].shift(-1))\n",
    "reg_df = reg_df.join(uncertainty_macro_df[\"macro_uncertainty\"].shift(-1))\n",
    "reg_df = reg_df.join(uncertainty_real_df[\"real_uncertainty\"].shift(-1))\n",
    "reg_df = reg_df.join(uncertainty_econ_df[\"bex_uncertainty\"].shift(-1))\n",
    "reg_df = reg_df.join(index_ra_df[\"bex_risk_aversion\"].shift(-1))"
   ]
  },
  {
   "cell_type": "markdown",
   "id": "bd7aeeec-a0fa-4921-9e1b-f24abe18f3d6",
   "metadata": {},
   "source": [
    "### Regressions"
   ]
  },
  {
   "cell_type": "code",
   "execution_count": 110,
   "id": "2fa4a7e8-ab93-487d-8c9c-b3bd6fd8157e",
   "metadata": {},
   "outputs": [],
   "source": [
    "fit_fin_mkt = smf.ols(\"mkt ~ financial_uncertainty\", reg_df).fit(\n",
    "    cov_type=\"HAC\", cov_kwds={\"maxlags\": 12}\n",
    ")\n",
    "fit_fin_diff = smf.ols(\"diff ~ financial_uncertainty\", reg_df).fit(\n",
    "    cov_type=\"HAC\", cov_kwds={\"maxlags\": 12}\n",
    ")\n",
    "fit_fin_returns = smf.ols(\"returns ~ financial_uncertainty\", reg_df).fit(\n",
    "    cov_type=\"HAC\", cov_kwds={\"maxlags\": 12}\n",
    ")\n",
    "\n",
    "fit_macro_mkt = smf.ols(\"mkt ~ macro_uncertainty\", reg_df).fit(\n",
    "    cov_type=\"HAC\", cov_kwds={\"maxlags\": 12}\n",
    ")\n",
    "fit_macro_diff = smf.ols(\"diff ~ macro_uncertainty\", reg_df).fit(\n",
    "    cov_type=\"HAC\", cov_kwds={\"maxlags\": 12}\n",
    ")\n",
    "fit_macro_returns = smf.ols(\"returns ~ macro_uncertainty\", reg_df).fit(\n",
    "    cov_type=\"HAC\", cov_kwds={\"maxlags\": 12}\n",
    ")\n",
    "\n",
    "fit_real_mkt = smf.ols(\"mkt ~ real_uncertainty\", reg_df).fit(\n",
    "    cov_type=\"HAC\", cov_kwds={\"maxlags\": 12}\n",
    ")\n",
    "fit_real_diff = smf.ols(\"diff ~ real_uncertainty\", reg_df).fit(\n",
    "    cov_type=\"HAC\", cov_kwds={\"maxlags\": 12}\n",
    ")\n",
    "fit_real_returns = smf.ols(\"returns ~ real_uncertainty\", reg_df).fit(\n",
    "    cov_type=\"HAC\", cov_kwds={\"maxlags\": 12}\n",
    ")\n",
    "\n",
    "fit_all_mkt = smf.ols(\n",
    "    \"mkt ~ financial_uncertainty + macro_uncertainty + real_uncertainty\", reg_df\n",
    ").fit(cov_type=\"HAC\", cov_kwds={\"maxlags\": 12})\n",
    "fit_all_diff = smf.ols(\n",
    "    \"diff ~ financial_uncertainty + macro_uncertainty + real_uncertainty\", reg_df\n",
    ").fit(cov_type=\"HAC\", cov_kwds={\"maxlags\": 12})\n",
    "fit_all_returns = smf.ols(\n",
    "    \"returns ~ financial_uncertainty + macro_uncertainty + real_uncertainty\", reg_df\n",
    ").fit(cov_type=\"HAC\", cov_kwds={\"maxlags\": 12})"
   ]
  },
  {
   "cell_type": "code",
   "execution_count": 141,
   "id": "478c287e-de6f-42a8-a354-8d3be2b3c017",
   "metadata": {},
   "outputs": [],
   "source": [
    "sg = stargazer.Stargazer([fit_fin_mkt, fit_fin_returns, fit_fin_diff,\n",
    "                    fit_macro_mkt, fit_macro_returns, fit_macro_diff,\n",
    "                    fit_real_mkt, fit_real_returns, fit_real_diff,\n",
    "                    # fit_all_mkt, fit_all_returns, fit_all_diff,\n",
    "                    ])\n",
    "sg.column_labels = ['Market', 'ENet-MS1', 'Diff']*3\n",
    "sg.column_separators = [1]*9\n",
    "sg.cov_map = {'financial_uncertainty': 'Financial Uncertainty',\n",
    "              'macro_uncertainty':    'Macro Uncertainty',\n",
    "              'real_uncertainty':  'Real Uncertainty',}"
   ]
  },
  {
   "cell_type": "code",
   "execution_count": 142,
   "id": "2e3d44cd-07a4-4cca-ace0-46610fb81a89",
   "metadata": {},
   "outputs": [
    {
     "name": "stdout",
     "output_type": "stream",
     "text": [
      "\\begin{table}[!htbp] \\centering\n",
      "\\begin{tabular}{@{\\extracolsep{5pt}}lccccccccc}\n",
      "\\\\[-1.8ex]\\hline\n",
      "\\hline \\\\[-1.8ex]\n",
      "\\\\[-1.8ex] & \\multicolumn{1}{c}{Market} & \\multicolumn{1}{c}{ENet-MS1} & \\multicolumn{1}{c}{Diff} & \\multicolumn{1}{c}{Market} & \\multicolumn{1}{c}{ENet-MS1} & \\multicolumn{1}{c}{Diff} & \\multicolumn{1}{c}{Market} & \\multicolumn{1}{c}{ENet-MS1} & \\multicolumn{1}{c}{Diff}  \\\\\n",
      "\\\\[-1.8ex] & (1) & (2) & (3) & (4) & (5) & (6) & (7) & (8) & (9) \\\\\n",
      "\\hline \\\\[-1.8ex]\n",
      " Intercept & 0.023$^{*}$ & -0.028$^{*}$ & -0.096$^{***}$ & 0.016$^{}$ & -0.042$^{***}$ & -0.112$^{***}$ & 0.006$^{}$ & -0.023$^{}$ & -0.070$^{**}$ \\\\\n",
      "  & (0.013) & (0.015) & (0.035) & (0.017) & (0.014) & (0.038) & (0.011) & (0.014) & (0.036) \\\\\n",
      " Financial Uncertainty & -0.025$^{}$ & 0.042$^{**}$ & 0.128$^{***}$ & & & & & & \\\\\n",
      "  & (0.016) & (0.017) & (0.041) & & & & & & \\\\\n",
      " Macro Uncertainty & & & & -0.022$^{}$ & 0.076$^{***}$ & 0.195$^{***}$ & & & \\\\\n",
      "  & & & & (0.027) & (0.022) & (0.061) & & & \\\\\n",
      " Real Uncertainty & & & & & & & -0.008$^{}$ & 0.050$^{**}$ & 0.138$^{**}$ \\\\\n",
      "  & & & & & & & (0.019) & (0.024) & (0.062) \\\\\n",
      "\\hline \\\\[-1.8ex]\n",
      " Observations & 204 & 204 & 204 & 204 & 204 & 204 & 204 & 204 & 204 \\\\\n",
      " $R^2$ & 0.021 & 0.101 & 0.216 & 0.009 & 0.170 & 0.259 & 0.001 & 0.080 & 0.141 \\\\\n",
      " Adjusted $R^2$ & 0.017 & 0.096 & 0.212 & 0.004 & 0.165 & 0.255 & -0.004 & 0.075 & 0.137 \\\\\n",
      " Residual Std. Error & 0.034(df = 202) & 0.025(df = 202) & 0.049(df = 202) & 0.034(df = 202) & 0.024(df = 202) & 0.048(df = 202) & 0.034(df = 202) & 0.026(df = 202) & 0.051(df = 202)  \\\\\n",
      " F Statistic & 2.409$^{}$ (df = 1.0; 202.0) & 5.883$^{**}$ (df = 1.0; 202.0) & 9.735$^{***}$ (df = 1.0; 202.0) & 0.651$^{}$ (df = 1.0; 202.0) & 11.675$^{***}$ (df = 1.0; 202.0) & 10.167$^{***}$ (df = 1.0; 202.0) & 0.180$^{}$ (df = 1.0; 202.0) & 4.180$^{**}$ (df = 1.0; 202.0) & 5.014$^{**}$ (df = 1.0; 202.0) \\\\\n",
      "\\hline\n",
      "\\hline \\\\[-1.8ex]\n",
      "\\textit{Note:} & \\multicolumn{9}{r}{$^{*}$p$<$0.1; $^{**}$p$<$0.05; $^{***}$p$<$0.01} \\\\\n",
      "\\end{tabular}\n",
      "\\end{table}\n"
     ]
    }
   ],
   "source": [
    "print(sg.render_latex())"
   ]
  },
  {
   "cell_type": "markdown",
   "id": "d4565c5a-1489-4f50-ae3c-7bf8ed3e1d7e",
   "metadata": {},
   "source": [
    "## All pairs"
   ]
  },
  {
   "cell_type": "code",
   "execution_count": 343,
   "id": "56564eb8-e86c-4d65-8599-4615eccf38a7",
   "metadata": {},
   "outputs": [],
   "source": [
    "def run_reg(reg_df, lhs_var, rhs_var):\n",
    "    \n",
    "    fit = smf.ols(f\"{lhs_var} ~ {rhs_var}\", reg_df).fit(\n",
    "        cov_type=\"HAC\", cov_kwds={\"maxlags\": 12}\n",
    "    )\n",
    "    \n",
    "    # Deal with gdp being lower freq\n",
    "    if 'gdp_growth' in rhs_var:\n",
    "        reg_alt_df = reg_df.fillna(0)[[lhs_var, rhs_var]].groupby(pd.Grouper(freq = '3m')).sum()\n",
    "        fit = smf.ols(f\"{lhs_var} ~ {rhs_var}\", reg_alt_df).fit(\n",
    "            cov_type=\"HAC\", cov_kwds={\"maxlags\": 4}\n",
    "        )\n",
    "    \n",
    "    \n",
    "    return fit"
   ]
  },
  {
   "cell_type": "code",
   "execution_count": 344,
   "id": "cc5761d2-fc6e-43c1-a378-3fa4604558b1",
   "metadata": {},
   "outputs": [
    {
     "data": {
      "application/vnd.jupyter.widget-view+json": {
       "model_id": "487ba25c641f4da588ae30487dcd487b",
       "version_major": 2,
       "version_minor": 0
      },
      "text/plain": [
       "  0%|          | 0/6 [00:00<?, ?it/s]"
      ]
     },
     "metadata": {},
     "output_type": "display_data"
    }
   ],
   "source": [
    "# Params\n",
    "strategy = \"MS Strategy 1\"\n",
    "\n",
    "# Results storage\n",
    "regressor_name_list = [\n",
    "    \"Financial Uncertainty\",\n",
    "    \"Macro Uncertainty\",\n",
    "    \"Real Uncertainty\",\n",
    "    \"Econ Uncertainty\",\n",
    "    \"Risk Aversion\",\n",
    "    \"GDP Growth\",\n",
    "    \"Unemployment Change\",\n",
    "]\n",
    "regressor_list = [\n",
    "    \"financial_uncertainty\",\n",
    "    \"macro_uncertainty\",\n",
    "    \"real_uncertainty\",\n",
    "    \"bex_uncertainty\",\n",
    "    \"bex_risk_aversion\",\n",
    "    \"gdp_growth\",\n",
    "    \"unemp_change\",\n",
    "]\n",
    "results_params_df = pd.DataFrame([], columns=model_list, index=regressor_name_list)\n",
    "results_tstats_df = pd.DataFrame([], columns=model_list, index=regressor_name_list)\n",
    "results_r2_df = pd.DataFrame([], columns=model_list, index=regressor_name_list)\n",
    "\n",
    "for model in tqdm(model_list):\n",
    "\n",
    "    returns_monthly_series = (\n",
    "        oss_returns_all_df[model][strategy].groupby(pd.Grouper(freq=\"1m\")).sum()\n",
    "    )\n",
    "    returns_monthly_diff_series = (\n",
    "        returns_monthly_series\n",
    "        - oss_returns_all_df[model][\"Market\"].groupby(pd.Grouper(freq=\"1m\")).sum()\n",
    "    )\n",
    "    returns_monthly_mkt_series = (\n",
    "        oss_returns_all_df[model][\"Market\"].groupby(pd.Grouper(freq=\"1m\")).sum()\n",
    "    )\n",
    "\n",
    "    # Returns\n",
    "    returns_df = (\n",
    "        returns_monthly_diff_series.to_frame(\"diff\")\n",
    "        .join(returns_monthly_series.to_frame(\"returns\"))\n",
    "        .join(returns_monthly_mkt_series.to_frame(\"mkt\"))\n",
    "    )\n",
    "\n",
    "    # Returns with covariates for regressions\n",
    "    reg_df = returns_df.join(uncertainty_financial_df[\"financial_uncertainty\"].shift(-1))\n",
    "    reg_df = reg_df.join(uncertainty_macro_df[\"macro_uncertainty\"].shift(-1))\n",
    "    reg_df = reg_df.join(uncertainty_real_df[\"real_uncertainty\"].shift(-1))\n",
    "    reg_df = reg_df.join(uncertainty_econ_df[\"bex_uncertainty\"].shift(-1))\n",
    "    reg_df = reg_df.join(index_ra_df[\"bex_risk_aversion\"].shift(-1))\n",
    "    reg_df = reg_df.join(fred_gdp_df[\"gdp_growth\"].shift(3))\n",
    "    reg_df = reg_df.join(fred_unemp_df[\"unemp_change\"].shift(1))\n",
    "\n",
    "    # Regressions\n",
    "    for i in range(len(regressor_list)):\n",
    "        \n",
    "        fit = run_reg(reg_df, 'diff', regressor_list[i])\n",
    "        results_params_df.loc[regressor_name_list[i], model] = fit.params[-1]\n",
    "        results_tstats_df.loc[regressor_name_list[i], model] = fit.tvalues[-1]\n",
    "        results_r2_df.loc[regressor_name_list[i], model] = fit.rsquared"
   ]
  },
  {
   "cell_type": "code",
   "execution_count": 309,
   "id": "4200244c-5583-46d2-8ef0-52e9f506b049",
   "metadata": {},
   "outputs": [
    {
     "data": {
      "text/html": [
       "<div>\n",
       "<style scoped>\n",
       "    .dataframe tbody tr th:only-of-type {\n",
       "        vertical-align: middle;\n",
       "    }\n",
       "\n",
       "    .dataframe tbody tr th {\n",
       "        vertical-align: top;\n",
       "    }\n",
       "\n",
       "    .dataframe thead th {\n",
       "        text-align: right;\n",
       "    }\n",
       "</style>\n",
       "<table border=\"1\" class=\"dataframe\">\n",
       "  <thead>\n",
       "    <tr style=\"text-align: right;\">\n",
       "      <th></th>\n",
       "      <th>Benchmark</th>\n",
       "      <th>LR</th>\n",
       "      <th>LR_PCA_select</th>\n",
       "      <th>LR_Lasso_select</th>\n",
       "      <th>Lasso</th>\n",
       "      <th>Enet</th>\n",
       "    </tr>\n",
       "  </thead>\n",
       "  <tbody>\n",
       "    <tr>\n",
       "      <th>Financial Uncertainty</th>\n",
       "      <td>0.004764</td>\n",
       "      <td>0.009397</td>\n",
       "      <td>0.010341</td>\n",
       "      <td>-0.00041</td>\n",
       "      <td>0.012484</td>\n",
       "      <td>0.011207</td>\n",
       "    </tr>\n",
       "    <tr>\n",
       "      <th>Macro Uncertainty</th>\n",
       "      <td>0.003279</td>\n",
       "      <td>0.007891</td>\n",
       "      <td>0.008146</td>\n",
       "      <td>-0.000146</td>\n",
       "      <td>0.011231</td>\n",
       "      <td>0.010552</td>\n",
       "    </tr>\n",
       "    <tr>\n",
       "      <th>Real Uncertainty</th>\n",
       "      <td>0.001636</td>\n",
       "      <td>0.004268</td>\n",
       "      <td>0.004739</td>\n",
       "      <td>-0.000196</td>\n",
       "      <td>0.007215</td>\n",
       "      <td>0.006078</td>\n",
       "    </tr>\n",
       "    <tr>\n",
       "      <th>Econ Uncertainty</th>\n",
       "      <td>0.005286</td>\n",
       "      <td>0.012949</td>\n",
       "      <td>0.014269</td>\n",
       "      <td>-0.000525</td>\n",
       "      <td>0.015372</td>\n",
       "      <td>0.01424</td>\n",
       "    </tr>\n",
       "    <tr>\n",
       "      <th>Risk Aversion</th>\n",
       "      <td>0.006082</td>\n",
       "      <td>0.010819</td>\n",
       "      <td>0.013671</td>\n",
       "      <td>-0.000278</td>\n",
       "      <td>0.014646</td>\n",
       "      <td>0.013334</td>\n",
       "    </tr>\n",
       "    <tr>\n",
       "      <th>GDP Growth</th>\n",
       "      <td>0.011665</td>\n",
       "      <td>-0.004211</td>\n",
       "      <td>0.002279</td>\n",
       "      <td>0.005874</td>\n",
       "      <td>-0.006002</td>\n",
       "      <td>0.001302</td>\n",
       "    </tr>\n",
       "    <tr>\n",
       "      <th>Unemployment Change</th>\n",
       "      <td>0.001341</td>\n",
       "      <td>-0.000521</td>\n",
       "      <td>0.001853</td>\n",
       "      <td>0.000012</td>\n",
       "      <td>0.001673</td>\n",
       "      <td>0.001423</td>\n",
       "    </tr>\n",
       "  </tbody>\n",
       "</table>\n",
       "</div>"
      ],
      "text/plain": [
       "                      Benchmark        LR LR_PCA_select LR_Lasso_select  \\\n",
       "Financial Uncertainty  0.004764  0.009397      0.010341        -0.00041   \n",
       "Macro Uncertainty      0.003279  0.007891      0.008146       -0.000146   \n",
       "Real Uncertainty       0.001636  0.004268      0.004739       -0.000196   \n",
       "Econ Uncertainty       0.005286  0.012949      0.014269       -0.000525   \n",
       "Risk Aversion          0.006082  0.010819      0.013671       -0.000278   \n",
       "GDP Growth             0.011665 -0.004211      0.002279        0.005874   \n",
       "Unemployment Change    0.001341 -0.000521      0.001853        0.000012   \n",
       "\n",
       "                          Lasso      Enet  \n",
       "Financial Uncertainty  0.012484  0.011207  \n",
       "Macro Uncertainty      0.011231  0.010552  \n",
       "Real Uncertainty       0.007215  0.006078  \n",
       "Econ Uncertainty       0.015372   0.01424  \n",
       "Risk Aversion          0.014646  0.013334  \n",
       "GDP Growth            -0.006002  0.001302  \n",
       "Unemployment Change    0.001673  0.001423  "
      ]
     },
     "execution_count": 309,
     "metadata": {},
     "output_type": "execute_result"
    }
   ],
   "source": [
    "results_params_df"
   ]
  },
  {
   "cell_type": "code",
   "execution_count": 310,
   "id": "3893171f-de1d-4b2e-b8a9-71f89049127a",
   "metadata": {},
   "outputs": [
    {
     "data": {
      "text/html": [
       "<div>\n",
       "<style scoped>\n",
       "    .dataframe tbody tr th:only-of-type {\n",
       "        vertical-align: middle;\n",
       "    }\n",
       "\n",
       "    .dataframe tbody tr th {\n",
       "        vertical-align: top;\n",
       "    }\n",
       "\n",
       "    .dataframe thead th {\n",
       "        text-align: right;\n",
       "    }\n",
       "</style>\n",
       "<table border=\"1\" class=\"dataframe\">\n",
       "  <thead>\n",
       "    <tr style=\"text-align: right;\">\n",
       "      <th></th>\n",
       "      <th>Benchmark</th>\n",
       "      <th>LR</th>\n",
       "      <th>LR_PCA_select</th>\n",
       "      <th>LR_Lasso_select</th>\n",
       "      <th>Lasso</th>\n",
       "      <th>Enet</th>\n",
       "    </tr>\n",
       "  </thead>\n",
       "  <tbody>\n",
       "    <tr>\n",
       "      <th>Financial Uncertainty</th>\n",
       "      <td>2.108621</td>\n",
       "      <td>2.38227</td>\n",
       "      <td>2.17218</td>\n",
       "      <td>-1.537654</td>\n",
       "      <td>3.336921</td>\n",
       "      <td>2.604438</td>\n",
       "    </tr>\n",
       "    <tr>\n",
       "      <th>Macro Uncertainty</th>\n",
       "      <td>1.287838</td>\n",
       "      <td>1.734731</td>\n",
       "      <td>1.520491</td>\n",
       "      <td>-0.945548</td>\n",
       "      <td>2.642489</td>\n",
       "      <td>2.255163</td>\n",
       "    </tr>\n",
       "    <tr>\n",
       "      <th>Real Uncertainty</th>\n",
       "      <td>0.826557</td>\n",
       "      <td>1.133821</td>\n",
       "      <td>1.136044</td>\n",
       "      <td>-1.254574</td>\n",
       "      <td>1.854779</td>\n",
       "      <td>1.508614</td>\n",
       "    </tr>\n",
       "    <tr>\n",
       "      <th>Econ Uncertainty</th>\n",
       "      <td>1.929355</td>\n",
       "      <td>4.461856</td>\n",
       "      <td>2.920784</td>\n",
       "      <td>-1.353219</td>\n",
       "      <td>5.011375</td>\n",
       "      <td>3.819573</td>\n",
       "    </tr>\n",
       "    <tr>\n",
       "      <th>Risk Aversion</th>\n",
       "      <td>3.473388</td>\n",
       "      <td>6.094102</td>\n",
       "      <td>4.33053</td>\n",
       "      <td>-1.456621</td>\n",
       "      <td>6.82387</td>\n",
       "      <td>4.716805</td>\n",
       "    </tr>\n",
       "    <tr>\n",
       "      <th>GDP Growth</th>\n",
       "      <td>1.418066</td>\n",
       "      <td>-0.571001</td>\n",
       "      <td>0.185128</td>\n",
       "      <td>1.437628</td>\n",
       "      <td>-0.443004</td>\n",
       "      <td>0.100108</td>\n",
       "    </tr>\n",
       "    <tr>\n",
       "      <th>Unemployment Change</th>\n",
       "      <td>4.376465</td>\n",
       "      <td>-0.670439</td>\n",
       "      <td>3.643839</td>\n",
       "      <td>0.25821</td>\n",
       "      <td>2.5841</td>\n",
       "      <td>2.260262</td>\n",
       "    </tr>\n",
       "  </tbody>\n",
       "</table>\n",
       "</div>"
      ],
      "text/plain": [
       "                      Benchmark        LR LR_PCA_select LR_Lasso_select  \\\n",
       "Financial Uncertainty  2.108621   2.38227       2.17218       -1.537654   \n",
       "Macro Uncertainty      1.287838  1.734731      1.520491       -0.945548   \n",
       "Real Uncertainty       0.826557  1.133821      1.136044       -1.254574   \n",
       "Econ Uncertainty       1.929355  4.461856      2.920784       -1.353219   \n",
       "Risk Aversion          3.473388  6.094102       4.33053       -1.456621   \n",
       "GDP Growth             1.418066 -0.571001      0.185128        1.437628   \n",
       "Unemployment Change    4.376465 -0.670439      3.643839         0.25821   \n",
       "\n",
       "                          Lasso      Enet  \n",
       "Financial Uncertainty  3.336921  2.604438  \n",
       "Macro Uncertainty      2.642489  2.255163  \n",
       "Real Uncertainty       1.854779  1.508614  \n",
       "Econ Uncertainty       5.011375  3.819573  \n",
       "Risk Aversion           6.82387  4.716805  \n",
       "GDP Growth            -0.443004  0.100108  \n",
       "Unemployment Change      2.5841  2.260262  "
      ]
     },
     "execution_count": 310,
     "metadata": {},
     "output_type": "execute_result"
    }
   ],
   "source": [
    "results_tstats_df"
   ]
  },
  {
   "cell_type": "code",
   "execution_count": 311,
   "id": "470d3158-cac0-44e1-a893-d1ff84d038e1",
   "metadata": {},
   "outputs": [
    {
     "data": {
      "text/html": [
       "<div>\n",
       "<style scoped>\n",
       "    .dataframe tbody tr th:only-of-type {\n",
       "        vertical-align: middle;\n",
       "    }\n",
       "\n",
       "    .dataframe tbody tr th {\n",
       "        vertical-align: top;\n",
       "    }\n",
       "\n",
       "    .dataframe thead th {\n",
       "        text-align: right;\n",
       "    }\n",
       "</style>\n",
       "<table border=\"1\" class=\"dataframe\">\n",
       "  <thead>\n",
       "    <tr style=\"text-align: right;\">\n",
       "      <th></th>\n",
       "      <th>Benchmark</th>\n",
       "      <th>LR</th>\n",
       "      <th>LR_PCA_select</th>\n",
       "      <th>LR_Lasso_select</th>\n",
       "      <th>Lasso</th>\n",
       "      <th>Enet</th>\n",
       "    </tr>\n",
       "  </thead>\n",
       "  <tbody>\n",
       "    <tr>\n",
       "      <th>Financial Uncertainty</th>\n",
       "      <td>0.039836</td>\n",
       "      <td>0.128264</td>\n",
       "      <td>0.103582</td>\n",
       "      <td>0.008012</td>\n",
       "      <td>0.173101</td>\n",
       "      <td>0.144836</td>\n",
       "    </tr>\n",
       "    <tr>\n",
       "      <th>Macro Uncertainty</th>\n",
       "      <td>0.023634</td>\n",
       "      <td>0.113262</td>\n",
       "      <td>0.080482</td>\n",
       "      <td>0.001267</td>\n",
       "      <td>0.175406</td>\n",
       "      <td>0.160787</td>\n",
       "    </tr>\n",
       "    <tr>\n",
       "      <th>Real Uncertainty</th>\n",
       "      <td>0.006717</td>\n",
       "      <td>0.037825</td>\n",
       "      <td>0.031091</td>\n",
       "      <td>0.002623</td>\n",
       "      <td>0.082641</td>\n",
       "      <td>0.060911</td>\n",
       "    </tr>\n",
       "    <tr>\n",
       "      <th>Econ Uncertainty</th>\n",
       "      <td>0.04085</td>\n",
       "      <td>0.202896</td>\n",
       "      <td>0.164288</td>\n",
       "      <td>0.010925</td>\n",
       "      <td>0.218629</td>\n",
       "      <td>0.19482</td>\n",
       "    </tr>\n",
       "    <tr>\n",
       "      <th>Risk Aversion</th>\n",
       "      <td>0.069682</td>\n",
       "      <td>0.182473</td>\n",
       "      <td>0.194275</td>\n",
       "      <td>0.003949</td>\n",
       "      <td>0.255667</td>\n",
       "      <td>0.220054</td>\n",
       "    </tr>\n",
       "    <tr>\n",
       "      <th>GDP Growth</th>\n",
       "      <td>0.014144</td>\n",
       "      <td>0.001282</td>\n",
       "      <td>0.000281</td>\n",
       "      <td>0.095377</td>\n",
       "      <td>0.002018</td>\n",
       "      <td>0.000099</td>\n",
       "    </tr>\n",
       "    <tr>\n",
       "      <th>Unemployment Change</th>\n",
       "      <td>0.00539</td>\n",
       "      <td>0.000674</td>\n",
       "      <td>0.005686</td>\n",
       "      <td>0.000011</td>\n",
       "      <td>0.005316</td>\n",
       "      <td>0.003989</td>\n",
       "    </tr>\n",
       "  </tbody>\n",
       "</table>\n",
       "</div>"
      ],
      "text/plain": [
       "                      Benchmark        LR LR_PCA_select LR_Lasso_select  \\\n",
       "Financial Uncertainty  0.039836  0.128264      0.103582        0.008012   \n",
       "Macro Uncertainty      0.023634  0.113262      0.080482        0.001267   \n",
       "Real Uncertainty       0.006717  0.037825      0.031091        0.002623   \n",
       "Econ Uncertainty        0.04085  0.202896      0.164288        0.010925   \n",
       "Risk Aversion          0.069682  0.182473      0.194275        0.003949   \n",
       "GDP Growth             0.014144  0.001282      0.000281        0.095377   \n",
       "Unemployment Change     0.00539  0.000674      0.005686        0.000011   \n",
       "\n",
       "                          Lasso      Enet  \n",
       "Financial Uncertainty  0.173101  0.144836  \n",
       "Macro Uncertainty      0.175406  0.160787  \n",
       "Real Uncertainty       0.082641  0.060911  \n",
       "Econ Uncertainty       0.218629   0.19482  \n",
       "Risk Aversion          0.255667  0.220054  \n",
       "GDP Growth             0.002018  0.000099  \n",
       "Unemployment Change    0.005316  0.003989  "
      ]
     },
     "execution_count": 311,
     "metadata": {},
     "output_type": "execute_result"
    }
   ],
   "source": [
    "results_r2_df"
   ]
  },
  {
   "cell_type": "code",
   "execution_count": null,
   "id": "2047b420-6af2-4492-a0cc-9155dd7d66ff",
   "metadata": {},
   "outputs": [],
   "source": []
  }
 ],
 "metadata": {
  "kernelspec": {
   "display_name": "Python 3 (ipykernel)",
   "language": "python",
   "name": "python3"
  },
  "language_info": {
   "codemirror_mode": {
    "name": "ipython",
    "version": 3
   },
   "file_extension": ".py",
   "mimetype": "text/x-python",
   "name": "python",
   "nbconvert_exporter": "python",
   "pygments_lexer": "ipython3",
   "version": "3.8.10"
  }
 },
 "nbformat": 4,
 "nbformat_minor": 5
}
