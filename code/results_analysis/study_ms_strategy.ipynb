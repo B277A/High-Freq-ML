{
 "cells": [
  {
   "cell_type": "code",
   "execution_count": 11,
   "id": "16a726ae",
   "metadata": {},
   "outputs": [
    {
     "name": "stdout",
     "output_type": "stream",
     "text": [
      "The autoreload extension is already loaded. To reload it, use:\n",
      "  %reload_ext autoreload\n"
     ]
    }
   ],
   "source": [
    "%load_ext autoreload\n",
    "%autoreload 2\n",
    "\n",
    "# Add other paths\n",
    "import os, sys\n",
    "sys.path.append(os.path.abspath(os.path.join(\"../\")))\n",
    "import os\n",
    "import pandas as pd\n",
    "import numpy as np\n",
    "import statsmodels.formula.api as smf\n",
    "import seaborn as sns\n",
    "import matplotlib.pyplot as plt\n",
    "import matplotlib as mpl\n",
    "import sklearn.metrics\n",
    "import glob\n",
    "import datetime as dt\n",
    "from sklearn.metrics import r2_score\n",
    "from tqdm.auto import tqdm\n",
    "\n",
    "import helper_libraries.results_tools as results_tools\n",
    "sns.set_context(\"paper\", font_scale=1.5)"
   ]
  },
  {
   "cell_type": "markdown",
   "id": "547cf268",
   "metadata": {
    "tags": []
   },
   "source": [
    "# Import Data"
   ]
  },
  {
   "cell_type": "code",
   "execution_count": 2,
   "id": "56a740de",
   "metadata": {},
   "outputs": [],
   "source": [
    "# Load returns and spreads\n",
    "fret_df, hrf_df = results_tools.load_mkt_rf_returns()\n",
    "spread_df = results_tools.load_spreads()"
   ]
  },
  {
   "cell_type": "markdown",
   "id": "9bad957c",
   "metadata": {
    "tags": []
   },
   "source": [
    "# Main"
   ]
  },
  {
   "cell_type": "markdown",
   "id": "d26a3371",
   "metadata": {
    "tags": []
   },
   "source": [
    "## Params"
   ]
  },
  {
   "cell_type": "code",
   "execution_count": 3,
   "id": "cf3f0e4a",
   "metadata": {},
   "outputs": [],
   "source": [
    "## Params\n",
    "# List of all results folders\n",
    "results_folders = (\n",
    "    pd.read_excel(\"../../results/key.xlsx\").query('\"Done\" in Notes')[\"Folder\"].to_list()\n",
    ")  ##### <------------------ Finish models!\n",
    "# Year to start trading\n",
    "start_year = \"2004\"\n",
    "\n",
    "# Define strategies and models\n",
    "strategies_list = [\n",
    "    \"Market\",\n",
    "] + [f'MS Strategy {x:.2f}' for x in np.linspace(0, 5, 200)]\n",
    "model_list = [\"Enet\"]\n",
    "\n",
    "# Metrics and their names\n",
    "metrics_list = [\"Return\", \"ReturnAdj\", \"Sharpe\", \"SharpeAdj\", \"Trades\", \"rvol\"]\n",
    "metrics_names_list = [\n",
    "    \"Return\",\n",
    "    \"Adjusted Return\",\n",
    "    \"Sharpe\",\n",
    "    \"Adjusted Sharpe\",\n",
    "    \"Trades\",\n",
    "    \"Realized Volatility\",\n",
    "]"
   ]
  },
  {
   "cell_type": "markdown",
   "id": "ea6dc107",
   "metadata": {},
   "source": [
    "## Load results"
   ]
  },
  {
   "cell_type": "code",
   "execution_count": 4,
   "id": "cd7d71d5",
   "metadata": {},
   "outputs": [],
   "source": [
    "## Load data\n",
    "forecast_oss_df, forecast_ins_df, results_folder_name = results_tools.load_model_results(\n",
    "    folder_name = 'main', debug=True\n",
    ")"
   ]
  },
  {
   "cell_type": "code",
   "execution_count": 5,
   "id": "3d9c799a",
   "metadata": {},
   "outputs": [],
   "source": [
    "## Get trading results\n",
    "# Filter data\n",
    "forecast_oss_filter_df = forecast_oss_df.loc[start_year:]\n",
    "forecast_ins_filter_df = forecast_ins_df.loc[:str(int(start_year)-1)].copy()\n",
    "fret_filter_df = fret_df.loc[start_year:]\n",
    "hrf_filter_df = hrf_df.loc[start_year:]\n",
    "\n",
    "# Trading strategies\n",
    "(\n",
    "    oss_results_all_df,\n",
    "    oss_returns_all_df,\n",
    "    oss_weights_all_df,\n",
    "    oss_retpred_all_df,\n",
    ") = results_tools.get_trading_results(\n",
    "    forecast_oss_filter_df,\n",
    "    forecast_ins_filter_df,\n",
    "    spread_df,\n",
    "    fret_filter_df['ff__mkt'],\n",
    "    hrf_filter_df['rf'],\n",
    "    strategies_list,\n",
    "    model_list,\n",
    "    hold_cash=True,\n",
    ")"
   ]
  },
  {
   "cell_type": "code",
   "execution_count": 6,
   "id": "6cd42360",
   "metadata": {},
   "outputs": [],
   "source": [
    "oss_results_all_df[\"cutoff\"] = pd.Series(oss_results_all_df.index).apply(\n",
    "    lambda x: pd.to_numeric(x.split(\"Strategy \")[-1], errors=\"coerce\")\n",
    ").values\n",
    "\n",
    "n_years = (forecast_oss_filter_df.index.max() - forecast_oss_filter_df.index.min()).days / 365\n",
    "oss_results_all_df['Turnover'] = oss_results_all_df['Trades'] * n_years / len(forecast_oss_filter_df)"
   ]
  },
  {
   "cell_type": "code",
   "execution_count": 7,
   "id": "eb01c0c3",
   "metadata": {},
   "outputs": [
    {
     "data": {
      "text/html": [
       "<div>\n",
       "<style scoped>\n",
       "    .dataframe tbody tr th:only-of-type {\n",
       "        vertical-align: middle;\n",
       "    }\n",
       "\n",
       "    .dataframe tbody tr th {\n",
       "        vertical-align: top;\n",
       "    }\n",
       "\n",
       "    .dataframe thead th {\n",
       "        text-align: right;\n",
       "    }\n",
       "</style>\n",
       "<table border=\"1\" class=\"dataframe\">\n",
       "  <thead>\n",
       "    <tr style=\"text-align: right;\">\n",
       "      <th></th>\n",
       "      <th>Return</th>\n",
       "      <th>ReturnAdj</th>\n",
       "      <th>Trades</th>\n",
       "      <th>Sharpe</th>\n",
       "      <th>SharpeAdj</th>\n",
       "      <th>rvol</th>\n",
       "      <th>Name (col)</th>\n",
       "      <th>Name</th>\n",
       "      <th>cutoff</th>\n",
       "      <th>Turnover</th>\n",
       "    </tr>\n",
       "  </thead>\n",
       "  <tbody>\n",
       "    <tr>\n",
       "      <th>Market</th>\n",
       "      <td>0.0153</td>\n",
       "      <td>0.0153</td>\n",
       "      <td>0.0</td>\n",
       "      <td>0.026</td>\n",
       "      <td>0.026</td>\n",
       "      <td>0.142</td>\n",
       "      <td>oss_Enet</td>\n",
       "      <td>Enet</td>\n",
       "      <td>NaN</td>\n",
       "      <td>0.000000</td>\n",
       "    </tr>\n",
       "    <tr>\n",
       "      <th>MS Strategy 0.00</th>\n",
       "      <td>0.1289</td>\n",
       "      <td>0.0796</td>\n",
       "      <td>1343.5</td>\n",
       "      <td>0.970</td>\n",
       "      <td>0.562</td>\n",
       "      <td>0.121</td>\n",
       "      <td>oss_Enet</td>\n",
       "      <td>Enet</td>\n",
       "      <td>0.00</td>\n",
       "      <td>0.205343</td>\n",
       "    </tr>\n",
       "    <tr>\n",
       "      <th>MS Strategy 0.03</th>\n",
       "      <td>0.1298</td>\n",
       "      <td>0.0811</td>\n",
       "      <td>1325.0</td>\n",
       "      <td>0.982</td>\n",
       "      <td>0.578</td>\n",
       "      <td>0.120</td>\n",
       "      <td>oss_Enet</td>\n",
       "      <td>Enet</td>\n",
       "      <td>0.03</td>\n",
       "      <td>0.202515</td>\n",
       "    </tr>\n",
       "    <tr>\n",
       "      <th>MS Strategy 0.05</th>\n",
       "      <td>0.1298</td>\n",
       "      <td>0.0816</td>\n",
       "      <td>1314.0</td>\n",
       "      <td>0.984</td>\n",
       "      <td>0.583</td>\n",
       "      <td>0.120</td>\n",
       "      <td>oss_Enet</td>\n",
       "      <td>Enet</td>\n",
       "      <td>0.05</td>\n",
       "      <td>0.200834</td>\n",
       "    </tr>\n",
       "    <tr>\n",
       "      <th>MS Strategy 0.08</th>\n",
       "      <td>0.1343</td>\n",
       "      <td>0.0869</td>\n",
       "      <td>1292.8</td>\n",
       "      <td>1.025</td>\n",
       "      <td>0.629</td>\n",
       "      <td>0.120</td>\n",
       "      <td>oss_Enet</td>\n",
       "      <td>Enet</td>\n",
       "      <td>0.08</td>\n",
       "      <td>0.197594</td>\n",
       "    </tr>\n",
       "    <tr>\n",
       "      <th>...</th>\n",
       "      <td>...</td>\n",
       "      <td>...</td>\n",
       "      <td>...</td>\n",
       "      <td>...</td>\n",
       "      <td>...</td>\n",
       "      <td>...</td>\n",
       "      <td>...</td>\n",
       "      <td>...</td>\n",
       "      <td>...</td>\n",
       "      <td>...</td>\n",
       "    </tr>\n",
       "    <tr>\n",
       "      <th>MS Strategy 4.90</th>\n",
       "      <td>-0.0023</td>\n",
       "      <td>-0.0024</td>\n",
       "      <td>2.8</td>\n",
       "      <td>-0.882</td>\n",
       "      <td>-0.889</td>\n",
       "      <td>0.016</td>\n",
       "      <td>oss_Enet</td>\n",
       "      <td>Enet</td>\n",
       "      <td>4.90</td>\n",
       "      <td>0.000428</td>\n",
       "    </tr>\n",
       "    <tr>\n",
       "      <th>MS Strategy 4.92</th>\n",
       "      <td>-0.0023</td>\n",
       "      <td>-0.0024</td>\n",
       "      <td>2.6</td>\n",
       "      <td>-0.886</td>\n",
       "      <td>-0.893</td>\n",
       "      <td>0.016</td>\n",
       "      <td>oss_Enet</td>\n",
       "      <td>Enet</td>\n",
       "      <td>4.92</td>\n",
       "      <td>0.000397</td>\n",
       "    </tr>\n",
       "    <tr>\n",
       "      <th>MS Strategy 4.95</th>\n",
       "      <td>-0.0023</td>\n",
       "      <td>-0.0024</td>\n",
       "      <td>2.5</td>\n",
       "      <td>-0.883</td>\n",
       "      <td>-0.890</td>\n",
       "      <td>0.016</td>\n",
       "      <td>oss_Enet</td>\n",
       "      <td>Enet</td>\n",
       "      <td>4.95</td>\n",
       "      <td>0.000382</td>\n",
       "    </tr>\n",
       "    <tr>\n",
       "      <th>MS Strategy 4.97</th>\n",
       "      <td>-0.0023</td>\n",
       "      <td>-0.0024</td>\n",
       "      <td>2.5</td>\n",
       "      <td>-0.883</td>\n",
       "      <td>-0.890</td>\n",
       "      <td>0.016</td>\n",
       "      <td>oss_Enet</td>\n",
       "      <td>Enet</td>\n",
       "      <td>4.97</td>\n",
       "      <td>0.000382</td>\n",
       "    </tr>\n",
       "    <tr>\n",
       "      <th>MS Strategy 5.00</th>\n",
       "      <td>-0.0023</td>\n",
       "      <td>-0.0024</td>\n",
       "      <td>2.4</td>\n",
       "      <td>-0.887</td>\n",
       "      <td>-0.893</td>\n",
       "      <td>0.016</td>\n",
       "      <td>oss_Enet</td>\n",
       "      <td>Enet</td>\n",
       "      <td>5.00</td>\n",
       "      <td>0.000367</td>\n",
       "    </tr>\n",
       "  </tbody>\n",
       "</table>\n",
       "<p>201 rows × 10 columns</p>\n",
       "</div>"
      ],
      "text/plain": [
       "                  Return  ReturnAdj  Trades  Sharpe  SharpeAdj   rvol  \\\n",
       "Market            0.0153     0.0153     0.0   0.026      0.026  0.142   \n",
       "MS Strategy 0.00  0.1289     0.0796  1343.5   0.970      0.562  0.121   \n",
       "MS Strategy 0.03  0.1298     0.0811  1325.0   0.982      0.578  0.120   \n",
       "MS Strategy 0.05  0.1298     0.0816  1314.0   0.984      0.583  0.120   \n",
       "MS Strategy 0.08  0.1343     0.0869  1292.8   1.025      0.629  0.120   \n",
       "...                  ...        ...     ...     ...        ...    ...   \n",
       "MS Strategy 4.90 -0.0023    -0.0024     2.8  -0.882     -0.889  0.016   \n",
       "MS Strategy 4.92 -0.0023    -0.0024     2.6  -0.886     -0.893  0.016   \n",
       "MS Strategy 4.95 -0.0023    -0.0024     2.5  -0.883     -0.890  0.016   \n",
       "MS Strategy 4.97 -0.0023    -0.0024     2.5  -0.883     -0.890  0.016   \n",
       "MS Strategy 5.00 -0.0023    -0.0024     2.4  -0.887     -0.893  0.016   \n",
       "\n",
       "                 Name (col)  Name  cutoff  Turnover  \n",
       "Market             oss_Enet  Enet     NaN  0.000000  \n",
       "MS Strategy 0.00   oss_Enet  Enet    0.00  0.205343  \n",
       "MS Strategy 0.03   oss_Enet  Enet    0.03  0.202515  \n",
       "MS Strategy 0.05   oss_Enet  Enet    0.05  0.200834  \n",
       "MS Strategy 0.08   oss_Enet  Enet    0.08  0.197594  \n",
       "...                     ...   ...     ...       ...  \n",
       "MS Strategy 4.90   oss_Enet  Enet    4.90  0.000428  \n",
       "MS Strategy 4.92   oss_Enet  Enet    4.92  0.000397  \n",
       "MS Strategy 4.95   oss_Enet  Enet    4.95  0.000382  \n",
       "MS Strategy 4.97   oss_Enet  Enet    4.97  0.000382  \n",
       "MS Strategy 5.00   oss_Enet  Enet    5.00  0.000367  \n",
       "\n",
       "[201 rows x 10 columns]"
      ]
     },
     "execution_count": 7,
     "metadata": {},
     "output_type": "execute_result"
    }
   ],
   "source": [
    "oss_results_all_df"
   ]
  },
  {
   "cell_type": "code",
   "execution_count": 12,
   "id": "694aab18",
   "metadata": {},
   "outputs": [
    {
     "data": {
      "image/png": "[encoded data removed]",
      "text/plain": [
       "<Figure size 720x576 with 3 Axes>"
      ]
     },
     "metadata": {
      "needs_background": "light"
     },
     "output_type": "display_data"
    }
   ],
   "source": [
    "fig, axs = plt.subplots(figsize=(10, 8), nrows=3, sharex = True)\n",
    "\n",
    "ax = axs[0]\n",
    "ax.axhline(0, color=\"k\", ls=\"--\", alpha=0.5, zorder=5)\n",
    "ax.axhline(\n",
    "    oss_results_all_df.loc[\"Market\", \"Return\"],\n",
    "    color=\"tab:green\",\n",
    "    label=\"Market Return\",\n",
    "    ls=\"-\",\n",
    "    alpha=1,\n",
    "    zorder=5,\n",
    ")\n",
    "oss_results_all_df.dropna().plot(x=\"cutoff\", y=\"Return\", label=\"Return\", ax=ax, zorder=15)\n",
    "oss_results_all_df.dropna().plot(\n",
    "    x=\"cutoff\", y=\"ReturnAdj\", label=\"Adjusted Return\", color=\"tab:red\", ax=ax, zorder=15\n",
    ")\n",
    "ax.yaxis.set_major_formatter(mpl.ticker.PercentFormatter(1, decimals=0))\n",
    "ax.legend()\n",
    "ax.set_ylabel('Annualized Return')\n",
    "\n",
    "ax = axs[1]\n",
    "ax.axhline(0, color=\"k\", ls=\"--\", alpha=0.5, zorder=5)\n",
    "ax.axhline(\n",
    "    oss_results_all_df.loc[\"Market\", \"Sharpe\"],\n",
    "    color=\"tab:green\",\n",
    "    label=\"Market Sharpe\",\n",
    "    ls=\"-\",\n",
    "    alpha=1,\n",
    "    zorder=5,\n",
    ")\n",
    "oss_results_all_df.dropna().plot(x=\"cutoff\", y=\"Sharpe\", label=\"Sharpe\", ax=ax, zorder=15)\n",
    "oss_results_all_df.dropna().plot(\n",
    "    x=\"cutoff\", y=\"SharpeAdj\", label=\"Adjusted Sharpe\", color=\"tab:red\", ax=ax, zorder=15\n",
    ")\n",
    "ax.set_ylabel('Annualized Sharpe Ratio')\n",
    "ax.legend()\n",
    "\n",
    "ax = axs[2]\n",
    "ax.axhline(0, color=\"k\", ls=\"--\", alpha=0.5, zorder=5)\n",
    "oss_results_all_df.dropna().plot(x=\"cutoff\", y=\"Turnover\", label=\"Turnover\", color = 'tab:red', ax=ax, zorder=15)\n",
    "plt.tight_layout()\n",
    "ax.set_ylabel('Turnover')\n",
    "ax.set_xlabel('Cutoff for Std Strategy')\n",
    "\n",
    "for ax in axs.reshape(-1):\n",
    "    ax.grid(alpha=0.1)   \n",
    "\n",
    "fig.savefig('../../docs/exhibits/figures/ms_strategy_cutoff_results.pdf')"
   ]
  },
  {
   "cell_type": "code",
   "execution_count": 14,
   "id": "a55b7d4e-e15c-4dba-9ca2-51b81033a0a0",
   "metadata": {},
   "outputs": [
    {
     "data": {
      "text/plain": [
       "3.9703058810594016"
      ]
     },
     "execution_count": 14,
     "metadata": {},
     "output_type": "execute_result"
    }
   ],
   "source": [
    "(1.09)**16"
   ]
  },
  {
   "cell_type": "code",
   "execution_count": null,
   "id": "41f7ea4d",
   "metadata": {},
   "outputs": [
    {
     "data": {
      "text/plain": [
       "2.718281828459045"
      ]
     },
     "execution_count": 13,
     "metadata": {},
     "output_type": "execute_result"
    }
   ],
   "source": [
    "np."
   ]
  }
 ],
 "metadata": {
  "kernelspec": {
   "display_name": "Python 3 (ipykernel)",
   "language": "python",
   "name": "python3"
  },
  "language_info": {
   "codemirror_mode": {
    "name": "ipython",
    "version": 3
   },
   "file_extension": ".py",
   "mimetype": "text/x-python",
   "name": "python",
   "nbconvert_exporter": "python",
   "pygments_lexer": "ipython3",
   "version": "3.8.10"
  }
 },
 "nbformat": 4,
 "nbformat_minor": 5
}
