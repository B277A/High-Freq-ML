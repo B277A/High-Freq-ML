{
 "cells": [
  {
   "cell_type": "code",
   "execution_count": 1,
   "metadata": {},
   "outputs": [],
   "source": [
    "import pandas as pd\n",
    "import numpy as np\n",
    "import statsmodels.formula.api as smf\n",
    "import seaborn as sns\n",
    "import matplotlib.pyplot as plt\n",
    "import sklearn.metrics\n",
    "import glob\n",
    "\n",
    "sns.set_context(\"paper\", font_scale=1.7)\n",
    "sns.set_style(\"ticks\", {\"axes.grid\": True, \"grid.color\": \"0.95\", \"grid.linestyle\": \"-\"})"
   ]
  },
  {
   "cell_type": "markdown",
   "metadata": {},
   "source": [
    "# Import Results"
   ]
  },
  {
   "cell_type": "code",
   "execution_count": 2,
   "metadata": {},
   "outputs": [],
   "source": [
    "forecast_results_df = pd.read_parquet('../../data/_temp/20211206_215320_test_.parquet')\n",
    "forecast_log_df = pd.read_pickle('../../data/_temp/20211206_215320_test_log.pkl')\n",
    "forecast_results_df.columns = ['model_' + x for x in forecast_results_df]"
   ]
  },
  {
   "cell_type": "markdown",
   "metadata": {},
   "source": [
    "## Load true values"
   ]
  },
  {
   "cell_type": "code",
   "execution_count": 3,
   "metadata": {},
   "outputs": [],
   "source": [
    "fret_df = pd.concat(\n",
    "    [\n",
    "        pd.read_parquet(x, columns=[\"ff__mkt\"])\n",
    "        for x in glob.glob(\"/Users/au515538/Desktop/HFML//data/proc/_temp/*_all.parquet\")\n",
    "    ]\n",
    ")\n",
    "forecast_results_df[\"truth\"] = fret_df[\"ff__mkt\"]"
   ]
  },
  {
   "cell_type": "code",
   "execution_count": 4,
   "metadata": {},
   "outputs": [
    {
     "data": {
      "text/html": [
       "<div>\n",
       "<style scoped>\n",
       "    .dataframe tbody tr th:only-of-type {\n",
       "        vertical-align: middle;\n",
       "    }\n",
       "\n",
       "    .dataframe tbody tr th {\n",
       "        vertical-align: top;\n",
       "    }\n",
       "\n",
       "    .dataframe thead th {\n",
       "        text-align: right;\n",
       "    }\n",
       "</style>\n",
       "<table border=\"1\" class=\"dataframe\">\n",
       "  <thead>\n",
       "    <tr style=\"text-align: right;\">\n",
       "      <th></th>\n",
       "      <th>model_0</th>\n",
       "      <th>model_1</th>\n",
       "      <th>model_2</th>\n",
       "      <th>truth</th>\n",
       "    </tr>\n",
       "    <tr>\n",
       "      <th>datetime</th>\n",
       "      <th></th>\n",
       "      <th></th>\n",
       "      <th></th>\n",
       "      <th></th>\n",
       "    </tr>\n",
       "  </thead>\n",
       "  <tbody>\n",
       "    <tr>\n",
       "      <th>1996-03-04 09:30:00</th>\n",
       "      <td>5.764345e+04</td>\n",
       "      <td>-0.000042</td>\n",
       "      <td>0.000072</td>\n",
       "      <td>0.003246</td>\n",
       "    </tr>\n",
       "    <tr>\n",
       "      <th>1996-03-04 09:45:00</th>\n",
       "      <td>2.438620e+05</td>\n",
       "      <td>-0.000182</td>\n",
       "      <td>0.000072</td>\n",
       "      <td>0.001974</td>\n",
       "    </tr>\n",
       "    <tr>\n",
       "      <th>1996-03-04 10:00:00</th>\n",
       "      <td>1.573895e+05</td>\n",
       "      <td>-0.000228</td>\n",
       "      <td>0.000072</td>\n",
       "      <td>-0.001224</td>\n",
       "    </tr>\n",
       "    <tr>\n",
       "      <th>1996-03-04 10:15:00</th>\n",
       "      <td>1.061418e+05</td>\n",
       "      <td>-0.000253</td>\n",
       "      <td>0.000072</td>\n",
       "      <td>0.000082</td>\n",
       "    </tr>\n",
       "    <tr>\n",
       "      <th>1996-03-04 10:30:00</th>\n",
       "      <td>8.807400e+04</td>\n",
       "      <td>-0.000172</td>\n",
       "      <td>0.000072</td>\n",
       "      <td>0.000435</td>\n",
       "    </tr>\n",
       "    <tr>\n",
       "      <th>...</th>\n",
       "      <td>...</td>\n",
       "      <td>...</td>\n",
       "      <td>...</td>\n",
       "      <td>...</td>\n",
       "    </tr>\n",
       "    <tr>\n",
       "      <th>2020-12-31 15:00:00</th>\n",
       "      <td>-4.887977e+06</td>\n",
       "      <td>0.000081</td>\n",
       "      <td>0.000085</td>\n",
       "      <td>-0.000660</td>\n",
       "    </tr>\n",
       "    <tr>\n",
       "      <th>2020-12-31 15:15:00</th>\n",
       "      <td>1.442115e+06</td>\n",
       "      <td>0.000088</td>\n",
       "      <td>0.000085</td>\n",
       "      <td>0.001633</td>\n",
       "    </tr>\n",
       "    <tr>\n",
       "      <th>2020-12-31 15:30:00</th>\n",
       "      <td>1.126051e+07</td>\n",
       "      <td>0.000082</td>\n",
       "      <td>0.000085</td>\n",
       "      <td>-0.000421</td>\n",
       "    </tr>\n",
       "    <tr>\n",
       "      <th>2020-12-31 15:45:00</th>\n",
       "      <td>-7.838498e+05</td>\n",
       "      <td>0.000080</td>\n",
       "      <td>0.000085</td>\n",
       "      <td>0.000072</td>\n",
       "    </tr>\n",
       "    <tr>\n",
       "      <th>2020-12-31 16:00:00</th>\n",
       "      <td>9.590913e+05</td>\n",
       "      <td>0.000091</td>\n",
       "      <td>0.000085</td>\n",
       "      <td>0.001611</td>\n",
       "    </tr>\n",
       "  </tbody>\n",
       "</table>\n",
       "<p>168804 rows × 4 columns</p>\n",
       "</div>"
      ],
      "text/plain": [
       "                          model_0   model_1   model_2     truth\n",
       "datetime                                                       \n",
       "1996-03-04 09:30:00  5.764345e+04 -0.000042  0.000072  0.003246\n",
       "1996-03-04 09:45:00  2.438620e+05 -0.000182  0.000072  0.001974\n",
       "1996-03-04 10:00:00  1.573895e+05 -0.000228  0.000072 -0.001224\n",
       "1996-03-04 10:15:00  1.061418e+05 -0.000253  0.000072  0.000082\n",
       "1996-03-04 10:30:00  8.807400e+04 -0.000172  0.000072  0.000435\n",
       "...                           ...       ...       ...       ...\n",
       "2020-12-31 15:00:00 -4.887977e+06  0.000081  0.000085 -0.000660\n",
       "2020-12-31 15:15:00  1.442115e+06  0.000088  0.000085  0.001633\n",
       "2020-12-31 15:30:00  1.126051e+07  0.000082  0.000085 -0.000421\n",
       "2020-12-31 15:45:00 -7.838498e+05  0.000080  0.000085  0.000072\n",
       "2020-12-31 16:00:00  9.590913e+05  0.000091  0.000085  0.001611\n",
       "\n",
       "[168804 rows x 4 columns]"
      ]
     },
     "execution_count": 4,
     "metadata": {},
     "output_type": "execute_result"
    }
   ],
   "source": [
    "forecast_results_df"
   ]
  },
  {
   "cell_type": "code",
   "execution_count": 5,
   "metadata": {},
   "outputs": [
    {
     "name": "stdout",
     "output_type": "stream",
     "text": [
      "168804\n",
      "168804\n"
     ]
    }
   ],
   "source": [
    "print(len(forecast_results_df))\n",
    "forecast_results_df = forecast_results_df.dropna()\n",
    "print(len(forecast_results_df))"
   ]
  },
  {
   "cell_type": "markdown",
   "metadata": {},
   "source": [
    "# Check error"
   ]
  },
  {
   "cell_type": "code",
   "execution_count": 6,
   "metadata": {},
   "outputs": [
    {
     "data": {
      "text/plain": [
       "939705110223791.1"
      ]
     },
     "execution_count": 6,
     "metadata": {},
     "output_type": "execute_result"
    }
   ],
   "source": [
    "sklearn.metrics.mean_squared_error(forecast_results_df['truth'], forecast_results_df['model_0'])"
   ]
  },
  {
   "cell_type": "code",
   "execution_count": 7,
   "metadata": {},
   "outputs": [
    {
     "data": {
      "text/html": [
       "<div>\n",
       "<style scoped>\n",
       "    .dataframe tbody tr th:only-of-type {\n",
       "        vertical-align: middle;\n",
       "    }\n",
       "\n",
       "    .dataframe tbody tr th {\n",
       "        vertical-align: top;\n",
       "    }\n",
       "\n",
       "    .dataframe thead th {\n",
       "        text-align: right;\n",
       "    }\n",
       "</style>\n",
       "<table border=\"1\" class=\"dataframe\">\n",
       "  <thead>\n",
       "    <tr style=\"text-align: right;\">\n",
       "      <th></th>\n",
       "      <th>MSE</th>\n",
       "      <th>R2</th>\n",
       "    </tr>\n",
       "  </thead>\n",
       "  <tbody>\n",
       "    <tr>\n",
       "      <th>model_0</th>\n",
       "      <td>9.397051e+16</td>\n",
       "      <td>-1.948717e+22</td>\n",
       "    </tr>\n",
       "    <tr>\n",
       "      <th>model_1</th>\n",
       "      <td>4.827570e-04</td>\n",
       "      <td>-1.119025e-01</td>\n",
       "    </tr>\n",
       "    <tr>\n",
       "      <th>model_2</th>\n",
       "      <td>4.840466e-04</td>\n",
       "      <td>-3.793434e-01</td>\n",
       "    </tr>\n",
       "  </tbody>\n",
       "</table>\n",
       "</div>"
      ],
      "text/plain": [
       "                  MSE            R2\n",
       "model_0  9.397051e+16 -1.948717e+22\n",
       "model_1  4.827570e-04 -1.119025e-01\n",
       "model_2  4.840466e-04 -3.793434e-01"
      ]
     },
     "execution_count": 7,
     "metadata": {},
     "output_type": "execute_result"
    }
   ],
   "source": [
    "def compute_rsquared(truth, pred):\n",
    "    return 1 - np.sum(np.square(truth-pred))/np.sum(np.square(truth))\n",
    "\n",
    "metrics_df = pd.DataFrame([], index = [col for col in forecast_results_df.columns if 'model' in col])\n",
    "\n",
    "for col in forecast_results_df.columns:\n",
    "    if 'model' in col:\n",
    "        metrics_df.loc[col, 'MSE'] = sklearn.metrics.mean_squared_error(forecast_results_df['truth'], forecast_results_df[col])\n",
    "        metrics_df.loc[col, 'R2'] = compute_rsquared(forecast_results_df['truth'], forecast_results_df[col])\n",
    "\n",
    "metrics_df*100"
   ]
  },
  {
   "cell_type": "code",
   "execution_count": 15,
   "metadata": {},
   "outputs": [
    {
     "data": {
      "text/plain": [
       "['truth']"
      ]
     },
     "execution_count": 15,
     "metadata": {},
     "output_type": "execute_result"
    }
   ],
   "source": [
    "[col for col in forecast_results_df.columns if 'model' not in col]"
   ]
  },
  {
   "cell_type": "code",
   "execution_count": null,
   "metadata": {},
   "outputs": [],
   "source": []
  }
 ],
 "metadata": {
  "kernelspec": {
   "display_name": "Python 3",
   "language": "python",
   "name": "python3"
  },
  "language_info": {
   "codemirror_mode": {
    "name": "ipython",
    "version": 3
   },
   "file_extension": ".py",
   "mimetype": "text/x-python",
   "name": "python",
   "nbconvert_exporter": "python",
   "pygments_lexer": "ipython3",
   "version": "3.8.5"
  }
 },
 "nbformat": 4,
 "nbformat_minor": 5
}
