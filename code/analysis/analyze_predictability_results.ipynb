{
 "cells": [
  {
   "cell_type": "code",
   "execution_count": 56,
   "id": "8d951236-9bec-4ffc-9cd0-3c9356cd8801",
   "metadata": {},
   "outputs": [],
   "source": [
    "import pandas as pd\n",
    "import numpy as np\n",
    "import statsmodels.formula.api as smf\n",
    "import seaborn as sns\n",
    "import matplotlib.pyplot as plt\n",
    "import sklearn.metrics\n",
    "\n",
    "sns.set_context(\"paper\", font_scale=1.7)\n",
    "sns.set_style(\"ticks\", {\"axes.grid\": True, \"grid.color\": \"0.95\", \"grid.linestyle\": \"-\"})"
   ]
  },
  {
   "cell_type": "markdown",
   "id": "4df66942-05ba-414e-9a00-0292452b8347",
   "metadata": {},
   "source": [
    "# Import Results"
   ]
  },
  {
   "cell_type": "code",
   "execution_count": 57,
   "id": "5782a667-6fd9-4408-bad0-a637c8d603c7",
   "metadata": {},
   "outputs": [],
   "source": [
    "forecast_results_df = pd.read_parquet('../../data/_temp/20211203_214201_test_.parquet')\n",
    "forecast_log_df = pd.read_pickle('../../data/_temp/20211203_214201_test_log.pkl')\n",
    "forecast_results_df.columns = ['model_' + x for x in forecast_results_df]"
   ]
  },
  {
   "cell_type": "markdown",
   "id": "ed9eae31-7487-4454-a751-22eb02346c1b",
   "metadata": {},
   "source": [
    "## Load true values"
   ]
  },
  {
   "cell_type": "code",
   "execution_count": 58,
   "id": "af885815-9ffb-4d3b-b9c7-96ff471e4d0d",
   "metadata": {},
   "outputs": [],
   "source": [
    "fret_df = pd.read_parquet('../../data/proc/_temp/1996_all.parquet', columns = ['ff__mkt'])\n",
    "forecast_results_df['truth'] = fret_df['ff__mkt']"
   ]
  },
  {
   "cell_type": "markdown",
   "id": "3122937b-e591-40c5-a349-9f19c3a1cf2a",
   "metadata": {},
   "source": [
    "# Check error"
   ]
  },
  {
   "cell_type": "code",
   "execution_count": 59,
   "id": "778bcfa4-ba85-4e8f-bf68-4a563b05ff84",
   "metadata": {},
   "outputs": [
    {
     "data": {
      "text/plain": [
       "1.8216701605209295e-06"
      ]
     },
     "execution_count": 59,
     "metadata": {},
     "output_type": "execute_result"
    }
   ],
   "source": [
    "sklearn.metrics.mean_squared_error(forecast_results_df['truth'], forecast_results_df['model_0'])"
   ]
  },
  {
   "cell_type": "code",
   "execution_count": 90,
   "id": "fd2f3c9f-154d-4dd6-8143-6438f53e77e1",
   "metadata": {},
   "outputs": [
    {
     "data": {
      "text/html": [
       "<div>\n",
       "<style scoped>\n",
       "    .dataframe tbody tr th:only-of-type {\n",
       "        vertical-align: middle;\n",
       "    }\n",
       "\n",
       "    .dataframe tbody tr th {\n",
       "        vertical-align: top;\n",
       "    }\n",
       "\n",
       "    .dataframe thead th {\n",
       "        text-align: right;\n",
       "    }\n",
       "</style>\n",
       "<table border=\"1\" class=\"dataframe\">\n",
       "  <thead>\n",
       "    <tr style=\"text-align: right;\">\n",
       "      <th></th>\n",
       "      <th>MSE</th>\n",
       "      <th>R2</th>\n",
       "    </tr>\n",
       "  </thead>\n",
       "  <tbody>\n",
       "    <tr>\n",
       "      <th>model_0</th>\n",
       "      <td>0.000182</td>\n",
       "      <td>-2.861721</td>\n",
       "    </tr>\n",
       "    <tr>\n",
       "      <th>model_1</th>\n",
       "      <td>0.000177</td>\n",
       "      <td>-0.013125</td>\n",
       "    </tr>\n",
       "    <tr>\n",
       "      <th>model_2</th>\n",
       "      <td>0.000177</td>\n",
       "      <td>0.009773</td>\n",
       "    </tr>\n",
       "    <tr>\n",
       "      <th>model_3</th>\n",
       "      <td>0.000177</td>\n",
       "      <td>-0.195133</td>\n",
       "    </tr>\n",
       "    <tr>\n",
       "      <th>model_4</th>\n",
       "      <td>0.000178</td>\n",
       "      <td>-0.506698</td>\n",
       "    </tr>\n",
       "  </tbody>\n",
       "</table>\n",
       "</div>"
      ],
      "text/plain": [
       "              MSE        R2\n",
       "model_0  0.000182 -2.861721\n",
       "model_1  0.000177 -0.013125\n",
       "model_2  0.000177  0.009773\n",
       "model_3  0.000177 -0.195133\n",
       "model_4  0.000178 -0.506698"
      ]
     },
     "execution_count": 90,
     "metadata": {},
     "output_type": "execute_result"
    }
   ],
   "source": [
    "def compute_rsquared(truth, pred):\n",
    "    return 1 - np.sum(np.square(truth-pred))/np.sum(np.square(truth))\n",
    "\n",
    "metrics_df = pd.DataFrame([], index = [col for col in forecast_results_df.columns if 'model' in col])\n",
    "\n",
    "for col in forecast_results_df.columns:\n",
    "    if 'model' in col:\n",
    "        metrics_df.loc[col, 'MSE'] = sklearn.metrics.mean_squared_error(forecast_results_df['truth'], forecast_results_df[col])\n",
    "        metrics_df.loc[col, 'R2'] = compute_rsquared(forecast_results_df['truth'], forecast_results_df[col])\n",
    "\n",
    "metrics_df*100"
   ]
  },
  {
   "cell_type": "code",
   "execution_count": 79,
   "id": "5e29f1d0-bac3-45e0-adf6-ec73d524cad5",
   "metadata": {},
   "outputs": [
    {
     "data": {
      "text/plain": [
       "['truth']"
      ]
     },
     "execution_count": 79,
     "metadata": {},
     "output_type": "execute_result"
    }
   ],
   "source": [
    "[col for col in forecast_results_df.columns if 'model' not in col]"
   ]
  },
  {
   "cell_type": "code",
   "execution_count": 61,
   "id": "af7f22c8-690d-45cd-9505-c0db7a9b7960",
   "metadata": {},
   "outputs": [
    {
     "data": {
      "text/html": [
       "<table class=\"simpletable\">\n",
       "<caption>OLS Regression Results</caption>\n",
       "<tr>\n",
       "  <th>Dep. Variable:</th>          <td>truth</td>      <th>  R-squared:         </th>  <td>   0.004</td> \n",
       "</tr>\n",
       "<tr>\n",
       "  <th>Model:</th>                   <td>OLS</td>       <th>  Adj. R-squared:    </th>  <td>   0.002</td> \n",
       "</tr>\n",
       "<tr>\n",
       "  <th>Method:</th>             <td>Least Squares</td>  <th>  F-statistic:       </th>  <td>   3.214</td> \n",
       "</tr>\n",
       "<tr>\n",
       "  <th>Date:</th>             <td>Sat, 04 Dec 2021</td> <th>  Prob (F-statistic):</th>   <td>0.00672</td> \n",
       "</tr>\n",
       "<tr>\n",
       "  <th>Time:</th>                 <td>13:16:19</td>     <th>  Log-Likelihood:    </th>  <td>  23048.</td> \n",
       "</tr>\n",
       "<tr>\n",
       "  <th>No. Observations:</th>      <td>  4428</td>      <th>  AIC:               </th> <td>-4.608e+04</td>\n",
       "</tr>\n",
       "<tr>\n",
       "  <th>Df Residuals:</th>          <td>  4422</td>      <th>  BIC:               </th> <td>-4.605e+04</td>\n",
       "</tr>\n",
       "<tr>\n",
       "  <th>Df Model:</th>              <td>     5</td>      <th>                     </th>      <td> </td>    \n",
       "</tr>\n",
       "<tr>\n",
       "  <th>Covariance Type:</th>      <td>nonrobust</td>    <th>                     </th>      <td> </td>    \n",
       "</tr>\n",
       "</table>\n",
       "<table class=\"simpletable\">\n",
       "<tr>\n",
       "      <td></td>         <th>coef</th>     <th>std err</th>      <th>t</th>      <th>P>|t|</th>  <th>[0.025</th>    <th>0.975]</th>  \n",
       "</tr>\n",
       "<tr>\n",
       "  <th>Intercept</th> <td> 1.221e-05</td> <td> 2.18e-05</td> <td>    0.559</td> <td> 0.576</td> <td>-3.06e-05</td> <td>  5.5e-05</td>\n",
       "</tr>\n",
       "<tr>\n",
       "  <th>model_0</th>   <td>    0.0473</td> <td>    0.088</td> <td>    0.537</td> <td> 0.591</td> <td>   -0.125</td> <td>    0.220</td>\n",
       "</tr>\n",
       "<tr>\n",
       "  <th>model_1</th>   <td>    0.9385</td> <td>    0.908</td> <td>    1.034</td> <td> 0.301</td> <td>   -0.842</td> <td>    2.719</td>\n",
       "</tr>\n",
       "<tr>\n",
       "  <th>model_2</th>   <td>    0.5612</td> <td>    0.734</td> <td>    0.764</td> <td> 0.445</td> <td>   -0.878</td> <td>    2.000</td>\n",
       "</tr>\n",
       "<tr>\n",
       "  <th>model_3</th>   <td>    0.0422</td> <td>    0.231</td> <td>    0.182</td> <td> 0.855</td> <td>   -0.411</td> <td>    0.496</td>\n",
       "</tr>\n",
       "<tr>\n",
       "  <th>model_4</th>   <td>   -1.0899</td> <td>    0.421</td> <td>   -2.590</td> <td> 0.010</td> <td>   -1.915</td> <td>   -0.265</td>\n",
       "</tr>\n",
       "</table>\n",
       "<table class=\"simpletable\">\n",
       "<tr>\n",
       "  <th>Omnibus:</th>       <td>2284.841</td> <th>  Durbin-Watson:     </th>  <td>   1.855</td> \n",
       "</tr>\n",
       "<tr>\n",
       "  <th>Prob(Omnibus):</th>  <td> 0.000</td>  <th>  Jarque-Bera (JB):  </th> <td>372730.425</td>\n",
       "</tr>\n",
       "<tr>\n",
       "  <th>Skew:</th>           <td>-1.394</td>  <th>  Prob(JB):          </th>  <td>    0.00</td> \n",
       "</tr>\n",
       "<tr>\n",
       "  <th>Kurtosis:</th>       <td>47.860</td>  <th>  Cond. No.          </th>  <td>5.69e+04</td> \n",
       "</tr>\n",
       "</table><br/><br/>Notes:<br/>[1] Standard Errors assume that the covariance matrix of the errors is correctly specified.<br/>[2] The condition number is large, 5.69e+04. This might indicate that there are<br/>strong multicollinearity or other numerical problems."
      ],
      "text/plain": [
       "<class 'statsmodels.iolib.summary.Summary'>\n",
       "\"\"\"\n",
       "                            OLS Regression Results                            \n",
       "==============================================================================\n",
       "Dep. Variable:                  truth   R-squared:                       0.004\n",
       "Model:                            OLS   Adj. R-squared:                  0.002\n",
       "Method:                 Least Squares   F-statistic:                     3.214\n",
       "Date:                Sat, 04 Dec 2021   Prob (F-statistic):            0.00672\n",
       "Time:                        13:16:19   Log-Likelihood:                 23048.\n",
       "No. Observations:                4428   AIC:                        -4.608e+04\n",
       "Df Residuals:                    4422   BIC:                        -4.605e+04\n",
       "Df Model:                           5                                         \n",
       "Covariance Type:            nonrobust                                         \n",
       "==============================================================================\n",
       "                 coef    std err          t      P>|t|      [0.025      0.975]\n",
       "------------------------------------------------------------------------------\n",
       "Intercept   1.221e-05   2.18e-05      0.559      0.576   -3.06e-05     5.5e-05\n",
       "model_0        0.0473      0.088      0.537      0.591      -0.125       0.220\n",
       "model_1        0.9385      0.908      1.034      0.301      -0.842       2.719\n",
       "model_2        0.5612      0.734      0.764      0.445      -0.878       2.000\n",
       "model_3        0.0422      0.231      0.182      0.855      -0.411       0.496\n",
       "model_4       -1.0899      0.421     -2.590      0.010      -1.915      -0.265\n",
       "==============================================================================\n",
       "Omnibus:                     2284.841   Durbin-Watson:                   1.855\n",
       "Prob(Omnibus):                  0.000   Jarque-Bera (JB):           372730.425\n",
       "Skew:                          -1.394   Prob(JB):                         0.00\n",
       "Kurtosis:                      47.860   Cond. No.                     5.69e+04\n",
       "==============================================================================\n",
       "\n",
       "Notes:\n",
       "[1] Standard Errors assume that the covariance matrix of the errors is correctly specified.\n",
       "[2] The condition number is large, 5.69e+04. This might indicate that there are\n",
       "strong multicollinearity or other numerical problems.\n",
       "\"\"\""
      ]
     },
     "execution_count": 61,
     "metadata": {},
     "output_type": "execute_result"
    }
   ],
   "source": [
    "forecast_results_df\n",
    "\n",
    "fit = smf.ols('truth ~ ' + ' + '.join((x for x in forecast_results_df.columns if 'model_' in x)), forecast_results_df).fit()\n",
    "fit.summary()"
   ]
  },
  {
   "cell_type": "code",
   "execution_count": null,
   "id": "ad276ab5-91c6-48e7-b9c1-c3fb6d716564",
   "metadata": {},
   "outputs": [],
   "source": []
  }
 ],
 "metadata": {
  "kernelspec": {
   "display_name": "Python 3 (ipykernel)",
   "language": "python",
   "name": "python3"
  },
  "language_info": {
   "codemirror_mode": {
    "name": "ipython",
    "version": 3
   },
   "file_extension": ".py",
   "mimetype": "text/x-python",
   "name": "python",
   "nbconvert_exporter": "python",
   "pygments_lexer": "ipython3",
   "version": "3.8.10"
  }
 },
 "nbformat": 4,
 "nbformat_minor": 5
}
